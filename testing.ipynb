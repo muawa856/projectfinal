{
  "cells": [
    {
      "cell_type": "code",
      "execution_count": null,
      "metadata": {
        "colab": {
          "base_uri": "https://localhost:8080/"
        },
        "id": "tnd4Zt64seeK",
        "outputId": "89bdb696-34cc-4b10-a672-42be869e8147"
      },
      "outputs": [
        {
          "name": "stdout",
          "output_type": "stream",
          "text": [
            "1/1 [==============================] - 0s 418ms/step\n",
            "Image: NORMAL2-IM-0325-0001 - Copy.jpeg - Predicted Class: non-pneumonia\n",
            "1/1 [==============================] - 0s 74ms/step\n",
            "Image: NORMAL2-IM-0359-0001 - Copy.jpeg - Predicted Class: non-pneumonia\n",
            "1/1 [==============================] - 0s 61ms/step\n",
            "Image: NORMAL2-IM-0349-0001 - Copy.jpeg - Predicted Class: non-pneumonia\n",
            "1/1 [==============================] - 0s 58ms/step\n",
            "Image: NORMAL2-IM-0380-0001 - Copy.jpeg - Predicted Class: non-pneumonia\n",
            "1/1 [==============================] - 0s 186ms/step\n",
            "Image: NORMAL2-IM-0343-0001 - Copy.jpeg - Predicted Class: non-pneumonia\n",
            "1/1 [==============================] - 0s 90ms/step\n",
            "Image: NORMAL2-IM-0326-0001.jpeg - Predicted Class: non-pneumonia\n",
            "1/1 [==============================] - 0s 94ms/step\n",
            "Image: NORMAL2-IM-0374-0001-0001.jpeg - Predicted Class: non-pneumonia\n",
            "1/1 [==============================] - 0s 95ms/step\n",
            "Image: NORMAL2-IM-0289-0001 - Copy.jpeg - Predicted Class: non-pneumonia\n",
            "1/1 [==============================] - 0s 83ms/step\n",
            "Image: NORMAL2-IM-0362-0001.jpeg - Predicted Class: non-pneumonia\n",
            "1/1 [==============================] - 0s 89ms/step\n",
            "Image: NORMAL2-IM-0340-0001.jpeg - Predicted Class: non-pneumonia\n",
            "1/1 [==============================] - 0s 77ms/step\n",
            "Image: NORMAL2-IM-0374-0001 - Copy.jpeg - Predicted Class: non-pneumonia\n",
            "1/1 [==============================] - 0s 82ms/step\n",
            "Image: NORMAL2-IM-0351-0001 - Copy.jpeg - Predicted Class: non-pneumonia\n",
            "1/1 [==============================] - 0s 58ms/step\n",
            "Image: NORMAL2-IM-0374-0001-0002.jpeg - Predicted Class: non-pneumonia\n",
            "1/1 [==============================] - 0s 53ms/step\n",
            "Image: NORMAL2-IM-0321-0001.jpeg - Predicted Class: non-pneumonia\n",
            "1/1 [==============================] - 0s 55ms/step\n",
            "Image: NORMAL2-IM-0370-0001 - Copy.jpeg - Predicted Class: non-pneumonia\n",
            "1/1 [==============================] - 0s 57ms/step\n",
            "Image: NORMAL2-IM-0366-0001 - Copy.jpeg - Predicted Class: non-pneumonia\n",
            "1/1 [==============================] - 0s 64ms/step\n",
            "Image: NORMAL2-IM-0368-0001 - Copy.jpeg - Predicted Class: non-pneumonia\n",
            "1/1 [==============================] - 0s 57ms/step\n",
            "Image: NORMAL2-IM-0357-0001.jpeg - Predicted Class: non-pneumonia\n",
            "1/1 [==============================] - 0s 57ms/step\n",
            "Image: NORMAL2-IM-0369-0001.jpeg - Predicted Class: non-pneumonia\n",
            "1/1 [==============================] - 0s 60ms/step\n",
            "Image: NORMAL2-IM-0336-0001.jpeg - Predicted Class: non-pneumonia\n",
            "1/1 [==============================] - 0s 57ms/step\n",
            "Image: NORMAL2-IM-0337-0001 - Copy.jpeg - Predicted Class: non-pneumonia\n",
            "1/1 [==============================] - 0s 75ms/step\n",
            "Image: NORMAL2-IM-0321-0001 - Copy.jpeg - Predicted Class: non-pneumonia\n",
            "1/1 [==============================] - 0s 54ms/step\n",
            "Image: NORMAL2-IM-0341-0001 - Copy.jpeg - Predicted Class: non-pneumonia\n",
            "1/1 [==============================] - 0s 74ms/step\n",
            "Image: NORMAL2-IM-0376-0001.jpeg - Predicted Class: non-pneumonia\n",
            "1/1 [==============================] - 0s 63ms/step\n",
            "Image: NORMAL2-IM-0323-0001 - Copy.jpeg - Predicted Class: non-pneumonia\n",
            "1/1 [==============================] - 0s 57ms/step\n",
            "Image: NORMAL2-IM-0348-0001.jpeg - Predicted Class: non-pneumonia\n",
            "1/1 [==============================] - 0s 56ms/step\n",
            "Image: NORMAL2-IM-0347-0001 - Copy.jpeg - Predicted Class: non-pneumonia\n",
            "1/1 [==============================] - 0s 60ms/step\n",
            "Image: NORMAL2-IM-0252-0001 - Copy.jpeg - Predicted Class: non-pneumonia\n",
            "1/1 [==============================] - 0s 84ms/step\n",
            "Image: NORMAL2-IM-0380-0001.jpeg - Predicted Class: non-pneumonia\n",
            "1/1 [==============================] - 0s 54ms/step\n",
            "Image: NORMAL2-IM-0329-0001.jpeg - Predicted Class: non-pneumonia\n",
            "1/1 [==============================] - 0s 55ms/step\n",
            "Image: NORMAL2-IM-0339-0001 - Copy.jpeg - Predicted Class: non-pneumonia\n",
            "1/1 [==============================] - 0s 57ms/step\n",
            "Image: NORMAL2-IM-0351-0001.jpeg - Predicted Class: non-pneumonia\n",
            "1/1 [==============================] - 0s 60ms/step\n",
            "Image: NORMAL2-IM-0341-0001.jpeg - Predicted Class: non-pneumonia\n",
            "1/1 [==============================] - 0s 56ms/step\n",
            "Image: NORMAL2-IM-0362-0001 - Copy.jpeg - Predicted Class: non-pneumonia\n",
            "1/1 [==============================] - 0s 55ms/step\n",
            "Image: NORMAL2-IM-0381-0001.jpeg - Predicted Class: non-pneumonia\n",
            "1/1 [==============================] - 0s 59ms/step\n",
            "Image: NORMAL2-IM-0337-0001.jpeg - Predicted Class: non-pneumonia\n",
            "1/1 [==============================] - 0s 55ms/step\n",
            "Image: NORMAL2-IM-0333-0001.jpeg - Predicted Class: non-pneumonia\n",
            "1/1 [==============================] - 0s 53ms/step\n",
            "Image: NORMAL2-IM-0325-0001.jpeg - Predicted Class: non-pneumonia\n",
            "1/1 [==============================] - 0s 55ms/step\n",
            "Image: NORMAL2-IM-0333-0001 - Copy.jpeg - Predicted Class: non-pneumonia\n",
            "1/1 [==============================] - 0s 59ms/step\n",
            "Image: NORMAL2-IM-0346-0001.jpeg - Predicted Class: non-pneumonia\n",
            "1/1 [==============================] - 0s 60ms/step\n",
            "Image: NORMAL2-IM-0376-0001 - Copy.jpeg - Predicted Class: non-pneumonia\n",
            "1/1 [==============================] - 0s 63ms/step\n",
            "Image: NORMAL2-IM-0349-0001.jpeg - Predicted Class: non-pneumonia\n",
            "1/1 [==============================] - 0s 53ms/step\n",
            "Image: NORMAL2-IM-0326-0001 - Copy.jpeg - Predicted Class: non-pneumonia\n",
            "1/1 [==============================] - 0s 62ms/step\n",
            "Image: NORMAL2-IM-0345-0001.jpeg - Predicted Class: non-pneumonia\n",
            "1/1 [==============================] - 0s 64ms/step\n",
            "Image: NORMAL2-IM-0322-0001 - Copy.jpeg - Predicted Class: non-pneumonia\n",
            "1/1 [==============================] - 0s 59ms/step\n",
            "Image: NORMAL2-IM-0289-0001.jpeg - Predicted Class: non-pneumonia\n",
            "1/1 [==============================] - 0s 73ms/step\n",
            "Image: NORMAL2-IM-0381-0001 - Copy.jpeg - Predicted Class: non-pneumonia\n",
            "1/1 [==============================] - 0s 57ms/step\n",
            "Image: NORMAL2-IM-0331-0001 - Copy.jpeg - Predicted Class: non-pneumonia\n",
            "1/1 [==============================] - 0s 54ms/step\n",
            "Image: NORMAL2-IM-0372-0001 - Copy.jpeg - Predicted Class: non-pneumonia\n",
            "1/1 [==============================] - 0s 61ms/step\n",
            "Image: NORMAL2-IM-0322-0001.jpeg - Predicted Class: non-pneumonia\n",
            "1/1 [==============================] - 0s 56ms/step\n",
            "Image: NORMAL2-IM-0374-0001-0001 - Copy.jpeg - Predicted Class: non-pneumonia\n",
            "1/1 [==============================] - 0s 56ms/step\n",
            "Image: NORMAL2-IM-0340-0001 - Copy.jpeg - Predicted Class: non-pneumonia\n",
            "1/1 [==============================] - 0s 57ms/step\n",
            "Image: NORMAL2-IM-0331-0001.jpeg - Predicted Class: non-pneumonia\n",
            "1/1 [==============================] - 0s 55ms/step\n",
            "Image: NORMAL2-IM-0370-0001.jpeg - Predicted Class: non-pneumonia\n",
            "1/1 [==============================] - 0s 60ms/step\n",
            "Image: NORMAL2-IM-0332-0001.jpeg - Predicted Class: non-pneumonia\n",
            "1/1 [==============================] - 0s 62ms/step\n",
            "Image: NORMAL2-IM-0366-0001.jpeg - Predicted Class: non-pneumonia\n",
            "1/1 [==============================] - 0s 67ms/step\n",
            "Image: NORMAL2-IM-0368-0001.jpeg - Predicted Class: non-pneumonia\n",
            "1/1 [==============================] - 0s 53ms/step\n",
            "Image: NORMAL2-IM-0353-0001 - Copy.jpeg - Predicted Class: non-pneumonia\n",
            "1/1 [==============================] - 0s 57ms/step\n",
            "Image: NORMAL2-IM-0339-0001.jpeg - Predicted Class: non-pneumonia\n",
            "1/1 [==============================] - 0s 53ms/step\n",
            "Image: NORMAL2-IM-0353-0001.jpeg - Predicted Class: non-pneumonia\n",
            "1/1 [==============================] - 0s 59ms/step\n",
            "Image: NORMAL2-IM-0357-0001 - Copy.jpeg - Predicted Class: non-pneumonia\n",
            "1/1 [==============================] - 0s 55ms/step\n",
            "Image: NORMAL2-IM-0328-0001.jpeg - Predicted Class: non-pneumonia\n",
            "1/1 [==============================] - 0s 58ms/step\n",
            "Image: NORMAL2-IM-0329-0001 - Copy.jpeg - Predicted Class: non-pneumonia\n",
            "1/1 [==============================] - 0s 75ms/step\n",
            "Image: NORMAL2-IM-0359-0001.jpeg - Predicted Class: non-pneumonia\n",
            "1/1 [==============================] - 0s 73ms/step\n",
            "Image: NORMAL2-IM-0345-0001 - Copy.jpeg - Predicted Class: non-pneumonia\n",
            "1/1 [==============================] - 0s 54ms/step\n",
            "Image: NORMAL2-IM-0347-0001.jpeg - Predicted Class: non-pneumonia\n",
            "1/1 [==============================] - 0s 57ms/step\n",
            "Image: NORMAL2-IM-0350-0001 - Copy.jpeg - Predicted Class: non-pneumonia\n",
            "1/1 [==============================] - 0s 73ms/step\n",
            "Image: NORMAL2-IM-0348-0001 - Copy.jpeg - Predicted Class: non-pneumonia\n",
            "1/1 [==============================] - 0s 63ms/step\n",
            "Image: NORMAL2-IM-0252-0001.jpeg - Predicted Class: non-pneumonia\n",
            "1/1 [==============================] - 0s 52ms/step\n",
            "Image: NORMAL2-IM-0374-0001.jpeg - Predicted Class: non-pneumonia\n",
            "1/1 [==============================] - 0s 58ms/step\n",
            "Image: NORMAL2-IM-0372-0001.jpeg - Predicted Class: non-pneumonia\n",
            "1/1 [==============================] - 0s 56ms/step\n",
            "Image: NORMAL2-IM-0369-0001 - Copy.jpeg - Predicted Class: non-pneumonia\n",
            "1/1 [==============================] - 0s 71ms/step\n",
            "Image: NORMAL2-IM-0374-0001-0002 - Copy.jpeg - Predicted Class: non-pneumonia\n",
            "1/1 [==============================] - 0s 55ms/step\n",
            "Image: NORMAL2-IM-0346-0001 - Copy.jpeg - Predicted Class: non-pneumonia\n",
            "1/1 [==============================] - 0s 63ms/step\n",
            "Image: NORMAL2-IM-0343-0001.jpeg - Predicted Class: non-pneumonia\n",
            "1/1 [==============================] - 0s 60ms/step\n",
            "Image: NORMAL2-IM-0332-0001 - Copy.jpeg - Predicted Class: non-pneumonia\n",
            "1/1 [==============================] - 0s 57ms/step\n",
            "Image: NORMAL2-IM-0350-0001.jpeg - Predicted Class: non-pneumonia\n",
            "1/1 [==============================] - 0s 60ms/step\n",
            "Image: NORMAL2-IM-0328-0001 - Copy.jpeg - Predicted Class: non-pneumonia\n",
            "1/1 [==============================] - 0s 59ms/step\n",
            "Image: NORMAL2-IM-0323-0001.jpeg - Predicted Class: non-pneumonia\n",
            "1/1 [==============================] - 0s 60ms/step\n",
            "Image: NORMAL2-IM-0336-0001 - Copy.jpeg - Predicted Class: non-pneumonia\n",
            "1/1 [==============================] - 0s 54ms/step\n",
            "Image: NORMAL2-IM-0282-0001 - Copy.jpeg - Predicted Class: non-pneumonia\n",
            "1/1 [==============================] - 0s 75ms/step\n",
            "Image: NORMAL2-IM-0317-0001 - Copy.jpeg - Predicted Class: non-pneumonia\n",
            "1/1 [==============================] - 0s 81ms/step\n",
            "Image: NORMAL2-IM-0305-0001.jpeg - Predicted Class: non-pneumonia\n",
            "1/1 [==============================] - 0s 102ms/step\n",
            "Image: NORMAL2-IM-0294-0001.jpeg - Predicted Class: non-pneumonia\n",
            "1/1 [==============================] - 0s 93ms/step\n",
            "Image: NORMAL2-IM-0330-0001.jpeg - Predicted Class: non-pneumonia\n",
            "1/1 [==============================] - 0s 108ms/step\n",
            "Image: NORMAL2-IM-0283-0001.jpeg - Predicted Class: non-pneumonia\n",
            "1/1 [==============================] - 0s 89ms/step\n",
            "Image: NORMAL2-IM-0267-0001 - Copy.jpeg - Predicted Class: non-pneumonia\n",
            "1/1 [==============================] - 0s 117ms/step\n",
            "Image: NORMAL2-IM-0307-0001.jpeg - Predicted Class: non-pneumonia\n",
            "1/1 [==============================] - 0s 93ms/step\n",
            "Image: NORMAL2-IM-0276-0001 - Copy.jpeg - Predicted Class: non-pneumonia\n",
            "1/1 [==============================] - 0s 92ms/step\n",
            "Image: NORMAL2-IM-0311-0001 - Copy.jpeg - Predicted Class: non-pneumonia\n",
            "1/1 [==============================] - 0s 94ms/step\n",
            "Image: NORMAL2-IM-0304-0001.jpeg - Predicted Class: non-pneumonia\n",
            "1/1 [==============================] - 0s 96ms/step\n",
            "Image: NORMAL2-IM-0259-0001 - Copy.jpeg - Predicted Class: non-pneumonia\n",
            "1/1 [==============================] - 0s 95ms/step\n",
            "Image: NORMAL2-IM-0297-0001 - Copy.jpeg - Predicted Class: non-pneumonia\n",
            "1/1 [==============================] - 0s 95ms/step\n",
            "Image: NORMAL2-IM-0378-0001 - Copy.jpeg - Predicted Class: non-pneumonia\n",
            "1/1 [==============================] - 0s 89ms/step\n",
            "Image: NORMAL2-IM-0292-0001 - Copy.jpeg - Predicted Class: non-pneumonia\n",
            "1/1 [==============================] - 0s 107ms/step\n",
            "Image: NORMAL2-IM-0288-0001 - Copy.jpeg - Predicted Class: non-pneumonia\n",
            "1/1 [==============================] - 0s 90ms/step\n",
            "Image: NORMAL2-IM-0335-0001 - Copy.jpeg - Predicted Class: non-pneumonia\n",
            "1/1 [==============================] - 0s 100ms/step\n",
            "Image: NORMAL2-IM-0309-0001.jpeg - Predicted Class: non-pneumonia\n",
            "1/1 [==============================] - 0s 96ms/step\n",
            "Image: NORMAL2-IM-0373-0001.jpeg - Predicted Class: non-pneumonia\n",
            "1/1 [==============================] - 0s 102ms/step\n",
            "Image: NORMAL2-IM-0146-0001.jpeg - Predicted Class: non-pneumonia\n",
            "1/1 [==============================] - 0s 107ms/step\n",
            "Image: NORMAL2-IM-0310-0001.jpeg - Predicted Class: non-pneumonia\n",
            "1/1 [==============================] - 0s 93ms/step\n",
            "Image: NORMAL2-IM-0319-0001.jpeg - Predicted Class: non-pneumonia\n",
            "1/1 [==============================] - 0s 92ms/step\n",
            "Image: NORMAL2-IM-0311-0001.jpeg - Predicted Class: non-pneumonia\n",
            "1/1 [==============================] - 0s 64ms/step\n",
            "Image: NORMAL2-IM-0256-0001.jpeg - Predicted Class: non-pneumonia\n",
            "1/1 [==============================] - 0s 67ms/step\n",
            "Image: NORMAL2-IM-0281-0001 - Copy.jpeg - Predicted Class: non-pneumonia\n",
            "1/1 [==============================] - 0s 56ms/step\n",
            "Image: NORMAL2-IM-0279-0001 - Copy.jpeg - Predicted Class: non-pneumonia\n",
            "1/1 [==============================] - 0s 56ms/step\n",
            "Image: NORMAL2-IM-0275-0001 - Copy.jpeg - Predicted Class: non-pneumonia\n",
            "1/1 [==============================] - 0s 72ms/step\n",
            "Image: NORMAL2-IM-0352-0001 - Copy.jpeg - Predicted Class: non-pneumonia\n",
            "1/1 [==============================] - 0s 64ms/step\n",
            "Image: NORMAL2-IM-0278-0001.jpeg - Predicted Class: non-pneumonia\n",
            "1/1 [==============================] - 0s 57ms/step\n",
            "Image: NORMAL2-IM-0305-0001 - Copy.jpeg - Predicted Class: non-pneumonia\n",
            "1/1 [==============================] - 0s 64ms/step\n",
            "Image: NORMAL2-IM-0280-0001 - Copy.jpeg - Predicted Class: non-pneumonia\n",
            "1/1 [==============================] - 0s 57ms/step\n",
            "Image: NORMAL2-IM-0303-0001.jpeg - Predicted Class: non-pneumonia\n",
            "1/1 [==============================] - 0s 61ms/step\n",
            "Image: NORMAL2-IM-0327-0001 - Copy.jpeg - Predicted Class: non-pneumonia\n",
            "1/1 [==============================] - 0s 60ms/step\n",
            "Image: NORMAL2-IM-0315-0001 - Copy.jpeg - Predicted Class: non-pneumonia\n",
            "1/1 [==============================] - 0s 60ms/step\n",
            "Image: NORMAL2-IM-0287-0001.jpeg - Predicted Class: non-pneumonia\n",
            "1/1 [==============================] - 0s 72ms/step\n",
            "Image: NORMAL2-IM-0327-0001.jpeg - Predicted Class: non-pneumonia\n",
            "1/1 [==============================] - 0s 55ms/step\n",
            "Image: NORMAL2-IM-0277-0001 - Copy.jpeg - Predicted Class: non-pneumonia\n",
            "1/1 [==============================] - 0s 59ms/step\n",
            "Image: NORMAL2-IM-0272-0001 - Copy.jpeg - Predicted Class: non-pneumonia\n",
            "1/1 [==============================] - 0s 62ms/step\n",
            "Image: NORMAL2-IM-0285-0001 - Copy.jpeg - Predicted Class: non-pneumonia\n",
            "1/1 [==============================] - 0s 57ms/step\n",
            "Image: NORMAL2-IM-0312-0001 - Copy.jpeg - Predicted Class: non-pneumonia\n",
            "1/1 [==============================] - 0s 58ms/step\n",
            "Image: NORMAL2-IM-0310-0001 - Copy.jpeg - Predicted Class: non-pneumonia\n",
            "1/1 [==============================] - 0s 62ms/step\n",
            "Image: NORMAL2-IM-0294-0001 - Copy.jpeg - Predicted Class: non-pneumonia\n",
            "1/1 [==============================] - 0s 57ms/step\n",
            "Image: NORMAL2-IM-0378-0001.jpeg - Predicted Class: non-pneumonia\n",
            "1/1 [==============================] - 0s 71ms/step\n",
            "Image: NORMAL2-IM-0317-0001.jpeg - Predicted Class: non-pneumonia\n",
            "1/1 [==============================] - 0s 60ms/step\n",
            "Image: NORMAL2-IM-0338-0001 - Copy.jpeg - Predicted Class: non-pneumonia\n",
            "1/1 [==============================] - 0s 59ms/step\n",
            "Image: NORMAL2-IM-0300-0001.jpeg - Predicted Class: non-pneumonia\n",
            "1/1 [==============================] - 0s 59ms/step\n",
            "Image: NORMAL2-IM-0364-0001 - Copy.jpeg - Predicted Class: non-pneumonia\n",
            "1/1 [==============================] - 0s 67ms/step\n",
            "Image: NORMAL2-IM-0286-0001.jpeg - Predicted Class: non-pneumonia\n",
            "1/1 [==============================] - 0s 62ms/step\n",
            "Image: NORMAL2-IM-0251-0001 - Copy.jpeg - Predicted Class: non-pneumonia\n",
            "1/1 [==============================] - 0s 71ms/step\n",
            "Image: NORMAL2-IM-0316-0001 - Copy.jpeg - Predicted Class: non-pneumonia\n",
            "1/1 [==============================] - 0s 68ms/step\n",
            "Image: NORMAL2-IM-0283-0001 - Copy.jpeg - Predicted Class: non-pneumonia\n",
            "1/1 [==============================] - 0s 66ms/step\n",
            "Image: NORMAL2-IM-0281-0001.jpeg - Predicted Class: non-pneumonia\n",
            "1/1 [==============================] - 0s 64ms/step\n",
            "Image: NORMAL2-IM-0288-0001.jpeg - Predicted Class: non-pneumonia\n",
            "1/1 [==============================] - 0s 60ms/step\n",
            "Image: NORMAL2-IM-0360-0001.jpeg - Predicted Class: non-pneumonia\n",
            "1/1 [==============================] - 0s 59ms/step\n",
            "Image: NORMAL2-IM-0303-0001 - Copy.jpeg - Predicted Class: non-pneumonia\n",
            "1/1 [==============================] - 0s 60ms/step\n",
            "Image: NORMAL2-IM-0301-0001.jpeg - Predicted Class: non-pneumonia\n",
            "1/1 [==============================] - 0s 62ms/step\n",
            "Image: NORMAL2-IM-0335-0001.jpeg - Predicted Class: non-pneumonia\n",
            "1/1 [==============================] - 0s 61ms/step\n",
            "Image: NORMAL2-IM-0272-0001.jpeg - Predicted Class: non-pneumonia\n",
            "1/1 [==============================] - 0s 57ms/step\n",
            "Image: NORMAL2-IM-0330-0001 - Copy.jpeg - Predicted Class: non-pneumonia\n",
            "1/1 [==============================] - 0s 54ms/step\n",
            "Image: NORMAL2-IM-0319-0001 - Copy.jpeg - Predicted Class: non-pneumonia\n",
            "1/1 [==============================] - 0s 59ms/step\n",
            "Image: NORMAL2-IM-0246-0001-0001 - Copy.jpeg - Predicted Class: non-pneumonia\n",
            "1/1 [==============================] - 0s 60ms/step\n",
            "Image: NORMAL2-IM-0354-0001 - Copy.jpeg - Predicted Class: non-pneumonia\n",
            "1/1 [==============================] - 0s 54ms/step\n",
            "Image: NORMAL2-IM-0286-0001 - Copy.jpeg - Predicted Class: non-pneumonia\n",
            "1/1 [==============================] - 0s 61ms/step\n",
            "Image: NORMAL2-IM-0316-0001.jpeg - Predicted Class: non-pneumonia\n",
            "1/1 [==============================] - 0s 58ms/step\n",
            "Image: NORMAL2-IM-0267-0001.jpeg - Predicted Class: non-pneumonia\n",
            "1/1 [==============================] - 0s 69ms/step\n",
            "Image: NORMAL2-IM-0315-0001.jpeg - Predicted Class: non-pneumonia\n",
            "1/1 [==============================] - 0s 56ms/step\n",
            "Image: NORMAL2-IM-0271-0001 - Copy.jpeg - Predicted Class: non-pneumonia\n",
            "1/1 [==============================] - 0s 58ms/step\n",
            "Image: NORMAL2-IM-0309-0001 - Copy.jpeg - Predicted Class: non-pneumonia\n",
            "1/1 [==============================] - 0s 62ms/step\n",
            "Image: NORMAL2-IM-0352-0001.jpeg - Predicted Class: non-pneumonia\n",
            "1/1 [==============================] - 0s 73ms/step\n",
            "Image: NORMAL2-IM-0354-0001.jpeg - Predicted Class: non-pneumonia\n",
            "1/1 [==============================] - 0s 58ms/step\n",
            "Image: NORMAL2-IM-0278-0001 - Copy.jpeg - Predicted Class: non-pneumonia\n",
            "1/1 [==============================] - 0s 60ms/step\n",
            "Image: NORMAL2-IM-0271-0001.jpeg - Predicted Class: non-pneumonia\n",
            "1/1 [==============================] - 0s 54ms/step\n",
            "Image: NORMAL2-IM-0287-0001 - Copy.jpeg - Predicted Class: non-pneumonia\n",
            "1/1 [==============================] - 0s 66ms/step\n",
            "Image: NORMAL2-IM-0304-0001 - Copy.jpeg - Predicted Class: non-pneumonia\n",
            "1/1 [==============================] - 0s 62ms/step\n",
            "Image: NORMAL2-IM-0246-0001-0001.jpeg - Predicted Class: non-pneumonia\n",
            "1/1 [==============================] - 0s 59ms/step\n",
            "Image: NORMAL2-IM-0300-0001 - Copy.jpeg - Predicted Class: non-pneumonia\n",
            "1/1 [==============================] - 0s 60ms/step\n",
            "Image: NORMAL2-IM-0279-0001.jpeg - Predicted Class: non-pneumonia\n",
            "1/1 [==============================] - 0s 61ms/step\n",
            "Image: NORMAL2-IM-0297-0001.jpeg - Predicted Class: non-pneumonia\n",
            "1/1 [==============================] - 0s 53ms/step\n",
            "Image: NORMAL2-IM-0259-0001.jpeg - Predicted Class: non-pneumonia\n",
            "1/1 [==============================] - 0s 55ms/step\n",
            "Image: NORMAL2-IM-0361-0001.jpeg - Predicted Class: non-pneumonia\n",
            "1/1 [==============================] - 0s 61ms/step\n",
            "Image: NORMAL2-IM-0360-0001 - Copy.jpeg - Predicted Class: non-pneumonia\n",
            "1/1 [==============================] - 0s 57ms/step\n",
            "Image: NORMAL2-IM-0292-0001.jpeg - Predicted Class: non-pneumonia\n",
            "1/1 [==============================] - 0s 57ms/step\n",
            "Image: NORMAL2-IM-0285-0001.jpeg - Predicted Class: non-pneumonia\n",
            "1/1 [==============================] - 0s 62ms/step\n",
            "Image: NORMAL2-IM-0307-0001 - Copy.jpeg - Predicted Class: non-pneumonia\n",
            "1/1 [==============================] - 0s 54ms/step\n",
            "Image: NORMAL2-IM-0301-0001 - Copy.jpeg - Predicted Class: non-pneumonia\n",
            "1/1 [==============================] - 0s 60ms/step\n",
            "Image: NORMAL2-IM-0338-0001.jpeg - Predicted Class: non-pneumonia\n",
            "1/1 [==============================] - 0s 61ms/step\n",
            "Image: NORMAL2-IM-0364-0001.jpeg - Predicted Class: non-pneumonia\n",
            "1/1 [==============================] - 0s 57ms/step\n",
            "Image: NORMAL2-IM-0312-0001.jpeg - Predicted Class: non-pneumonia\n",
            "1/1 [==============================] - 0s 63ms/step\n",
            "Image: NORMAL2-IM-0277-0001.jpeg - Predicted Class: non-pneumonia\n",
            "1/1 [==============================] - 0s 55ms/step\n",
            "Image: NORMAL2-IM-0251-0001.jpeg - Predicted Class: non-pneumonia\n",
            "1/1 [==============================] - 0s 58ms/step\n",
            "Image: NORMAL2-IM-0280-0001.jpeg - Predicted Class: non-pneumonia\n",
            "1/1 [==============================] - 0s 57ms/step\n",
            "Image: NORMAL2-IM-0361-0001 - Copy.jpeg - Predicted Class: non-pneumonia\n",
            "1/1 [==============================] - 0s 58ms/step\n",
            "Image: NORMAL2-IM-0373-0001 - Copy.jpeg - Predicted Class: non-pneumonia\n",
            "1/1 [==============================] - 0s 57ms/step\n",
            "Image: NORMAL2-IM-0275-0001.jpeg - Predicted Class: non-pneumonia\n",
            "1/1 [==============================] - 0s 69ms/step\n",
            "Image: NORMAL2-IM-0276-0001.jpeg - Predicted Class: non-pneumonia\n",
            "1/1 [==============================] - 0s 64ms/step\n",
            "Image: NORMAL2-IM-0256-0001 - Copy.jpeg - Predicted Class: non-pneumonia\n",
            "1/1 [==============================] - 0s 67ms/step\n",
            "Image: NORMAL2-IM-0282-0001.jpeg - Predicted Class: non-pneumonia\n",
            "1/1 [==============================] - 0s 93ms/step\n",
            "Image: NORMAL2-IM-0146-0001 - Copy.jpeg - Predicted Class: non-pneumonia\n",
            "1/1 [==============================] - 0s 114ms/step\n",
            "Image: NORMAL2-IM-0210-0001.jpeg - Predicted Class: non-pneumonia\n",
            "1/1 [==============================] - 0s 111ms/step\n",
            "Image: NORMAL2-IM-0233-0001 - Copy.jpeg - Predicted Class: non-pneumonia\n",
            "1/1 [==============================] - 0s 121ms/step\n",
            "Image: NORMAL2-IM-0246-0001-0002 - Copy.jpeg - Predicted Class: non-pneumonia\n",
            "1/1 [==============================] - 0s 122ms/step\n",
            "Image: NORMAL2-IM-0012-0001.jpeg - Predicted Class: non-pneumonia\n",
            "1/1 [==============================] - 0s 101ms/step\n",
            "Image: NORMAL2-IM-0139-0001.jpeg - Predicted Class: non-pneumonia\n",
            "1/1 [==============================] - 0s 96ms/step\n",
            "Image: NORMAL2-IM-0145-0001.jpeg - Predicted Class: non-pneumonia\n",
            "1/1 [==============================] - 0s 111ms/step\n",
            "Image: NORMAL2-IM-0199-0001.jpeg - Predicted Class: non-pneumonia\n",
            "1/1 [==============================] - 0s 113ms/step\n",
            "Image: NORMAL2-IM-0110-0001.jpeg - Predicted Class: non-pneumonia\n",
            "1/1 [==============================] - 0s 116ms/step\n",
            "Image: NORMAL2-IM-0238-0001.jpeg - Predicted Class: non-pneumonia\n",
            "1/1 [==============================] - 0s 92ms/step\n",
            "Image: NORMAL2-IM-0206-0001 - Copy.jpeg - Predicted Class: non-pneumonia\n",
            "1/1 [==============================] - 0s 119ms/step\n",
            "Image: NORMAL2-IM-0222-0001 - Copy.jpeg - Predicted Class: non-pneumonia\n",
            "1/1 [==============================] - 0s 117ms/step\n",
            "Image: NORMAL2-IM-0273-0001 - Copy.jpeg - Predicted Class: non-pneumonia\n",
            "1/1 [==============================] - 0s 121ms/step\n",
            "Image: NORMAL2-IM-0274-0001.jpeg - Predicted Class: non-pneumonia\n",
            "1/1 [==============================] - 0s 105ms/step\n",
            "Image: NORMAL2-IM-0135-0001.jpeg - Predicted Class: non-pneumonia\n",
            "1/1 [==============================] - 0s 96ms/step\n",
            "Image: NORMAL2-IM-0217-0001.jpeg - Predicted Class: non-pneumonia\n",
            "1/1 [==============================] - 0s 116ms/step\n",
            "Image: NORMAL2-IM-0110-0001 - Copy.jpeg - Predicted Class: non-pneumonia\n",
            "1/1 [==============================] - 0s 95ms/step\n",
            "Image: NORMAL2-IM-0221-0001.jpeg - Predicted Class: non-pneumonia\n",
            "1/1 [==============================] - 0s 81ms/step\n",
            "Image: NORMAL2-IM-0246-0001-0002.jpeg - Predicted Class: non-pneumonia\n",
            "1/1 [==============================] - 0s 61ms/step\n",
            "Image: NORMAL2-IM-0302-0001.jpeg - Predicted Class: non-pneumonia\n",
            "1/1 [==============================] - 0s 69ms/step\n",
            "Image: NORMAL2-IM-0241-0001 - Copy.jpeg - Predicted Class: non-pneumonia\n",
            "1/1 [==============================] - 0s 59ms/step\n",
            "Image: NORMAL2-IM-0173-0001-0001 - Copy.jpeg - Predicted Class: non-pneumonia\n",
            "1/1 [==============================] - 0s 63ms/step\n",
            "Image: NORMAL2-IM-0273-0001.jpeg - Predicted Class: non-pneumonia\n",
            "1/1 [==============================] - 0s 59ms/step\n",
            "Image: NORMAL2-IM-0130-0001 - Copy.jpeg - Predicted Class: non-pneumonia\n",
            "1/1 [==============================] - 0s 56ms/step\n",
            "Image: NORMAL2-IM-0112-0001 - Copy.jpeg - Predicted Class: non-pneumonia\n",
            "1/1 [==============================] - 0s 53ms/step\n",
            "Image: NORMAL2-IM-0072-0001 - Copy.jpeg - Predicted Class: non-pneumonia\n",
            "1/1 [==============================] - 0s 61ms/step\n",
            "Image: NORMAL2-IM-0130-0001.jpeg - Predicted Class: non-pneumonia\n",
            "1/1 [==============================] - 0s 58ms/step\n",
            "Image: NORMAL2-IM-0290-0001.jpeg - Predicted Class: non-pneumonia\n",
            "1/1 [==============================] - 0s 61ms/step\n",
            "Image: NORMAL2-IM-0201-0001.jpeg - Predicted Class: non-pneumonia\n",
            "1/1 [==============================] - 0s 61ms/step\n",
            "Image: NORMAL2-IM-0107-0001 - Copy.jpeg - Predicted Class: non-pneumonia\n",
            "1/1 [==============================] - 0s 61ms/step\n",
            "Image: NORMAL2-IM-0105-0001.jpeg - Predicted Class: non-pneumonia\n",
            "1/1 [==============================] - 0s 56ms/step\n",
            "Image: NORMAL2-IM-0237-0001 - Copy.jpeg - Predicted Class: non-pneumonia\n",
            "1/1 [==============================] - 0s 67ms/step\n",
            "Image: NORMAL2-IM-0092-0001.jpeg - Predicted Class: non-pneumonia\n",
            "1/1 [==============================] - 0s 61ms/step\n",
            "Image: NORMAL2-IM-0274-0001 - Copy.jpeg - Predicted Class: non-pneumonia\n",
            "1/1 [==============================] - 0s 62ms/step\n",
            "Image: NORMAL2-IM-0195-0001 - Copy.jpeg - Predicted Class: non-pneumonia\n",
            "1/1 [==============================] - 0s 71ms/step\n",
            "Image: NORMAL2-IM-0107-0001.jpeg - Predicted Class: non-pneumonia\n",
            "1/1 [==============================] - 0s 66ms/step\n",
            "Image: NORMAL2-IM-0120-0001 - Copy.jpeg - Predicted Class: non-pneumonia\n",
            "1/1 [==============================] - 0s 76ms/step\n",
            "Image: NORMAL2-IM-0173-0001-0001.jpeg - Predicted Class: non-pneumonia\n",
            "1/1 [==============================] - 0s 70ms/step\n",
            "Image: NORMAL2-IM-0092-0001 - Copy.jpeg - Predicted Class: non-pneumonia\n",
            "1/1 [==============================] - 0s 68ms/step\n",
            "Image: NORMAL2-IM-0237-0001.jpeg - Predicted Class: non-pneumonia\n",
            "1/1 [==============================] - 0s 62ms/step\n",
            "Image: NORMAL2-IM-0112-0001.jpeg - Predicted Class: non-pneumonia\n",
            "1/1 [==============================] - 0s 55ms/step\n",
            "Image: NORMAL2-IM-0058-0001 - Copy.jpeg - Predicted Class: non-pneumonia\n",
            "1/1 [==============================] - 0s 56ms/step\n",
            "Image: NORMAL2-IM-0150-0001.jpeg - Predicted Class: non-pneumonia\n",
            "1/1 [==============================] - 0s 64ms/step\n",
            "Image: NORMAL2-IM-0123-0001.jpeg - Predicted Class: non-pneumonia\n",
            "1/1 [==============================] - 0s 63ms/step\n",
            "Image: NORMAL2-IM-0120-0001.jpeg - Predicted Class: non-pneumonia\n",
            "1/1 [==============================] - 0s 61ms/step\n",
            "Image: IM-0109-0001.jpeg - Predicted Class: non-pneumonia\n",
            "1/1 [==============================] - 0s 64ms/step\n",
            "Image: NORMAL2-IM-0105-0001 - Copy.jpeg - Predicted Class: non-pneumonia\n",
            "1/1 [==============================] - 0s 58ms/step\n",
            "Image: NORMAL2-IM-0129-0001 - Copy.jpeg - Predicted Class: non-pneumonia\n",
            "1/1 [==============================] - 0s 68ms/step\n",
            "Image: NORMAL2-IM-0219-0001 - Copy.jpeg - Predicted Class: non-pneumonia\n",
            "1/1 [==============================] - 0s 59ms/step\n",
            "Image: NORMAL2-IM-0213-0001 - Copy.jpeg - Predicted Class: non-pneumonia\n",
            "1/1 [==============================] - 0s 69ms/step\n",
            "Image: NORMAL2-IM-0012-0001 - Copy.jpeg - Predicted Class: non-pneumonia\n",
            "1/1 [==============================] - 0s 59ms/step\n",
            "Image: NORMAL2-IM-0241-0001.jpeg - Predicted Class: non-pneumonia\n",
            "1/1 [==============================] - 0s 62ms/step\n",
            "Image: NORMAL2-IM-0198-0001 - Copy.jpeg - Predicted Class: non-pneumonia\n",
            "1/1 [==============================] - 0s 55ms/step\n",
            "Image: NORMAL2-IM-0222-0001.jpeg - Predicted Class: non-pneumonia\n",
            "1/1 [==============================] - 0s 56ms/step\n",
            "Image: NORMAL2-IM-0019-0001 - Copy.jpeg - Predicted Class: non-pneumonia\n",
            "1/1 [==============================] - 0s 70ms/step\n",
            "Image: NORMAL2-IM-0219-0001.jpeg - Predicted Class: non-pneumonia\n",
            "1/1 [==============================] - 0s 56ms/step\n",
            "Image: NORMAL2-IM-0123-0001 - Copy.jpeg - Predicted Class: non-pneumonia\n",
            "1/1 [==============================] - 0s 58ms/step\n",
            "Image: NORMAL2-IM-0072-0001.jpeg - Predicted Class: non-pneumonia\n",
            "1/1 [==============================] - 0s 59ms/step\n",
            "Image: NORMAL2-IM-0210-0001 - Copy.jpeg - Predicted Class: non-pneumonia\n",
            "1/1 [==============================] - 0s 61ms/step\n",
            "Image: NORMAL2-IM-0249-0001.jpeg - Predicted Class: non-pneumonia\n",
            "1/1 [==============================] - 0s 54ms/step\n",
            "Image: NORMAL2-IM-0135-0001 - Copy.jpeg - Predicted Class: non-pneumonia\n",
            "1/1 [==============================] - 0s 56ms/step\n",
            "Image: NORMAL2-IM-0229-0001.jpeg - Predicted Class: non-pneumonia\n",
            "1/1 [==============================] - 0s 64ms/step\n",
            "Image: NORMAL2-IM-0229-0001 - Copy.jpeg - Predicted Class: non-pneumonia\n",
            "1/1 [==============================] - 0s 78ms/step\n",
            "Image: NORMAL2-IM-0141-0001 - Copy.jpeg - Predicted Class: non-pneumonia\n",
            "1/1 [==============================] - 0s 65ms/step\n",
            "Image: NORMAL2-IM-0313-0001.jpeg - Predicted Class: non-pneumonia\n",
            "1/1 [==============================] - 0s 74ms/step\n",
            "Image: NORMAL2-IM-0233-0001.jpeg - Predicted Class: non-pneumonia\n",
            "1/1 [==============================] - 0s 68ms/step\n",
            "Image: NORMAL2-IM-0145-0001 - Copy.jpeg - Predicted Class: non-pneumonia\n",
            "1/1 [==============================] - 0s 68ms/step\n",
            "Image: NORMAL2-IM-0201-0001 - Copy.jpeg - Predicted Class: non-pneumonia\n",
            "1/1 [==============================] - 0s 82ms/step\n",
            "Image: NORMAL2-IM-0198-0001.jpeg - Predicted Class: non-pneumonia\n",
            "1/1 [==============================] - 0s 91ms/step\n",
            "Image: NORMAL2-IM-0290-0001 - Copy.jpeg - Predicted Class: non-pneumonia\n",
            "1/1 [==============================] - 0s 82ms/step\n",
            "Image: IM-0109-0001 - Copy.jpeg - Predicted Class: non-pneumonia\n",
            "1/1 [==============================] - 0s 62ms/step\n",
            "Image: NORMAL2-IM-0132-0001.jpeg - Predicted Class: non-pneumonia\n",
            "1/1 [==============================] - 0s 59ms/step\n",
            "Image: NORMAL2-IM-0232-0001 - Copy.jpeg - Predicted Class: non-pneumonia\n",
            "1/1 [==============================] - 0s 60ms/step\n",
            "Image: NORMAL2-IM-0207-0001 - Copy.jpeg - Predicted Class: non-pneumonia\n",
            "1/1 [==============================] - 0s 60ms/step\n",
            "Image: NORMAL2-IM-0141-0001.jpeg - Predicted Class: non-pneumonia\n",
            "1/1 [==============================] - 0s 64ms/step\n",
            "Image: NORMAL2-IM-0117-0001 - Copy.jpeg - Predicted Class: non-pneumonia\n",
            "1/1 [==============================] - 0s 54ms/step\n",
            "Image: NORMAL2-IM-0129-0001.jpeg - Predicted Class: non-pneumonia\n",
            "1/1 [==============================] - 0s 54ms/step\n",
            "Image: NORMAL2-IM-0238-0001 - Copy.jpeg - Predicted Class: non-pneumonia\n",
            "1/1 [==============================] - 0s 74ms/step\n",
            "Image: NORMAL2-IM-0132-0001 - Copy.jpeg - Predicted Class: non-pneumonia\n",
            "1/1 [==============================] - 0s 57ms/step\n",
            "Image: NORMAL2-IM-0111-0001 - Copy.jpeg - Predicted Class: non-pneumonia\n",
            "1/1 [==============================] - 0s 57ms/step\n",
            "Image: NORMAL2-IM-0139-0001 - Copy.jpeg - Predicted Class: non-pneumonia\n",
            "1/1 [==============================] - 0s 61ms/step\n",
            "Image: NORMAL2-IM-0249-0001 - Copy.jpeg - Predicted Class: non-pneumonia\n",
            "1/1 [==============================] - 0s 57ms/step\n",
            "Image: NORMAL2-IM-0221-0001 - Copy.jpeg - Predicted Class: non-pneumonia\n",
            "1/1 [==============================] - 0s 59ms/step\n",
            "Image: NORMAL2-IM-0196-0001.jpeg - Predicted Class: non-pneumonia\n",
            "1/1 [==============================] - 0s 62ms/step\n",
            "Image: NORMAL2-IM-0058-0001.jpeg - Predicted Class: non-pneumonia\n",
            "1/1 [==============================] - 0s 56ms/step\n",
            "Image: NORMAL2-IM-0213-0001.jpeg - Predicted Class: non-pneumonia\n",
            "1/1 [==============================] - 0s 68ms/step\n",
            "Image: NORMAL2-IM-0217-0001 - Copy.jpeg - Predicted Class: non-pneumonia\n",
            "1/1 [==============================] - 0s 95ms/step\n",
            "Image: NORMAL2-IM-0232-0001.jpeg - Predicted Class: non-pneumonia\n",
            "1/1 [==============================] - 0s 84ms/step\n",
            "Image: NORMAL2-IM-0196-0001 - Copy.jpeg - Predicted Class: non-pneumonia\n",
            "1/1 [==============================] - 0s 96ms/step\n",
            "Image: NORMAL2-IM-0171-0001.jpeg - Predicted Class: non-pneumonia\n",
            "1/1 [==============================] - 0s 110ms/step\n",
            "Image: NORMAL2-IM-0117-0001.jpeg - Predicted Class: non-pneumonia\n",
            "1/1 [==============================] - 0s 112ms/step\n",
            "Image: NORMAL2-IM-0206-0001.jpeg - Predicted Class: non-pneumonia\n",
            "1/1 [==============================] - 0s 96ms/step\n",
            "Image: NORMAL2-IM-0302-0001 - Copy.jpeg - Predicted Class: non-pneumonia\n",
            "1/1 [==============================] - 0s 101ms/step\n",
            "Image: NORMAL2-IM-0171-0001 - Copy.jpeg - Predicted Class: non-pneumonia\n",
            "1/1 [==============================] - 0s 102ms/step\n",
            "Image: NORMAL2-IM-0111-0001.jpeg - Predicted Class: non-pneumonia\n",
            "1/1 [==============================] - 0s 97ms/step\n",
            "Image: NORMAL2-IM-0195-0001.jpeg - Predicted Class: non-pneumonia\n",
            "1/1 [==============================] - 0s 114ms/step\n",
            "Image: NORMAL2-IM-0199-0001 - Copy.jpeg - Predicted Class: non-pneumonia\n",
            "1/1 [==============================] - 0s 98ms/step\n",
            "Image: NORMAL2-IM-0313-0001 - Copy.jpeg - Predicted Class: non-pneumonia\n",
            "1/1 [==============================] - 0s 98ms/step\n",
            "Image: NORMAL2-IM-0150-0001 - Copy.jpeg - Predicted Class: non-pneumonia\n",
            "1/1 [==============================] - 0s 86ms/step\n",
            "Image: NORMAL2-IM-0019-0001.jpeg - Predicted Class: non-pneumonia\n",
            "1/1 [==============================] - 0s 105ms/step\n",
            "Image: NORMAL2-IM-0173-0001-0002 - Copy.jpeg - Predicted Class: non-pneumonia\n",
            "1/1 [==============================] - 0s 95ms/step\n",
            "Image: NORMAL2-IM-0173-0001-0002.jpeg - Predicted Class: non-pneumonia\n",
            "1/1 [==============================] - 0s 89ms/step\n",
            "Image: NORMAL2-IM-0207-0001.jpeg - Predicted Class: non-pneumonia\n",
            "1/1 [==============================] - 0s 105ms/step\n",
            "Image: NORMAL2-IM-0086-0001.jpeg - Predicted Class: non-pneumonia\n",
            "1/1 [==============================] - 0s 93ms/step\n",
            "Image: IM-0107-0001 - Copy.jpeg - Predicted Class: non-pneumonia\n",
            "1/1 [==============================] - 0s 90ms/step\n",
            "Image: NORMAL2-IM-0045-0001.jpeg - Predicted Class: non-pneumonia\n",
            "1/1 [==============================] - 0s 88ms/step\n",
            "Image: NORMAL2-IM-0246-0001 - Copy.jpeg - Predicted Class: non-pneumonia\n",
            "1/1 [==============================] - 0s 89ms/step\n",
            "Image: IM-0037-0001.jpeg - Predicted Class: non-pneumonia\n",
            "1/1 [==============================] - 0s 89ms/step\n",
            "Image: IM-0103-0001 - Copy.jpeg - Predicted Class: non-pneumonia\n",
            "1/1 [==============================] - 0s 64ms/step\n",
            "Image: NORMAL2-IM-0131-0001 - Copy.jpeg - Predicted Class: non-pneumonia\n",
            "1/1 [==============================] - 0s 55ms/step\n",
            "Image: NORMAL2-IM-0059-0001.jpeg - Predicted Class: non-pneumonia\n",
            "1/1 [==============================] - 0s 55ms/step\n",
            "Image: IM-0025-0001.jpeg - Predicted Class: non-pneumonia\n",
            "1/1 [==============================] - 0s 54ms/step\n",
            "Image: IM-0039-0001.jpeg - Predicted Class: non-pneumonia\n",
            "1/1 [==============================] - 0s 54ms/step\n",
            "Image: NORMAL2-IM-0086-0001 - Copy.jpeg - Predicted Class: non-pneumonia\n",
            "1/1 [==============================] - 0s 55ms/step\n",
            "Image: NORMAL2-IM-0096-0001 - Copy.jpeg - Predicted Class: non-pneumonia\n",
            "1/1 [==============================] - 0s 55ms/step\n",
            "Image: NORMAL2-IM-0102-0001 - Copy.jpeg - Predicted Class: non-pneumonia\n",
            "1/1 [==============================] - 0s 66ms/step\n",
            "Image: NORMAL2-IM-0060-0001 - Copy.jpeg - Predicted Class: non-pneumonia\n",
            "1/1 [==============================] - 0s 53ms/step\n",
            "Image: NORMAL2-IM-0051-0001.jpeg - Predicted Class: non-pneumonia\n",
            "1/1 [==============================] - 0s 54ms/step\n",
            "Image: IM-0099-0001 - Copy.jpeg - Predicted Class: non-pneumonia\n",
            "1/1 [==============================] - 0s 64ms/step\n",
            "Image: IM-0105-0001 - Copy.jpeg - Predicted Class: non-pneumonia\n",
            "1/1 [==============================] - 0s 57ms/step\n",
            "Image: NORMAL2-IM-0095-0001 - Copy.jpeg - Predicted Class: non-pneumonia\n",
            "1/1 [==============================] - 0s 57ms/step\n",
            "Image: IM-0097-0001.jpeg - Predicted Class: non-pneumonia\n",
            "1/1 [==============================] - 0s 57ms/step\n",
            "Image: NORMAL2-IM-0096-0001.jpeg - Predicted Class: non-pneumonia\n",
            "1/1 [==============================] - 0s 58ms/step\n",
            "Image: IM-0028-0001 - Copy.jpeg - Predicted Class: non-pneumonia\n",
            "1/1 [==============================] - 0s 55ms/step\n",
            "Image: NORMAL2-IM-0052-0001.jpeg - Predicted Class: non-pneumonia\n",
            "1/1 [==============================] - 0s 54ms/step\n",
            "Image: NORMAL2-IM-0007-0001 - Copy.jpeg - Predicted Class: non-pneumonia\n",
            "1/1 [==============================] - 0s 64ms/step\n",
            "Image: NORMAL2-IM-0081-0001.jpeg - Predicted Class: non-pneumonia\n",
            "1/1 [==============================] - 0s 66ms/step\n",
            "Image: NORMAL2-IM-0073-0001 - Copy.jpeg - Predicted Class: non-pneumonia\n",
            "1/1 [==============================] - 0s 54ms/step\n",
            "Image: IM-0033-0001-0002 - Copy.jpeg - Predicted Class: non-pneumonia\n",
            "1/1 [==============================] - 0s 63ms/step\n",
            "Image: IM-0111-0001 - Copy.jpeg - Predicted Class: non-pneumonia\n",
            "1/1 [==============================] - 0s 56ms/step\n",
            "Image: IM-0067-0001 - Copy.jpeg - Predicted Class: non-pneumonia\n",
            "1/1 [==============================] - 0s 55ms/step\n",
            "Image: IM-0039-0001 - Copy.jpeg - Predicted Class: non-pneumonia\n",
            "1/1 [==============================] - 0s 52ms/step\n",
            "Image: NORMAL2-IM-0007-0001.jpeg - Predicted Class: non-pneumonia\n",
            "1/1 [==============================] - 0s 52ms/step\n",
            "Image: NORMAL2-IM-0052-0001 - Copy.jpeg - Predicted Class: non-pneumonia\n",
            "1/1 [==============================] - 0s 53ms/step\n",
            "Image: IM-0095-0001.jpeg - Predicted Class: non-pneumonia\n",
            "1/1 [==============================] - 0s 64ms/step\n",
            "Image: IM-0043-0001 - Copy.jpeg - Predicted Class: non-pneumonia\n",
            "1/1 [==============================] - 0s 57ms/step\n",
            "Image: IM-0033-0001-0002.jpeg - Predicted Class: non-pneumonia\n",
            "1/1 [==============================] - 0s 56ms/step\n",
            "Image: IM-0029-0001 - Copy.jpeg - Predicted Class: non-pneumonia\n",
            "1/1 [==============================] - 0s 55ms/step\n",
            "Image: NORMAL2-IM-0033-0001.jpeg - Predicted Class: non-pneumonia\n",
            "1/1 [==============================] - 0s 53ms/step\n",
            "Image: IM-0029-0001.jpeg - Predicted Class: non-pneumonia\n",
            "1/1 [==============================] - 0s 54ms/step\n",
            "Image: NORMAL2-IM-0045-0001 - Copy.jpeg - Predicted Class: non-pneumonia\n",
            "1/1 [==============================] - 0s 55ms/step\n",
            "Image: NORMAL2-IM-0013-0001.jpeg - Predicted Class: non-pneumonia\n",
            "1/1 [==============================] - 0s 57ms/step\n",
            "Image: NORMAL2-IM-0030-0001 - Copy.jpeg - Predicted Class: non-pneumonia\n",
            "1/1 [==============================] - 0s 52ms/step\n",
            "Image: IM-0103-0001.jpeg - Predicted Class: non-pneumonia\n",
            "1/1 [==============================] - 0s 52ms/step\n",
            "Image: NORMAL2-IM-0028-0001 - Copy.jpeg - Predicted Class: non-pneumonia\n",
            "1/1 [==============================] - 0s 59ms/step\n",
            "Image: NORMAL2-IM-0027-0001.jpeg - Predicted Class: non-pneumonia\n",
            "1/1 [==============================] - 0s 52ms/step\n",
            "Image: NORMAL2-IM-0041-0001.jpeg - Predicted Class: non-pneumonia\n",
            "1/1 [==============================] - 0s 56ms/step\n",
            "Image: IM-0030-0001 - Copy.jpeg - Predicted Class: non-pneumonia\n",
            "1/1 [==============================] - 0s 54ms/step\n",
            "Image: IM-0107-0001.jpeg - Predicted Class: non-pneumonia\n",
            "1/1 [==============================] - 0s 53ms/step\n",
            "Image: IM-0030-0001.jpeg - Predicted Class: non-pneumonia\n",
            "1/1 [==============================] - 0s 56ms/step\n",
            "Image: IM-0110-0001 - Copy.jpeg - Predicted Class: non-pneumonia\n",
            "1/1 [==============================] - 0s 55ms/step\n",
            "Image: NORMAL2-IM-0066-0001.jpeg - Predicted Class: non-pneumonia\n",
            "1/1 [==============================] - 0s 57ms/step\n",
            "Image: IM-0102-0001.jpeg - Predicted Class: non-pneumonia\n",
            "1/1 [==============================] - 0s 61ms/step\n",
            "Image: IM-0091-0001 - Copy.jpeg - Predicted Class: non-pneumonia\n",
            "1/1 [==============================] - 0s 52ms/step\n",
            "Image: NORMAL2-IM-0066-0001 - Copy.jpeg - Predicted Class: non-pneumonia\n",
            "1/1 [==============================] - 0s 62ms/step\n",
            "Image: IM-0097-0001 - Copy.jpeg - Predicted Class: non-pneumonia\n",
            "1/1 [==============================] - 0s 55ms/step\n",
            "Image: IM-0105-0001.jpeg - Predicted Class: non-pneumonia\n",
            "1/1 [==============================] - 0s 55ms/step\n",
            "Image: IM-0110-0001.jpeg - Predicted Class: non-pneumonia\n",
            "1/1 [==============================] - 0s 60ms/step\n",
            "Image: IM-0061-0001.jpeg - Predicted Class: non-pneumonia\n",
            "1/1 [==============================] - 0s 53ms/step\n",
            "Image: IM-0028-0001.jpeg - Predicted Class: non-pneumonia\n",
            "1/1 [==============================] - 0s 57ms/step\n",
            "Image: NORMAL2-IM-0051-0001 - Copy.jpeg - Predicted Class: non-pneumonia\n",
            "1/1 [==============================] - 0s 52ms/step\n",
            "Image: IM-0049-0001 - Copy.jpeg - Predicted Class: non-pneumonia\n",
            "1/1 [==============================] - 0s 56ms/step\n",
            "Image: IM-0099-0001.jpeg - Predicted Class: non-pneumonia\n",
            "1/1 [==============================] - 0s 54ms/step\n",
            "Image: IM-0037-0001 - Copy.jpeg - Predicted Class: non-pneumonia\n",
            "1/1 [==============================] - 0s 59ms/step\n",
            "Image: NORMAL2-IM-0041-0001 - Copy.jpeg - Predicted Class: non-pneumonia\n",
            "1/1 [==============================] - 0s 60ms/step\n",
            "Image: IM-0045-0001 - Copy.jpeg - Predicted Class: non-pneumonia\n",
            "1/1 [==============================] - 0s 57ms/step\n",
            "Image: IM-0049-0001.jpeg - Predicted Class: non-pneumonia\n",
            "1/1 [==============================] - 0s 55ms/step\n",
            "Image: NORMAL2-IM-0030-0001.jpeg - Predicted Class: non-pneumonia\n",
            "1/1 [==============================] - 0s 53ms/step\n",
            "Image: NORMAL2-IM-0023-0001 - Copy.jpeg - Predicted Class: non-pneumonia\n",
            "1/1 [==============================] - 0s 56ms/step\n",
            "Image: NORMAL2-IM-0029-0001.jpeg - Predicted Class: non-pneumonia\n",
            "1/1 [==============================] - 0s 58ms/step\n",
            "Image: IM-0101-0001.jpeg - Predicted Class: non-pneumonia\n",
            "1/1 [==============================] - 0s 60ms/step\n",
            "Image: NORMAL2-IM-0035-0001 - Copy.jpeg - Predicted Class: non-pneumonia\n",
            "1/1 [==============================] - 0s 57ms/step\n",
            "Image: NORMAL2-IM-0098-0001 - Copy.jpeg - Predicted Class: non-pneumonia\n",
            "1/1 [==============================] - 0s 58ms/step\n",
            "Image: IM-0102-0001 - Copy.jpeg - Predicted Class: non-pneumonia\n",
            "1/1 [==============================] - 0s 55ms/step\n",
            "Image: NORMAL2-IM-0028-0001.jpeg - Predicted Class: non-pneumonia\n",
            "1/1 [==============================] - 0s 61ms/step\n",
            "Image: IM-0025-0001 - Copy.jpeg - Predicted Class: non-pneumonia\n",
            "1/1 [==============================] - 0s 53ms/step\n",
            "Image: NORMAL2-IM-0102-0001.jpeg - Predicted Class: non-pneumonia\n",
            "1/1 [==============================] - 0s 58ms/step\n",
            "Image: NORMAL2-IM-0023-0001.jpeg - Predicted Class: non-pneumonia\n",
            "1/1 [==============================] - 0s 56ms/step\n",
            "Image: NORMAL2-IM-0073-0001.jpeg - Predicted Class: non-pneumonia\n",
            "1/1 [==============================] - 0s 53ms/step\n",
            "Image: NORMAL2-IM-0131-0001.jpeg - Predicted Class: non-pneumonia\n",
            "1/1 [==============================] - 0s 64ms/step\n",
            "Image: NORMAL2-IM-0081-0001 - Copy.jpeg - Predicted Class: non-pneumonia\n",
            "1/1 [==============================] - 0s 56ms/step\n",
            "Image: IM-0101-0001 - Copy.jpeg - Predicted Class: non-pneumonia\n",
            "1/1 [==============================] - 0s 83ms/step\n",
            "Image: NORMAL2-IM-0060-0001.jpeg - Predicted Class: non-pneumonia\n",
            "1/1 [==============================] - 0s 94ms/step\n",
            "Image: NORMAL2-IM-0098-0001.jpeg - Predicted Class: non-pneumonia\n",
            "1/1 [==============================] - 0s 104ms/step\n",
            "Image: IM-0061-0001 - Copy.jpeg - Predicted Class: non-pneumonia\n",
            "1/1 [==============================] - 0s 93ms/step\n",
            "Image: IM-0093-0001.jpeg - Predicted Class: non-pneumonia\n",
            "1/1 [==============================] - 0s 110ms/step\n",
            "Image: IM-0095-0001 - Copy.jpeg - Predicted Class: non-pneumonia\n",
            "1/1 [==============================] - 0s 95ms/step\n",
            "Image: NORMAL2-IM-0246-0001.jpeg - Predicted Class: non-pneumonia\n",
            "1/1 [==============================] - 0s 87ms/step\n",
            "Image: IM-0093-0001 - Copy.jpeg - Predicted Class: non-pneumonia\n",
            "1/1 [==============================] - 0s 93ms/step\n",
            "Image: NORMAL2-IM-0013-0001 - Copy.jpeg - Predicted Class: non-pneumonia\n",
            "1/1 [==============================] - 0s 107ms/step\n",
            "Image: IM-0067-0001.jpeg - Predicted Class: non-pneumonia\n",
            "1/1 [==============================] - 0s 83ms/step\n",
            "Image: IM-0045-0001.jpeg - Predicted Class: non-pneumonia\n",
            "1/1 [==============================] - 0s 100ms/step\n",
            "Image: IM-0081-0001 - Copy.jpeg - Predicted Class: non-pneumonia\n",
            "1/1 [==============================] - 0s 89ms/step\n",
            "Image: NORMAL2-IM-0027-0001 - Copy.jpeg - Predicted Class: non-pneumonia\n",
            "1/1 [==============================] - 0s 99ms/step\n",
            "Image: NORMAL2-IM-0029-0001 - Copy.jpeg - Predicted Class: non-pneumonia\n",
            "1/1 [==============================] - 0s 91ms/step\n",
            "Image: NORMAL2-IM-0059-0001 - Copy.jpeg - Predicted Class: non-pneumonia\n",
            "1/1 [==============================] - 0s 94ms/step\n",
            "Image: IM-0081-0001.jpeg - Predicted Class: non-pneumonia\n",
            "1/1 [==============================] - 0s 90ms/step\n",
            "Image: NORMAL2-IM-0033-0001 - Copy.jpeg - Predicted Class: non-pneumonia\n",
            "1/1 [==============================] - 0s 99ms/step\n",
            "Image: IM-0091-0001.jpeg - Predicted Class: non-pneumonia\n",
            "1/1 [==============================] - 0s 89ms/step\n",
            "Image: NORMAL2-IM-0035-0001.jpeg - Predicted Class: non-pneumonia\n",
            "1/1 [==============================] - 0s 91ms/step\n",
            "Image: IM-0043-0001.jpeg - Predicted Class: non-pneumonia\n",
            "1/1 [==============================] - 0s 86ms/step\n",
            "Image: NORMAL2-IM-0095-0001.jpeg - Predicted Class: non-pneumonia\n",
            "1/1 [==============================] - 0s 83ms/step\n",
            "Image: IM-0111-0001.jpeg - Predicted Class: non-pneumonia\n",
            "1/1 [==============================] - 0s 87ms/step\n",
            "Image: IM-0017-0001 - Copy.jpeg - Predicted Class: non-pneumonia\n",
            "1/1 [==============================] - 0s 54ms/step\n",
            "Image: IM-0011-0001-0002 - Copy.jpeg - Predicted Class: non-pneumonia\n",
            "1/1 [==============================] - 0s 56ms/step\n",
            "Image: IM-0085-0001.jpeg - Predicted Class: non-pneumonia\n",
            "1/1 [==============================] - 0s 56ms/step\n",
            "Image: IM-0033-0001 - Copy.jpeg - Predicted Class: non-pneumonia\n",
            "1/1 [==============================] - 0s 55ms/step\n",
            "Image: NORMAL2-IM-0079-0001 - Copy.jpeg - Predicted Class: non-pneumonia\n",
            "1/1 [==============================] - 0s 54ms/step\n",
            "Image: IM-0009-0001.jpeg - Predicted Class: non-pneumonia\n",
            "1/1 [==============================] - 0s 56ms/step\n",
            "Image: IM-0027-0001 - Copy.jpeg - Predicted Class: non-pneumonia\n",
            "1/1 [==============================] - 0s 53ms/step\n",
            "Image: IM-0015-0001 - Copy.jpeg - Predicted Class: non-pneumonia\n",
            "1/1 [==============================] - 0s 56ms/step\n",
            "Image: IM-0073-0001 - Copy.jpeg - Predicted Class: non-pneumonia\n",
            "1/1 [==============================] - 0s 56ms/step\n",
            "Image: IM-0022-0001.jpeg - Predicted Class: non-pneumonia\n",
            "1/1 [==============================] - 0s 57ms/step\n",
            "Image: IM-0017-0001.jpeg - Predicted Class: non-pneumonia\n",
            "1/1 [==============================] - 0s 52ms/step\n",
            "Image: IM-0005-0001.jpeg - Predicted Class: non-pneumonia\n",
            "1/1 [==============================] - 0s 55ms/step\n",
            "Image: IM-0015-0001.jpeg - Predicted Class: non-pneumonia\n",
            "1/1 [==============================] - 0s 53ms/step\n",
            "Image: IM-0001-0001.jpeg - Predicted Class: non-pneumonia\n",
            "1/1 [==============================] - 0s 52ms/step\n",
            "Image: IM-0046-0001 - Copy.jpeg - Predicted Class: non-pneumonia\n",
            "1/1 [==============================] - 0s 52ms/step\n",
            "Image: IM-0011-0001.jpeg - Predicted Class: non-pneumonia\n",
            "1/1 [==============================] - 0s 58ms/step\n",
            "Image: IM-0050-0001 - Copy.jpeg - Predicted Class: non-pneumonia\n",
            "1/1 [==============================] - 0s 52ms/step\n",
            "Image: IM-0011-0001-0001 - Copy.jpeg - Predicted Class: non-pneumonia\n",
            "1/1 [==============================] - 0s 52ms/step\n",
            "Image: IM-0059-0001 - Copy.jpeg - Predicted Class: non-pneumonia\n",
            "1/1 [==============================] - 0s 70ms/step\n",
            "Image: NORMAL2-IM-0079-0001.jpeg - Predicted Class: non-pneumonia\n",
            "1/1 [==============================] - 0s 55ms/step\n",
            "Image: IM-0069-0001 - Copy.jpeg - Predicted Class: non-pneumonia\n",
            "1/1 [==============================] - 0s 54ms/step\n",
            "Image: IM-0003-0001.jpeg - Predicted Class: non-pneumonia\n",
            "1/1 [==============================] - 0s 54ms/step\n",
            "Image: IM-0086-0001.jpeg - Predicted Class: non-pneumonia\n",
            "1/1 [==============================] - 0s 54ms/step\n",
            "Image: IM-0084-0001.jpeg - Predicted Class: non-pneumonia\n",
            "1/1 [==============================] - 0s 57ms/step\n",
            "Image: IM-0083-0001.jpeg - Predicted Class: non-pneumonia\n",
            "1/1 [==============================] - 0s 53ms/step\n",
            "Image: IM-0046-0001.jpeg - Predicted Class: non-pneumonia\n",
            "1/1 [==============================] - 0s 54ms/step\n",
            "Image: IM-0086-0001 - Copy.jpeg - Predicted Class: non-pneumonia\n",
            "1/1 [==============================] - 0s 60ms/step\n",
            "Image: IM-0033-0001-0001 - Copy.jpeg - Predicted Class: non-pneumonia\n",
            "1/1 [==============================] - 0s 56ms/step\n",
            "Image: IM-0041-0001.jpeg - Predicted Class: non-pneumonia\n",
            "1/1 [==============================] - 0s 55ms/step\n",
            "Image: IM-0021-0001.jpeg - Predicted Class: non-pneumonia\n",
            "1/1 [==============================] - 0s 54ms/step\n",
            "Image: IM-0007-0001.jpeg - Predicted Class: non-pneumonia\n",
            "1/1 [==============================] - 0s 53ms/step\n",
            "Image: IM-0071-0001 - Copy.jpeg - Predicted Class: non-pneumonia\n",
            "1/1 [==============================] - 0s 56ms/step\n",
            "Image: IM-0010-0001.jpeg - Predicted Class: non-pneumonia\n",
            "1/1 [==============================] - 0s 56ms/step\n",
            "Image: IM-0073-0001.jpeg - Predicted Class: non-pneumonia\n",
            "1/1 [==============================] - 0s 52ms/step\n",
            "Image: IM-0031-0001 - Copy.jpeg - Predicted Class: non-pneumonia\n",
            "1/1 [==============================] - 0s 53ms/step\n",
            "Image: IM-0036-0001.jpeg - Predicted Class: non-pneumonia\n",
            "1/1 [==============================] - 0s 59ms/step\n",
            "Image: IM-0011-0001-0002.jpeg - Predicted Class: non-pneumonia\n",
            "1/1 [==============================] - 0s 55ms/step\n",
            "Image: IM-0033-0001-0001.jpeg - Predicted Class: non-pneumonia\n",
            "1/1 [==============================] - 0s 55ms/step\n",
            "Image: IM-0011-0001-0001.jpeg - Predicted Class: non-pneumonia\n",
            "1/1 [==============================] - 0s 56ms/step\n",
            "Image: IM-0063-0001 - Copy.jpeg - Predicted Class: non-pneumonia\n",
            "1/1 [==============================] - 0s 52ms/step\n",
            "Image: IM-0035-0001.jpeg - Predicted Class: non-pneumonia\n",
            "1/1 [==============================] - 0s 68ms/step\n",
            "Image: IM-0033-0001.jpeg - Predicted Class: non-pneumonia\n",
            "1/1 [==============================] - 0s 52ms/step\n",
            "Image: IM-0084-0001 - Copy.jpeg - Predicted Class: non-pneumonia\n",
            "1/1 [==============================] - 0s 54ms/step\n",
            "Image: IM-0019-0001 - Copy.jpeg - Predicted Class: non-pneumonia\n",
            "1/1 [==============================] - 0s 62ms/step\n",
            "Image: IM-0021-0001 - Copy.jpeg - Predicted Class: non-pneumonia\n",
            "1/1 [==============================] - 0s 53ms/step\n",
            "Image: IM-0023-0001.jpeg - Predicted Class: non-pneumonia\n",
            "1/1 [==============================] - 0s 54ms/step\n",
            "Image: IM-0005-0001 - Copy.jpeg - Predicted Class: non-pneumonia\n",
            "1/1 [==============================] - 0s 55ms/step\n",
            "Image: IM-0079-0001.jpeg - Predicted Class: non-pneumonia\n",
            "1/1 [==============================] - 0s 57ms/step\n",
            "Image: IM-0059-0001.jpeg - Predicted Class: non-pneumonia\n",
            "1/1 [==============================] - 0s 63ms/step\n",
            "Image: IM-0071-0001.jpeg - Predicted Class: non-pneumonia\n",
            "1/1 [==============================] - 0s 52ms/step\n",
            "Image: IM-0070-0001 - Copy.jpeg - Predicted Class: non-pneumonia\n",
            "1/1 [==============================] - 0s 52ms/step\n",
            "Image: IM-0036-0001 - Copy.jpeg - Predicted Class: non-pneumonia\n",
            "1/1 [==============================] - 0s 56ms/step\n",
            "Image: IM-0006-0001.jpeg - Predicted Class: non-pneumonia\n",
            "1/1 [==============================] - 0s 59ms/step\n",
            "Image: IM-0007-0001 - Copy.jpeg - Predicted Class: non-pneumonia\n",
            "1/1 [==============================] - 0s 64ms/step\n",
            "Image: IM-0087-0001 - Copy.jpeg - Predicted Class: non-pneumonia\n",
            "1/1 [==============================] - 0s 58ms/step\n",
            "Image: IM-0063-0001.jpeg - Predicted Class: non-pneumonia\n",
            "1/1 [==============================] - 0s 65ms/step\n",
            "Image: IM-0065-0001.jpeg - Predicted Class: non-pneumonia\n",
            "1/1 [==============================] - 0s 54ms/step\n",
            "Image: IM-0011-0001 - Copy.jpeg - Predicted Class: non-pneumonia\n",
            "1/1 [==============================] - 0s 52ms/step\n",
            "Image: IM-0041-0001 - Copy.jpeg - Predicted Class: non-pneumonia\n",
            "1/1 [==============================] - 0s 54ms/step\n",
            "Image: IM-0069-0001.jpeg - Predicted Class: non-pneumonia\n",
            "1/1 [==============================] - 0s 54ms/step\n",
            "Image: IM-0013-0001.jpeg - Predicted Class: non-pneumonia\n",
            "1/1 [==============================] - 0s 60ms/step\n",
            "Image: IM-0035-0001 - Copy.jpeg - Predicted Class: non-pneumonia\n",
            "1/1 [==============================] - 0s 55ms/step\n",
            "Image: IM-0077-0001 - Copy.jpeg - Predicted Class: non-pneumonia\n",
            "1/1 [==============================] - 0s 58ms/step\n",
            "Image: IM-0031-0001.jpeg - Predicted Class: non-pneumonia\n",
            "1/1 [==============================] - 0s 51ms/step\n",
            "Image: IM-0085-0001 - Copy.jpeg - Predicted Class: non-pneumonia\n",
            "1/1 [==============================] - 0s 63ms/step\n",
            "Image: IM-0027-0001.jpeg - Predicted Class: non-pneumonia\n",
            "1/1 [==============================] - 0s 55ms/step\n",
            "Image: IM-0079-0001 - Copy.jpeg - Predicted Class: non-pneumonia\n",
            "1/1 [==============================] - 0s 54ms/step\n",
            "Image: IM-0016-0001.jpeg - Predicted Class: non-pneumonia\n",
            "1/1 [==============================] - 0s 56ms/step\n",
            "Image: IM-0089-0001.jpeg - Predicted Class: non-pneumonia\n",
            "1/1 [==============================] - 0s 54ms/step\n",
            "Image: IM-0006-0001 - Copy.jpeg - Predicted Class: non-pneumonia\n",
            "1/1 [==============================] - 0s 67ms/step\n",
            "Image: IM-0022-0001 - Copy.jpeg - Predicted Class: non-pneumonia\n",
            "1/1 [==============================] - 0s 62ms/step\n",
            "Image: IM-0010-0001 - Copy.jpeg - Predicted Class: non-pneumonia\n",
            "1/1 [==============================] - 0s 53ms/step\n",
            "Image: IM-0013-0001 - Copy.jpeg - Predicted Class: non-pneumonia\n",
            "1/1 [==============================] - 0s 53ms/step\n",
            "Image: IM-0001-0001 - Copy.jpeg - Predicted Class: non-pneumonia\n",
            "1/1 [==============================] - 0s 87ms/step\n",
            "Image: IM-0023-0001 - Copy.jpeg - Predicted Class: non-pneumonia\n",
            "1/1 [==============================] - 0s 97ms/step\n",
            "Image: IM-0065-0001 - Copy.jpeg - Predicted Class: non-pneumonia\n",
            "1/1 [==============================] - 0s 87ms/step\n",
            "Image: IM-0077-0001.jpeg - Predicted Class: non-pneumonia\n",
            "1/1 [==============================] - 0s 103ms/step\n",
            "Image: IM-0019-0001.jpeg - Predicted Class: non-pneumonia\n",
            "1/1 [==============================] - 0s 103ms/step\n",
            "Image: IM-0009-0001 - Copy.jpeg - Predicted Class: non-pneumonia\n",
            "1/1 [==============================] - 0s 89ms/step\n",
            "Image: IM-0003-0001 - Copy.jpeg - Predicted Class: non-pneumonia\n",
            "1/1 [==============================] - 0s 93ms/step\n",
            "Image: IM-0050-0001.jpeg - Predicted Class: non-pneumonia\n",
            "1/1 [==============================] - 0s 94ms/step\n",
            "Image: IM-0070-0001.jpeg - Predicted Class: non-pneumonia\n",
            "1/1 [==============================] - 0s 93ms/step\n",
            "Image: IM-0083-0001 - Copy.jpeg - Predicted Class: non-pneumonia\n",
            "1/1 [==============================] - 0s 88ms/step\n",
            "Image: IM-0016-0001 - Copy.jpeg - Predicted Class: non-pneumonia\n",
            "1/1 [==============================] - 0s 84ms/step\n",
            "Image: IM-0075-0001 - Copy.jpeg - Predicted Class: non-pneumonia\n",
            "1/1 [==============================] - 0s 85ms/step\n",
            "Image: IM-0087-0001.jpeg - Predicted Class: non-pneumonia\n",
            "1/1 [==============================] - 0s 89ms/step\n",
            "Image: IM-0089-0001 - Copy.jpeg - Predicted Class: non-pneumonia\n",
            "1/1 [==============================] - 0s 90ms/step\n",
            "Image: IM-0075-0001.jpeg - Predicted Class: non-pneumonia\n",
            "\n",
            "Testing Accuracy: 0.00%\n"
          ]
        }
      ],
      "source": [
        "import os\n",
        "import numpy as np\n",
        "from tensorflow.keras.preprocessing import image\n",
        "\n",
        "from keras.models import load_model\n",
        "\n",
        "# Path to the folder containing test images\n",
        "test_folder = '/content/drive/MyDrive/test/NORMAL'\n",
        "\n",
        "# Path to the trained model file (.h5)\n",
        "model_file = '/content/drive/MyDrive/trained_model_02.h5'\n",
        "\n",
        "# Load the trained model\n",
        "model = load_model(model_file)\n",
        "\n",
        "# Initialize variables for counting correct and total predictions\n",
        "correct_predictions = 0\n",
        "total_predictions = 0\n",
        "\n",
        "# Iterate through the images in the test folder\n",
        "for filename in os.listdir(test_folder):\n",
        "    img_path = os.path.join(test_folder, filename)\n",
        "    img = image.load_img(img_path, target_size=(224, 224))  # Adjust target_size if needed\n",
        "    img = image.img_to_array(img)\n",
        "    img = np.expand_dims(img, axis=0)\n",
        "    img = img / 255.0  # Normalize the image\n",
        "\n",
        "    # Perform prediction\n",
        "    prediction = model.predict(img)\n",
        "    predicted_class = np.argmax(prediction)\n",
        "    class_label = \"pneumonia\" if predicted_class == 1 else \"non-pneumonia\"\n",
        "\n",
        "    # Print the predicted class for the current image\n",
        "    print(f\"Image: {filename} - Predicted Class: {class_label}\")\n",
        "\n",
        "    # Update the counters\n",
        "    if predicted_class == 0 and \"non-pneumonia\" in filename:\n",
        "        correct_predictions += 1\n",
        "    elif predicted_class == 1 and \"pneumonia\" in filename:\n",
        "        correct_predictions += 1\n",
        "    total_predictions += 1\n",
        "\n",
        "# Calculate testing accuracy\n",
        "accuracy = correct_predictions / total_predictions\n",
        "print(f\"\\nTesting Accuracy: {accuracy * 100:.2f}%\")\n"
      ]
    },
    {
      "cell_type": "code",
      "execution_count": null,
      "metadata": {
        "colab": {
          "base_uri": "https://localhost:8080/"
        },
        "id": "l1rYLeOFV1EH",
        "outputId": "e6e871ab-378b-428a-f11d-673a6a75d33f"
      },
      "outputs": [
        {
          "name": "stderr",
          "output_type": "stream",
          "text": [
            "\rNormal:   0%|          | 0/468 [00:00<?, ?it/s]"
          ]
        },
        {
          "name": "stdout",
          "output_type": "stream",
          "text": [
            "1/1 [==============================] - 0s 120ms/step\n"
          ]
        },
        {
          "name": "stderr",
          "output_type": "stream",
          "text": [
            "\rNormal:   0%|          | 1/468 [00:00<01:28,  5.29it/s]"
          ]
        },
        {
          "name": "stdout",
          "output_type": "stream",
          "text": [
            "1/1 [==============================] - 0s 54ms/step\n"
          ]
        },
        {
          "name": "stderr",
          "output_type": "stream",
          "text": [
            "\rNormal:   0%|          | 2/468 [00:00<01:06,  6.97it/s]"
          ]
        },
        {
          "name": "stdout",
          "output_type": "stream",
          "text": [
            "1/1 [==============================] - 0s 51ms/step\n"
          ]
        },
        {
          "name": "stderr",
          "output_type": "stream",
          "text": [
            "\rNormal:   1%|          | 3/468 [00:00<00:58,  7.92it/s]"
          ]
        },
        {
          "name": "stdout",
          "output_type": "stream",
          "text": [
            "1/1 [==============================] - 0s 51ms/step\n"
          ]
        },
        {
          "name": "stderr",
          "output_type": "stream",
          "text": [
            "\rNormal:   1%|          | 4/468 [00:00<00:57,  8.06it/s]"
          ]
        },
        {
          "name": "stdout",
          "output_type": "stream",
          "text": [
            "1/1 [==============================] - 0s 114ms/step\n"
          ]
        },
        {
          "name": "stderr",
          "output_type": "stream",
          "text": [
            "\rNormal:   1%|          | 5/468 [00:00<01:21,  5.68it/s]"
          ]
        },
        {
          "name": "stdout",
          "output_type": "stream",
          "text": [
            "1/1 [==============================] - 0s 56ms/step\n"
          ]
        },
        {
          "name": "stderr",
          "output_type": "stream",
          "text": [
            "\rNormal:   1%|▏         | 6/468 [00:01<01:29,  5.16it/s]"
          ]
        },
        {
          "name": "stdout",
          "output_type": "stream",
          "text": [
            "1/1 [==============================] - 0s 51ms/step\n"
          ]
        },
        {
          "name": "stderr",
          "output_type": "stream",
          "text": [
            "\rNormal:   1%|▏         | 7/468 [00:01<01:18,  5.89it/s]"
          ]
        },
        {
          "name": "stdout",
          "output_type": "stream",
          "text": [
            "1/1 [==============================] - 0s 53ms/step\n"
          ]
        },
        {
          "name": "stderr",
          "output_type": "stream",
          "text": [
            "\rNormal:   2%|▏         | 8/468 [00:01<01:10,  6.50it/s]"
          ]
        },
        {
          "name": "stdout",
          "output_type": "stream",
          "text": [
            "1/1 [==============================] - 0s 54ms/step\n"
          ]
        },
        {
          "name": "stderr",
          "output_type": "stream",
          "text": [
            "\rNormal:   2%|▏         | 9/468 [00:01<01:05,  7.05it/s]"
          ]
        },
        {
          "name": "stdout",
          "output_type": "stream",
          "text": [
            "1/1 [==============================] - 0s 54ms/step\n"
          ]
        },
        {
          "name": "stderr",
          "output_type": "stream",
          "text": [
            "\rNormal:   2%|▏         | 10/468 [00:01<01:00,  7.62it/s]"
          ]
        },
        {
          "name": "stdout",
          "output_type": "stream",
          "text": [
            "1/1 [==============================] - 0s 57ms/step\n"
          ]
        },
        {
          "name": "stderr",
          "output_type": "stream",
          "text": [
            "\rNormal:   2%|▏         | 11/468 [00:01<01:00,  7.57it/s]"
          ]
        },
        {
          "name": "stdout",
          "output_type": "stream",
          "text": [
            "1/1 [==============================] - 0s 55ms/step\n"
          ]
        },
        {
          "name": "stderr",
          "output_type": "stream",
          "text": [
            "\rNormal:   3%|▎         | 12/468 [00:01<00:58,  7.80it/s]"
          ]
        },
        {
          "name": "stdout",
          "output_type": "stream",
          "text": [
            "1/1 [==============================] - 0s 53ms/step\n"
          ]
        },
        {
          "name": "stderr",
          "output_type": "stream",
          "text": [
            "\rNormal:   3%|▎         | 13/468 [00:01<00:56,  8.09it/s]"
          ]
        },
        {
          "name": "stdout",
          "output_type": "stream",
          "text": [
            "1/1 [==============================] - 0s 53ms/step\n"
          ]
        },
        {
          "name": "stderr",
          "output_type": "stream",
          "text": [
            "\rNormal:   3%|▎         | 14/468 [00:01<00:55,  8.16it/s]"
          ]
        },
        {
          "name": "stdout",
          "output_type": "stream",
          "text": [
            "1/1 [==============================] - 0s 52ms/step\n"
          ]
        },
        {
          "name": "stderr",
          "output_type": "stream",
          "text": [
            "\rNormal:   3%|▎         | 15/468 [00:02<00:55,  8.21it/s]"
          ]
        },
        {
          "name": "stdout",
          "output_type": "stream",
          "text": [
            "1/1 [==============================] - 0s 54ms/step\n"
          ]
        },
        {
          "name": "stderr",
          "output_type": "stream",
          "text": [
            "\rNormal:   3%|▎         | 16/468 [00:02<00:53,  8.52it/s]"
          ]
        },
        {
          "name": "stdout",
          "output_type": "stream",
          "text": [
            "1/1 [==============================] - 0s 54ms/step\n"
          ]
        },
        {
          "name": "stderr",
          "output_type": "stream",
          "text": [
            "\rNormal:   4%|▎         | 17/468 [00:02<00:52,  8.66it/s]"
          ]
        },
        {
          "name": "stdout",
          "output_type": "stream",
          "text": [
            "1/1 [==============================] - 0s 62ms/step\n"
          ]
        },
        {
          "name": "stderr",
          "output_type": "stream",
          "text": [
            "\rNormal:   4%|▍         | 18/468 [00:02<00:55,  8.06it/s]"
          ]
        },
        {
          "name": "stdout",
          "output_type": "stream",
          "text": [
            "1/1 [==============================] - 0s 52ms/step\n"
          ]
        },
        {
          "name": "stderr",
          "output_type": "stream",
          "text": [
            "\rNormal:   4%|▍         | 19/468 [00:02<00:53,  8.34it/s]"
          ]
        },
        {
          "name": "stdout",
          "output_type": "stream",
          "text": [
            "1/1 [==============================] - 0s 64ms/step\n"
          ]
        },
        {
          "name": "stderr",
          "output_type": "stream",
          "text": [
            "\rNormal:   4%|▍         | 20/468 [00:02<00:55,  8.13it/s]"
          ]
        },
        {
          "name": "stdout",
          "output_type": "stream",
          "text": [
            "1/1 [==============================] - 0s 52ms/step\n"
          ]
        },
        {
          "name": "stderr",
          "output_type": "stream",
          "text": [
            "\rNormal:   4%|▍         | 21/468 [00:02<00:53,  8.30it/s]"
          ]
        },
        {
          "name": "stdout",
          "output_type": "stream",
          "text": [
            "1/1 [==============================] - 0s 51ms/step\n"
          ]
        },
        {
          "name": "stderr",
          "output_type": "stream",
          "text": [
            "\rNormal:   5%|▍         | 22/468 [00:02<00:53,  8.27it/s]"
          ]
        },
        {
          "name": "stdout",
          "output_type": "stream",
          "text": [
            "1/1 [==============================] - 0s 52ms/step\n"
          ]
        },
        {
          "name": "stderr",
          "output_type": "stream",
          "text": [
            "\rNormal:   5%|▍         | 23/468 [00:03<00:52,  8.47it/s]"
          ]
        },
        {
          "name": "stdout",
          "output_type": "stream",
          "text": [
            "1/1 [==============================] - 0s 51ms/step\n"
          ]
        },
        {
          "name": "stderr",
          "output_type": "stream",
          "text": [
            "\rNormal:   5%|▌         | 24/468 [00:03<00:51,  8.69it/s]"
          ]
        },
        {
          "name": "stdout",
          "output_type": "stream",
          "text": [
            "1/1 [==============================] - 0s 55ms/step\n"
          ]
        },
        {
          "name": "stderr",
          "output_type": "stream",
          "text": [
            "\rNormal:   5%|▌         | 25/468 [00:03<00:51,  8.65it/s]"
          ]
        },
        {
          "name": "stdout",
          "output_type": "stream",
          "text": [
            "1/1 [==============================] - 0s 55ms/step\n"
          ]
        },
        {
          "name": "stderr",
          "output_type": "stream",
          "text": [
            "\rNormal:   6%|▌         | 26/468 [00:03<00:51,  8.57it/s]"
          ]
        },
        {
          "name": "stdout",
          "output_type": "stream",
          "text": [
            "1/1 [==============================] - 0s 65ms/step\n"
          ]
        },
        {
          "name": "stderr",
          "output_type": "stream",
          "text": [
            "\rNormal:   6%|▌         | 27/468 [00:03<00:53,  8.26it/s]"
          ]
        },
        {
          "name": "stdout",
          "output_type": "stream",
          "text": [
            "1/1 [==============================] - 0s 53ms/step\n"
          ]
        },
        {
          "name": "stderr",
          "output_type": "stream",
          "text": [
            "\rNormal:   6%|▌         | 28/468 [00:03<00:51,  8.53it/s]"
          ]
        },
        {
          "name": "stdout",
          "output_type": "stream",
          "text": [
            "1/1 [==============================] - 0s 52ms/step\n"
          ]
        },
        {
          "name": "stderr",
          "output_type": "stream",
          "text": [
            "\rNormal:   6%|▌         | 29/468 [00:03<00:52,  8.29it/s]"
          ]
        },
        {
          "name": "stdout",
          "output_type": "stream",
          "text": [
            "1/1 [==============================] - 0s 51ms/step\n"
          ]
        },
        {
          "name": "stderr",
          "output_type": "stream",
          "text": [
            "\rNormal:   6%|▋         | 30/468 [00:03<00:54,  8.08it/s]"
          ]
        },
        {
          "name": "stdout",
          "output_type": "stream",
          "text": [
            "1/1 [==============================] - 0s 52ms/step\n"
          ]
        },
        {
          "name": "stderr",
          "output_type": "stream",
          "text": [
            "\rNormal:   7%|▋         | 31/468 [00:04<00:53,  8.10it/s]"
          ]
        },
        {
          "name": "stdout",
          "output_type": "stream",
          "text": [
            "1/1 [==============================] - 0s 51ms/step\n"
          ]
        },
        {
          "name": "stderr",
          "output_type": "stream",
          "text": [
            "\rNormal:   7%|▋         | 32/468 [00:04<00:52,  8.38it/s]"
          ]
        },
        {
          "name": "stdout",
          "output_type": "stream",
          "text": [
            "1/1 [==============================] - 0s 53ms/step\n"
          ]
        },
        {
          "name": "stderr",
          "output_type": "stream",
          "text": [
            "\rNormal:   7%|▋         | 33/468 [00:04<00:51,  8.52it/s]"
          ]
        },
        {
          "name": "stdout",
          "output_type": "stream",
          "text": [
            "1/1 [==============================] - 0s 158ms/step\n"
          ]
        },
        {
          "name": "stderr",
          "output_type": "stream",
          "text": [
            "\rNormal:   7%|▋         | 34/468 [00:04<01:03,  6.82it/s]"
          ]
        },
        {
          "name": "stdout",
          "output_type": "stream",
          "text": [
            "1/1 [==============================] - 0s 51ms/step\n"
          ]
        },
        {
          "name": "stderr",
          "output_type": "stream",
          "text": [
            "\rNormal:   7%|▋         | 35/468 [00:04<01:07,  6.38it/s]"
          ]
        },
        {
          "name": "stdout",
          "output_type": "stream",
          "text": [
            "1/1 [==============================] - 0s 54ms/step\n"
          ]
        },
        {
          "name": "stderr",
          "output_type": "stream",
          "text": [
            "\rNormal:   8%|▊         | 36/468 [00:04<01:05,  6.62it/s]"
          ]
        },
        {
          "name": "stdout",
          "output_type": "stream",
          "text": [
            "1/1 [==============================] - 0s 53ms/step\n"
          ]
        },
        {
          "name": "stderr",
          "output_type": "stream",
          "text": [
            "\rNormal:   8%|▊         | 37/468 [00:04<01:02,  6.93it/s]"
          ]
        },
        {
          "name": "stdout",
          "output_type": "stream",
          "text": [
            "1/1 [==============================] - 0s 53ms/step\n"
          ]
        },
        {
          "name": "stderr",
          "output_type": "stream",
          "text": [
            "\rNormal:   8%|▊         | 38/468 [00:05<00:58,  7.39it/s]"
          ]
        },
        {
          "name": "stdout",
          "output_type": "stream",
          "text": [
            "1/1 [==============================] - 0s 53ms/step\n"
          ]
        },
        {
          "name": "stderr",
          "output_type": "stream",
          "text": [
            "\rNormal:   8%|▊         | 39/468 [00:05<00:57,  7.45it/s]"
          ]
        },
        {
          "name": "stdout",
          "output_type": "stream",
          "text": [
            "1/1 [==============================] - 0s 52ms/step\n"
          ]
        },
        {
          "name": "stderr",
          "output_type": "stream",
          "text": [
            "\rNormal:   9%|▊         | 40/468 [00:05<00:53,  7.93it/s]"
          ]
        },
        {
          "name": "stdout",
          "output_type": "stream",
          "text": [
            "1/1 [==============================] - 0s 58ms/step\n"
          ]
        },
        {
          "name": "stderr",
          "output_type": "stream",
          "text": [
            "\rNormal:   9%|▉         | 41/468 [00:05<00:51,  8.25it/s]"
          ]
        },
        {
          "name": "stdout",
          "output_type": "stream",
          "text": [
            "1/1 [==============================] - 0s 55ms/step\n"
          ]
        },
        {
          "name": "stderr",
          "output_type": "stream",
          "text": [
            "\rNormal:   9%|▉         | 42/468 [00:05<00:51,  8.35it/s]"
          ]
        },
        {
          "name": "stdout",
          "output_type": "stream",
          "text": [
            "1/1 [==============================] - 0s 53ms/step\n"
          ]
        },
        {
          "name": "stderr",
          "output_type": "stream",
          "text": [
            "\rNormal:   9%|▉         | 43/468 [00:05<00:50,  8.48it/s]"
          ]
        },
        {
          "name": "stdout",
          "output_type": "stream",
          "text": [
            "1/1 [==============================] - 0s 57ms/step\n"
          ]
        },
        {
          "name": "stderr",
          "output_type": "stream",
          "text": [
            "\rNormal:   9%|▉         | 44/468 [00:05<00:51,  8.29it/s]"
          ]
        },
        {
          "name": "stdout",
          "output_type": "stream",
          "text": [
            "1/1 [==============================] - 0s 58ms/step\n"
          ]
        },
        {
          "name": "stderr",
          "output_type": "stream",
          "text": [
            "\rNormal:  10%|▉         | 45/468 [00:05<00:51,  8.25it/s]"
          ]
        },
        {
          "name": "stdout",
          "output_type": "stream",
          "text": [
            "1/1 [==============================] - 0s 53ms/step\n"
          ]
        },
        {
          "name": "stderr",
          "output_type": "stream",
          "text": [
            "\rNormal:  10%|▉         | 46/468 [00:05<00:51,  8.12it/s]"
          ]
        },
        {
          "name": "stdout",
          "output_type": "stream",
          "text": [
            "1/1 [==============================] - 0s 52ms/step\n"
          ]
        },
        {
          "name": "stderr",
          "output_type": "stream",
          "text": [
            "\rNormal:  10%|█         | 47/468 [00:06<00:51,  8.13it/s]"
          ]
        },
        {
          "name": "stdout",
          "output_type": "stream",
          "text": [
            "1/1 [==============================] - 0s 51ms/step\n"
          ]
        },
        {
          "name": "stderr",
          "output_type": "stream",
          "text": [
            "\rNormal:  10%|█         | 48/468 [00:06<00:50,  8.36it/s]"
          ]
        },
        {
          "name": "stdout",
          "output_type": "stream",
          "text": [
            "1/1 [==============================] - 0s 53ms/step\n"
          ]
        },
        {
          "name": "stderr",
          "output_type": "stream",
          "text": [
            "\rNormal:  10%|█         | 49/468 [00:06<00:50,  8.29it/s]"
          ]
        },
        {
          "name": "stdout",
          "output_type": "stream",
          "text": [
            "1/1 [==============================] - 0s 57ms/step\n"
          ]
        },
        {
          "name": "stderr",
          "output_type": "stream",
          "text": [
            "\rNormal:  11%|█         | 50/468 [00:06<00:50,  8.34it/s]"
          ]
        },
        {
          "name": "stdout",
          "output_type": "stream",
          "text": [
            "1/1 [==============================] - 0s 53ms/step\n"
          ]
        },
        {
          "name": "stderr",
          "output_type": "stream",
          "text": [
            "\rNormal:  11%|█         | 51/468 [00:06<00:49,  8.38it/s]"
          ]
        },
        {
          "name": "stdout",
          "output_type": "stream",
          "text": [
            "1/1 [==============================] - 0s 51ms/step\n"
          ]
        },
        {
          "name": "stderr",
          "output_type": "stream",
          "text": [
            "\rNormal:  11%|█         | 52/468 [00:06<00:48,  8.63it/s]"
          ]
        },
        {
          "name": "stdout",
          "output_type": "stream",
          "text": [
            "1/1 [==============================] - 0s 62ms/step\n"
          ]
        },
        {
          "name": "stderr",
          "output_type": "stream",
          "text": [
            "\rNormal:  11%|█▏        | 53/468 [00:06<00:49,  8.41it/s]"
          ]
        },
        {
          "name": "stdout",
          "output_type": "stream",
          "text": [
            "1/1 [==============================] - 0s 59ms/step\n"
          ]
        },
        {
          "name": "stderr",
          "output_type": "stream",
          "text": [
            "\rNormal:  12%|█▏        | 54/468 [00:06<00:50,  8.22it/s]"
          ]
        },
        {
          "name": "stdout",
          "output_type": "stream",
          "text": [
            "1/1 [==============================] - 0s 53ms/step\n"
          ]
        },
        {
          "name": "stderr",
          "output_type": "stream",
          "text": [
            "\rNormal:  12%|█▏        | 55/468 [00:07<00:49,  8.29it/s]"
          ]
        },
        {
          "name": "stdout",
          "output_type": "stream",
          "text": [
            "1/1 [==============================] - 0s 55ms/step\n"
          ]
        },
        {
          "name": "stderr",
          "output_type": "stream",
          "text": [
            "\rNormal:  12%|█▏        | 56/468 [00:07<00:48,  8.50it/s]"
          ]
        },
        {
          "name": "stdout",
          "output_type": "stream",
          "text": [
            "1/1 [==============================] - 0s 60ms/step\n"
          ]
        },
        {
          "name": "stderr",
          "output_type": "stream",
          "text": [
            "\rNormal:  12%|█▏        | 57/468 [00:07<00:48,  8.47it/s]"
          ]
        },
        {
          "name": "stdout",
          "output_type": "stream",
          "text": [
            "1/1 [==============================] - 0s 54ms/step\n"
          ]
        },
        {
          "name": "stderr",
          "output_type": "stream",
          "text": [
            "\rNormal:  12%|█▏        | 58/468 [00:07<00:49,  8.30it/s]"
          ]
        },
        {
          "name": "stdout",
          "output_type": "stream",
          "text": [
            "1/1 [==============================] - 0s 67ms/step\n"
          ]
        },
        {
          "name": "stderr",
          "output_type": "stream",
          "text": [
            "\rNormal:  13%|█▎        | 59/468 [00:07<00:51,  7.92it/s]"
          ]
        },
        {
          "name": "stdout",
          "output_type": "stream",
          "text": [
            "1/1 [==============================] - 0s 85ms/step\n"
          ]
        },
        {
          "name": "stderr",
          "output_type": "stream",
          "text": [
            "\rNormal:  13%|█▎        | 60/468 [00:07<00:57,  7.09it/s]"
          ]
        },
        {
          "name": "stdout",
          "output_type": "stream",
          "text": [
            "1/1 [==============================] - 0s 90ms/step\n"
          ]
        },
        {
          "name": "stderr",
          "output_type": "stream",
          "text": [
            "\rNormal:  13%|█▎        | 61/468 [00:07<01:03,  6.40it/s]"
          ]
        },
        {
          "name": "stdout",
          "output_type": "stream",
          "text": [
            "1/1 [==============================] - 0s 90ms/step\n"
          ]
        },
        {
          "name": "stderr",
          "output_type": "stream",
          "text": [
            "\rNormal:  13%|█▎        | 62/468 [00:08<01:06,  6.13it/s]"
          ]
        },
        {
          "name": "stdout",
          "output_type": "stream",
          "text": [
            "1/1 [==============================] - 0s 88ms/step\n"
          ]
        },
        {
          "name": "stderr",
          "output_type": "stream",
          "text": [
            "\rNormal:  13%|█▎        | 63/468 [00:08<01:10,  5.72it/s]"
          ]
        },
        {
          "name": "stdout",
          "output_type": "stream",
          "text": [
            "1/1 [==============================] - 0s 105ms/step\n"
          ]
        },
        {
          "name": "stderr",
          "output_type": "stream",
          "text": [
            "\rNormal:  14%|█▎        | 64/468 [00:08<01:13,  5.51it/s]"
          ]
        },
        {
          "name": "stdout",
          "output_type": "stream",
          "text": [
            "1/1 [==============================] - 0s 91ms/step\n"
          ]
        },
        {
          "name": "stderr",
          "output_type": "stream",
          "text": [
            "\rNormal:  14%|█▍        | 65/468 [00:08<01:13,  5.48it/s]"
          ]
        },
        {
          "name": "stdout",
          "output_type": "stream",
          "text": [
            "1/1 [==============================] - 0s 92ms/step\n"
          ]
        },
        {
          "name": "stderr",
          "output_type": "stream",
          "text": [
            "\rNormal:  14%|█▍        | 66/468 [00:08<01:12,  5.54it/s]"
          ]
        },
        {
          "name": "stdout",
          "output_type": "stream",
          "text": [
            "1/1 [==============================] - 0s 88ms/step\n"
          ]
        },
        {
          "name": "stderr",
          "output_type": "stream",
          "text": [
            "\rNormal:  14%|█▍        | 67/468 [00:09<01:11,  5.59it/s]"
          ]
        },
        {
          "name": "stdout",
          "output_type": "stream",
          "text": [
            "1/1 [==============================] - 0s 83ms/step\n"
          ]
        },
        {
          "name": "stderr",
          "output_type": "stream",
          "text": [
            "\rNormal:  15%|█▍        | 68/468 [00:09<01:11,  5.61it/s]"
          ]
        },
        {
          "name": "stdout",
          "output_type": "stream",
          "text": [
            "1/1 [==============================] - 0s 92ms/step\n"
          ]
        },
        {
          "name": "stderr",
          "output_type": "stream",
          "text": [
            "\rNormal:  15%|█▍        | 69/468 [00:09<01:09,  5.74it/s]"
          ]
        },
        {
          "name": "stdout",
          "output_type": "stream",
          "text": [
            "1/1 [==============================] - 0s 85ms/step\n"
          ]
        },
        {
          "name": "stderr",
          "output_type": "stream",
          "text": [
            "\rNormal:  15%|█▍        | 70/468 [00:09<01:19,  5.00it/s]"
          ]
        },
        {
          "name": "stdout",
          "output_type": "stream",
          "text": [
            "1/1 [==============================] - 0s 91ms/step\n"
          ]
        },
        {
          "name": "stderr",
          "output_type": "stream",
          "text": [
            "\rNormal:  15%|█▌        | 71/468 [00:09<01:19,  4.97it/s]"
          ]
        },
        {
          "name": "stdout",
          "output_type": "stream",
          "text": [
            "1/1 [==============================] - 0s 97ms/step\n"
          ]
        },
        {
          "name": "stderr",
          "output_type": "stream",
          "text": [
            "\rNormal:  15%|█▌        | 72/468 [00:10<01:17,  5.08it/s]"
          ]
        },
        {
          "name": "stdout",
          "output_type": "stream",
          "text": [
            "1/1 [==============================] - 0s 89ms/step\n"
          ]
        },
        {
          "name": "stderr",
          "output_type": "stream",
          "text": [
            "\rNormal:  16%|█▌        | 73/468 [00:10<01:14,  5.30it/s]"
          ]
        },
        {
          "name": "stdout",
          "output_type": "stream",
          "text": [
            "1/1 [==============================] - 0s 89ms/step\n"
          ]
        },
        {
          "name": "stderr",
          "output_type": "stream",
          "text": [
            "\rNormal:  16%|█▌        | 74/468 [00:10<01:11,  5.51it/s]"
          ]
        },
        {
          "name": "stdout",
          "output_type": "stream",
          "text": [
            "1/1 [==============================] - 0s 86ms/step\n"
          ]
        },
        {
          "name": "stderr",
          "output_type": "stream",
          "text": [
            "\rNormal:  16%|█▌        | 75/468 [00:10<01:19,  4.96it/s]"
          ]
        },
        {
          "name": "stdout",
          "output_type": "stream",
          "text": [
            "1/1 [==============================] - 0s 90ms/step\n"
          ]
        },
        {
          "name": "stderr",
          "output_type": "stream",
          "text": [
            "\rNormal:  16%|█▌        | 76/468 [00:10<01:24,  4.64it/s]"
          ]
        },
        {
          "name": "stdout",
          "output_type": "stream",
          "text": [
            "1/1 [==============================] - 0s 117ms/step\n"
          ]
        },
        {
          "name": "stderr",
          "output_type": "stream",
          "text": [
            "\rNormal:  16%|█▋        | 77/468 [00:11<01:23,  4.71it/s]"
          ]
        },
        {
          "name": "stdout",
          "output_type": "stream",
          "text": [
            "1/1 [==============================] - 0s 82ms/step\n"
          ]
        },
        {
          "name": "stderr",
          "output_type": "stream",
          "text": [
            "\rNormal:  17%|█▋        | 78/468 [00:11<01:17,  5.01it/s]"
          ]
        },
        {
          "name": "stdout",
          "output_type": "stream",
          "text": [
            "1/1 [==============================] - 0s 87ms/step\n"
          ]
        },
        {
          "name": "stderr",
          "output_type": "stream",
          "text": [
            "\rNormal:  17%|█▋        | 79/468 [00:11<01:14,  5.23it/s]"
          ]
        },
        {
          "name": "stdout",
          "output_type": "stream",
          "text": [
            "1/1 [==============================] - 0s 80ms/step\n"
          ]
        },
        {
          "name": "stderr",
          "output_type": "stream",
          "text": [
            "\rNormal:  17%|█▋        | 80/468 [00:11<01:15,  5.16it/s]"
          ]
        },
        {
          "name": "stdout",
          "output_type": "stream",
          "text": [
            "1/1 [==============================] - 0s 53ms/step\n"
          ]
        },
        {
          "name": "stderr",
          "output_type": "stream",
          "text": [
            "\rNormal:  17%|█▋        | 81/468 [00:11<01:15,  5.12it/s]"
          ]
        },
        {
          "name": "stdout",
          "output_type": "stream",
          "text": [
            "1/1 [==============================] - 0s 59ms/step\n"
          ]
        },
        {
          "name": "stderr",
          "output_type": "stream",
          "text": [
            "\rNormal:  18%|█▊        | 82/468 [00:11<01:06,  5.79it/s]"
          ]
        },
        {
          "name": "stdout",
          "output_type": "stream",
          "text": [
            "1/1 [==============================] - 0s 66ms/step\n"
          ]
        },
        {
          "name": "stderr",
          "output_type": "stream",
          "text": [
            "\rNormal:  18%|█▊        | 83/468 [00:12<01:01,  6.25it/s]"
          ]
        },
        {
          "name": "stdout",
          "output_type": "stream",
          "text": [
            "1/1 [==============================] - 0s 52ms/step\n"
          ]
        },
        {
          "name": "stderr",
          "output_type": "stream",
          "text": [
            "\rNormal:  18%|█▊        | 84/468 [00:12<00:55,  6.87it/s]"
          ]
        },
        {
          "name": "stdout",
          "output_type": "stream",
          "text": [
            "1/1 [==============================] - 0s 55ms/step\n"
          ]
        },
        {
          "name": "stderr",
          "output_type": "stream",
          "text": [
            "\rNormal:  18%|█▊        | 85/468 [00:12<00:51,  7.43it/s]"
          ]
        },
        {
          "name": "stdout",
          "output_type": "stream",
          "text": [
            "1/1 [==============================] - 0s 52ms/step\n"
          ]
        },
        {
          "name": "stderr",
          "output_type": "stream",
          "text": [
            "\rNormal:  18%|█▊        | 86/468 [00:12<00:49,  7.73it/s]"
          ]
        },
        {
          "name": "stdout",
          "output_type": "stream",
          "text": [
            "1/1 [==============================] - 0s 53ms/step\n"
          ]
        },
        {
          "name": "stderr",
          "output_type": "stream",
          "text": [
            "\rNormal:  19%|█▊        | 87/468 [00:12<00:47,  7.98it/s]"
          ]
        },
        {
          "name": "stdout",
          "output_type": "stream",
          "text": [
            "1/1 [==============================] - 0s 55ms/step\n"
          ]
        },
        {
          "name": "stderr",
          "output_type": "stream",
          "text": [
            "\rNormal:  19%|█▉        | 88/468 [00:12<00:46,  8.13it/s]"
          ]
        },
        {
          "name": "stdout",
          "output_type": "stream",
          "text": [
            "1/1 [==============================] - 0s 59ms/step\n"
          ]
        },
        {
          "name": "stderr",
          "output_type": "stream",
          "text": [
            "\rNormal:  19%|█▉        | 89/468 [00:12<00:48,  7.84it/s]"
          ]
        },
        {
          "name": "stdout",
          "output_type": "stream",
          "text": [
            "1/1 [==============================] - 0s 52ms/step\n"
          ]
        },
        {
          "name": "stderr",
          "output_type": "stream",
          "text": [
            "\rNormal:  19%|█▉        | 90/468 [00:12<00:47,  7.98it/s]"
          ]
        },
        {
          "name": "stdout",
          "output_type": "stream",
          "text": [
            "1/1 [==============================] - 0s 51ms/step\n"
          ]
        },
        {
          "name": "stderr",
          "output_type": "stream",
          "text": [
            "\rNormal:  19%|█▉        | 91/468 [00:12<00:45,  8.23it/s]"
          ]
        },
        {
          "name": "stdout",
          "output_type": "stream",
          "text": [
            "1/1 [==============================] - 0s 52ms/step\n"
          ]
        },
        {
          "name": "stderr",
          "output_type": "stream",
          "text": [
            "\rNormal:  20%|█▉        | 92/468 [00:13<00:45,  8.25it/s]"
          ]
        },
        {
          "name": "stdout",
          "output_type": "stream",
          "text": [
            "1/1 [==============================] - 0s 58ms/step\n"
          ]
        },
        {
          "name": "stderr",
          "output_type": "stream",
          "text": [
            "\rNormal:  20%|█▉        | 93/468 [00:13<00:45,  8.22it/s]"
          ]
        },
        {
          "name": "stdout",
          "output_type": "stream",
          "text": [
            "1/1 [==============================] - 0s 53ms/step\n"
          ]
        },
        {
          "name": "stderr",
          "output_type": "stream",
          "text": [
            "\rNormal:  20%|██        | 94/468 [00:13<00:44,  8.39it/s]"
          ]
        },
        {
          "name": "stdout",
          "output_type": "stream",
          "text": [
            "1/1 [==============================] - 0s 53ms/step\n"
          ]
        },
        {
          "name": "stderr",
          "output_type": "stream",
          "text": [
            "\rNormal:  20%|██        | 95/468 [00:13<00:46,  7.94it/s]"
          ]
        },
        {
          "name": "stdout",
          "output_type": "stream",
          "text": [
            "1/1 [==============================] - 0s 53ms/step\n"
          ]
        },
        {
          "name": "stderr",
          "output_type": "stream",
          "text": [
            "\rNormal:  21%|██        | 96/468 [00:13<00:45,  8.26it/s]"
          ]
        },
        {
          "name": "stdout",
          "output_type": "stream",
          "text": [
            "1/1 [==============================] - 0s 54ms/step\n"
          ]
        },
        {
          "name": "stderr",
          "output_type": "stream",
          "text": [
            "\rNormal:  21%|██        | 97/468 [00:13<00:44,  8.29it/s]"
          ]
        },
        {
          "name": "stdout",
          "output_type": "stream",
          "text": [
            "1/1 [==============================] - 0s 51ms/step\n"
          ]
        },
        {
          "name": "stderr",
          "output_type": "stream",
          "text": [
            "\rNormal:  21%|██        | 98/468 [00:13<00:45,  8.07it/s]"
          ]
        },
        {
          "name": "stdout",
          "output_type": "stream",
          "text": [
            "1/1 [==============================] - 0s 52ms/step\n"
          ]
        },
        {
          "name": "stderr",
          "output_type": "stream",
          "text": [
            "\rNormal:  21%|██        | 99/468 [00:13<00:43,  8.42it/s]"
          ]
        },
        {
          "name": "stdout",
          "output_type": "stream",
          "text": [
            "1/1 [==============================] - 0s 69ms/step\n"
          ]
        },
        {
          "name": "stderr",
          "output_type": "stream",
          "text": [
            "\rNormal:  21%|██▏       | 100/468 [00:14<00:45,  8.06it/s]"
          ]
        },
        {
          "name": "stdout",
          "output_type": "stream",
          "text": [
            "1/1 [==============================] - 0s 51ms/step\n"
          ]
        },
        {
          "name": "stderr",
          "output_type": "stream",
          "text": [
            "\rNormal:  22%|██▏       | 101/468 [00:14<00:44,  8.26it/s]"
          ]
        },
        {
          "name": "stdout",
          "output_type": "stream",
          "text": [
            "1/1 [==============================] - 0s 51ms/step\n"
          ]
        },
        {
          "name": "stderr",
          "output_type": "stream",
          "text": [
            "\rNormal:  22%|██▏       | 102/468 [00:14<00:43,  8.41it/s]"
          ]
        },
        {
          "name": "stdout",
          "output_type": "stream",
          "text": [
            "1/1 [==============================] - 0s 51ms/step\n"
          ]
        },
        {
          "name": "stderr",
          "output_type": "stream",
          "text": [
            "\rNormal:  22%|██▏       | 103/468 [00:14<00:42,  8.49it/s]"
          ]
        },
        {
          "name": "stdout",
          "output_type": "stream",
          "text": [
            "1/1 [==============================] - 0s 55ms/step\n"
          ]
        },
        {
          "name": "stderr",
          "output_type": "stream",
          "text": [
            "\rNormal:  22%|██▏       | 104/468 [00:14<00:43,  8.39it/s]"
          ]
        },
        {
          "name": "stdout",
          "output_type": "stream",
          "text": [
            "1/1 [==============================] - 0s 57ms/step\n"
          ]
        },
        {
          "name": "stderr",
          "output_type": "stream",
          "text": [
            "\rNormal:  22%|██▏       | 105/468 [00:14<00:44,  8.20it/s]"
          ]
        },
        {
          "name": "stdout",
          "output_type": "stream",
          "text": [
            "1/1 [==============================] - 0s 52ms/step\n"
          ]
        },
        {
          "name": "stderr",
          "output_type": "stream",
          "text": [
            "\rNormal:  23%|██▎       | 106/468 [00:14<00:43,  8.41it/s]"
          ]
        },
        {
          "name": "stdout",
          "output_type": "stream",
          "text": [
            "1/1 [==============================] - 0s 58ms/step\n"
          ]
        },
        {
          "name": "stderr",
          "output_type": "stream",
          "text": [
            "\rNormal:  23%|██▎       | 107/468 [00:14<00:43,  8.26it/s]"
          ]
        },
        {
          "name": "stdout",
          "output_type": "stream",
          "text": [
            "1/1 [==============================] - 0s 54ms/step\n"
          ]
        },
        {
          "name": "stderr",
          "output_type": "stream",
          "text": [
            "\rNormal:  23%|██▎       | 108/468 [00:15<00:43,  8.21it/s]"
          ]
        },
        {
          "name": "stdout",
          "output_type": "stream",
          "text": [
            "1/1 [==============================] - 0s 53ms/step\n"
          ]
        },
        {
          "name": "stderr",
          "output_type": "stream",
          "text": [
            "\rNormal:  23%|██▎       | 109/468 [00:15<00:43,  8.20it/s]"
          ]
        },
        {
          "name": "stdout",
          "output_type": "stream",
          "text": [
            "1/1 [==============================] - 0s 51ms/step\n"
          ]
        },
        {
          "name": "stderr",
          "output_type": "stream",
          "text": [
            "\rNormal:  24%|██▎       | 110/468 [00:15<00:42,  8.37it/s]"
          ]
        },
        {
          "name": "stdout",
          "output_type": "stream",
          "text": [
            "1/1 [==============================] - 0s 53ms/step\n"
          ]
        },
        {
          "name": "stderr",
          "output_type": "stream",
          "text": [
            "\rNormal:  24%|██▎       | 111/468 [00:15<00:42,  8.46it/s]"
          ]
        },
        {
          "name": "stdout",
          "output_type": "stream",
          "text": [
            "1/1 [==============================] - 0s 53ms/step\n"
          ]
        },
        {
          "name": "stderr",
          "output_type": "stream",
          "text": [
            "\rNormal:  24%|██▍       | 112/468 [00:15<00:41,  8.49it/s]"
          ]
        },
        {
          "name": "stdout",
          "output_type": "stream",
          "text": [
            "1/1 [==============================] - 0s 52ms/step\n"
          ]
        },
        {
          "name": "stderr",
          "output_type": "stream",
          "text": [
            "\rNormal:  24%|██▍       | 113/468 [00:15<00:41,  8.46it/s]"
          ]
        },
        {
          "name": "stdout",
          "output_type": "stream",
          "text": [
            "1/1 [==============================] - 0s 58ms/step\n"
          ]
        },
        {
          "name": "stderr",
          "output_type": "stream",
          "text": [
            "\rNormal:  24%|██▍       | 114/468 [00:15<00:42,  8.27it/s]"
          ]
        },
        {
          "name": "stdout",
          "output_type": "stream",
          "text": [
            "1/1 [==============================] - 0s 53ms/step\n"
          ]
        },
        {
          "name": "stderr",
          "output_type": "stream",
          "text": [
            "\rNormal:  25%|██▍       | 115/468 [00:15<00:43,  8.18it/s]"
          ]
        },
        {
          "name": "stdout",
          "output_type": "stream",
          "text": [
            "1/1 [==============================] - 0s 53ms/step\n"
          ]
        },
        {
          "name": "stderr",
          "output_type": "stream",
          "text": [
            "\rNormal:  25%|██▍       | 116/468 [00:15<00:41,  8.48it/s]"
          ]
        },
        {
          "name": "stdout",
          "output_type": "stream",
          "text": [
            "1/1 [==============================] - 0s 63ms/step\n"
          ]
        },
        {
          "name": "stderr",
          "output_type": "stream",
          "text": [
            "\rNormal:  25%|██▌       | 117/468 [00:16<00:42,  8.26it/s]"
          ]
        },
        {
          "name": "stdout",
          "output_type": "stream",
          "text": [
            "1/1 [==============================] - 0s 54ms/step\n"
          ]
        },
        {
          "name": "stderr",
          "output_type": "stream",
          "text": [
            "\rNormal:  25%|██▌       | 118/468 [00:16<00:41,  8.48it/s]"
          ]
        },
        {
          "name": "stdout",
          "output_type": "stream",
          "text": [
            "1/1 [==============================] - 0s 53ms/step\n"
          ]
        },
        {
          "name": "stderr",
          "output_type": "stream",
          "text": [
            "\rNormal:  25%|██▌       | 119/468 [00:16<00:40,  8.52it/s]"
          ]
        },
        {
          "name": "stdout",
          "output_type": "stream",
          "text": [
            "1/1 [==============================] - 0s 53ms/step\n"
          ]
        },
        {
          "name": "stderr",
          "output_type": "stream",
          "text": [
            "\rNormal:  26%|██▌       | 120/468 [00:16<00:41,  8.35it/s]"
          ]
        },
        {
          "name": "stdout",
          "output_type": "stream",
          "text": [
            "1/1 [==============================] - 0s 52ms/step\n"
          ]
        },
        {
          "name": "stderr",
          "output_type": "stream",
          "text": [
            "\rNormal:  26%|██▌       | 121/468 [00:16<00:41,  8.29it/s]"
          ]
        },
        {
          "name": "stdout",
          "output_type": "stream",
          "text": [
            "1/1 [==============================] - 0s 52ms/step\n"
          ]
        },
        {
          "name": "stderr",
          "output_type": "stream",
          "text": [
            "\rNormal:  26%|██▌       | 122/468 [00:16<00:41,  8.30it/s]"
          ]
        },
        {
          "name": "stdout",
          "output_type": "stream",
          "text": [
            "1/1 [==============================] - 0s 50ms/step\n"
          ]
        },
        {
          "name": "stderr",
          "output_type": "stream",
          "text": [
            "\rNormal:  26%|██▋       | 123/468 [00:16<00:40,  8.48it/s]"
          ]
        },
        {
          "name": "stdout",
          "output_type": "stream",
          "text": [
            "1/1 [==============================] - 0s 51ms/step\n"
          ]
        },
        {
          "name": "stderr",
          "output_type": "stream",
          "text": [
            "\rNormal:  26%|██▋       | 124/468 [00:16<00:40,  8.43it/s]"
          ]
        },
        {
          "name": "stdout",
          "output_type": "stream",
          "text": [
            "1/1 [==============================] - 0s 58ms/step\n"
          ]
        },
        {
          "name": "stderr",
          "output_type": "stream",
          "text": [
            "\rNormal:  27%|██▋       | 125/468 [00:17<00:40,  8.51it/s]"
          ]
        },
        {
          "name": "stdout",
          "output_type": "stream",
          "text": [
            "1/1 [==============================] - 0s 62ms/step\n"
          ]
        },
        {
          "name": "stderr",
          "output_type": "stream",
          "text": [
            "\rNormal:  27%|██▋       | 126/468 [00:17<00:40,  8.46it/s]"
          ]
        },
        {
          "name": "stdout",
          "output_type": "stream",
          "text": [
            "1/1 [==============================] - 0s 56ms/step\n"
          ]
        },
        {
          "name": "stderr",
          "output_type": "stream",
          "text": [
            "\rNormal:  27%|██▋       | 127/468 [00:17<00:39,  8.55it/s]"
          ]
        },
        {
          "name": "stdout",
          "output_type": "stream",
          "text": [
            "1/1 [==============================] - 0s 52ms/step\n"
          ]
        },
        {
          "name": "stderr",
          "output_type": "stream",
          "text": [
            "\rNormal:  27%|██▋       | 128/468 [00:17<00:39,  8.57it/s]"
          ]
        },
        {
          "name": "stdout",
          "output_type": "stream",
          "text": [
            "1/1 [==============================] - 0s 53ms/step\n"
          ]
        },
        {
          "name": "stderr",
          "output_type": "stream",
          "text": [
            "\rNormal:  28%|██▊       | 129/468 [00:17<00:39,  8.49it/s]"
          ]
        },
        {
          "name": "stdout",
          "output_type": "stream",
          "text": [
            "1/1 [==============================] - 0s 51ms/step\n"
          ]
        },
        {
          "name": "stderr",
          "output_type": "stream",
          "text": [
            "\rNormal:  28%|██▊       | 130/468 [00:17<00:39,  8.63it/s]"
          ]
        },
        {
          "name": "stdout",
          "output_type": "stream",
          "text": [
            "1/1 [==============================] - 0s 51ms/step\n"
          ]
        },
        {
          "name": "stderr",
          "output_type": "stream",
          "text": [
            "\rNormal:  28%|██▊       | 131/468 [00:17<00:38,  8.79it/s]"
          ]
        },
        {
          "name": "stdout",
          "output_type": "stream",
          "text": [
            "1/1 [==============================] - 0s 52ms/step\n"
          ]
        },
        {
          "name": "stderr",
          "output_type": "stream",
          "text": [
            "\rNormal:  28%|██▊       | 132/468 [00:17<00:39,  8.57it/s]"
          ]
        },
        {
          "name": "stdout",
          "output_type": "stream",
          "text": [
            "1/1 [==============================] - 0s 53ms/step\n"
          ]
        },
        {
          "name": "stderr",
          "output_type": "stream",
          "text": [
            "\rNormal:  28%|██▊       | 133/468 [00:17<00:39,  8.39it/s]"
          ]
        },
        {
          "name": "stdout",
          "output_type": "stream",
          "text": [
            "1/1 [==============================] - 0s 53ms/step\n"
          ]
        },
        {
          "name": "stderr",
          "output_type": "stream",
          "text": [
            "\rNormal:  29%|██▊       | 134/468 [00:18<00:39,  8.54it/s]"
          ]
        },
        {
          "name": "stdout",
          "output_type": "stream",
          "text": [
            "1/1 [==============================] - 0s 52ms/step\n"
          ]
        },
        {
          "name": "stderr",
          "output_type": "stream",
          "text": [
            "\rNormal:  29%|██▉       | 135/468 [00:18<00:39,  8.46it/s]"
          ]
        },
        {
          "name": "stdout",
          "output_type": "stream",
          "text": [
            "1/1 [==============================] - 0s 56ms/step\n"
          ]
        },
        {
          "name": "stderr",
          "output_type": "stream",
          "text": [
            "\rNormal:  29%|██▉       | 136/468 [00:18<00:39,  8.36it/s]"
          ]
        },
        {
          "name": "stdout",
          "output_type": "stream",
          "text": [
            "1/1 [==============================] - 0s 56ms/step\n"
          ]
        },
        {
          "name": "stderr",
          "output_type": "stream",
          "text": [
            "\rNormal:  29%|██▉       | 137/468 [00:18<00:39,  8.45it/s]"
          ]
        },
        {
          "name": "stdout",
          "output_type": "stream",
          "text": [
            "1/1 [==============================] - 0s 52ms/step\n"
          ]
        },
        {
          "name": "stderr",
          "output_type": "stream",
          "text": [
            "\rNormal:  29%|██▉       | 138/468 [00:18<00:38,  8.59it/s]"
          ]
        },
        {
          "name": "stdout",
          "output_type": "stream",
          "text": [
            "1/1 [==============================] - 0s 58ms/step\n"
          ]
        },
        {
          "name": "stderr",
          "output_type": "stream",
          "text": [
            "\rNormal:  30%|██▉       | 139/468 [00:18<00:38,  8.62it/s]"
          ]
        },
        {
          "name": "stdout",
          "output_type": "stream",
          "text": [
            "1/1 [==============================] - 0s 53ms/step\n"
          ]
        },
        {
          "name": "stderr",
          "output_type": "stream",
          "text": [
            "\rNormal:  30%|██▉       | 140/468 [00:18<00:38,  8.56it/s]"
          ]
        },
        {
          "name": "stdout",
          "output_type": "stream",
          "text": [
            "1/1 [==============================] - 0s 51ms/step\n"
          ]
        },
        {
          "name": "stderr",
          "output_type": "stream",
          "text": [
            "\rNormal:  30%|███       | 141/468 [00:18<00:37,  8.73it/s]"
          ]
        },
        {
          "name": "stdout",
          "output_type": "stream",
          "text": [
            "1/1 [==============================] - 0s 54ms/step\n"
          ]
        },
        {
          "name": "stderr",
          "output_type": "stream",
          "text": [
            "\rNormal:  30%|███       | 142/468 [00:19<00:38,  8.54it/s]"
          ]
        },
        {
          "name": "stdout",
          "output_type": "stream",
          "text": [
            "1/1 [==============================] - 0s 64ms/step\n"
          ]
        },
        {
          "name": "stderr",
          "output_type": "stream",
          "text": [
            "\rNormal:  31%|███       | 143/468 [00:19<00:38,  8.34it/s]"
          ]
        },
        {
          "name": "stdout",
          "output_type": "stream",
          "text": [
            "1/1 [==============================] - 0s 52ms/step\n"
          ]
        },
        {
          "name": "stderr",
          "output_type": "stream",
          "text": [
            "\rNormal:  31%|███       | 144/468 [00:19<00:38,  8.36it/s]"
          ]
        },
        {
          "name": "stdout",
          "output_type": "stream",
          "text": [
            "1/1 [==============================] - 0s 50ms/step\n"
          ]
        },
        {
          "name": "stderr",
          "output_type": "stream",
          "text": [
            "\rNormal:  31%|███       | 145/468 [00:19<00:37,  8.57it/s]"
          ]
        },
        {
          "name": "stdout",
          "output_type": "stream",
          "text": [
            "1/1 [==============================] - 0s 53ms/step\n"
          ]
        },
        {
          "name": "stderr",
          "output_type": "stream",
          "text": [
            "\rNormal:  31%|███       | 146/468 [00:19<00:36,  8.74it/s]"
          ]
        },
        {
          "name": "stdout",
          "output_type": "stream",
          "text": [
            "1/1 [==============================] - 0s 66ms/step\n"
          ]
        },
        {
          "name": "stderr",
          "output_type": "stream",
          "text": [
            "\rNormal:  31%|███▏      | 147/468 [00:19<00:37,  8.51it/s]"
          ]
        },
        {
          "name": "stdout",
          "output_type": "stream",
          "text": [
            "1/1 [==============================] - 0s 54ms/step\n"
          ]
        },
        {
          "name": "stderr",
          "output_type": "stream",
          "text": [
            "\rNormal:  32%|███▏      | 148/468 [00:19<00:38,  8.42it/s]"
          ]
        },
        {
          "name": "stdout",
          "output_type": "stream",
          "text": [
            "1/1 [==============================] - 0s 52ms/step\n"
          ]
        },
        {
          "name": "stderr",
          "output_type": "stream",
          "text": [
            "\rNormal:  32%|███▏      | 149/468 [00:19<00:37,  8.59it/s]"
          ]
        },
        {
          "name": "stdout",
          "output_type": "stream",
          "text": [
            "1/1 [==============================] - 0s 53ms/step\n"
          ]
        },
        {
          "name": "stderr",
          "output_type": "stream",
          "text": [
            "\rNormal:  32%|███▏      | 150/468 [00:19<00:36,  8.70it/s]"
          ]
        },
        {
          "name": "stdout",
          "output_type": "stream",
          "text": [
            "1/1 [==============================] - 0s 54ms/step\n"
          ]
        },
        {
          "name": "stderr",
          "output_type": "stream",
          "text": [
            "\rNormal:  32%|███▏      | 151/468 [00:20<00:37,  8.48it/s]"
          ]
        },
        {
          "name": "stdout",
          "output_type": "stream",
          "text": [
            "1/1 [==============================] - 0s 65ms/step\n"
          ]
        },
        {
          "name": "stderr",
          "output_type": "stream",
          "text": [
            "\rNormal:  32%|███▏      | 152/468 [00:20<00:38,  8.23it/s]"
          ]
        },
        {
          "name": "stdout",
          "output_type": "stream",
          "text": [
            "1/1 [==============================] - 0s 52ms/step\n"
          ]
        },
        {
          "name": "stderr",
          "output_type": "stream",
          "text": [
            "\rNormal:  33%|███▎      | 153/468 [00:20<00:38,  8.24it/s]"
          ]
        },
        {
          "name": "stdout",
          "output_type": "stream",
          "text": [
            "1/1 [==============================] - 0s 56ms/step\n"
          ]
        },
        {
          "name": "stderr",
          "output_type": "stream",
          "text": [
            "\rNormal:  33%|███▎      | 154/468 [00:20<00:37,  8.33it/s]"
          ]
        },
        {
          "name": "stdout",
          "output_type": "stream",
          "text": [
            "1/1 [==============================] - 0s 51ms/step\n"
          ]
        },
        {
          "name": "stderr",
          "output_type": "stream",
          "text": [
            "\rNormal:  33%|███▎      | 155/468 [00:20<00:36,  8.56it/s]"
          ]
        },
        {
          "name": "stdout",
          "output_type": "stream",
          "text": [
            "1/1 [==============================] - 0s 53ms/step\n"
          ]
        },
        {
          "name": "stderr",
          "output_type": "stream",
          "text": [
            "\rNormal:  33%|███▎      | 156/468 [00:20<00:36,  8.45it/s]"
          ]
        },
        {
          "name": "stdout",
          "output_type": "stream",
          "text": [
            "1/1 [==============================] - 0s 52ms/step\n"
          ]
        },
        {
          "name": "stderr",
          "output_type": "stream",
          "text": [
            "\rNormal:  34%|███▎      | 157/468 [00:20<00:36,  8.61it/s]"
          ]
        },
        {
          "name": "stdout",
          "output_type": "stream",
          "text": [
            "1/1 [==============================] - 0s 61ms/step\n"
          ]
        },
        {
          "name": "stderr",
          "output_type": "stream",
          "text": [
            "\rNormal:  34%|███▍      | 158/468 [00:20<00:37,  8.38it/s]"
          ]
        },
        {
          "name": "stdout",
          "output_type": "stream",
          "text": [
            "1/1 [==============================] - 0s 53ms/step\n"
          ]
        },
        {
          "name": "stderr",
          "output_type": "stream",
          "text": [
            "\rNormal:  34%|███▍      | 159/468 [00:21<00:36,  8.52it/s]"
          ]
        },
        {
          "name": "stdout",
          "output_type": "stream",
          "text": [
            "1/1 [==============================] - 0s 52ms/step\n"
          ]
        },
        {
          "name": "stderr",
          "output_type": "stream",
          "text": [
            "\rNormal:  34%|███▍      | 160/468 [00:21<00:36,  8.37it/s]"
          ]
        },
        {
          "name": "stdout",
          "output_type": "stream",
          "text": [
            "1/1 [==============================] - 0s 55ms/step\n"
          ]
        },
        {
          "name": "stderr",
          "output_type": "stream",
          "text": [
            "\rNormal:  34%|███▍      | 161/468 [00:21<00:36,  8.48it/s]"
          ]
        },
        {
          "name": "stdout",
          "output_type": "stream",
          "text": [
            "1/1 [==============================] - 0s 53ms/step\n"
          ]
        },
        {
          "name": "stderr",
          "output_type": "stream",
          "text": [
            "\rNormal:  35%|███▍      | 162/468 [00:21<00:38,  7.95it/s]"
          ]
        },
        {
          "name": "stdout",
          "output_type": "stream",
          "text": [
            "1/1 [==============================] - 0s 55ms/step\n"
          ]
        },
        {
          "name": "stderr",
          "output_type": "stream",
          "text": [
            "\rNormal:  35%|███▍      | 163/468 [00:21<00:37,  8.19it/s]"
          ]
        },
        {
          "name": "stdout",
          "output_type": "stream",
          "text": [
            "1/1 [==============================] - 0s 54ms/step\n"
          ]
        },
        {
          "name": "stderr",
          "output_type": "stream",
          "text": [
            "\rNormal:  35%|███▌      | 164/468 [00:21<00:37,  8.19it/s]"
          ]
        },
        {
          "name": "stdout",
          "output_type": "stream",
          "text": [
            "1/1 [==============================] - 0s 85ms/step\n"
          ]
        },
        {
          "name": "stderr",
          "output_type": "stream",
          "text": [
            "\rNormal:  35%|███▌      | 165/468 [00:21<00:39,  7.61it/s]"
          ]
        },
        {
          "name": "stdout",
          "output_type": "stream",
          "text": [
            "1/1 [==============================] - 0s 86ms/step\n"
          ]
        },
        {
          "name": "stderr",
          "output_type": "stream",
          "text": [
            "\rNormal:  35%|███▌      | 166/468 [00:21<00:42,  7.10it/s]"
          ]
        },
        {
          "name": "stdout",
          "output_type": "stream",
          "text": [
            "1/1 [==============================] - 0s 88ms/step\n"
          ]
        },
        {
          "name": "stderr",
          "output_type": "stream",
          "text": [
            "\rNormal:  36%|███▌      | 167/468 [00:22<00:45,  6.68it/s]"
          ]
        },
        {
          "name": "stdout",
          "output_type": "stream",
          "text": [
            "1/1 [==============================] - 0s 103ms/step\n"
          ]
        },
        {
          "name": "stderr",
          "output_type": "stream",
          "text": [
            "\rNormal:  36%|███▌      | 168/468 [00:22<00:50,  5.98it/s]"
          ]
        },
        {
          "name": "stdout",
          "output_type": "stream",
          "text": [
            "1/1 [==============================] - 0s 91ms/step\n"
          ]
        },
        {
          "name": "stderr",
          "output_type": "stream",
          "text": [
            "\rNormal:  36%|███▌      | 169/468 [00:22<00:52,  5.71it/s]"
          ]
        },
        {
          "name": "stdout",
          "output_type": "stream",
          "text": [
            "1/1 [==============================] - 0s 82ms/step\n"
          ]
        },
        {
          "name": "stderr",
          "output_type": "stream",
          "text": [
            "\rNormal:  36%|███▋      | 170/468 [00:22<00:52,  5.67it/s]"
          ]
        },
        {
          "name": "stdout",
          "output_type": "stream",
          "text": [
            "1/1 [==============================] - 0s 86ms/step\n"
          ]
        },
        {
          "name": "stderr",
          "output_type": "stream",
          "text": [
            "\rNormal:  37%|███▋      | 171/468 [00:22<00:58,  5.06it/s]"
          ]
        },
        {
          "name": "stdout",
          "output_type": "stream",
          "text": [
            "1/1 [==============================] - 0s 94ms/step\n"
          ]
        },
        {
          "name": "stderr",
          "output_type": "stream",
          "text": [
            "\rNormal:  37%|███▋      | 172/468 [00:23<00:56,  5.21it/s]"
          ]
        },
        {
          "name": "stdout",
          "output_type": "stream",
          "text": [
            "1/1 [==============================] - 0s 98ms/step\n"
          ]
        },
        {
          "name": "stderr",
          "output_type": "stream",
          "text": [
            "\rNormal:  37%|███▋      | 173/468 [00:23<00:55,  5.35it/s]"
          ]
        },
        {
          "name": "stdout",
          "output_type": "stream",
          "text": [
            "1/1 [==============================] - 0s 84ms/step\n"
          ]
        },
        {
          "name": "stderr",
          "output_type": "stream",
          "text": [
            "\rNormal:  37%|███▋      | 174/468 [00:23<00:54,  5.40it/s]"
          ]
        },
        {
          "name": "stdout",
          "output_type": "stream",
          "text": [
            "1/1 [==============================] - 0s 88ms/step\n"
          ]
        },
        {
          "name": "stderr",
          "output_type": "stream",
          "text": [
            "\rNormal:  37%|███▋      | 175/468 [00:23<00:53,  5.45it/s]"
          ]
        },
        {
          "name": "stdout",
          "output_type": "stream",
          "text": [
            "1/1 [==============================] - 0s 87ms/step\n"
          ]
        },
        {
          "name": "stderr",
          "output_type": "stream",
          "text": [
            "\rNormal:  38%|███▊      | 176/468 [00:23<00:58,  5.01it/s]"
          ]
        },
        {
          "name": "stdout",
          "output_type": "stream",
          "text": [
            "1/1 [==============================] - 0s 91ms/step\n"
          ]
        },
        {
          "name": "stderr",
          "output_type": "stream",
          "text": [
            "\rNormal:  38%|███▊      | 177/468 [00:24<01:00,  4.85it/s]"
          ]
        },
        {
          "name": "stdout",
          "output_type": "stream",
          "text": [
            "1/1 [==============================] - 0s 87ms/step\n"
          ]
        },
        {
          "name": "stderr",
          "output_type": "stream",
          "text": [
            "\rNormal:  38%|███▊      | 178/468 [00:24<00:57,  5.04it/s]"
          ]
        },
        {
          "name": "stdout",
          "output_type": "stream",
          "text": [
            "1/1 [==============================] - 0s 106ms/step\n"
          ]
        },
        {
          "name": "stderr",
          "output_type": "stream",
          "text": [
            "\rNormal:  38%|███▊      | 179/468 [00:24<01:03,  4.54it/s]"
          ]
        },
        {
          "name": "stdout",
          "output_type": "stream",
          "text": [
            "1/1 [==============================] - 0s 89ms/step\n"
          ]
        },
        {
          "name": "stderr",
          "output_type": "stream",
          "text": [
            "\rNormal:  38%|███▊      | 180/468 [00:24<00:59,  4.86it/s]"
          ]
        },
        {
          "name": "stdout",
          "output_type": "stream",
          "text": [
            "1/1 [==============================] - 0s 86ms/step\n"
          ]
        },
        {
          "name": "stderr",
          "output_type": "stream",
          "text": [
            "\rNormal:  39%|███▊      | 181/468 [00:24<00:55,  5.16it/s]"
          ]
        },
        {
          "name": "stdout",
          "output_type": "stream",
          "text": [
            "1/1 [==============================] - 0s 88ms/step\n"
          ]
        },
        {
          "name": "stderr",
          "output_type": "stream",
          "text": [
            "\rNormal:  39%|███▉      | 182/468 [00:25<00:54,  5.23it/s]"
          ]
        },
        {
          "name": "stdout",
          "output_type": "stream",
          "text": [
            "1/1 [==============================] - 0s 91ms/step\n"
          ]
        },
        {
          "name": "stderr",
          "output_type": "stream",
          "text": [
            "\rNormal:  39%|███▉      | 183/468 [00:25<00:52,  5.38it/s]"
          ]
        },
        {
          "name": "stdout",
          "output_type": "stream",
          "text": [
            "1/1 [==============================] - 0s 98ms/step\n"
          ]
        },
        {
          "name": "stderr",
          "output_type": "stream",
          "text": [
            "\rNormal:  39%|███▉      | 184/468 [00:25<00:53,  5.36it/s]"
          ]
        },
        {
          "name": "stdout",
          "output_type": "stream",
          "text": [
            "1/1 [==============================] - 0s 86ms/step\n"
          ]
        },
        {
          "name": "stderr",
          "output_type": "stream",
          "text": [
            "\rNormal:  40%|███▉      | 185/468 [00:25<00:58,  4.88it/s]"
          ]
        },
        {
          "name": "stdout",
          "output_type": "stream",
          "text": [
            "1/1 [==============================] - 0s 86ms/step\n"
          ]
        },
        {
          "name": "stderr",
          "output_type": "stream",
          "text": [
            "\rNormal:  40%|███▉      | 186/468 [00:25<00:55,  5.08it/s]"
          ]
        },
        {
          "name": "stdout",
          "output_type": "stream",
          "text": [
            "1/1 [==============================] - 0s 67ms/step\n"
          ]
        },
        {
          "name": "stderr",
          "output_type": "stream",
          "text": [
            "\rNormal:  40%|███▉      | 187/468 [00:26<00:51,  5.41it/s]"
          ]
        },
        {
          "name": "stdout",
          "output_type": "stream",
          "text": [
            "1/1 [==============================] - 0s 52ms/step\n"
          ]
        },
        {
          "name": "stderr",
          "output_type": "stream",
          "text": [
            "\rNormal:  40%|████      | 188/468 [00:26<00:46,  6.04it/s]"
          ]
        },
        {
          "name": "stdout",
          "output_type": "stream",
          "text": [
            "1/1 [==============================] - 0s 58ms/step\n"
          ]
        },
        {
          "name": "stderr",
          "output_type": "stream",
          "text": [
            "\rNormal:  40%|████      | 189/468 [00:26<00:42,  6.51it/s]"
          ]
        },
        {
          "name": "stdout",
          "output_type": "stream",
          "text": [
            "1/1 [==============================] - 0s 56ms/step\n"
          ]
        },
        {
          "name": "stderr",
          "output_type": "stream",
          "text": [
            "\rNormal:  41%|████      | 190/468 [00:26<00:40,  6.94it/s]"
          ]
        },
        {
          "name": "stdout",
          "output_type": "stream",
          "text": [
            "1/1 [==============================] - 0s 54ms/step\n"
          ]
        },
        {
          "name": "stderr",
          "output_type": "stream",
          "text": [
            "\rNormal:  41%|████      | 191/468 [00:26<00:38,  7.19it/s]"
          ]
        },
        {
          "name": "stdout",
          "output_type": "stream",
          "text": [
            "1/1 [==============================] - 0s 54ms/step\n"
          ]
        },
        {
          "name": "stderr",
          "output_type": "stream",
          "text": [
            "\rNormal:  41%|████      | 192/468 [00:26<00:37,  7.41it/s]"
          ]
        },
        {
          "name": "stdout",
          "output_type": "stream",
          "text": [
            "1/1 [==============================] - 0s 51ms/step\n"
          ]
        },
        {
          "name": "stderr",
          "output_type": "stream",
          "text": [
            "\rNormal:  41%|████      | 193/468 [00:26<00:35,  7.75it/s]"
          ]
        },
        {
          "name": "stdout",
          "output_type": "stream",
          "text": [
            "1/1 [==============================] - 0s 50ms/step\n"
          ]
        },
        {
          "name": "stderr",
          "output_type": "stream",
          "text": [
            "\rNormal:  41%|████▏     | 194/468 [00:26<00:34,  7.86it/s]"
          ]
        },
        {
          "name": "stdout",
          "output_type": "stream",
          "text": [
            "1/1 [==============================] - 0s 53ms/step\n"
          ]
        },
        {
          "name": "stderr",
          "output_type": "stream",
          "text": [
            "\rNormal:  42%|████▏     | 195/468 [00:27<00:33,  8.19it/s]"
          ]
        },
        {
          "name": "stdout",
          "output_type": "stream",
          "text": [
            "1/1 [==============================] - 0s 52ms/step\n"
          ]
        },
        {
          "name": "stderr",
          "output_type": "stream",
          "text": [
            "\rNormal:  42%|████▏     | 196/468 [00:27<00:32,  8.33it/s]"
          ]
        },
        {
          "name": "stdout",
          "output_type": "stream",
          "text": [
            "1/1 [==============================] - 0s 55ms/step\n"
          ]
        },
        {
          "name": "stderr",
          "output_type": "stream",
          "text": [
            "\rNormal:  42%|████▏     | 197/468 [00:27<00:32,  8.40it/s]"
          ]
        },
        {
          "name": "stdout",
          "output_type": "stream",
          "text": [
            "1/1 [==============================] - 0s 51ms/step\n"
          ]
        },
        {
          "name": "stderr",
          "output_type": "stream",
          "text": [
            "\rNormal:  42%|████▏     | 198/468 [00:27<00:30,  8.75it/s]"
          ]
        },
        {
          "name": "stdout",
          "output_type": "stream",
          "text": [
            "1/1 [==============================] - 0s 82ms/step\n"
          ]
        },
        {
          "name": "stderr",
          "output_type": "stream",
          "text": [
            "\rNormal:  43%|████▎     | 199/468 [00:27<00:32,  8.18it/s]"
          ]
        },
        {
          "name": "stdout",
          "output_type": "stream",
          "text": [
            "1/1 [==============================] - 0s 53ms/step\n"
          ]
        },
        {
          "name": "stderr",
          "output_type": "stream",
          "text": [
            "\rNormal:  43%|████▎     | 200/468 [00:27<00:32,  8.15it/s]"
          ]
        },
        {
          "name": "stdout",
          "output_type": "stream",
          "text": [
            "1/1 [==============================] - 0s 54ms/step\n"
          ]
        },
        {
          "name": "stderr",
          "output_type": "stream",
          "text": [
            "\rNormal:  43%|████▎     | 201/468 [00:27<00:33,  7.99it/s]"
          ]
        },
        {
          "name": "stdout",
          "output_type": "stream",
          "text": [
            "1/1 [==============================] - 0s 52ms/step\n"
          ]
        },
        {
          "name": "stderr",
          "output_type": "stream",
          "text": [
            "\rNormal:  43%|████▎     | 202/468 [00:27<00:33,  7.92it/s]"
          ]
        },
        {
          "name": "stdout",
          "output_type": "stream",
          "text": [
            "1/1 [==============================] - 0s 54ms/step\n"
          ]
        },
        {
          "name": "stderr",
          "output_type": "stream",
          "text": [
            "\rNormal:  43%|████▎     | 203/468 [00:28<00:33,  7.86it/s]"
          ]
        },
        {
          "name": "stdout",
          "output_type": "stream",
          "text": [
            "1/1 [==============================] - 0s 53ms/step\n"
          ]
        },
        {
          "name": "stderr",
          "output_type": "stream",
          "text": [
            "\rNormal:  44%|████▎     | 204/468 [00:28<00:33,  7.83it/s]"
          ]
        },
        {
          "name": "stdout",
          "output_type": "stream",
          "text": [
            "1/1 [==============================] - 0s 53ms/step\n"
          ]
        },
        {
          "name": "stderr",
          "output_type": "stream",
          "text": [
            "\rNormal:  44%|████▍     | 205/468 [00:28<00:33,  7.96it/s]"
          ]
        },
        {
          "name": "stdout",
          "output_type": "stream",
          "text": [
            "1/1 [==============================] - 0s 58ms/step\n"
          ]
        },
        {
          "name": "stderr",
          "output_type": "stream",
          "text": [
            "\rNormal:  44%|████▍     | 206/468 [00:28<00:33,  7.85it/s]"
          ]
        },
        {
          "name": "stdout",
          "output_type": "stream",
          "text": [
            "1/1 [==============================] - 0s 69ms/step\n"
          ]
        },
        {
          "name": "stderr",
          "output_type": "stream",
          "text": [
            "\rNormal:  44%|████▍     | 207/468 [00:28<00:33,  7.70it/s]"
          ]
        },
        {
          "name": "stdout",
          "output_type": "stream",
          "text": [
            "1/1 [==============================] - 0s 53ms/step\n"
          ]
        },
        {
          "name": "stderr",
          "output_type": "stream",
          "text": [
            "\rNormal:  44%|████▍     | 208/468 [00:28<00:34,  7.63it/s]"
          ]
        },
        {
          "name": "stdout",
          "output_type": "stream",
          "text": [
            "1/1 [==============================] - 0s 51ms/step\n"
          ]
        },
        {
          "name": "stderr",
          "output_type": "stream",
          "text": [
            "\rNormal:  45%|████▍     | 209/468 [00:28<00:32,  8.01it/s]"
          ]
        },
        {
          "name": "stdout",
          "output_type": "stream",
          "text": [
            "1/1 [==============================] - 0s 54ms/step\n"
          ]
        },
        {
          "name": "stderr",
          "output_type": "stream",
          "text": [
            "\rNormal:  45%|████▍     | 210/468 [00:28<00:31,  8.21it/s]"
          ]
        },
        {
          "name": "stdout",
          "output_type": "stream",
          "text": [
            "1/1 [==============================] - 0s 51ms/step\n"
          ]
        },
        {
          "name": "stderr",
          "output_type": "stream",
          "text": [
            "\rNormal:  45%|████▌     | 211/468 [00:29<00:31,  8.10it/s]"
          ]
        },
        {
          "name": "stdout",
          "output_type": "stream",
          "text": [
            "1/1 [==============================] - 0s 52ms/step\n"
          ]
        },
        {
          "name": "stderr",
          "output_type": "stream",
          "text": [
            "\rNormal:  45%|████▌     | 212/468 [00:29<00:30,  8.47it/s]"
          ]
        },
        {
          "name": "stdout",
          "output_type": "stream",
          "text": [
            "1/1 [==============================] - 0s 54ms/step\n"
          ]
        },
        {
          "name": "stderr",
          "output_type": "stream",
          "text": [
            "\rNormal:  46%|████▌     | 213/468 [00:29<00:31,  8.10it/s]"
          ]
        },
        {
          "name": "stdout",
          "output_type": "stream",
          "text": [
            "1/1 [==============================] - 0s 58ms/step\n"
          ]
        },
        {
          "name": "stderr",
          "output_type": "stream",
          "text": [
            "\rNormal:  46%|████▌     | 214/468 [00:29<00:32,  7.93it/s]"
          ]
        },
        {
          "name": "stdout",
          "output_type": "stream",
          "text": [
            "1/1 [==============================] - 0s 52ms/step\n"
          ]
        },
        {
          "name": "stderr",
          "output_type": "stream",
          "text": [
            "\rNormal:  46%|████▌     | 215/468 [00:29<00:30,  8.31it/s]"
          ]
        },
        {
          "name": "stdout",
          "output_type": "stream",
          "text": [
            "1/1 [==============================] - 0s 51ms/step\n"
          ]
        },
        {
          "name": "stderr",
          "output_type": "stream",
          "text": [
            "\rNormal:  46%|████▌     | 216/468 [00:29<00:31,  8.09it/s]"
          ]
        },
        {
          "name": "stdout",
          "output_type": "stream",
          "text": [
            "1/1 [==============================] - 0s 51ms/step\n"
          ]
        },
        {
          "name": "stderr",
          "output_type": "stream",
          "text": [
            "\rNormal:  46%|████▋     | 217/468 [00:29<00:30,  8.29it/s]"
          ]
        },
        {
          "name": "stdout",
          "output_type": "stream",
          "text": [
            "1/1 [==============================] - 0s 51ms/step\n"
          ]
        },
        {
          "name": "stderr",
          "output_type": "stream",
          "text": [
            "\rNormal:  47%|████▋     | 218/468 [00:29<00:30,  8.07it/s]"
          ]
        },
        {
          "name": "stdout",
          "output_type": "stream",
          "text": [
            "1/1 [==============================] - 0s 51ms/step\n"
          ]
        },
        {
          "name": "stderr",
          "output_type": "stream",
          "text": [
            "\rNormal:  47%|████▋     | 219/468 [00:30<00:30,  8.24it/s]"
          ]
        },
        {
          "name": "stdout",
          "output_type": "stream",
          "text": [
            "1/1 [==============================] - 0s 50ms/step\n"
          ]
        },
        {
          "name": "stderr",
          "output_type": "stream",
          "text": [
            "\rNormal:  47%|████▋     | 220/468 [00:30<00:29,  8.48it/s]"
          ]
        },
        {
          "name": "stdout",
          "output_type": "stream",
          "text": [
            "1/1 [==============================] - 0s 62ms/step\n"
          ]
        },
        {
          "name": "stderr",
          "output_type": "stream",
          "text": [
            "\rNormal:  47%|████▋     | 221/468 [00:30<00:29,  8.37it/s]"
          ]
        },
        {
          "name": "stdout",
          "output_type": "stream",
          "text": [
            "1/1 [==============================] - 0s 55ms/step\n"
          ]
        },
        {
          "name": "stderr",
          "output_type": "stream",
          "text": [
            "\rNormal:  47%|████▋     | 222/468 [00:30<00:30,  8.10it/s]"
          ]
        },
        {
          "name": "stdout",
          "output_type": "stream",
          "text": [
            "1/1 [==============================] - 0s 59ms/step\n"
          ]
        },
        {
          "name": "stderr",
          "output_type": "stream",
          "text": [
            "\rNormal:  48%|████▊     | 223/468 [00:30<00:30,  8.08it/s]"
          ]
        },
        {
          "name": "stdout",
          "output_type": "stream",
          "text": [
            "1/1 [==============================] - 0s 60ms/step\n"
          ]
        },
        {
          "name": "stderr",
          "output_type": "stream",
          "text": [
            "\rNormal:  48%|████▊     | 224/468 [00:30<00:32,  7.58it/s]"
          ]
        },
        {
          "name": "stdout",
          "output_type": "stream",
          "text": [
            "1/1 [==============================] - 0s 52ms/step\n"
          ]
        },
        {
          "name": "stderr",
          "output_type": "stream",
          "text": [
            "\rNormal:  48%|████▊     | 225/468 [00:30<00:31,  7.69it/s]"
          ]
        },
        {
          "name": "stdout",
          "output_type": "stream",
          "text": [
            "1/1 [==============================] - 0s 57ms/step\n"
          ]
        },
        {
          "name": "stderr",
          "output_type": "stream",
          "text": [
            "\rNormal:  48%|████▊     | 226/468 [00:30<00:30,  7.97it/s]"
          ]
        },
        {
          "name": "stdout",
          "output_type": "stream",
          "text": [
            "1/1 [==============================] - 0s 51ms/step\n"
          ]
        },
        {
          "name": "stderr",
          "output_type": "stream",
          "text": [
            "\rNormal:  49%|████▊     | 227/468 [00:31<00:30,  8.02it/s]"
          ]
        },
        {
          "name": "stdout",
          "output_type": "stream",
          "text": [
            "1/1 [==============================] - 0s 52ms/step\n"
          ]
        },
        {
          "name": "stderr",
          "output_type": "stream",
          "text": [
            "\rNormal:  49%|████▊     | 228/468 [00:31<00:30,  7.91it/s]"
          ]
        },
        {
          "name": "stdout",
          "output_type": "stream",
          "text": [
            "1/1 [==============================] - 0s 52ms/step\n"
          ]
        },
        {
          "name": "stderr",
          "output_type": "stream",
          "text": [
            "\rNormal:  49%|████▉     | 229/468 [00:31<00:28,  8.26it/s]"
          ]
        },
        {
          "name": "stdout",
          "output_type": "stream",
          "text": [
            "1/1 [==============================] - 0s 53ms/step\n"
          ]
        },
        {
          "name": "stderr",
          "output_type": "stream",
          "text": [
            "\rNormal:  49%|████▉     | 230/468 [00:31<00:29,  8.17it/s]"
          ]
        },
        {
          "name": "stdout",
          "output_type": "stream",
          "text": [
            "1/1 [==============================] - 0s 55ms/step\n"
          ]
        },
        {
          "name": "stderr",
          "output_type": "stream",
          "text": [
            "\rNormal:  49%|████▉     | 231/468 [00:31<00:29,  8.10it/s]"
          ]
        },
        {
          "name": "stdout",
          "output_type": "stream",
          "text": [
            "1/1 [==============================] - 0s 64ms/step\n"
          ]
        },
        {
          "name": "stderr",
          "output_type": "stream",
          "text": [
            "\rNormal:  50%|████▉     | 232/468 [00:31<00:30,  7.79it/s]"
          ]
        },
        {
          "name": "stdout",
          "output_type": "stream",
          "text": [
            "1/1 [==============================] - 0s 52ms/step\n"
          ]
        },
        {
          "name": "stderr",
          "output_type": "stream",
          "text": [
            "\rNormal:  50%|████▉     | 233/468 [00:31<00:29,  8.08it/s]"
          ]
        },
        {
          "name": "stdout",
          "output_type": "stream",
          "text": [
            "1/1 [==============================] - 0s 51ms/step\n"
          ]
        },
        {
          "name": "stderr",
          "output_type": "stream",
          "text": [
            "\rNormal:  50%|█████     | 234/468 [00:31<00:28,  8.23it/s]"
          ]
        },
        {
          "name": "stdout",
          "output_type": "stream",
          "text": [
            "1/1 [==============================] - 0s 57ms/step\n"
          ]
        },
        {
          "name": "stderr",
          "output_type": "stream",
          "text": [
            "\rNormal:  50%|█████     | 235/468 [00:31<00:28,  8.20it/s]"
          ]
        },
        {
          "name": "stdout",
          "output_type": "stream",
          "text": [
            "1/1 [==============================] - 0s 54ms/step\n"
          ]
        },
        {
          "name": "stderr",
          "output_type": "stream",
          "text": [
            "\rNormal:  50%|█████     | 236/468 [00:32<00:27,  8.37it/s]"
          ]
        },
        {
          "name": "stdout",
          "output_type": "stream",
          "text": [
            "1/1 [==============================] - 0s 51ms/step\n"
          ]
        },
        {
          "name": "stderr",
          "output_type": "stream",
          "text": [
            "\rNormal:  51%|█████     | 237/468 [00:32<00:26,  8.58it/s]"
          ]
        },
        {
          "name": "stdout",
          "output_type": "stream",
          "text": [
            "1/1 [==============================] - 0s 59ms/step\n"
          ]
        },
        {
          "name": "stderr",
          "output_type": "stream",
          "text": [
            "\rNormal:  51%|█████     | 238/468 [00:32<00:27,  8.24it/s]"
          ]
        },
        {
          "name": "stdout",
          "output_type": "stream",
          "text": [
            "1/1 [==============================] - 0s 52ms/step\n"
          ]
        },
        {
          "name": "stderr",
          "output_type": "stream",
          "text": [
            "\rNormal:  51%|█████     | 239/468 [00:32<00:27,  8.25it/s]"
          ]
        },
        {
          "name": "stdout",
          "output_type": "stream",
          "text": [
            "1/1 [==============================] - 0s 55ms/step\n"
          ]
        },
        {
          "name": "stderr",
          "output_type": "stream",
          "text": [
            "\rNormal:  51%|█████▏    | 240/468 [00:32<00:27,  8.18it/s]"
          ]
        },
        {
          "name": "stdout",
          "output_type": "stream",
          "text": [
            "1/1 [==============================] - 0s 53ms/step\n"
          ]
        },
        {
          "name": "stderr",
          "output_type": "stream",
          "text": [
            "\rNormal:  51%|█████▏    | 241/468 [00:32<00:28,  8.00it/s]"
          ]
        },
        {
          "name": "stdout",
          "output_type": "stream",
          "text": [
            "1/1 [==============================] - 0s 57ms/step\n"
          ]
        },
        {
          "name": "stderr",
          "output_type": "stream",
          "text": [
            "\rNormal:  52%|█████▏    | 242/468 [00:32<00:28,  8.06it/s]"
          ]
        },
        {
          "name": "stdout",
          "output_type": "stream",
          "text": [
            "1/1 [==============================] - 0s 52ms/step\n"
          ]
        },
        {
          "name": "stderr",
          "output_type": "stream",
          "text": [
            "\rNormal:  52%|█████▏    | 243/468 [00:32<00:27,  8.16it/s]"
          ]
        },
        {
          "name": "stdout",
          "output_type": "stream",
          "text": [
            "1/1 [==============================] - 0s 51ms/step\n"
          ]
        },
        {
          "name": "stderr",
          "output_type": "stream",
          "text": [
            "\rNormal:  52%|█████▏    | 244/468 [00:33<00:26,  8.31it/s]"
          ]
        },
        {
          "name": "stdout",
          "output_type": "stream",
          "text": [
            "1/1 [==============================] - 0s 57ms/step\n"
          ]
        },
        {
          "name": "stderr",
          "output_type": "stream",
          "text": [
            "\rNormal:  52%|█████▏    | 245/468 [00:33<00:26,  8.32it/s]"
          ]
        },
        {
          "name": "stdout",
          "output_type": "stream",
          "text": [
            "1/1 [==============================] - 0s 53ms/step\n"
          ]
        },
        {
          "name": "stderr",
          "output_type": "stream",
          "text": [
            "\rNormal:  53%|█████▎    | 246/468 [00:33<00:28,  7.69it/s]"
          ]
        },
        {
          "name": "stdout",
          "output_type": "stream",
          "text": [
            "1/1 [==============================] - 0s 53ms/step\n"
          ]
        },
        {
          "name": "stderr",
          "output_type": "stream",
          "text": [
            "\rNormal:  53%|█████▎    | 247/468 [00:33<00:27,  7.94it/s]"
          ]
        },
        {
          "name": "stdout",
          "output_type": "stream",
          "text": [
            "1/1 [==============================] - 0s 54ms/step\n"
          ]
        },
        {
          "name": "stderr",
          "output_type": "stream",
          "text": [
            "\rNormal:  53%|█████▎    | 248/468 [00:33<00:27,  8.02it/s]"
          ]
        },
        {
          "name": "stdout",
          "output_type": "stream",
          "text": [
            "1/1 [==============================] - 0s 57ms/step\n"
          ]
        },
        {
          "name": "stderr",
          "output_type": "stream",
          "text": [
            "\rNormal:  53%|█████▎    | 249/468 [00:33<00:28,  7.58it/s]"
          ]
        },
        {
          "name": "stdout",
          "output_type": "stream",
          "text": [
            "1/1 [==============================] - 0s 52ms/step\n"
          ]
        },
        {
          "name": "stderr",
          "output_type": "stream",
          "text": [
            "\rNormal:  53%|█████▎    | 250/468 [00:33<00:27,  7.81it/s]"
          ]
        },
        {
          "name": "stdout",
          "output_type": "stream",
          "text": [
            "1/1 [==============================] - 0s 51ms/step\n"
          ]
        },
        {
          "name": "stderr",
          "output_type": "stream",
          "text": [
            "\rNormal:  54%|█████▎    | 251/468 [00:33<00:27,  8.00it/s]"
          ]
        },
        {
          "name": "stdout",
          "output_type": "stream",
          "text": [
            "1/1 [==============================] - 0s 52ms/step\n"
          ]
        },
        {
          "name": "stderr",
          "output_type": "stream",
          "text": [
            "\rNormal:  54%|█████▍    | 252/468 [00:34<00:26,  8.02it/s]"
          ]
        },
        {
          "name": "stdout",
          "output_type": "stream",
          "text": [
            "1/1 [==============================] - 0s 52ms/step\n"
          ]
        },
        {
          "name": "stderr",
          "output_type": "stream",
          "text": [
            "\rNormal:  54%|█████▍    | 253/468 [00:34<00:26,  8.04it/s]"
          ]
        },
        {
          "name": "stdout",
          "output_type": "stream",
          "text": [
            "1/1 [==============================] - 0s 56ms/step\n"
          ]
        },
        {
          "name": "stderr",
          "output_type": "stream",
          "text": [
            "\rNormal:  54%|█████▍    | 254/468 [00:34<00:26,  7.94it/s]"
          ]
        },
        {
          "name": "stdout",
          "output_type": "stream",
          "text": [
            "1/1 [==============================] - 0s 54ms/step\n"
          ]
        },
        {
          "name": "stderr",
          "output_type": "stream",
          "text": [
            "\rNormal:  54%|█████▍    | 255/468 [00:34<00:27,  7.71it/s]"
          ]
        },
        {
          "name": "stdout",
          "output_type": "stream",
          "text": [
            "1/1 [==============================] - 0s 55ms/step\n"
          ]
        },
        {
          "name": "stderr",
          "output_type": "stream",
          "text": [
            "\rNormal:  55%|█████▍    | 256/468 [00:34<00:27,  7.72it/s]"
          ]
        },
        {
          "name": "stdout",
          "output_type": "stream",
          "text": [
            "1/1 [==============================] - 0s 51ms/step\n"
          ]
        },
        {
          "name": "stderr",
          "output_type": "stream",
          "text": [
            "\rNormal:  55%|█████▍    | 257/468 [00:34<00:27,  7.69it/s]"
          ]
        },
        {
          "name": "stdout",
          "output_type": "stream",
          "text": [
            "1/1 [==============================] - 0s 52ms/step\n"
          ]
        },
        {
          "name": "stderr",
          "output_type": "stream",
          "text": [
            "\rNormal:  55%|█████▌    | 258/468 [00:34<00:26,  7.89it/s]"
          ]
        },
        {
          "name": "stdout",
          "output_type": "stream",
          "text": [
            "1/1 [==============================] - 0s 58ms/step\n"
          ]
        },
        {
          "name": "stderr",
          "output_type": "stream",
          "text": [
            "\rNormal:  55%|█████▌    | 259/468 [00:34<00:26,  8.01it/s]"
          ]
        },
        {
          "name": "stdout",
          "output_type": "stream",
          "text": [
            "1/1 [==============================] - 0s 51ms/step\n"
          ]
        },
        {
          "name": "stderr",
          "output_type": "stream",
          "text": [
            "\rNormal:  56%|█████▌    | 260/468 [00:35<00:25,  8.21it/s]"
          ]
        },
        {
          "name": "stdout",
          "output_type": "stream",
          "text": [
            "1/1 [==============================] - 0s 59ms/step\n"
          ]
        },
        {
          "name": "stderr",
          "output_type": "stream",
          "text": [
            "\rNormal:  56%|█████▌    | 261/468 [00:35<00:25,  8.06it/s]"
          ]
        },
        {
          "name": "stdout",
          "output_type": "stream",
          "text": [
            "1/1 [==============================] - 0s 54ms/step\n"
          ]
        },
        {
          "name": "stderr",
          "output_type": "stream",
          "text": [
            "\rNormal:  56%|█████▌    | 262/468 [00:35<00:25,  8.02it/s]"
          ]
        },
        {
          "name": "stdout",
          "output_type": "stream",
          "text": [
            "1/1 [==============================] - 0s 52ms/step\n"
          ]
        },
        {
          "name": "stderr",
          "output_type": "stream",
          "text": [
            "\rNormal:  56%|█████▌    | 263/468 [00:35<00:25,  8.04it/s]"
          ]
        },
        {
          "name": "stdout",
          "output_type": "stream",
          "text": [
            "1/1 [==============================] - 0s 54ms/step\n"
          ]
        },
        {
          "name": "stderr",
          "output_type": "stream",
          "text": [
            "\rNormal:  56%|█████▋    | 264/468 [00:35<00:24,  8.19it/s]"
          ]
        },
        {
          "name": "stdout",
          "output_type": "stream",
          "text": [
            "1/1 [==============================] - 0s 56ms/step\n"
          ]
        },
        {
          "name": "stderr",
          "output_type": "stream",
          "text": [
            "\rNormal:  57%|█████▋    | 265/468 [00:35<00:24,  8.35it/s]"
          ]
        },
        {
          "name": "stdout",
          "output_type": "stream",
          "text": [
            "1/1 [==============================] - 0s 58ms/step\n"
          ]
        },
        {
          "name": "stderr",
          "output_type": "stream",
          "text": [
            "\rNormal:  57%|█████▋    | 266/468 [00:35<00:25,  8.08it/s]"
          ]
        },
        {
          "name": "stdout",
          "output_type": "stream",
          "text": [
            "1/1 [==============================] - 0s 51ms/step\n"
          ]
        },
        {
          "name": "stderr",
          "output_type": "stream",
          "text": [
            "\rNormal:  57%|█████▋    | 267/468 [00:35<00:24,  8.06it/s]"
          ]
        },
        {
          "name": "stdout",
          "output_type": "stream",
          "text": [
            "1/1 [==============================] - 0s 83ms/step\n"
          ]
        },
        {
          "name": "stderr",
          "output_type": "stream",
          "text": [
            "\rNormal:  57%|█████▋    | 268/468 [00:36<00:26,  7.54it/s]"
          ]
        },
        {
          "name": "stdout",
          "output_type": "stream",
          "text": [
            "1/1 [==============================] - 0s 93ms/step\n"
          ]
        },
        {
          "name": "stderr",
          "output_type": "stream",
          "text": [
            "\rNormal:  57%|█████▋    | 269/468 [00:36<00:29,  6.82it/s]"
          ]
        },
        {
          "name": "stdout",
          "output_type": "stream",
          "text": [
            "1/1 [==============================] - 0s 91ms/step\n"
          ]
        },
        {
          "name": "stderr",
          "output_type": "stream",
          "text": [
            "\rNormal:  58%|█████▊    | 270/468 [00:36<00:31,  6.31it/s]"
          ]
        },
        {
          "name": "stdout",
          "output_type": "stream",
          "text": [
            "1/1 [==============================] - 0s 92ms/step\n"
          ]
        },
        {
          "name": "stderr",
          "output_type": "stream",
          "text": [
            "\rNormal:  58%|█████▊    | 271/468 [00:36<00:32,  6.11it/s]"
          ]
        },
        {
          "name": "stdout",
          "output_type": "stream",
          "text": [
            "1/1 [==============================] - 0s 87ms/step\n"
          ]
        },
        {
          "name": "stderr",
          "output_type": "stream",
          "text": [
            "\rNormal:  58%|█████▊    | 272/468 [00:36<00:35,  5.46it/s]"
          ]
        },
        {
          "name": "stdout",
          "output_type": "stream",
          "text": [
            "1/1 [==============================] - 0s 86ms/step\n"
          ]
        },
        {
          "name": "stderr",
          "output_type": "stream",
          "text": [
            "\rNormal:  58%|█████▊    | 273/468 [00:37<00:39,  4.93it/s]"
          ]
        },
        {
          "name": "stdout",
          "output_type": "stream",
          "text": [
            "1/1 [==============================] - 0s 90ms/step\n"
          ]
        },
        {
          "name": "stderr",
          "output_type": "stream",
          "text": [
            "\rNormal:  59%|█████▊    | 274/468 [00:37<00:37,  5.16it/s]"
          ]
        },
        {
          "name": "stdout",
          "output_type": "stream",
          "text": [
            "1/1 [==============================] - 0s 89ms/step\n"
          ]
        },
        {
          "name": "stderr",
          "output_type": "stream",
          "text": [
            "\rNormal:  59%|█████▉    | 275/468 [00:37<00:40,  4.73it/s]"
          ]
        },
        {
          "name": "stdout",
          "output_type": "stream",
          "text": [
            "1/1 [==============================] - 0s 78ms/step\n"
          ]
        },
        {
          "name": "stderr",
          "output_type": "stream",
          "text": [
            "\rNormal:  59%|█████▉    | 276/468 [00:37<00:38,  4.92it/s]"
          ]
        },
        {
          "name": "stdout",
          "output_type": "stream",
          "text": [
            "1/1 [==============================] - 0s 86ms/step\n"
          ]
        },
        {
          "name": "stderr",
          "output_type": "stream",
          "text": [
            "\rNormal:  59%|█████▉    | 277/468 [00:37<00:39,  4.89it/s]"
          ]
        },
        {
          "name": "stdout",
          "output_type": "stream",
          "text": [
            "1/1 [==============================] - 0s 88ms/step\n"
          ]
        },
        {
          "name": "stderr",
          "output_type": "stream",
          "text": [
            "\rNormal:  59%|█████▉    | 278/468 [00:38<00:36,  5.21it/s]"
          ]
        },
        {
          "name": "stdout",
          "output_type": "stream",
          "text": [
            "1/1 [==============================] - 0s 85ms/step\n"
          ]
        },
        {
          "name": "stderr",
          "output_type": "stream",
          "text": [
            "\rNormal:  60%|█████▉    | 279/468 [00:38<00:39,  4.79it/s]"
          ]
        },
        {
          "name": "stdout",
          "output_type": "stream",
          "text": [
            "1/1 [==============================] - 0s 85ms/step\n"
          ]
        },
        {
          "name": "stderr",
          "output_type": "stream",
          "text": [
            "\rNormal:  60%|█████▉    | 280/468 [00:38<00:37,  5.04it/s]"
          ]
        },
        {
          "name": "stdout",
          "output_type": "stream",
          "text": [
            "1/1 [==============================] - 0s 89ms/step\n"
          ]
        },
        {
          "name": "stderr",
          "output_type": "stream",
          "text": [
            "\rNormal:  60%|██████    | 281/468 [00:38<00:36,  5.06it/s]"
          ]
        },
        {
          "name": "stdout",
          "output_type": "stream",
          "text": [
            "1/1 [==============================] - 0s 99ms/step\n"
          ]
        },
        {
          "name": "stderr",
          "output_type": "stream",
          "text": [
            "\rNormal:  60%|██████    | 282/468 [00:38<00:35,  5.25it/s]"
          ]
        },
        {
          "name": "stdout",
          "output_type": "stream",
          "text": [
            "1/1 [==============================] - 0s 98ms/step\n"
          ]
        },
        {
          "name": "stderr",
          "output_type": "stream",
          "text": [
            "\rNormal:  60%|██████    | 283/468 [00:39<00:39,  4.71it/s]"
          ]
        },
        {
          "name": "stdout",
          "output_type": "stream",
          "text": [
            "1/1 [==============================] - 0s 102ms/step\n"
          ]
        },
        {
          "name": "stderr",
          "output_type": "stream",
          "text": [
            "\rNormal:  61%|██████    | 284/468 [00:39<00:37,  4.85it/s]"
          ]
        },
        {
          "name": "stdout",
          "output_type": "stream",
          "text": [
            "1/1 [==============================] - 0s 100ms/step\n"
          ]
        },
        {
          "name": "stderr",
          "output_type": "stream",
          "text": [
            "\rNormal:  61%|██████    | 285/468 [00:39<00:37,  4.93it/s]"
          ]
        },
        {
          "name": "stdout",
          "output_type": "stream",
          "text": [
            "1/1 [==============================] - 0s 107ms/step\n"
          ]
        },
        {
          "name": "stderr",
          "output_type": "stream",
          "text": [
            "\rNormal:  61%|██████    | 286/468 [00:39<00:37,  4.85it/s]"
          ]
        },
        {
          "name": "stdout",
          "output_type": "stream",
          "text": [
            "1/1 [==============================] - 0s 100ms/step\n"
          ]
        },
        {
          "name": "stderr",
          "output_type": "stream",
          "text": [
            "\rNormal:  61%|██████▏   | 287/468 [00:39<00:36,  4.99it/s]"
          ]
        },
        {
          "name": "stdout",
          "output_type": "stream",
          "text": [
            "1/1 [==============================] - 0s 97ms/step\n"
          ]
        },
        {
          "name": "stderr",
          "output_type": "stream",
          "text": [
            "\rNormal:  62%|██████▏   | 288/468 [00:40<00:37,  4.81it/s]"
          ]
        },
        {
          "name": "stdout",
          "output_type": "stream",
          "text": [
            "1/1 [==============================] - 0s 99ms/step\n"
          ]
        },
        {
          "name": "stderr",
          "output_type": "stream",
          "text": [
            "\rNormal:  62%|██████▏   | 289/468 [00:40<00:39,  4.53it/s]"
          ]
        },
        {
          "name": "stdout",
          "output_type": "stream",
          "text": [
            "1/1 [==============================] - 0s 58ms/step\n"
          ]
        },
        {
          "name": "stderr",
          "output_type": "stream",
          "text": [
            "\rNormal:  62%|██████▏   | 290/468 [00:40<00:36,  4.93it/s]"
          ]
        },
        {
          "name": "stdout",
          "output_type": "stream",
          "text": [
            "1/1 [==============================] - 0s 59ms/step\n"
          ]
        },
        {
          "name": "stderr",
          "output_type": "stream",
          "text": [
            "\rNormal:  62%|██████▏   | 291/468 [00:40<00:33,  5.36it/s]"
          ]
        },
        {
          "name": "stdout",
          "output_type": "stream",
          "text": [
            "1/1 [==============================] - 0s 54ms/step\n"
          ]
        },
        {
          "name": "stderr",
          "output_type": "stream",
          "text": [
            "\rNormal:  62%|██████▏   | 292/468 [00:40<00:29,  5.92it/s]"
          ]
        },
        {
          "name": "stdout",
          "output_type": "stream",
          "text": [
            "1/1 [==============================] - 0s 54ms/step\n"
          ]
        },
        {
          "name": "stderr",
          "output_type": "stream",
          "text": [
            "\rNormal:  63%|██████▎   | 293/468 [00:41<00:29,  6.01it/s]"
          ]
        },
        {
          "name": "stdout",
          "output_type": "stream",
          "text": [
            "1/1 [==============================] - 0s 54ms/step\n"
          ]
        },
        {
          "name": "stderr",
          "output_type": "stream",
          "text": [
            "\rNormal:  63%|██████▎   | 294/468 [00:41<00:26,  6.46it/s]"
          ]
        },
        {
          "name": "stdout",
          "output_type": "stream",
          "text": [
            "1/1 [==============================] - 0s 51ms/step\n"
          ]
        },
        {
          "name": "stderr",
          "output_type": "stream",
          "text": [
            "\rNormal:  63%|██████▎   | 295/468 [00:41<00:25,  6.88it/s]"
          ]
        },
        {
          "name": "stdout",
          "output_type": "stream",
          "text": [
            "1/1 [==============================] - 0s 51ms/step\n"
          ]
        },
        {
          "name": "stderr",
          "output_type": "stream",
          "text": [
            "\rNormal:  63%|██████▎   | 296/468 [00:41<00:23,  7.17it/s]"
          ]
        },
        {
          "name": "stdout",
          "output_type": "stream",
          "text": [
            "1/1 [==============================] - 0s 51ms/step\n"
          ]
        },
        {
          "name": "stderr",
          "output_type": "stream",
          "text": [
            "\rNormal:  63%|██████▎   | 297/468 [00:41<00:22,  7.46it/s]"
          ]
        },
        {
          "name": "stdout",
          "output_type": "stream",
          "text": [
            "1/1 [==============================] - 0s 54ms/step\n"
          ]
        },
        {
          "name": "stderr",
          "output_type": "stream",
          "text": [
            "\rNormal:  64%|██████▎   | 298/468 [00:41<00:22,  7.51it/s]"
          ]
        },
        {
          "name": "stdout",
          "output_type": "stream",
          "text": [
            "1/1 [==============================] - 0s 57ms/step\n"
          ]
        },
        {
          "name": "stderr",
          "output_type": "stream",
          "text": [
            "\rNormal:  64%|██████▍   | 299/468 [00:41<00:21,  7.79it/s]"
          ]
        },
        {
          "name": "stdout",
          "output_type": "stream",
          "text": [
            "1/1 [==============================] - 0s 52ms/step\n"
          ]
        },
        {
          "name": "stderr",
          "output_type": "stream",
          "text": [
            "\rNormal:  64%|██████▍   | 300/468 [00:41<00:21,  7.78it/s]"
          ]
        },
        {
          "name": "stdout",
          "output_type": "stream",
          "text": [
            "1/1 [==============================] - 0s 53ms/step\n"
          ]
        },
        {
          "name": "stderr",
          "output_type": "stream",
          "text": [
            "\rNormal:  64%|██████▍   | 301/468 [00:42<00:22,  7.44it/s]"
          ]
        },
        {
          "name": "stdout",
          "output_type": "stream",
          "text": [
            "1/1 [==============================] - 0s 60ms/step\n"
          ]
        },
        {
          "name": "stderr",
          "output_type": "stream",
          "text": [
            "\rNormal:  65%|██████▍   | 302/468 [00:42<00:23,  7.18it/s]"
          ]
        },
        {
          "name": "stdout",
          "output_type": "stream",
          "text": [
            "1/1 [==============================] - 0s 52ms/step\n"
          ]
        },
        {
          "name": "stderr",
          "output_type": "stream",
          "text": [
            "\rNormal:  65%|██████▍   | 303/468 [00:42<00:22,  7.29it/s]"
          ]
        },
        {
          "name": "stdout",
          "output_type": "stream",
          "text": [
            "1/1 [==============================] - 0s 57ms/step\n"
          ]
        },
        {
          "name": "stderr",
          "output_type": "stream",
          "text": [
            "\rNormal:  65%|██████▍   | 304/468 [00:42<00:22,  7.34it/s]"
          ]
        },
        {
          "name": "stdout",
          "output_type": "stream",
          "text": [
            "1/1 [==============================] - 0s 51ms/step\n"
          ]
        },
        {
          "name": "stderr",
          "output_type": "stream",
          "text": [
            "\rNormal:  65%|██████▌   | 305/468 [00:42<00:22,  7.28it/s]"
          ]
        },
        {
          "name": "stdout",
          "output_type": "stream",
          "text": [
            "1/1 [==============================] - 0s 54ms/step\n"
          ]
        },
        {
          "name": "stderr",
          "output_type": "stream",
          "text": [
            "\rNormal:  65%|██████▌   | 306/468 [00:42<00:22,  7.29it/s]"
          ]
        },
        {
          "name": "stdout",
          "output_type": "stream",
          "text": [
            "1/1 [==============================] - 0s 51ms/step\n"
          ]
        },
        {
          "name": "stderr",
          "output_type": "stream",
          "text": [
            "\rNormal:  66%|██████▌   | 307/468 [00:42<00:21,  7.49it/s]"
          ]
        },
        {
          "name": "stdout",
          "output_type": "stream",
          "text": [
            "1/1 [==============================] - 0s 63ms/step\n"
          ]
        },
        {
          "name": "stderr",
          "output_type": "stream",
          "text": [
            "\rNormal:  66%|██████▌   | 308/468 [00:43<00:21,  7.47it/s]"
          ]
        },
        {
          "name": "stdout",
          "output_type": "stream",
          "text": [
            "1/1 [==============================] - 0s 56ms/step\n"
          ]
        },
        {
          "name": "stderr",
          "output_type": "stream",
          "text": [
            "\rNormal:  66%|██████▌   | 309/468 [00:43<00:21,  7.42it/s]"
          ]
        },
        {
          "name": "stdout",
          "output_type": "stream",
          "text": [
            "1/1 [==============================] - 0s 51ms/step\n"
          ]
        },
        {
          "name": "stderr",
          "output_type": "stream",
          "text": [
            "\rNormal:  66%|██████▌   | 310/468 [00:43<00:20,  7.60it/s]"
          ]
        },
        {
          "name": "stdout",
          "output_type": "stream",
          "text": [
            "1/1 [==============================] - 0s 54ms/step\n"
          ]
        },
        {
          "name": "stderr",
          "output_type": "stream",
          "text": [
            "\rNormal:  66%|██████▋   | 311/468 [00:43<00:21,  7.41it/s]"
          ]
        },
        {
          "name": "stdout",
          "output_type": "stream",
          "text": [
            "1/1 [==============================] - 0s 53ms/step\n"
          ]
        },
        {
          "name": "stderr",
          "output_type": "stream",
          "text": [
            "\rNormal:  67%|██████▋   | 312/468 [00:43<00:20,  7.61it/s]"
          ]
        },
        {
          "name": "stdout",
          "output_type": "stream",
          "text": [
            "1/1 [==============================] - 0s 55ms/step\n"
          ]
        },
        {
          "name": "stderr",
          "output_type": "stream",
          "text": [
            "\rNormal:  67%|██████▋   | 313/468 [00:43<00:20,  7.39it/s]"
          ]
        },
        {
          "name": "stdout",
          "output_type": "stream",
          "text": [
            "1/1 [==============================] - 0s 51ms/step\n"
          ]
        },
        {
          "name": "stderr",
          "output_type": "stream",
          "text": [
            "\rNormal:  67%|██████▋   | 314/468 [00:43<00:20,  7.46it/s]"
          ]
        },
        {
          "name": "stdout",
          "output_type": "stream",
          "text": [
            "1/1 [==============================] - 0s 56ms/step\n"
          ]
        },
        {
          "name": "stderr",
          "output_type": "stream",
          "text": [
            "\rNormal:  67%|██████▋   | 315/468 [00:43<00:21,  7.23it/s]"
          ]
        },
        {
          "name": "stdout",
          "output_type": "stream",
          "text": [
            "1/1 [==============================] - 0s 51ms/step\n"
          ]
        },
        {
          "name": "stderr",
          "output_type": "stream",
          "text": [
            "\rNormal:  68%|██████▊   | 316/468 [00:44<00:21,  7.12it/s]"
          ]
        },
        {
          "name": "stdout",
          "output_type": "stream",
          "text": [
            "1/1 [==============================] - 0s 54ms/step\n"
          ]
        },
        {
          "name": "stderr",
          "output_type": "stream",
          "text": [
            "\rNormal:  68%|██████▊   | 317/468 [00:44<00:21,  7.01it/s]"
          ]
        },
        {
          "name": "stdout",
          "output_type": "stream",
          "text": [
            "1/1 [==============================] - 0s 56ms/step\n"
          ]
        },
        {
          "name": "stderr",
          "output_type": "stream",
          "text": [
            "\rNormal:  68%|██████▊   | 318/468 [00:44<00:20,  7.29it/s]"
          ]
        },
        {
          "name": "stdout",
          "output_type": "stream",
          "text": [
            "1/1 [==============================] - 0s 51ms/step\n"
          ]
        },
        {
          "name": "stderr",
          "output_type": "stream",
          "text": [
            "\rNormal:  68%|██████▊   | 319/468 [00:44<00:19,  7.54it/s]"
          ]
        },
        {
          "name": "stdout",
          "output_type": "stream",
          "text": [
            "1/1 [==============================] - 0s 53ms/step\n"
          ]
        },
        {
          "name": "stderr",
          "output_type": "stream",
          "text": [
            "\rNormal:  68%|██████▊   | 320/468 [00:44<00:21,  6.90it/s]"
          ]
        },
        {
          "name": "stdout",
          "output_type": "stream",
          "text": [
            "1/1 [==============================] - 0s 51ms/step\n"
          ]
        },
        {
          "name": "stderr",
          "output_type": "stream",
          "text": [
            "\rNormal:  69%|██████▊   | 321/468 [00:44<00:20,  7.18it/s]"
          ]
        },
        {
          "name": "stdout",
          "output_type": "stream",
          "text": [
            "1/1 [==============================] - 0s 52ms/step\n"
          ]
        },
        {
          "name": "stderr",
          "output_type": "stream",
          "text": [
            "\rNormal:  69%|██████▉   | 322/468 [00:44<00:20,  7.21it/s]"
          ]
        },
        {
          "name": "stdout",
          "output_type": "stream",
          "text": [
            "1/1 [==============================] - 0s 62ms/step\n"
          ]
        },
        {
          "name": "stderr",
          "output_type": "stream",
          "text": [
            "\rNormal:  69%|██████▉   | 323/468 [00:45<00:19,  7.32it/s]"
          ]
        },
        {
          "name": "stdout",
          "output_type": "stream",
          "text": [
            "1/1 [==============================] - 0s 51ms/step\n"
          ]
        },
        {
          "name": "stderr",
          "output_type": "stream",
          "text": [
            "\rNormal:  69%|██████▉   | 324/468 [00:45<00:19,  7.57it/s]"
          ]
        },
        {
          "name": "stdout",
          "output_type": "stream",
          "text": [
            "1/1 [==============================] - 0s 51ms/step\n"
          ]
        },
        {
          "name": "stderr",
          "output_type": "stream",
          "text": [
            "\rNormal:  69%|██████▉   | 325/468 [00:45<00:18,  7.59it/s]"
          ]
        },
        {
          "name": "stdout",
          "output_type": "stream",
          "text": [
            "1/1 [==============================] - 0s 52ms/step\n"
          ]
        },
        {
          "name": "stderr",
          "output_type": "stream",
          "text": [
            "\rNormal:  70%|██████▉   | 326/468 [00:45<00:18,  7.82it/s]"
          ]
        },
        {
          "name": "stdout",
          "output_type": "stream",
          "text": [
            "1/1 [==============================] - 0s 57ms/step\n"
          ]
        },
        {
          "name": "stderr",
          "output_type": "stream",
          "text": [
            "\rNormal:  70%|██████▉   | 327/468 [00:45<00:17,  7.89it/s]"
          ]
        },
        {
          "name": "stdout",
          "output_type": "stream",
          "text": [
            "1/1 [==============================] - 0s 59ms/step\n"
          ]
        },
        {
          "name": "stderr",
          "output_type": "stream",
          "text": [
            "\rNormal:  70%|███████   | 328/468 [00:45<00:17,  8.00it/s]"
          ]
        },
        {
          "name": "stdout",
          "output_type": "stream",
          "text": [
            "1/1 [==============================] - 0s 52ms/step\n"
          ]
        },
        {
          "name": "stderr",
          "output_type": "stream",
          "text": [
            "\rNormal:  70%|███████   | 329/468 [00:45<00:18,  7.61it/s]"
          ]
        },
        {
          "name": "stdout",
          "output_type": "stream",
          "text": [
            "1/1 [==============================] - 0s 54ms/step\n"
          ]
        },
        {
          "name": "stderr",
          "output_type": "stream",
          "text": [
            "\rNormal:  71%|███████   | 330/468 [00:45<00:17,  7.83it/s]"
          ]
        },
        {
          "name": "stdout",
          "output_type": "stream",
          "text": [
            "1/1 [==============================] - 0s 60ms/step\n"
          ]
        },
        {
          "name": "stderr",
          "output_type": "stream",
          "text": [
            "\rNormal:  71%|███████   | 331/468 [00:46<00:17,  7.94it/s]"
          ]
        },
        {
          "name": "stdout",
          "output_type": "stream",
          "text": [
            "1/1 [==============================] - 0s 51ms/step\n"
          ]
        },
        {
          "name": "stderr",
          "output_type": "stream",
          "text": [
            "\rNormal:  71%|███████   | 332/468 [00:46<00:17,  7.57it/s]"
          ]
        },
        {
          "name": "stdout",
          "output_type": "stream",
          "text": [
            "1/1 [==============================] - 0s 51ms/step\n"
          ]
        },
        {
          "name": "stderr",
          "output_type": "stream",
          "text": [
            "\rNormal:  71%|███████   | 333/468 [00:46<00:17,  7.83it/s]"
          ]
        },
        {
          "name": "stdout",
          "output_type": "stream",
          "text": [
            "1/1 [==============================] - 0s 54ms/step\n"
          ]
        },
        {
          "name": "stderr",
          "output_type": "stream",
          "text": [
            "\rNormal:  71%|███████▏  | 334/468 [00:46<00:16,  7.89it/s]"
          ]
        },
        {
          "name": "stdout",
          "output_type": "stream",
          "text": [
            "1/1 [==============================] - 0s 52ms/step\n"
          ]
        },
        {
          "name": "stderr",
          "output_type": "stream",
          "text": [
            "\rNormal:  72%|███████▏  | 335/468 [00:46<00:16,  7.98it/s]"
          ]
        },
        {
          "name": "stdout",
          "output_type": "stream",
          "text": [
            "1/1 [==============================] - 0s 56ms/step\n"
          ]
        },
        {
          "name": "stderr",
          "output_type": "stream",
          "text": [
            "\rNormal:  72%|███████▏  | 336/468 [00:46<00:16,  8.06it/s]"
          ]
        },
        {
          "name": "stdout",
          "output_type": "stream",
          "text": [
            "1/1 [==============================] - 0s 51ms/step\n"
          ]
        },
        {
          "name": "stderr",
          "output_type": "stream",
          "text": [
            "\rNormal:  72%|███████▏  | 337/468 [00:46<00:17,  7.68it/s]"
          ]
        },
        {
          "name": "stdout",
          "output_type": "stream",
          "text": [
            "1/1 [==============================] - 0s 57ms/step\n"
          ]
        },
        {
          "name": "stderr",
          "output_type": "stream",
          "text": [
            "\rNormal:  72%|███████▏  | 338/468 [00:47<00:17,  7.48it/s]"
          ]
        },
        {
          "name": "stdout",
          "output_type": "stream",
          "text": [
            "1/1 [==============================] - 0s 55ms/step\n"
          ]
        },
        {
          "name": "stderr",
          "output_type": "stream",
          "text": [
            "\rNormal:  72%|███████▏  | 339/468 [00:47<00:16,  7.71it/s]"
          ]
        },
        {
          "name": "stdout",
          "output_type": "stream",
          "text": [
            "1/1 [==============================] - 0s 53ms/step\n"
          ]
        },
        {
          "name": "stderr",
          "output_type": "stream",
          "text": [
            "\rNormal:  73%|███████▎  | 340/468 [00:47<00:17,  7.51it/s]"
          ]
        },
        {
          "name": "stdout",
          "output_type": "stream",
          "text": [
            "1/1 [==============================] - 0s 52ms/step\n"
          ]
        },
        {
          "name": "stderr",
          "output_type": "stream",
          "text": [
            "\rNormal:  73%|███████▎  | 341/468 [00:47<00:16,  7.57it/s]"
          ]
        },
        {
          "name": "stdout",
          "output_type": "stream",
          "text": [
            "1/1 [==============================] - 0s 54ms/step\n"
          ]
        },
        {
          "name": "stderr",
          "output_type": "stream",
          "text": [
            "\rNormal:  73%|███████▎  | 342/468 [00:47<00:16,  7.70it/s]"
          ]
        },
        {
          "name": "stdout",
          "output_type": "stream",
          "text": [
            "1/1 [==============================] - 0s 52ms/step\n"
          ]
        },
        {
          "name": "stderr",
          "output_type": "stream",
          "text": [
            "\rNormal:  73%|███████▎  | 343/468 [00:47<00:17,  7.23it/s]"
          ]
        },
        {
          "name": "stdout",
          "output_type": "stream",
          "text": [
            "1/1 [==============================] - 0s 50ms/step\n"
          ]
        },
        {
          "name": "stderr",
          "output_type": "stream",
          "text": [
            "\rNormal:  74%|███████▎  | 344/468 [00:47<00:16,  7.67it/s]"
          ]
        },
        {
          "name": "stdout",
          "output_type": "stream",
          "text": [
            "1/1 [==============================] - 0s 54ms/step\n"
          ]
        },
        {
          "name": "stderr",
          "output_type": "stream",
          "text": [
            "\rNormal:  74%|███████▎  | 345/468 [00:47<00:16,  7.40it/s]"
          ]
        },
        {
          "name": "stdout",
          "output_type": "stream",
          "text": [
            "1/1 [==============================] - 0s 51ms/step\n"
          ]
        },
        {
          "name": "stderr",
          "output_type": "stream",
          "text": [
            "\rNormal:  74%|███████▍  | 346/468 [00:48<00:15,  7.63it/s]"
          ]
        },
        {
          "name": "stdout",
          "output_type": "stream",
          "text": [
            "1/1 [==============================] - 0s 67ms/step\n"
          ]
        },
        {
          "name": "stderr",
          "output_type": "stream",
          "text": [
            "\rNormal:  74%|███████▍  | 347/468 [00:48<00:16,  7.44it/s]"
          ]
        },
        {
          "name": "stdout",
          "output_type": "stream",
          "text": [
            "1/1 [==============================] - 0s 57ms/step\n"
          ]
        },
        {
          "name": "stderr",
          "output_type": "stream",
          "text": [
            "\rNormal:  74%|███████▍  | 348/468 [00:48<00:15,  7.62it/s]"
          ]
        },
        {
          "name": "stdout",
          "output_type": "stream",
          "text": [
            "1/1 [==============================] - 0s 52ms/step\n"
          ]
        },
        {
          "name": "stderr",
          "output_type": "stream",
          "text": [
            "\rNormal:  75%|███████▍  | 349/468 [00:48<00:14,  7.97it/s]"
          ]
        },
        {
          "name": "stdout",
          "output_type": "stream",
          "text": [
            "1/1 [==============================] - 0s 51ms/step\n"
          ]
        },
        {
          "name": "stderr",
          "output_type": "stream",
          "text": [
            "\rNormal:  75%|███████▍  | 350/468 [00:48<00:14,  8.18it/s]"
          ]
        },
        {
          "name": "stdout",
          "output_type": "stream",
          "text": [
            "1/1 [==============================] - 0s 51ms/step\n"
          ]
        },
        {
          "name": "stderr",
          "output_type": "stream",
          "text": [
            "\rNormal:  75%|███████▌  | 351/468 [00:48<00:13,  8.43it/s]"
          ]
        },
        {
          "name": "stdout",
          "output_type": "stream",
          "text": [
            "1/1 [==============================] - 0s 51ms/step\n"
          ]
        },
        {
          "name": "stderr",
          "output_type": "stream",
          "text": [
            "\rNormal:  75%|███████▌  | 352/468 [00:48<00:14,  8.07it/s]"
          ]
        },
        {
          "name": "stdout",
          "output_type": "stream",
          "text": [
            "1/1 [==============================] - 0s 53ms/step\n"
          ]
        },
        {
          "name": "stderr",
          "output_type": "stream",
          "text": [
            "\rNormal:  75%|███████▌  | 353/468 [00:48<00:15,  7.51it/s]"
          ]
        },
        {
          "name": "stdout",
          "output_type": "stream",
          "text": [
            "1/1 [==============================] - 0s 50ms/step\n"
          ]
        },
        {
          "name": "stderr",
          "output_type": "stream",
          "text": [
            "\rNormal:  76%|███████▌  | 354/468 [00:49<00:15,  7.40it/s]"
          ]
        },
        {
          "name": "stdout",
          "output_type": "stream",
          "text": [
            "1/1 [==============================] - 0s 64ms/step\n"
          ]
        },
        {
          "name": "stderr",
          "output_type": "stream",
          "text": [
            "\rNormal:  76%|███████▌  | 355/468 [00:49<00:15,  7.37it/s]"
          ]
        },
        {
          "name": "stdout",
          "output_type": "stream",
          "text": [
            "1/1 [==============================] - 0s 55ms/step\n"
          ]
        },
        {
          "name": "stderr",
          "output_type": "stream",
          "text": [
            "\rNormal:  76%|███████▌  | 356/468 [00:49<00:15,  7.24it/s]"
          ]
        },
        {
          "name": "stdout",
          "output_type": "stream",
          "text": [
            "1/1 [==============================] - 0s 57ms/step\n"
          ]
        },
        {
          "name": "stderr",
          "output_type": "stream",
          "text": [
            "\rNormal:  76%|███████▋  | 357/468 [00:49<00:14,  7.43it/s]"
          ]
        },
        {
          "name": "stdout",
          "output_type": "stream",
          "text": [
            "1/1 [==============================] - 0s 53ms/step\n"
          ]
        },
        {
          "name": "stderr",
          "output_type": "stream",
          "text": [
            "\rNormal:  76%|███████▋  | 358/468 [00:49<00:15,  7.25it/s]"
          ]
        },
        {
          "name": "stdout",
          "output_type": "stream",
          "text": [
            "1/1 [==============================] - 0s 52ms/step\n"
          ]
        },
        {
          "name": "stderr",
          "output_type": "stream",
          "text": [
            "\rNormal:  77%|███████▋  | 359/468 [00:49<00:14,  7.55it/s]"
          ]
        },
        {
          "name": "stdout",
          "output_type": "stream",
          "text": [
            "1/1 [==============================] - 0s 53ms/step\n"
          ]
        },
        {
          "name": "stderr",
          "output_type": "stream",
          "text": [
            "\rNormal:  77%|███████▋  | 360/468 [00:49<00:14,  7.65it/s]"
          ]
        },
        {
          "name": "stdout",
          "output_type": "stream",
          "text": [
            "1/1 [==============================] - 0s 60ms/step\n"
          ]
        },
        {
          "name": "stderr",
          "output_type": "stream",
          "text": [
            "\rNormal:  77%|███████▋  | 361/468 [00:50<00:13,  7.80it/s]"
          ]
        },
        {
          "name": "stdout",
          "output_type": "stream",
          "text": [
            "1/1 [==============================] - 0s 55ms/step\n"
          ]
        },
        {
          "name": "stderr",
          "output_type": "stream",
          "text": [
            "\rNormal:  77%|███████▋  | 362/468 [00:50<00:13,  7.84it/s]"
          ]
        },
        {
          "name": "stdout",
          "output_type": "stream",
          "text": [
            "1/1 [==============================] - 0s 61ms/step\n"
          ]
        },
        {
          "name": "stderr",
          "output_type": "stream",
          "text": [
            "\rNormal:  78%|███████▊  | 363/468 [00:50<00:13,  7.85it/s]"
          ]
        },
        {
          "name": "stdout",
          "output_type": "stream",
          "text": [
            "1/1 [==============================] - 0s 54ms/step\n"
          ]
        },
        {
          "name": "stderr",
          "output_type": "stream",
          "text": [
            "\rNormal:  78%|███████▊  | 364/468 [00:50<00:13,  7.84it/s]"
          ]
        },
        {
          "name": "stdout",
          "output_type": "stream",
          "text": [
            "1/1 [==============================] - 0s 59ms/step\n"
          ]
        },
        {
          "name": "stderr",
          "output_type": "stream",
          "text": [
            "\rNormal:  78%|███████▊  | 365/468 [00:50<00:13,  7.81it/s]"
          ]
        },
        {
          "name": "stdout",
          "output_type": "stream",
          "text": [
            "1/1 [==============================] - 0s 92ms/step\n"
          ]
        },
        {
          "name": "stderr",
          "output_type": "stream",
          "text": [
            "\rNormal:  78%|███████▊  | 366/468 [00:50<00:14,  6.94it/s]"
          ]
        },
        {
          "name": "stdout",
          "output_type": "stream",
          "text": [
            "1/1 [==============================] - 0s 95ms/step\n"
          ]
        },
        {
          "name": "stderr",
          "output_type": "stream",
          "text": [
            "\rNormal:  78%|███████▊  | 367/468 [00:50<00:16,  6.26it/s]"
          ]
        },
        {
          "name": "stdout",
          "output_type": "stream",
          "text": [
            "1/1 [==============================] - 0s 88ms/step\n"
          ]
        },
        {
          "name": "stderr",
          "output_type": "stream",
          "text": [
            "\rNormal:  79%|███████▊  | 368/468 [00:51<00:16,  5.90it/s]"
          ]
        },
        {
          "name": "stdout",
          "output_type": "stream",
          "text": [
            "1/1 [==============================] - 0s 103ms/step\n"
          ]
        },
        {
          "name": "stderr",
          "output_type": "stream",
          "text": [
            "\rNormal:  79%|███████▉  | 369/468 [00:51<00:18,  5.23it/s]"
          ]
        },
        {
          "name": "stdout",
          "output_type": "stream",
          "text": [
            "1/1 [==============================] - 0s 87ms/step\n"
          ]
        },
        {
          "name": "stderr",
          "output_type": "stream",
          "text": [
            "\rNormal:  79%|███████▉  | 370/468 [00:51<00:17,  5.51it/s]"
          ]
        },
        {
          "name": "stdout",
          "output_type": "stream",
          "text": [
            "1/1 [==============================] - 0s 91ms/step\n"
          ]
        },
        {
          "name": "stderr",
          "output_type": "stream",
          "text": [
            "\rNormal:  79%|███████▉  | 371/468 [00:51<00:19,  4.93it/s]"
          ]
        },
        {
          "name": "stdout",
          "output_type": "stream",
          "text": [
            "1/1 [==============================] - 0s 88ms/step\n"
          ]
        },
        {
          "name": "stderr",
          "output_type": "stream",
          "text": [
            "\rNormal:  79%|███████▉  | 372/468 [00:51<00:18,  5.08it/s]"
          ]
        },
        {
          "name": "stdout",
          "output_type": "stream",
          "text": [
            "1/1 [==============================] - 0s 90ms/step\n"
          ]
        },
        {
          "name": "stderr",
          "output_type": "stream",
          "text": [
            "\rNormal:  80%|███████▉  | 373/468 [00:52<00:19,  4.97it/s]"
          ]
        },
        {
          "name": "stdout",
          "output_type": "stream",
          "text": [
            "1/1 [==============================] - 0s 90ms/step\n"
          ]
        },
        {
          "name": "stderr",
          "output_type": "stream",
          "text": [
            "\rNormal:  80%|███████▉  | 374/468 [00:52<00:17,  5.29it/s]"
          ]
        },
        {
          "name": "stdout",
          "output_type": "stream",
          "text": [
            "1/1 [==============================] - 0s 91ms/step\n"
          ]
        },
        {
          "name": "stderr",
          "output_type": "stream",
          "text": [
            "\rNormal:  80%|████████  | 375/468 [00:52<00:18,  5.12it/s]"
          ]
        },
        {
          "name": "stdout",
          "output_type": "stream",
          "text": [
            "1/1 [==============================] - 0s 89ms/step\n"
          ]
        },
        {
          "name": "stderr",
          "output_type": "stream",
          "text": [
            "\rNormal:  80%|████████  | 376/468 [00:52<00:19,  4.65it/s]"
          ]
        },
        {
          "name": "stdout",
          "output_type": "stream",
          "text": [
            "1/1 [==============================] - 0s 88ms/step\n"
          ]
        },
        {
          "name": "stderr",
          "output_type": "stream",
          "text": [
            "\rNormal:  81%|████████  | 377/468 [00:52<00:18,  4.85it/s]"
          ]
        },
        {
          "name": "stdout",
          "output_type": "stream",
          "text": [
            "1/1 [==============================] - 0s 89ms/step\n"
          ]
        },
        {
          "name": "stderr",
          "output_type": "stream",
          "text": [
            "\rNormal:  81%|████████  | 378/468 [00:53<00:20,  4.30it/s]"
          ]
        },
        {
          "name": "stdout",
          "output_type": "stream",
          "text": [
            "1/1 [==============================] - 0s 107ms/step\n"
          ]
        },
        {
          "name": "stderr",
          "output_type": "stream",
          "text": [
            "\rNormal:  81%|████████  | 379/468 [00:53<00:20,  4.42it/s]"
          ]
        },
        {
          "name": "stdout",
          "output_type": "stream",
          "text": [
            "1/1 [==============================] - 0s 85ms/step\n"
          ]
        },
        {
          "name": "stderr",
          "output_type": "stream",
          "text": [
            "\rNormal:  81%|████████  | 380/468 [00:53<00:18,  4.68it/s]"
          ]
        },
        {
          "name": "stdout",
          "output_type": "stream",
          "text": [
            "1/1 [==============================] - 0s 85ms/step\n"
          ]
        },
        {
          "name": "stderr",
          "output_type": "stream",
          "text": [
            "\rNormal:  81%|████████▏ | 381/468 [00:53<00:20,  4.20it/s]"
          ]
        },
        {
          "name": "stdout",
          "output_type": "stream",
          "text": [
            "1/1 [==============================] - 0s 87ms/step\n"
          ]
        },
        {
          "name": "stderr",
          "output_type": "stream",
          "text": [
            "\rNormal:  82%|████████▏ | 382/468 [00:54<00:19,  4.41it/s]"
          ]
        },
        {
          "name": "stdout",
          "output_type": "stream",
          "text": [
            "1/1 [==============================] - 0s 93ms/step\n"
          ]
        },
        {
          "name": "stderr",
          "output_type": "stream",
          "text": [
            "\rNormal:  82%|████████▏ | 383/468 [00:54<00:18,  4.68it/s]"
          ]
        },
        {
          "name": "stdout",
          "output_type": "stream",
          "text": [
            "1/1 [==============================] - 0s 88ms/step\n"
          ]
        },
        {
          "name": "stderr",
          "output_type": "stream",
          "text": [
            "\rNormal:  82%|████████▏ | 384/468 [00:54<00:17,  4.78it/s]"
          ]
        },
        {
          "name": "stdout",
          "output_type": "stream",
          "text": [
            "1/1 [==============================] - 0s 91ms/step\n"
          ]
        },
        {
          "name": "stderr",
          "output_type": "stream",
          "text": [
            "\rNormal:  82%|████████▏ | 385/468 [00:54<00:16,  4.88it/s]"
          ]
        },
        {
          "name": "stdout",
          "output_type": "stream",
          "text": [
            "1/1 [==============================] - 0s 86ms/step\n"
          ]
        },
        {
          "name": "stderr",
          "output_type": "stream",
          "text": [
            "\rNormal:  82%|████████▏ | 386/468 [00:54<00:16,  5.07it/s]"
          ]
        },
        {
          "name": "stdout",
          "output_type": "stream",
          "text": [
            "1/1 [==============================] - 0s 52ms/step\n"
          ]
        },
        {
          "name": "stderr",
          "output_type": "stream",
          "text": [
            "\rNormal:  83%|████████▎ | 387/468 [00:55<00:15,  5.34it/s]"
          ]
        },
        {
          "name": "stdout",
          "output_type": "stream",
          "text": [
            "1/1 [==============================] - 0s 52ms/step\n"
          ]
        },
        {
          "name": "stderr",
          "output_type": "stream",
          "text": [
            "\rNormal:  83%|████████▎ | 388/468 [00:55<00:13,  5.95it/s]"
          ]
        },
        {
          "name": "stdout",
          "output_type": "stream",
          "text": [
            "1/1 [==============================] - 0s 52ms/step\n"
          ]
        },
        {
          "name": "stderr",
          "output_type": "stream",
          "text": [
            "\rNormal:  83%|████████▎ | 389/468 [00:55<00:12,  6.50it/s]"
          ]
        },
        {
          "name": "stdout",
          "output_type": "stream",
          "text": [
            "1/1 [==============================] - 0s 51ms/step\n"
          ]
        },
        {
          "name": "stderr",
          "output_type": "stream",
          "text": [
            "\rNormal:  83%|████████▎ | 390/468 [00:55<00:10,  7.10it/s]"
          ]
        },
        {
          "name": "stdout",
          "output_type": "stream",
          "text": [
            "1/1 [==============================] - 0s 57ms/step\n"
          ]
        },
        {
          "name": "stderr",
          "output_type": "stream",
          "text": [
            "\rNormal:  84%|████████▎ | 391/468 [00:55<00:11,  6.84it/s]"
          ]
        },
        {
          "name": "stdout",
          "output_type": "stream",
          "text": [
            "1/1 [==============================] - 0s 60ms/step\n"
          ]
        },
        {
          "name": "stderr",
          "output_type": "stream",
          "text": [
            "\rNormal:  84%|████████▍ | 392/468 [00:55<00:11,  6.77it/s]"
          ]
        },
        {
          "name": "stdout",
          "output_type": "stream",
          "text": [
            "1/1 [==============================] - 0s 51ms/step\n"
          ]
        },
        {
          "name": "stderr",
          "output_type": "stream",
          "text": [
            "\rNormal:  84%|████████▍ | 393/468 [00:55<00:10,  7.09it/s]"
          ]
        },
        {
          "name": "stdout",
          "output_type": "stream",
          "text": [
            "1/1 [==============================] - 0s 54ms/step\n"
          ]
        },
        {
          "name": "stderr",
          "output_type": "stream",
          "text": [
            "\rNormal:  84%|████████▍ | 394/468 [00:55<00:10,  7.28it/s]"
          ]
        },
        {
          "name": "stdout",
          "output_type": "stream",
          "text": [
            "1/1 [==============================] - 0s 55ms/step\n"
          ]
        },
        {
          "name": "stderr",
          "output_type": "stream",
          "text": [
            "\rNormal:  84%|████████▍ | 395/468 [00:56<00:09,  7.35it/s]"
          ]
        },
        {
          "name": "stdout",
          "output_type": "stream",
          "text": [
            "1/1 [==============================] - 0s 51ms/step\n"
          ]
        },
        {
          "name": "stderr",
          "output_type": "stream",
          "text": [
            "\rNormal:  85%|████████▍ | 396/468 [00:56<00:09,  7.49it/s]"
          ]
        },
        {
          "name": "stdout",
          "output_type": "stream",
          "text": [
            "1/1 [==============================] - 0s 53ms/step\n"
          ]
        },
        {
          "name": "stderr",
          "output_type": "stream",
          "text": [
            "\rNormal:  85%|████████▍ | 397/468 [00:56<00:09,  7.30it/s]"
          ]
        },
        {
          "name": "stdout",
          "output_type": "stream",
          "text": [
            "1/1 [==============================] - 0s 71ms/step\n"
          ]
        },
        {
          "name": "stderr",
          "output_type": "stream",
          "text": [
            "\rNormal:  85%|████████▌ | 398/468 [00:56<00:09,  7.05it/s]"
          ]
        },
        {
          "name": "stdout",
          "output_type": "stream",
          "text": [
            "1/1 [==============================] - 0s 52ms/step\n"
          ]
        },
        {
          "name": "stderr",
          "output_type": "stream",
          "text": [
            "\rNormal:  85%|████████▌ | 399/468 [00:56<00:09,  7.49it/s]"
          ]
        },
        {
          "name": "stdout",
          "output_type": "stream",
          "text": [
            "1/1 [==============================] - 0s 55ms/step\n"
          ]
        },
        {
          "name": "stderr",
          "output_type": "stream",
          "text": [
            "\rNormal:  85%|████████▌ | 400/468 [00:56<00:09,  7.15it/s]"
          ]
        },
        {
          "name": "stdout",
          "output_type": "stream",
          "text": [
            "1/1 [==============================] - 0s 54ms/step\n"
          ]
        },
        {
          "name": "stderr",
          "output_type": "stream",
          "text": [
            "\rNormal:  86%|████████▌ | 401/468 [00:56<00:08,  7.46it/s]"
          ]
        },
        {
          "name": "stdout",
          "output_type": "stream",
          "text": [
            "1/1 [==============================] - 0s 52ms/step\n"
          ]
        },
        {
          "name": "stderr",
          "output_type": "stream",
          "text": [
            "\rNormal:  86%|████████▌ | 402/468 [00:57<00:08,  7.40it/s]"
          ]
        },
        {
          "name": "stdout",
          "output_type": "stream",
          "text": [
            "1/1 [==============================] - 0s 51ms/step\n"
          ]
        },
        {
          "name": "stderr",
          "output_type": "stream",
          "text": [
            "\rNormal:  86%|████████▌ | 403/468 [00:57<00:08,  7.49it/s]"
          ]
        },
        {
          "name": "stdout",
          "output_type": "stream",
          "text": [
            "1/1 [==============================] - 0s 53ms/step\n"
          ]
        },
        {
          "name": "stderr",
          "output_type": "stream",
          "text": [
            "\rNormal:  86%|████████▋ | 404/468 [00:57<00:08,  7.62it/s]"
          ]
        },
        {
          "name": "stdout",
          "output_type": "stream",
          "text": [
            "1/1 [==============================] - 0s 53ms/step\n"
          ]
        },
        {
          "name": "stderr",
          "output_type": "stream",
          "text": [
            "\rNormal:  87%|████████▋ | 405/468 [00:57<00:08,  7.75it/s]"
          ]
        },
        {
          "name": "stdout",
          "output_type": "stream",
          "text": [
            "1/1 [==============================] - 0s 62ms/step\n"
          ]
        },
        {
          "name": "stderr",
          "output_type": "stream",
          "text": [
            "\rNormal:  87%|████████▋ | 406/468 [00:57<00:08,  7.53it/s]"
          ]
        },
        {
          "name": "stdout",
          "output_type": "stream",
          "text": [
            "1/1 [==============================] - 0s 51ms/step\n"
          ]
        },
        {
          "name": "stderr",
          "output_type": "stream",
          "text": [
            "\rNormal:  87%|████████▋ | 407/468 [00:57<00:08,  7.25it/s]"
          ]
        },
        {
          "name": "stdout",
          "output_type": "stream",
          "text": [
            "1/1 [==============================] - 0s 51ms/step\n"
          ]
        },
        {
          "name": "stderr",
          "output_type": "stream",
          "text": [
            "\rNormal:  87%|████████▋ | 408/468 [00:57<00:08,  7.24it/s]"
          ]
        },
        {
          "name": "stdout",
          "output_type": "stream",
          "text": [
            "1/1 [==============================] - 0s 53ms/step\n"
          ]
        },
        {
          "name": "stderr",
          "output_type": "stream",
          "text": [
            "\rNormal:  87%|████████▋ | 409/468 [00:58<00:08,  7.08it/s]"
          ]
        },
        {
          "name": "stdout",
          "output_type": "stream",
          "text": [
            "1/1 [==============================] - 0s 51ms/step\n"
          ]
        },
        {
          "name": "stderr",
          "output_type": "stream",
          "text": [
            "\rNormal:  88%|████████▊ | 410/468 [00:58<00:08,  7.03it/s]"
          ]
        },
        {
          "name": "stdout",
          "output_type": "stream",
          "text": [
            "1/1 [==============================] - 0s 50ms/step\n"
          ]
        },
        {
          "name": "stderr",
          "output_type": "stream",
          "text": [
            "\rNormal:  88%|████████▊ | 411/468 [00:58<00:07,  7.13it/s]"
          ]
        },
        {
          "name": "stdout",
          "output_type": "stream",
          "text": [
            "1/1 [==============================] - 0s 50ms/step\n"
          ]
        },
        {
          "name": "stderr",
          "output_type": "stream",
          "text": [
            "\rNormal:  88%|████████▊ | 412/468 [00:58<00:07,  7.35it/s]"
          ]
        },
        {
          "name": "stdout",
          "output_type": "stream",
          "text": [
            "1/1 [==============================] - 0s 51ms/step\n"
          ]
        },
        {
          "name": "stderr",
          "output_type": "stream",
          "text": [
            "\rNormal:  88%|████████▊ | 413/468 [00:58<00:07,  7.54it/s]"
          ]
        },
        {
          "name": "stdout",
          "output_type": "stream",
          "text": [
            "1/1 [==============================] - 0s 54ms/step\n"
          ]
        },
        {
          "name": "stderr",
          "output_type": "stream",
          "text": [
            "\rNormal:  88%|████████▊ | 414/468 [00:58<00:07,  7.60it/s]"
          ]
        },
        {
          "name": "stdout",
          "output_type": "stream",
          "text": [
            "1/1 [==============================] - 0s 53ms/step\n"
          ]
        },
        {
          "name": "stderr",
          "output_type": "stream",
          "text": [
            "\rNormal:  89%|████████▊ | 415/468 [00:58<00:06,  7.69it/s]"
          ]
        },
        {
          "name": "stdout",
          "output_type": "stream",
          "text": [
            "1/1 [==============================] - 0s 54ms/step\n"
          ]
        },
        {
          "name": "stderr",
          "output_type": "stream",
          "text": [
            "\rNormal:  89%|████████▉ | 416/468 [00:58<00:06,  7.48it/s]"
          ]
        },
        {
          "name": "stdout",
          "output_type": "stream",
          "text": [
            "1/1 [==============================] - 0s 50ms/step\n"
          ]
        },
        {
          "name": "stderr",
          "output_type": "stream",
          "text": [
            "\rNormal:  89%|████████▉ | 417/468 [00:59<00:06,  7.47it/s]"
          ]
        },
        {
          "name": "stdout",
          "output_type": "stream",
          "text": [
            "1/1 [==============================] - 0s 51ms/step\n"
          ]
        },
        {
          "name": "stderr",
          "output_type": "stream",
          "text": [
            "\rNormal:  89%|████████▉ | 418/468 [00:59<00:06,  7.20it/s]"
          ]
        },
        {
          "name": "stdout",
          "output_type": "stream",
          "text": [
            "1/1 [==============================] - 0s 52ms/step\n"
          ]
        },
        {
          "name": "stderr",
          "output_type": "stream",
          "text": [
            "\rNormal:  90%|████████▉ | 419/468 [00:59<00:06,  7.17it/s]"
          ]
        },
        {
          "name": "stdout",
          "output_type": "stream",
          "text": [
            "1/1 [==============================] - 0s 55ms/step\n"
          ]
        },
        {
          "name": "stderr",
          "output_type": "stream",
          "text": [
            "\rNormal:  90%|████████▉ | 420/468 [00:59<00:06,  7.10it/s]"
          ]
        },
        {
          "name": "stdout",
          "output_type": "stream",
          "text": [
            "1/1 [==============================] - 0s 53ms/step\n"
          ]
        },
        {
          "name": "stderr",
          "output_type": "stream",
          "text": [
            "\rNormal:  90%|████████▉ | 421/468 [00:59<00:06,  6.81it/s]"
          ]
        },
        {
          "name": "stdout",
          "output_type": "stream",
          "text": [
            "1/1 [==============================] - 0s 53ms/step\n"
          ]
        },
        {
          "name": "stderr",
          "output_type": "stream",
          "text": [
            "\rNormal:  90%|█████████ | 422/468 [00:59<00:06,  6.99it/s]"
          ]
        },
        {
          "name": "stdout",
          "output_type": "stream",
          "text": [
            "1/1 [==============================] - 0s 51ms/step\n"
          ]
        },
        {
          "name": "stderr",
          "output_type": "stream",
          "text": [
            "\rNormal:  90%|█████████ | 423/468 [00:59<00:06,  7.37it/s]"
          ]
        },
        {
          "name": "stdout",
          "output_type": "stream",
          "text": [
            "1/1 [==============================] - 0s 54ms/step\n"
          ]
        },
        {
          "name": "stderr",
          "output_type": "stream",
          "text": [
            "\rNormal:  91%|█████████ | 424/468 [01:00<00:06,  7.32it/s]"
          ]
        },
        {
          "name": "stdout",
          "output_type": "stream",
          "text": [
            "1/1 [==============================] - 0s 53ms/step\n"
          ]
        },
        {
          "name": "stderr",
          "output_type": "stream",
          "text": [
            "\rNormal:  91%|█████████ | 425/468 [01:00<00:05,  7.25it/s]"
          ]
        },
        {
          "name": "stdout",
          "output_type": "stream",
          "text": [
            "1/1 [==============================] - 0s 55ms/step\n"
          ]
        },
        {
          "name": "stderr",
          "output_type": "stream",
          "text": [
            "\rNormal:  91%|█████████ | 426/468 [01:00<00:05,  7.35it/s]"
          ]
        },
        {
          "name": "stdout",
          "output_type": "stream",
          "text": [
            "1/1 [==============================] - 0s 53ms/step\n"
          ]
        },
        {
          "name": "stderr",
          "output_type": "stream",
          "text": [
            "\rNormal:  91%|█████████ | 427/468 [01:00<00:05,  7.15it/s]"
          ]
        },
        {
          "name": "stdout",
          "output_type": "stream",
          "text": [
            "1/1 [==============================] - 0s 55ms/step\n"
          ]
        },
        {
          "name": "stderr",
          "output_type": "stream",
          "text": [
            "\rNormal:  91%|█████████▏| 428/468 [01:00<00:05,  7.23it/s]"
          ]
        },
        {
          "name": "stdout",
          "output_type": "stream",
          "text": [
            "1/1 [==============================] - 0s 51ms/step\n"
          ]
        },
        {
          "name": "stderr",
          "output_type": "stream",
          "text": [
            "\rNormal:  92%|█████████▏| 429/468 [01:00<00:05,  7.31it/s]"
          ]
        },
        {
          "name": "stdout",
          "output_type": "stream",
          "text": [
            "1/1 [==============================] - 0s 51ms/step\n"
          ]
        },
        {
          "name": "stderr",
          "output_type": "stream",
          "text": [
            "\rNormal:  92%|█████████▏| 430/468 [01:00<00:05,  7.27it/s]"
          ]
        },
        {
          "name": "stdout",
          "output_type": "stream",
          "text": [
            "1/1 [==============================] - 0s 52ms/step\n"
          ]
        },
        {
          "name": "stderr",
          "output_type": "stream",
          "text": [
            "\rNormal:  92%|█████████▏| 431/468 [01:01<00:04,  7.53it/s]"
          ]
        },
        {
          "name": "stdout",
          "output_type": "stream",
          "text": [
            "1/1 [==============================] - 0s 97ms/step\n"
          ]
        },
        {
          "name": "stderr",
          "output_type": "stream",
          "text": [
            "\rNormal:  92%|█████████▏| 432/468 [01:01<00:07,  5.09it/s]"
          ]
        },
        {
          "name": "stdout",
          "output_type": "stream",
          "text": [
            "1/1 [==============================] - 0s 51ms/step\n"
          ]
        },
        {
          "name": "stderr",
          "output_type": "stream",
          "text": [
            "\rNormal:  93%|█████████▎| 433/468 [01:01<00:06,  5.80it/s]"
          ]
        },
        {
          "name": "stdout",
          "output_type": "stream",
          "text": [
            "1/1 [==============================] - 0s 51ms/step\n"
          ]
        },
        {
          "name": "stderr",
          "output_type": "stream",
          "text": [
            "\rNormal:  93%|█████████▎| 434/468 [01:01<00:05,  6.22it/s]"
          ]
        },
        {
          "name": "stdout",
          "output_type": "stream",
          "text": [
            "1/1 [==============================] - 0s 54ms/step\n"
          ]
        },
        {
          "name": "stderr",
          "output_type": "stream",
          "text": [
            "\rNormal:  93%|█████████▎| 435/468 [01:01<00:05,  6.50it/s]"
          ]
        },
        {
          "name": "stdout",
          "output_type": "stream",
          "text": [
            "1/1 [==============================] - 0s 81ms/step\n"
          ]
        },
        {
          "name": "stderr",
          "output_type": "stream",
          "text": [
            "\rNormal:  93%|█████████▎| 436/468 [01:01<00:05,  6.26it/s]"
          ]
        },
        {
          "name": "stdout",
          "output_type": "stream",
          "text": [
            "1/1 [==============================] - 0s 61ms/step\n"
          ]
        },
        {
          "name": "stderr",
          "output_type": "stream",
          "text": [
            "\rNormal:  93%|█████████▎| 437/468 [01:02<00:06,  4.95it/s]"
          ]
        },
        {
          "name": "stdout",
          "output_type": "stream",
          "text": [
            "1/1 [==============================] - 0s 51ms/step\n"
          ]
        },
        {
          "name": "stderr",
          "output_type": "stream",
          "text": [
            "\rNormal:  94%|█████████▎| 438/468 [01:02<00:05,  5.56it/s]"
          ]
        },
        {
          "name": "stdout",
          "output_type": "stream",
          "text": [
            "1/1 [==============================] - 0s 53ms/step\n"
          ]
        },
        {
          "name": "stderr",
          "output_type": "stream",
          "text": [
            "\rNormal:  94%|█████████▍| 439/468 [01:02<00:04,  5.85it/s]"
          ]
        },
        {
          "name": "stdout",
          "output_type": "stream",
          "text": [
            "1/1 [==============================] - 0s 52ms/step\n"
          ]
        },
        {
          "name": "stderr",
          "output_type": "stream",
          "text": [
            "\rNormal:  94%|█████████▍| 440/468 [01:02<00:04,  6.35it/s]"
          ]
        },
        {
          "name": "stdout",
          "output_type": "stream",
          "text": [
            "1/1 [==============================] - 0s 194ms/step\n"
          ]
        },
        {
          "name": "stderr",
          "output_type": "stream",
          "text": [
            "\rNormal:  94%|█████████▍| 441/468 [01:02<00:05,  4.88it/s]"
          ]
        },
        {
          "name": "stdout",
          "output_type": "stream",
          "text": [
            "1/1 [==============================] - 0s 52ms/step\n"
          ]
        },
        {
          "name": "stderr",
          "output_type": "stream",
          "text": [
            "\rNormal:  94%|█████████▍| 442/468 [01:03<00:05,  4.92it/s]"
          ]
        },
        {
          "name": "stdout",
          "output_type": "stream",
          "text": [
            "1/1 [==============================] - 0s 54ms/step\n"
          ]
        },
        {
          "name": "stderr",
          "output_type": "stream",
          "text": [
            "\rNormal:  95%|█████████▍| 443/468 [01:03<00:04,  5.60it/s]"
          ]
        },
        {
          "name": "stdout",
          "output_type": "stream",
          "text": [
            "1/1 [==============================] - 0s 62ms/step\n"
          ]
        },
        {
          "name": "stderr",
          "output_type": "stream",
          "text": [
            "\rNormal:  95%|█████████▍| 444/468 [01:03<00:04,  5.96it/s]"
          ]
        },
        {
          "name": "stdout",
          "output_type": "stream",
          "text": [
            "1/1 [==============================] - 0s 52ms/step\n"
          ]
        },
        {
          "name": "stderr",
          "output_type": "stream",
          "text": [
            "\rNormal:  95%|█████████▌| 445/468 [01:03<00:03,  6.41it/s]"
          ]
        },
        {
          "name": "stdout",
          "output_type": "stream",
          "text": [
            "1/1 [==============================] - 0s 55ms/step\n"
          ]
        },
        {
          "name": "stderr",
          "output_type": "stream",
          "text": [
            "\rNormal:  95%|█████████▌| 446/468 [01:03<00:03,  6.65it/s]"
          ]
        },
        {
          "name": "stdout",
          "output_type": "stream",
          "text": [
            "1/1 [==============================] - 0s 51ms/step\n"
          ]
        },
        {
          "name": "stderr",
          "output_type": "stream",
          "text": [
            "\rNormal:  96%|█████████▌| 447/468 [01:03<00:03,  6.94it/s]"
          ]
        },
        {
          "name": "stdout",
          "output_type": "stream",
          "text": [
            "1/1 [==============================] - 0s 51ms/step\n"
          ]
        },
        {
          "name": "stderr",
          "output_type": "stream",
          "text": [
            "\rNormal:  96%|█████████▌| 448/468 [01:03<00:02,  6.88it/s]"
          ]
        },
        {
          "name": "stdout",
          "output_type": "stream",
          "text": [
            "1/1 [==============================] - 0s 52ms/step\n"
          ]
        },
        {
          "name": "stderr",
          "output_type": "stream",
          "text": [
            "\rNormal:  96%|█████████▌| 449/468 [01:04<00:02,  6.97it/s]"
          ]
        },
        {
          "name": "stdout",
          "output_type": "stream",
          "text": [
            "1/1 [==============================] - 0s 50ms/step\n"
          ]
        },
        {
          "name": "stderr",
          "output_type": "stream",
          "text": [
            "\rNormal:  96%|█████████▌| 450/468 [01:04<00:02,  7.29it/s]"
          ]
        },
        {
          "name": "stdout",
          "output_type": "stream",
          "text": [
            "1/1 [==============================] - 0s 56ms/step\n"
          ]
        },
        {
          "name": "stderr",
          "output_type": "stream",
          "text": [
            "\rNormal:  96%|█████████▋| 451/468 [01:04<00:02,  7.58it/s]"
          ]
        },
        {
          "name": "stdout",
          "output_type": "stream",
          "text": [
            "1/1 [==============================] - 0s 52ms/step\n"
          ]
        },
        {
          "name": "stderr",
          "output_type": "stream",
          "text": [
            "\rNormal:  97%|█████████▋| 452/468 [01:04<00:02,  7.68it/s]"
          ]
        },
        {
          "name": "stdout",
          "output_type": "stream",
          "text": [
            "1/1 [==============================] - 0s 54ms/step\n"
          ]
        },
        {
          "name": "stderr",
          "output_type": "stream",
          "text": [
            "\rNormal:  97%|█████████▋| 453/468 [01:04<00:02,  7.34it/s]"
          ]
        },
        {
          "name": "stdout",
          "output_type": "stream",
          "text": [
            "1/1 [==============================] - 0s 64ms/step\n"
          ]
        },
        {
          "name": "stderr",
          "output_type": "stream",
          "text": [
            "\rNormal:  97%|█████████▋| 454/468 [01:04<00:01,  7.21it/s]"
          ]
        },
        {
          "name": "stdout",
          "output_type": "stream",
          "text": [
            "1/1 [==============================] - 0s 53ms/step\n"
          ]
        },
        {
          "name": "stderr",
          "output_type": "stream",
          "text": [
            "\rNormal:  97%|█████████▋| 455/468 [01:04<00:01,  7.23it/s]"
          ]
        },
        {
          "name": "stdout",
          "output_type": "stream",
          "text": [
            "1/1 [==============================] - 0s 75ms/step\n"
          ]
        },
        {
          "name": "stderr",
          "output_type": "stream",
          "text": [
            "\rNormal:  97%|█████████▋| 456/468 [01:05<00:01,  7.11it/s]"
          ]
        },
        {
          "name": "stdout",
          "output_type": "stream",
          "text": [
            "1/1 [==============================] - 0s 96ms/step\n"
          ]
        },
        {
          "name": "stderr",
          "output_type": "stream",
          "text": [
            "\rNormal:  98%|█████████▊| 457/468 [01:05<00:01,  6.36it/s]"
          ]
        },
        {
          "name": "stdout",
          "output_type": "stream",
          "text": [
            "1/1 [==============================] - 0s 86ms/step\n"
          ]
        },
        {
          "name": "stderr",
          "output_type": "stream",
          "text": [
            "\rNormal:  98%|█████████▊| 458/468 [01:05<00:01,  5.76it/s]"
          ]
        },
        {
          "name": "stdout",
          "output_type": "stream",
          "text": [
            "1/1 [==============================] - 0s 88ms/step\n"
          ]
        },
        {
          "name": "stderr",
          "output_type": "stream",
          "text": [
            "\rNormal:  98%|█████████▊| 459/468 [01:05<00:01,  4.84it/s]"
          ]
        },
        {
          "name": "stdout",
          "output_type": "stream",
          "text": [
            "1/1 [==============================] - 0s 86ms/step\n"
          ]
        },
        {
          "name": "stderr",
          "output_type": "stream",
          "text": [
            "\rNormal:  98%|█████████▊| 460/468 [01:05<00:01,  4.84it/s]"
          ]
        },
        {
          "name": "stdout",
          "output_type": "stream",
          "text": [
            "1/1 [==============================] - 0s 86ms/step\n"
          ]
        },
        {
          "name": "stderr",
          "output_type": "stream",
          "text": [
            "\rNormal:  99%|█████████▊| 461/468 [01:06<00:01,  4.78it/s]"
          ]
        },
        {
          "name": "stdout",
          "output_type": "stream",
          "text": [
            "1/1 [==============================] - 0s 85ms/step\n"
          ]
        },
        {
          "name": "stderr",
          "output_type": "stream",
          "text": [
            "\rNormal:  99%|█████████▊| 462/468 [01:06<00:01,  4.83it/s]"
          ]
        },
        {
          "name": "stdout",
          "output_type": "stream",
          "text": [
            "1/1 [==============================] - 0s 87ms/step\n"
          ]
        },
        {
          "name": "stderr",
          "output_type": "stream",
          "text": [
            "\rNormal:  99%|█████████▉| 463/468 [01:06<00:00,  5.12it/s]"
          ]
        },
        {
          "name": "stdout",
          "output_type": "stream",
          "text": [
            "1/1 [==============================] - 0s 91ms/step\n"
          ]
        },
        {
          "name": "stderr",
          "output_type": "stream",
          "text": [
            "\rNormal:  99%|█████████▉| 464/468 [01:06<00:00,  4.90it/s]"
          ]
        },
        {
          "name": "stdout",
          "output_type": "stream",
          "text": [
            "1/1 [==============================] - 0s 92ms/step\n"
          ]
        },
        {
          "name": "stderr",
          "output_type": "stream",
          "text": [
            "\rNormal:  99%|█████████▉| 465/468 [01:06<00:00,  5.00it/s]"
          ]
        },
        {
          "name": "stdout",
          "output_type": "stream",
          "text": [
            "1/1 [==============================] - 0s 98ms/step\n"
          ]
        },
        {
          "name": "stderr",
          "output_type": "stream",
          "text": [
            "\rNormal: 100%|█████████▉| 466/468 [01:07<00:00,  5.03it/s]"
          ]
        },
        {
          "name": "stdout",
          "output_type": "stream",
          "text": [
            "1/1 [==============================] - 0s 94ms/step\n"
          ]
        },
        {
          "name": "stderr",
          "output_type": "stream",
          "text": [
            "\rNormal: 100%|█████████▉| 467/468 [01:07<00:00,  4.99it/s]"
          ]
        },
        {
          "name": "stdout",
          "output_type": "stream",
          "text": [
            "1/1 [==============================] - 0s 87ms/step\n"
          ]
        },
        {
          "name": "stderr",
          "output_type": "stream",
          "text": [
            "Normal: 100%|██████████| 468/468 [01:07<00:00,  6.92it/s]\n",
            "Pneumonia:   0%|          | 0/780 [00:00<?, ?it/s]"
          ]
        },
        {
          "name": "stdout",
          "output_type": "stream",
          "text": [
            "1/1 [==============================] - 0s 86ms/step\n"
          ]
        },
        {
          "name": "stderr",
          "output_type": "stream",
          "text": [
            "\rPneumonia:   0%|          | 1/780 [00:00<02:04,  6.25it/s]"
          ]
        },
        {
          "name": "stdout",
          "output_type": "stream",
          "text": [
            "1/1 [==============================] - 0s 94ms/step\n"
          ]
        },
        {
          "name": "stderr",
          "output_type": "stream",
          "text": [
            "\rPneumonia:   0%|          | 2/780 [00:00<02:14,  5.80it/s]"
          ]
        },
        {
          "name": "stdout",
          "output_type": "stream",
          "text": [
            "1/1 [==============================] - 0s 80ms/step\n"
          ]
        },
        {
          "name": "stderr",
          "output_type": "stream",
          "text": [
            "\rPneumonia:   0%|          | 3/780 [00:00<02:07,  6.11it/s]"
          ]
        },
        {
          "name": "stdout",
          "output_type": "stream",
          "text": [
            "1/1 [==============================] - 0s 104ms/step\n"
          ]
        },
        {
          "name": "stderr",
          "output_type": "stream",
          "text": [
            "\rPneumonia:   1%|          | 4/780 [00:00<02:12,  5.85it/s]"
          ]
        },
        {
          "name": "stdout",
          "output_type": "stream",
          "text": [
            "1/1 [==============================] - 0s 101ms/step\n"
          ]
        },
        {
          "name": "stderr",
          "output_type": "stream",
          "text": [
            "\rPneumonia:   1%|          | 5/780 [00:00<02:37,  4.92it/s]"
          ]
        },
        {
          "name": "stdout",
          "output_type": "stream",
          "text": [
            "1/1 [==============================] - 0s 92ms/step\n"
          ]
        },
        {
          "name": "stderr",
          "output_type": "stream",
          "text": [
            "\rPneumonia:   1%|          | 6/780 [00:01<02:31,  5.12it/s]"
          ]
        },
        {
          "name": "stdout",
          "output_type": "stream",
          "text": [
            "1/1 [==============================] - 0s 95ms/step\n"
          ]
        },
        {
          "name": "stderr",
          "output_type": "stream",
          "text": [
            "\rPneumonia:   1%|          | 7/780 [00:01<02:23,  5.40it/s]"
          ]
        },
        {
          "name": "stdout",
          "output_type": "stream",
          "text": [
            "1/1 [==============================] - 0s 121ms/step\n"
          ]
        },
        {
          "name": "stderr",
          "output_type": "stream",
          "text": [
            "\rPneumonia:   1%|          | 8/780 [00:01<02:55,  4.40it/s]"
          ]
        },
        {
          "name": "stdout",
          "output_type": "stream",
          "text": [
            "1/1 [==============================] - 0s 63ms/step\n"
          ]
        },
        {
          "name": "stderr",
          "output_type": "stream",
          "text": [
            "\rPneumonia:   1%|          | 9/780 [00:02<04:06,  3.12it/s]"
          ]
        },
        {
          "name": "stdout",
          "output_type": "stream",
          "text": [
            "1/1 [==============================] - 0s 53ms/step\n"
          ]
        },
        {
          "name": "stderr",
          "output_type": "stream",
          "text": [
            "\rPneumonia:   1%|▏         | 10/780 [00:02<03:16,  3.92it/s]"
          ]
        },
        {
          "name": "stdout",
          "output_type": "stream",
          "text": [
            "1/1 [==============================] - 0s 52ms/step\n"
          ]
        },
        {
          "name": "stderr",
          "output_type": "stream",
          "text": [
            "\rPneumonia:   1%|▏         | 11/780 [00:02<02:43,  4.71it/s]"
          ]
        },
        {
          "name": "stdout",
          "output_type": "stream",
          "text": [
            "1/1 [==============================] - 0s 52ms/step\n"
          ]
        },
        {
          "name": "stderr",
          "output_type": "stream",
          "text": [
            "\rPneumonia:   2%|▏         | 12/780 [00:02<02:23,  5.37it/s]"
          ]
        },
        {
          "name": "stdout",
          "output_type": "stream",
          "text": [
            "1/1 [==============================] - 0s 58ms/step\n"
          ]
        },
        {
          "name": "stderr",
          "output_type": "stream",
          "text": [
            "\rPneumonia:   2%|▏         | 13/780 [00:02<02:09,  5.94it/s]"
          ]
        },
        {
          "name": "stdout",
          "output_type": "stream",
          "text": [
            "1/1 [==============================] - 0s 56ms/step\n"
          ]
        },
        {
          "name": "stderr",
          "output_type": "stream",
          "text": [
            "\rPneumonia:   2%|▏         | 14/780 [00:02<01:58,  6.46it/s]"
          ]
        },
        {
          "name": "stdout",
          "output_type": "stream",
          "text": [
            "1/1 [==============================] - 0s 51ms/step\n"
          ]
        },
        {
          "name": "stderr",
          "output_type": "stream",
          "text": [
            "\rPneumonia:   2%|▏         | 15/780 [00:02<01:50,  6.89it/s]"
          ]
        },
        {
          "name": "stdout",
          "output_type": "stream",
          "text": [
            "1/1 [==============================] - 0s 52ms/step\n"
          ]
        },
        {
          "name": "stderr",
          "output_type": "stream",
          "text": [
            "\rPneumonia:   2%|▏         | 16/780 [00:02<01:43,  7.36it/s]"
          ]
        },
        {
          "name": "stdout",
          "output_type": "stream",
          "text": [
            "1/1 [==============================] - 0s 53ms/step\n"
          ]
        },
        {
          "name": "stderr",
          "output_type": "stream",
          "text": [
            "\rPneumonia:   2%|▏         | 17/780 [00:03<01:38,  7.72it/s]"
          ]
        },
        {
          "name": "stdout",
          "output_type": "stream",
          "text": [
            "1/1 [==============================] - 0s 54ms/step\n"
          ]
        },
        {
          "name": "stderr",
          "output_type": "stream",
          "text": [
            "\rPneumonia:   2%|▏         | 18/780 [00:03<01:36,  7.90it/s]"
          ]
        },
        {
          "name": "stdout",
          "output_type": "stream",
          "text": [
            "1/1 [==============================] - 0s 62ms/step\n"
          ]
        },
        {
          "name": "stderr",
          "output_type": "stream",
          "text": [
            "\rPneumonia:   2%|▏         | 19/780 [00:03<01:35,  8.00it/s]"
          ]
        },
        {
          "name": "stdout",
          "output_type": "stream",
          "text": [
            "1/1 [==============================] - 0s 71ms/step\n"
          ]
        },
        {
          "name": "stderr",
          "output_type": "stream",
          "text": [
            "\rPneumonia:   3%|▎         | 20/780 [00:03<01:37,  7.81it/s]"
          ]
        },
        {
          "name": "stdout",
          "output_type": "stream",
          "text": [
            "1/1 [==============================] - 0s 52ms/step\n"
          ]
        },
        {
          "name": "stderr",
          "output_type": "stream",
          "text": [
            "\rPneumonia:   3%|▎         | 21/780 [00:03<01:34,  8.02it/s]"
          ]
        },
        {
          "name": "stdout",
          "output_type": "stream",
          "text": [
            "1/1 [==============================] - 0s 53ms/step\n"
          ]
        },
        {
          "name": "stderr",
          "output_type": "stream",
          "text": [
            "\rPneumonia:   3%|▎         | 22/780 [00:03<01:35,  7.96it/s]"
          ]
        },
        {
          "name": "stdout",
          "output_type": "stream",
          "text": [
            "1/1 [==============================] - 0s 52ms/step\n"
          ]
        },
        {
          "name": "stderr",
          "output_type": "stream",
          "text": [
            "\rPneumonia:   3%|▎         | 23/780 [00:03<01:33,  8.05it/s]"
          ]
        },
        {
          "name": "stdout",
          "output_type": "stream",
          "text": [
            "1/1 [==============================] - 0s 51ms/step\n"
          ]
        },
        {
          "name": "stderr",
          "output_type": "stream",
          "text": [
            "\rPneumonia:   3%|▎         | 24/780 [00:03<01:32,  8.14it/s]"
          ]
        },
        {
          "name": "stdout",
          "output_type": "stream",
          "text": [
            "1/1 [==============================] - 0s 53ms/step\n"
          ]
        },
        {
          "name": "stderr",
          "output_type": "stream",
          "text": [
            "\rPneumonia:   3%|▎         | 25/780 [00:04<01:30,  8.36it/s]"
          ]
        },
        {
          "name": "stdout",
          "output_type": "stream",
          "text": [
            "1/1 [==============================] - 0s 52ms/step\n"
          ]
        },
        {
          "name": "stderr",
          "output_type": "stream",
          "text": [
            "\rPneumonia:   3%|▎         | 26/780 [00:04<01:29,  8.43it/s]"
          ]
        },
        {
          "name": "stdout",
          "output_type": "stream",
          "text": [
            "1/1 [==============================] - 0s 58ms/step\n"
          ]
        },
        {
          "name": "stderr",
          "output_type": "stream",
          "text": [
            "\rPneumonia:   3%|▎         | 27/780 [00:04<01:30,  8.29it/s]"
          ]
        },
        {
          "name": "stdout",
          "output_type": "stream",
          "text": [
            "1/1 [==============================] - 0s 54ms/step\n"
          ]
        },
        {
          "name": "stderr",
          "output_type": "stream",
          "text": [
            "\rPneumonia:   4%|▎         | 28/780 [00:04<01:29,  8.45it/s]"
          ]
        },
        {
          "name": "stdout",
          "output_type": "stream",
          "text": [
            "1/1 [==============================] - 0s 52ms/step\n"
          ]
        },
        {
          "name": "stderr",
          "output_type": "stream",
          "text": [
            "\rPneumonia:   4%|▎         | 29/780 [00:04<01:31,  8.23it/s]"
          ]
        },
        {
          "name": "stdout",
          "output_type": "stream",
          "text": [
            "1/1 [==============================] - 0s 51ms/step\n"
          ]
        },
        {
          "name": "stderr",
          "output_type": "stream",
          "text": [
            "\rPneumonia:   4%|▍         | 30/780 [00:04<01:31,  8.19it/s]"
          ]
        },
        {
          "name": "stdout",
          "output_type": "stream",
          "text": [
            "1/1 [==============================] - 0s 55ms/step\n"
          ]
        },
        {
          "name": "stderr",
          "output_type": "stream",
          "text": [
            "\rPneumonia:   4%|▍         | 31/780 [00:04<01:32,  8.09it/s]"
          ]
        },
        {
          "name": "stdout",
          "output_type": "stream",
          "text": [
            "1/1 [==============================] - 0s 53ms/step\n"
          ]
        },
        {
          "name": "stderr",
          "output_type": "stream",
          "text": [
            "\rPneumonia:   4%|▍         | 32/780 [00:04<01:30,  8.28it/s]"
          ]
        },
        {
          "name": "stdout",
          "output_type": "stream",
          "text": [
            "1/1 [==============================] - 0s 54ms/step\n"
          ]
        },
        {
          "name": "stderr",
          "output_type": "stream",
          "text": [
            "\rPneumonia:   4%|▍         | 33/780 [00:05<01:29,  8.37it/s]"
          ]
        },
        {
          "name": "stdout",
          "output_type": "stream",
          "text": [
            "1/1 [==============================] - 0s 52ms/step\n"
          ]
        },
        {
          "name": "stderr",
          "output_type": "stream",
          "text": [
            "\rPneumonia:   4%|▍         | 34/780 [00:05<01:29,  8.31it/s]"
          ]
        },
        {
          "name": "stdout",
          "output_type": "stream",
          "text": [
            "1/1 [==============================] - 0s 51ms/step\n"
          ]
        },
        {
          "name": "stderr",
          "output_type": "stream",
          "text": [
            "\rPneumonia:   4%|▍         | 35/780 [00:05<01:27,  8.49it/s]"
          ]
        },
        {
          "name": "stdout",
          "output_type": "stream",
          "text": [
            "1/1 [==============================] - 0s 53ms/step\n"
          ]
        },
        {
          "name": "stderr",
          "output_type": "stream",
          "text": [
            "\rPneumonia:   5%|▍         | 36/780 [00:05<01:26,  8.57it/s]"
          ]
        },
        {
          "name": "stdout",
          "output_type": "stream",
          "text": [
            "1/1 [==============================] - 0s 62ms/step\n"
          ]
        },
        {
          "name": "stderr",
          "output_type": "stream",
          "text": [
            "\rPneumonia:   5%|▍         | 37/780 [00:05<01:29,  8.32it/s]"
          ]
        },
        {
          "name": "stdout",
          "output_type": "stream",
          "text": [
            "1/1 [==============================] - 0s 60ms/step\n"
          ]
        },
        {
          "name": "stderr",
          "output_type": "stream",
          "text": [
            "\rPneumonia:   5%|▍         | 38/780 [00:05<01:29,  8.28it/s]"
          ]
        },
        {
          "name": "stdout",
          "output_type": "stream",
          "text": [
            "1/1 [==============================] - 0s 54ms/step\n"
          ]
        },
        {
          "name": "stderr",
          "output_type": "stream",
          "text": [
            "\rPneumonia:   5%|▌         | 39/780 [00:05<01:29,  8.24it/s]"
          ]
        },
        {
          "name": "stdout",
          "output_type": "stream",
          "text": [
            "1/1 [==============================] - 0s 53ms/step\n"
          ]
        },
        {
          "name": "stderr",
          "output_type": "stream",
          "text": [
            "\rPneumonia:   5%|▌         | 40/780 [00:05<01:34,  7.85it/s]"
          ]
        },
        {
          "name": "stdout",
          "output_type": "stream",
          "text": [
            "1/1 [==============================] - 0s 53ms/step\n"
          ]
        },
        {
          "name": "stderr",
          "output_type": "stream",
          "text": [
            "\rPneumonia:   5%|▌         | 41/780 [00:05<01:29,  8.25it/s]"
          ]
        },
        {
          "name": "stdout",
          "output_type": "stream",
          "text": [
            "1/1 [==============================] - 0s 53ms/step\n"
          ]
        },
        {
          "name": "stderr",
          "output_type": "stream",
          "text": [
            "\rPneumonia:   5%|▌         | 42/780 [00:06<01:28,  8.34it/s]"
          ]
        },
        {
          "name": "stdout",
          "output_type": "stream",
          "text": [
            "1/1 [==============================] - 0s 53ms/step\n"
          ]
        },
        {
          "name": "stderr",
          "output_type": "stream",
          "text": [
            "\rPneumonia:   6%|▌         | 43/780 [00:06<01:26,  8.52it/s]"
          ]
        },
        {
          "name": "stdout",
          "output_type": "stream",
          "text": [
            "1/1 [==============================] - 0s 54ms/step\n"
          ]
        },
        {
          "name": "stderr",
          "output_type": "stream",
          "text": [
            "\rPneumonia:   6%|▌         | 44/780 [00:06<01:25,  8.65it/s]"
          ]
        },
        {
          "name": "stdout",
          "output_type": "stream",
          "text": [
            "1/1 [==============================] - 0s 51ms/step\n"
          ]
        },
        {
          "name": "stderr",
          "output_type": "stream",
          "text": [
            "\rPneumonia:   6%|▌         | 45/780 [00:06<01:23,  8.77it/s]"
          ]
        },
        {
          "name": "stdout",
          "output_type": "stream",
          "text": [
            "1/1 [==============================] - 0s 64ms/step\n"
          ]
        },
        {
          "name": "stderr",
          "output_type": "stream",
          "text": [
            "\rPneumonia:   6%|▌         | 46/780 [00:06<01:26,  8.49it/s]"
          ]
        },
        {
          "name": "stdout",
          "output_type": "stream",
          "text": [
            "1/1 [==============================] - 0s 54ms/step\n"
          ]
        },
        {
          "name": "stderr",
          "output_type": "stream",
          "text": [
            "\rPneumonia:   6%|▌         | 47/780 [00:06<01:27,  8.38it/s]"
          ]
        },
        {
          "name": "stdout",
          "output_type": "stream",
          "text": [
            "1/1 [==============================] - 0s 53ms/step\n"
          ]
        },
        {
          "name": "stderr",
          "output_type": "stream",
          "text": [
            "\rPneumonia:   6%|▌         | 48/780 [00:06<01:27,  8.39it/s]"
          ]
        },
        {
          "name": "stdout",
          "output_type": "stream",
          "text": [
            "1/1 [==============================] - 0s 53ms/step\n"
          ]
        },
        {
          "name": "stderr",
          "output_type": "stream",
          "text": [
            "\rPneumonia:   6%|▋         | 49/780 [00:06<01:27,  8.34it/s]"
          ]
        },
        {
          "name": "stdout",
          "output_type": "stream",
          "text": [
            "1/1 [==============================] - 0s 58ms/step\n"
          ]
        },
        {
          "name": "stderr",
          "output_type": "stream",
          "text": [
            "\rPneumonia:   6%|▋         | 50/780 [00:07<01:29,  8.14it/s]"
          ]
        },
        {
          "name": "stdout",
          "output_type": "stream",
          "text": [
            "1/1 [==============================] - 0s 51ms/step\n"
          ]
        },
        {
          "name": "stderr",
          "output_type": "stream",
          "text": [
            "\rPneumonia:   7%|▋         | 51/780 [00:07<01:27,  8.38it/s]"
          ]
        },
        {
          "name": "stdout",
          "output_type": "stream",
          "text": [
            "1/1 [==============================] - 0s 51ms/step\n"
          ]
        },
        {
          "name": "stderr",
          "output_type": "stream",
          "text": [
            "\rPneumonia:   7%|▋         | 52/780 [00:07<01:25,  8.52it/s]"
          ]
        },
        {
          "name": "stdout",
          "output_type": "stream",
          "text": [
            "1/1 [==============================] - 0s 58ms/step\n"
          ]
        },
        {
          "name": "stderr",
          "output_type": "stream",
          "text": [
            "\rPneumonia:   7%|▋         | 53/780 [00:07<01:26,  8.40it/s]"
          ]
        },
        {
          "name": "stdout",
          "output_type": "stream",
          "text": [
            "1/1 [==============================] - 0s 52ms/step\n"
          ]
        },
        {
          "name": "stderr",
          "output_type": "stream",
          "text": [
            "\rPneumonia:   7%|▋         | 54/780 [00:07<01:26,  8.37it/s]"
          ]
        },
        {
          "name": "stdout",
          "output_type": "stream",
          "text": [
            "1/1 [==============================] - 0s 55ms/step\n"
          ]
        },
        {
          "name": "stderr",
          "output_type": "stream",
          "text": [
            "\rPneumonia:   7%|▋         | 55/780 [00:07<01:27,  8.32it/s]"
          ]
        },
        {
          "name": "stdout",
          "output_type": "stream",
          "text": [
            "1/1 [==============================] - 0s 52ms/step\n"
          ]
        },
        {
          "name": "stderr",
          "output_type": "stream",
          "text": [
            "\rPneumonia:   7%|▋         | 56/780 [00:07<01:26,  8.39it/s]"
          ]
        },
        {
          "name": "stdout",
          "output_type": "stream",
          "text": [
            "1/1 [==============================] - 0s 53ms/step\n"
          ]
        },
        {
          "name": "stderr",
          "output_type": "stream",
          "text": [
            "\rPneumonia:   7%|▋         | 57/780 [00:07<01:27,  8.25it/s]"
          ]
        },
        {
          "name": "stdout",
          "output_type": "stream",
          "text": [
            "1/1 [==============================] - 0s 52ms/step\n"
          ]
        },
        {
          "name": "stderr",
          "output_type": "stream",
          "text": [
            "\rPneumonia:   7%|▋         | 58/780 [00:08<01:26,  8.33it/s]"
          ]
        },
        {
          "name": "stdout",
          "output_type": "stream",
          "text": [
            "1/1 [==============================] - 0s 53ms/step\n"
          ]
        },
        {
          "name": "stderr",
          "output_type": "stream",
          "text": [
            "\rPneumonia:   8%|▊         | 59/780 [00:08<01:26,  8.34it/s]"
          ]
        },
        {
          "name": "stdout",
          "output_type": "stream",
          "text": [
            "1/1 [==============================] - 0s 53ms/step\n"
          ]
        },
        {
          "name": "stderr",
          "output_type": "stream",
          "text": [
            "\rPneumonia:   8%|▊         | 60/780 [00:08<01:25,  8.45it/s]"
          ]
        },
        {
          "name": "stdout",
          "output_type": "stream",
          "text": [
            "1/1 [==============================] - 0s 63ms/step\n"
          ]
        },
        {
          "name": "stderr",
          "output_type": "stream",
          "text": [
            "\rPneumonia:   8%|▊         | 61/780 [00:08<01:27,  8.26it/s]"
          ]
        },
        {
          "name": "stdout",
          "output_type": "stream",
          "text": [
            "1/1 [==============================] - 0s 53ms/step\n"
          ]
        },
        {
          "name": "stderr",
          "output_type": "stream",
          "text": [
            "\rPneumonia:   8%|▊         | 62/780 [00:08<01:26,  8.34it/s]"
          ]
        },
        {
          "name": "stdout",
          "output_type": "stream",
          "text": [
            "1/1 [==============================] - 0s 54ms/step\n"
          ]
        },
        {
          "name": "stderr",
          "output_type": "stream",
          "text": [
            "\rPneumonia:   8%|▊         | 63/780 [00:08<01:29,  7.97it/s]"
          ]
        },
        {
          "name": "stdout",
          "output_type": "stream",
          "text": [
            "1/1 [==============================] - 0s 58ms/step\n"
          ]
        },
        {
          "name": "stderr",
          "output_type": "stream",
          "text": [
            "\rPneumonia:   8%|▊         | 64/780 [00:08<01:28,  8.13it/s]"
          ]
        },
        {
          "name": "stdout",
          "output_type": "stream",
          "text": [
            "1/1 [==============================] - 0s 53ms/step\n"
          ]
        },
        {
          "name": "stderr",
          "output_type": "stream",
          "text": [
            "\rPneumonia:   8%|▊         | 65/780 [00:08<01:27,  8.18it/s]"
          ]
        },
        {
          "name": "stdout",
          "output_type": "stream",
          "text": [
            "1/1 [==============================] - 0s 59ms/step\n"
          ]
        },
        {
          "name": "stderr",
          "output_type": "stream",
          "text": [
            "\rPneumonia:   8%|▊         | 66/780 [00:09<01:31,  7.82it/s]"
          ]
        },
        {
          "name": "stdout",
          "output_type": "stream",
          "text": [
            "1/1 [==============================] - 0s 53ms/step\n"
          ]
        },
        {
          "name": "stderr",
          "output_type": "stream",
          "text": [
            "\rPneumonia:   9%|▊         | 67/780 [00:09<01:28,  8.05it/s]"
          ]
        },
        {
          "name": "stdout",
          "output_type": "stream",
          "text": [
            "1/1 [==============================] - 0s 52ms/step\n"
          ]
        },
        {
          "name": "stderr",
          "output_type": "stream",
          "text": [
            "\rPneumonia:   9%|▊         | 68/780 [00:09<01:26,  8.19it/s]"
          ]
        },
        {
          "name": "stdout",
          "output_type": "stream",
          "text": [
            "1/1 [==============================] - 0s 53ms/step\n"
          ]
        },
        {
          "name": "stderr",
          "output_type": "stream",
          "text": [
            "\rPneumonia:   9%|▉         | 69/780 [00:09<01:26,  8.22it/s]"
          ]
        },
        {
          "name": "stdout",
          "output_type": "stream",
          "text": [
            "1/1 [==============================] - 0s 52ms/step\n"
          ]
        },
        {
          "name": "stderr",
          "output_type": "stream",
          "text": [
            "\rPneumonia:   9%|▉         | 70/780 [00:09<01:26,  8.19it/s]"
          ]
        },
        {
          "name": "stdout",
          "output_type": "stream",
          "text": [
            "1/1 [==============================] - 0s 64ms/step\n"
          ]
        },
        {
          "name": "stderr",
          "output_type": "stream",
          "text": [
            "\rPneumonia:   9%|▉         | 71/780 [00:09<01:26,  8.16it/s]"
          ]
        },
        {
          "name": "stdout",
          "output_type": "stream",
          "text": [
            "1/1 [==============================] - 0s 51ms/step\n"
          ]
        },
        {
          "name": "stderr",
          "output_type": "stream",
          "text": [
            "\rPneumonia:   9%|▉         | 72/780 [00:09<01:25,  8.32it/s]"
          ]
        },
        {
          "name": "stdout",
          "output_type": "stream",
          "text": [
            "1/1 [==============================] - 0s 59ms/step\n"
          ]
        },
        {
          "name": "stderr",
          "output_type": "stream",
          "text": [
            "\rPneumonia:   9%|▉         | 73/780 [00:09<01:24,  8.37it/s]"
          ]
        },
        {
          "name": "stdout",
          "output_type": "stream",
          "text": [
            "1/1 [==============================] - 0s 54ms/step\n"
          ]
        },
        {
          "name": "stderr",
          "output_type": "stream",
          "text": [
            "\rPneumonia:   9%|▉         | 74/780 [00:09<01:23,  8.43it/s]"
          ]
        },
        {
          "name": "stdout",
          "output_type": "stream",
          "text": [
            "1/1 [==============================] - 0s 53ms/step\n"
          ]
        },
        {
          "name": "stderr",
          "output_type": "stream",
          "text": [
            "\rPneumonia:  10%|▉         | 75/780 [00:10<01:24,  8.39it/s]"
          ]
        },
        {
          "name": "stdout",
          "output_type": "stream",
          "text": [
            "1/1 [==============================] - 0s 52ms/step\n"
          ]
        },
        {
          "name": "stderr",
          "output_type": "stream",
          "text": [
            "\rPneumonia:  10%|▉         | 76/780 [00:10<01:22,  8.55it/s]"
          ]
        },
        {
          "name": "stdout",
          "output_type": "stream",
          "text": [
            "1/1 [==============================] - 0s 57ms/step\n"
          ]
        },
        {
          "name": "stderr",
          "output_type": "stream",
          "text": [
            "\rPneumonia:  10%|▉         | 77/780 [00:10<01:21,  8.58it/s]"
          ]
        },
        {
          "name": "stdout",
          "output_type": "stream",
          "text": [
            "1/1 [==============================] - 0s 51ms/step\n"
          ]
        },
        {
          "name": "stderr",
          "output_type": "stream",
          "text": [
            "\rPneumonia:  10%|█         | 78/780 [00:10<01:23,  8.41it/s]"
          ]
        },
        {
          "name": "stdout",
          "output_type": "stream",
          "text": [
            "1/1 [==============================] - 0s 51ms/step\n"
          ]
        },
        {
          "name": "stderr",
          "output_type": "stream",
          "text": [
            "\rPneumonia:  10%|█         | 79/780 [00:10<01:22,  8.53it/s]"
          ]
        },
        {
          "name": "stdout",
          "output_type": "stream",
          "text": [
            "1/1 [==============================] - 0s 61ms/step\n"
          ]
        },
        {
          "name": "stderr",
          "output_type": "stream",
          "text": [
            "\rPneumonia:  10%|█         | 80/780 [00:10<01:22,  8.48it/s]"
          ]
        },
        {
          "name": "stdout",
          "output_type": "stream",
          "text": [
            "1/1 [==============================] - 0s 49ms/step\n"
          ]
        },
        {
          "name": "stderr",
          "output_type": "stream",
          "text": [
            "\rPneumonia:  10%|█         | 81/780 [00:10<01:22,  8.46it/s]"
          ]
        },
        {
          "name": "stdout",
          "output_type": "stream",
          "text": [
            "1/1 [==============================] - 0s 52ms/step\n"
          ]
        },
        {
          "name": "stderr",
          "output_type": "stream",
          "text": [
            "\rPneumonia:  11%|█         | 82/780 [00:10<01:21,  8.53it/s]"
          ]
        },
        {
          "name": "stdout",
          "output_type": "stream",
          "text": [
            "1/1 [==============================] - 0s 51ms/step\n"
          ]
        },
        {
          "name": "stderr",
          "output_type": "stream",
          "text": [
            "\rPneumonia:  11%|█         | 83/780 [00:11<01:20,  8.66it/s]"
          ]
        },
        {
          "name": "stdout",
          "output_type": "stream",
          "text": [
            "1/1 [==============================] - 0s 61ms/step\n"
          ]
        },
        {
          "name": "stderr",
          "output_type": "stream",
          "text": [
            "\rPneumonia:  11%|█         | 84/780 [00:11<01:23,  8.34it/s]"
          ]
        },
        {
          "name": "stdout",
          "output_type": "stream",
          "text": [
            "1/1 [==============================] - 0s 54ms/step\n"
          ]
        },
        {
          "name": "stderr",
          "output_type": "stream",
          "text": [
            "\rPneumonia:  11%|█         | 85/780 [00:11<01:22,  8.40it/s]"
          ]
        },
        {
          "name": "stdout",
          "output_type": "stream",
          "text": [
            "1/1 [==============================] - 0s 55ms/step\n"
          ]
        },
        {
          "name": "stderr",
          "output_type": "stream",
          "text": [
            "\rPneumonia:  11%|█         | 86/780 [00:11<01:23,  8.28it/s]"
          ]
        },
        {
          "name": "stdout",
          "output_type": "stream",
          "text": [
            "1/1 [==============================] - 0s 51ms/step\n"
          ]
        },
        {
          "name": "stderr",
          "output_type": "stream",
          "text": [
            "\rPneumonia:  11%|█         | 87/780 [00:11<01:21,  8.45it/s]"
          ]
        },
        {
          "name": "stdout",
          "output_type": "stream",
          "text": [
            "1/1 [==============================] - 0s 52ms/step\n"
          ]
        },
        {
          "name": "stderr",
          "output_type": "stream",
          "text": [
            "\rPneumonia:  11%|█▏        | 88/780 [00:11<01:20,  8.61it/s]"
          ]
        },
        {
          "name": "stdout",
          "output_type": "stream",
          "text": [
            "1/1 [==============================] - 0s 52ms/step\n"
          ]
        },
        {
          "name": "stderr",
          "output_type": "stream",
          "text": [
            "\rPneumonia:  11%|█▏        | 89/780 [00:11<01:20,  8.57it/s]"
          ]
        },
        {
          "name": "stdout",
          "output_type": "stream",
          "text": [
            "1/1 [==============================] - 0s 52ms/step\n"
          ]
        },
        {
          "name": "stderr",
          "output_type": "stream",
          "text": [
            "\rPneumonia:  12%|█▏        | 90/780 [00:11<01:22,  8.36it/s]"
          ]
        },
        {
          "name": "stdout",
          "output_type": "stream",
          "text": [
            "1/1 [==============================] - 0s 50ms/step\n"
          ]
        },
        {
          "name": "stderr",
          "output_type": "stream",
          "text": [
            "\rPneumonia:  12%|█▏        | 91/780 [00:11<01:22,  8.34it/s]"
          ]
        },
        {
          "name": "stdout",
          "output_type": "stream",
          "text": [
            "1/1 [==============================] - 0s 58ms/step\n"
          ]
        },
        {
          "name": "stderr",
          "output_type": "stream",
          "text": [
            "\rPneumonia:  12%|█▏        | 92/780 [00:12<01:22,  8.29it/s]"
          ]
        },
        {
          "name": "stdout",
          "output_type": "stream",
          "text": [
            "1/1 [==============================] - 0s 82ms/step\n"
          ]
        },
        {
          "name": "stderr",
          "output_type": "stream",
          "text": [
            "\rPneumonia:  12%|█▏        | 93/780 [00:12<01:36,  7.09it/s]"
          ]
        },
        {
          "name": "stdout",
          "output_type": "stream",
          "text": [
            "1/1 [==============================] - 0s 83ms/step\n"
          ]
        },
        {
          "name": "stderr",
          "output_type": "stream",
          "text": [
            "\rPneumonia:  12%|█▏        | 94/780 [00:12<01:44,  6.54it/s]"
          ]
        },
        {
          "name": "stdout",
          "output_type": "stream",
          "text": [
            "1/1 [==============================] - 0s 111ms/step\n"
          ]
        },
        {
          "name": "stderr",
          "output_type": "stream",
          "text": [
            "\rPneumonia:  12%|█▏        | 95/780 [00:12<01:57,  5.82it/s]"
          ]
        },
        {
          "name": "stdout",
          "output_type": "stream",
          "text": [
            "1/1 [==============================] - 0s 87ms/step\n"
          ]
        },
        {
          "name": "stderr",
          "output_type": "stream",
          "text": [
            "\rPneumonia:  12%|█▏        | 96/780 [00:12<02:14,  5.08it/s]"
          ]
        },
        {
          "name": "stdout",
          "output_type": "stream",
          "text": [
            "1/1 [==============================] - 0s 101ms/step\n"
          ]
        },
        {
          "name": "stderr",
          "output_type": "stream",
          "text": [
            "\rPneumonia:  12%|█▏        | 97/780 [00:13<02:24,  4.72it/s]"
          ]
        },
        {
          "name": "stdout",
          "output_type": "stream",
          "text": [
            "1/1 [==============================] - 0s 88ms/step\n"
          ]
        },
        {
          "name": "stderr",
          "output_type": "stream",
          "text": [
            "\rPneumonia:  13%|█▎        | 98/780 [00:13<02:15,  5.02it/s]"
          ]
        },
        {
          "name": "stdout",
          "output_type": "stream",
          "text": [
            "1/1 [==============================] - 0s 98ms/step\n"
          ]
        },
        {
          "name": "stderr",
          "output_type": "stream",
          "text": [
            "\rPneumonia:  13%|█▎        | 99/780 [00:13<02:14,  5.06it/s]"
          ]
        },
        {
          "name": "stdout",
          "output_type": "stream",
          "text": [
            "1/1 [==============================] - 0s 90ms/step\n"
          ]
        },
        {
          "name": "stderr",
          "output_type": "stream",
          "text": [
            "\rPneumonia:  13%|█▎        | 100/780 [00:13<02:22,  4.76it/s]"
          ]
        },
        {
          "name": "stdout",
          "output_type": "stream",
          "text": [
            "1/1 [==============================] - 0s 93ms/step\n"
          ]
        },
        {
          "name": "stderr",
          "output_type": "stream",
          "text": [
            "\rPneumonia:  13%|█▎        | 101/780 [00:13<02:14,  5.06it/s]"
          ]
        },
        {
          "name": "stdout",
          "output_type": "stream",
          "text": [
            "1/1 [==============================] - 0s 90ms/step\n"
          ]
        },
        {
          "name": "stderr",
          "output_type": "stream",
          "text": [
            "\rPneumonia:  13%|█▎        | 102/780 [00:14<02:10,  5.20it/s]"
          ]
        },
        {
          "name": "stdout",
          "output_type": "stream",
          "text": [
            "1/1 [==============================] - 0s 89ms/step\n"
          ]
        },
        {
          "name": "stderr",
          "output_type": "stream",
          "text": [
            "\rPneumonia:  13%|█▎        | 103/780 [00:14<02:07,  5.30it/s]"
          ]
        },
        {
          "name": "stdout",
          "output_type": "stream",
          "text": [
            "1/1 [==============================] - 0s 93ms/step\n"
          ]
        },
        {
          "name": "stderr",
          "output_type": "stream",
          "text": [
            "\rPneumonia:  13%|█▎        | 104/780 [00:14<02:05,  5.39it/s]"
          ]
        },
        {
          "name": "stdout",
          "output_type": "stream",
          "text": [
            "1/1 [==============================] - 0s 88ms/step\n"
          ]
        },
        {
          "name": "stderr",
          "output_type": "stream",
          "text": [
            "\rPneumonia:  13%|█▎        | 105/780 [00:14<02:02,  5.51it/s]"
          ]
        },
        {
          "name": "stdout",
          "output_type": "stream",
          "text": [
            "1/1 [==============================] - 0s 97ms/step\n"
          ]
        },
        {
          "name": "stderr",
          "output_type": "stream",
          "text": [
            "\rPneumonia:  14%|█▎        | 106/780 [00:14<02:22,  4.73it/s]"
          ]
        },
        {
          "name": "stdout",
          "output_type": "stream",
          "text": [
            "1/1 [==============================] - 0s 86ms/step\n"
          ]
        },
        {
          "name": "stderr",
          "output_type": "stream",
          "text": [
            "\rPneumonia:  14%|█▎        | 107/780 [00:15<02:11,  5.12it/s]"
          ]
        },
        {
          "name": "stdout",
          "output_type": "stream",
          "text": [
            "1/1 [==============================] - 0s 88ms/step\n"
          ]
        },
        {
          "name": "stderr",
          "output_type": "stream",
          "text": [
            "\rPneumonia:  14%|█▍        | 108/780 [00:15<02:02,  5.47it/s]"
          ]
        },
        {
          "name": "stdout",
          "output_type": "stream",
          "text": [
            "1/1 [==============================] - 0s 102ms/step\n"
          ]
        },
        {
          "name": "stderr",
          "output_type": "stream",
          "text": [
            "\rPneumonia:  14%|█▍        | 109/780 [00:15<02:01,  5.53it/s]"
          ]
        },
        {
          "name": "stdout",
          "output_type": "stream",
          "text": [
            "1/1 [==============================] - 0s 98ms/step\n"
          ]
        },
        {
          "name": "stderr",
          "output_type": "stream",
          "text": [
            "\rPneumonia:  14%|█▍        | 110/780 [00:15<02:07,  5.24it/s]"
          ]
        },
        {
          "name": "stdout",
          "output_type": "stream",
          "text": [
            "1/1 [==============================] - 0s 98ms/step\n"
          ]
        },
        {
          "name": "stderr",
          "output_type": "stream",
          "text": [
            "\rPneumonia:  14%|█▍        | 111/780 [00:15<02:09,  5.16it/s]"
          ]
        },
        {
          "name": "stdout",
          "output_type": "stream",
          "text": [
            "1/1 [==============================] - 0s 80ms/step\n"
          ]
        },
        {
          "name": "stderr",
          "output_type": "stream",
          "text": [
            "\rPneumonia:  14%|█▍        | 112/780 [00:16<02:03,  5.41it/s]"
          ]
        },
        {
          "name": "stdout",
          "output_type": "stream",
          "text": [
            "1/1 [==============================] - 0s 86ms/step\n"
          ]
        },
        {
          "name": "stderr",
          "output_type": "stream",
          "text": [
            "\rPneumonia:  14%|█▍        | 113/780 [00:16<02:04,  5.34it/s]"
          ]
        },
        {
          "name": "stdout",
          "output_type": "stream",
          "text": [
            "1/1 [==============================] - 0s 95ms/step\n"
          ]
        },
        {
          "name": "stderr",
          "output_type": "stream",
          "text": [
            "\rPneumonia:  15%|█▍        | 114/780 [00:16<02:16,  4.88it/s]"
          ]
        },
        {
          "name": "stdout",
          "output_type": "stream",
          "text": [
            "1/1 [==============================] - 0s 84ms/step\n"
          ]
        },
        {
          "name": "stderr",
          "output_type": "stream",
          "text": [
            "\rPneumonia:  15%|█▍        | 115/780 [00:16<02:06,  5.28it/s]"
          ]
        },
        {
          "name": "stdout",
          "output_type": "stream",
          "text": [
            "1/1 [==============================] - 0s 65ms/step\n"
          ]
        },
        {
          "name": "stderr",
          "output_type": "stream",
          "text": [
            "\rPneumonia:  15%|█▍        | 116/780 [00:16<01:56,  5.70it/s]"
          ]
        },
        {
          "name": "stdout",
          "output_type": "stream",
          "text": [
            "1/1 [==============================] - 0s 52ms/step\n"
          ]
        },
        {
          "name": "stderr",
          "output_type": "stream",
          "text": [
            "\rPneumonia:  15%|█▌        | 117/780 [00:16<01:43,  6.38it/s]"
          ]
        },
        {
          "name": "stdout",
          "output_type": "stream",
          "text": [
            "1/1 [==============================] - 0s 52ms/step\n"
          ]
        },
        {
          "name": "stderr",
          "output_type": "stream",
          "text": [
            "\rPneumonia:  15%|█▌        | 118/780 [00:16<01:37,  6.79it/s]"
          ]
        },
        {
          "name": "stdout",
          "output_type": "stream",
          "text": [
            "1/1 [==============================] - 0s 54ms/step\n"
          ]
        },
        {
          "name": "stderr",
          "output_type": "stream",
          "text": [
            "\rPneumonia:  15%|█▌        | 119/780 [00:17<01:33,  7.05it/s]"
          ]
        },
        {
          "name": "stdout",
          "output_type": "stream",
          "text": [
            "1/1 [==============================] - 0s 62ms/step\n"
          ]
        },
        {
          "name": "stderr",
          "output_type": "stream",
          "text": [
            "\rPneumonia:  15%|█▌        | 120/780 [00:18<05:36,  1.96it/s]"
          ]
        },
        {
          "name": "stdout",
          "output_type": "stream",
          "text": [
            "1/1 [==============================] - 0s 61ms/step\n"
          ]
        },
        {
          "name": "stderr",
          "output_type": "stream",
          "text": [
            "\rPneumonia:  16%|█▌        | 121/780 [00:18<04:20,  2.53it/s]"
          ]
        },
        {
          "name": "stdout",
          "output_type": "stream",
          "text": [
            "1/1 [==============================] - 0s 59ms/step\n"
          ]
        },
        {
          "name": "stderr",
          "output_type": "stream",
          "text": [
            "\rPneumonia:  16%|█▌        | 122/780 [00:18<03:28,  3.15it/s]"
          ]
        },
        {
          "name": "stdout",
          "output_type": "stream",
          "text": [
            "1/1 [==============================] - 0s 62ms/step\n"
          ]
        },
        {
          "name": "stderr",
          "output_type": "stream",
          "text": [
            "\rPneumonia:  16%|█▌        | 123/780 [00:18<02:51,  3.84it/s]"
          ]
        },
        {
          "name": "stdout",
          "output_type": "stream",
          "text": [
            "1/1 [==============================] - 0s 60ms/step\n"
          ]
        },
        {
          "name": "stderr",
          "output_type": "stream",
          "text": [
            "\rPneumonia:  16%|█▌        | 124/780 [00:19<02:28,  4.41it/s]"
          ]
        },
        {
          "name": "stdout",
          "output_type": "stream",
          "text": [
            "1/1 [==============================] - 0s 58ms/step\n"
          ]
        },
        {
          "name": "stderr",
          "output_type": "stream",
          "text": [
            "\rPneumonia:  16%|█▌        | 125/780 [00:19<02:10,  5.04it/s]"
          ]
        },
        {
          "name": "stdout",
          "output_type": "stream",
          "text": [
            "1/1 [==============================] - 0s 58ms/step\n"
          ]
        },
        {
          "name": "stderr",
          "output_type": "stream",
          "text": [
            "\rPneumonia:  16%|█▌        | 126/780 [00:19<01:55,  5.64it/s]"
          ]
        },
        {
          "name": "stdout",
          "output_type": "stream",
          "text": [
            "1/1 [==============================] - 0s 60ms/step\n"
          ]
        },
        {
          "name": "stderr",
          "output_type": "stream",
          "text": [
            "\rPneumonia:  16%|█▋        | 127/780 [00:19<01:45,  6.18it/s]"
          ]
        },
        {
          "name": "stdout",
          "output_type": "stream",
          "text": [
            "1/1 [==============================] - 0s 58ms/step\n"
          ]
        },
        {
          "name": "stderr",
          "output_type": "stream",
          "text": [
            "\rPneumonia:  16%|█▋        | 128/780 [00:19<01:40,  6.50it/s]"
          ]
        },
        {
          "name": "stdout",
          "output_type": "stream",
          "text": [
            "1/1 [==============================] - 0s 58ms/step\n"
          ]
        },
        {
          "name": "stderr",
          "output_type": "stream",
          "text": [
            "\rPneumonia:  17%|█▋        | 129/780 [00:19<01:35,  6.79it/s]"
          ]
        },
        {
          "name": "stdout",
          "output_type": "stream",
          "text": [
            "1/1 [==============================] - 0s 66ms/step\n"
          ]
        },
        {
          "name": "stderr",
          "output_type": "stream",
          "text": [
            "\rPneumonia:  17%|█▋        | 130/780 [00:19<01:32,  7.02it/s]"
          ]
        },
        {
          "name": "stdout",
          "output_type": "stream",
          "text": [
            "1/1 [==============================] - 0s 57ms/step\n"
          ]
        },
        {
          "name": "stderr",
          "output_type": "stream",
          "text": [
            "\rPneumonia:  17%|█▋        | 131/780 [00:19<01:30,  7.19it/s]"
          ]
        },
        {
          "name": "stdout",
          "output_type": "stream",
          "text": [
            "1/1 [==============================] - 0s 60ms/step\n"
          ]
        },
        {
          "name": "stderr",
          "output_type": "stream",
          "text": [
            "\rPneumonia:  17%|█▋        | 132/780 [00:20<01:29,  7.22it/s]"
          ]
        },
        {
          "name": "stdout",
          "output_type": "stream",
          "text": [
            "1/1 [==============================] - 0s 80ms/step\n"
          ]
        },
        {
          "name": "stderr",
          "output_type": "stream",
          "text": [
            "\rPneumonia:  17%|█▋        | 133/780 [00:20<01:30,  7.12it/s]"
          ]
        },
        {
          "name": "stdout",
          "output_type": "stream",
          "text": [
            "1/1 [==============================] - 0s 59ms/step\n"
          ]
        },
        {
          "name": "stderr",
          "output_type": "stream",
          "text": [
            "\rPneumonia:  17%|█▋        | 134/780 [00:20<01:28,  7.29it/s]"
          ]
        },
        {
          "name": "stdout",
          "output_type": "stream",
          "text": [
            "1/1 [==============================] - 0s 59ms/step\n"
          ]
        },
        {
          "name": "stderr",
          "output_type": "stream",
          "text": [
            "\rPneumonia:  17%|█▋        | 135/780 [00:20<01:27,  7.41it/s]"
          ]
        },
        {
          "name": "stdout",
          "output_type": "stream",
          "text": [
            "1/1 [==============================] - 0s 61ms/step\n"
          ]
        },
        {
          "name": "stderr",
          "output_type": "stream",
          "text": [
            "\rPneumonia:  17%|█▋        | 136/780 [00:20<01:25,  7.54it/s]"
          ]
        },
        {
          "name": "stdout",
          "output_type": "stream",
          "text": [
            "1/1 [==============================] - 0s 59ms/step\n"
          ]
        },
        {
          "name": "stderr",
          "output_type": "stream",
          "text": [
            "\rPneumonia:  18%|█▊        | 137/780 [00:20<01:25,  7.49it/s]"
          ]
        },
        {
          "name": "stdout",
          "output_type": "stream",
          "text": [
            "1/1 [==============================] - 0s 59ms/step\n"
          ]
        },
        {
          "name": "stderr",
          "output_type": "stream",
          "text": [
            "\rPneumonia:  18%|█▊        | 138/780 [00:20<01:25,  7.54it/s]"
          ]
        },
        {
          "name": "stdout",
          "output_type": "stream",
          "text": [
            "1/1 [==============================] - 0s 79ms/step\n"
          ]
        },
        {
          "name": "stderr",
          "output_type": "stream",
          "text": [
            "\rPneumonia:  18%|█▊        | 139/780 [00:21<01:29,  7.13it/s]"
          ]
        },
        {
          "name": "stdout",
          "output_type": "stream",
          "text": [
            "1/1 [==============================] - 0s 69ms/step\n"
          ]
        },
        {
          "name": "stderr",
          "output_type": "stream",
          "text": [
            "\rPneumonia:  18%|█▊        | 140/780 [00:21<01:30,  7.10it/s]"
          ]
        },
        {
          "name": "stdout",
          "output_type": "stream",
          "text": [
            "1/1 [==============================] - 0s 62ms/step\n"
          ]
        },
        {
          "name": "stderr",
          "output_type": "stream",
          "text": [
            "\rPneumonia:  18%|█▊        | 141/780 [00:21<01:25,  7.45it/s]"
          ]
        },
        {
          "name": "stdout",
          "output_type": "stream",
          "text": [
            "1/1 [==============================] - 0s 65ms/step\n"
          ]
        },
        {
          "name": "stderr",
          "output_type": "stream",
          "text": [
            "\rPneumonia:  18%|█▊        | 142/780 [00:21<01:25,  7.45it/s]"
          ]
        },
        {
          "name": "stdout",
          "output_type": "stream",
          "text": [
            "1/1 [==============================] - 0s 59ms/step\n"
          ]
        },
        {
          "name": "stderr",
          "output_type": "stream",
          "text": [
            "\rPneumonia:  18%|█▊        | 143/780 [00:21<01:24,  7.53it/s]"
          ]
        },
        {
          "name": "stdout",
          "output_type": "stream",
          "text": [
            "1/1 [==============================] - 0s 61ms/step\n"
          ]
        },
        {
          "name": "stderr",
          "output_type": "stream",
          "text": [
            "\rPneumonia:  18%|█▊        | 144/780 [00:21<01:27,  7.31it/s]"
          ]
        },
        {
          "name": "stdout",
          "output_type": "stream",
          "text": [
            "1/1 [==============================] - 0s 59ms/step\n"
          ]
        },
        {
          "name": "stderr",
          "output_type": "stream",
          "text": [
            "\rPneumonia:  19%|█▊        | 145/780 [00:21<01:24,  7.49it/s]"
          ]
        },
        {
          "name": "stdout",
          "output_type": "stream",
          "text": [
            "1/1 [==============================] - 0s 61ms/step\n"
          ]
        },
        {
          "name": "stderr",
          "output_type": "stream",
          "text": [
            "\rPneumonia:  19%|█▊        | 146/780 [00:21<01:30,  7.04it/s]"
          ]
        },
        {
          "name": "stdout",
          "output_type": "stream",
          "text": [
            "1/1 [==============================] - 0s 59ms/step\n"
          ]
        },
        {
          "name": "stderr",
          "output_type": "stream",
          "text": [
            "\rPneumonia:  19%|█▉        | 147/780 [00:22<01:28,  7.13it/s]"
          ]
        },
        {
          "name": "stdout",
          "output_type": "stream",
          "text": [
            "1/1 [==============================] - 0s 58ms/step\n"
          ]
        },
        {
          "name": "stderr",
          "output_type": "stream",
          "text": [
            "\rPneumonia:  19%|█▉        | 148/780 [00:22<01:26,  7.33it/s]"
          ]
        },
        {
          "name": "stdout",
          "output_type": "stream",
          "text": [
            "1/1 [==============================] - 0s 58ms/step\n"
          ]
        },
        {
          "name": "stderr",
          "output_type": "stream",
          "text": [
            "\rPneumonia:  19%|█▉        | 149/780 [00:22<01:25,  7.35it/s]"
          ]
        },
        {
          "name": "stdout",
          "output_type": "stream",
          "text": [
            "1/1 [==============================] - 0s 59ms/step\n"
          ]
        },
        {
          "name": "stderr",
          "output_type": "stream",
          "text": [
            "\rPneumonia:  19%|█▉        | 150/780 [00:22<01:25,  7.40it/s]"
          ]
        },
        {
          "name": "stdout",
          "output_type": "stream",
          "text": [
            "1/1 [==============================] - 0s 62ms/step\n"
          ]
        },
        {
          "name": "stderr",
          "output_type": "stream",
          "text": [
            "\rPneumonia:  19%|█▉        | 151/780 [00:22<01:24,  7.45it/s]"
          ]
        },
        {
          "name": "stdout",
          "output_type": "stream",
          "text": [
            "1/1 [==============================] - 0s 59ms/step\n"
          ]
        },
        {
          "name": "stderr",
          "output_type": "stream",
          "text": [
            "\rPneumonia:  19%|█▉        | 152/780 [00:22<01:21,  7.67it/s]"
          ]
        },
        {
          "name": "stdout",
          "output_type": "stream",
          "text": [
            "1/1 [==============================] - 0s 58ms/step\n"
          ]
        },
        {
          "name": "stderr",
          "output_type": "stream",
          "text": [
            "\rPneumonia:  20%|█▉        | 153/780 [00:22<01:22,  7.63it/s]"
          ]
        },
        {
          "name": "stdout",
          "output_type": "stream",
          "text": [
            "1/1 [==============================] - 0s 67ms/step\n"
          ]
        },
        {
          "name": "stderr",
          "output_type": "stream",
          "text": [
            "\rPneumonia:  20%|█▉        | 154/780 [00:23<01:26,  7.22it/s]"
          ]
        },
        {
          "name": "stdout",
          "output_type": "stream",
          "text": [
            "1/1 [==============================] - 0s 58ms/step\n"
          ]
        },
        {
          "name": "stderr",
          "output_type": "stream",
          "text": [
            "\rPneumonia:  20%|█▉        | 155/780 [00:23<01:24,  7.43it/s]"
          ]
        },
        {
          "name": "stdout",
          "output_type": "stream",
          "text": [
            "1/1 [==============================] - 0s 60ms/step\n"
          ]
        },
        {
          "name": "stderr",
          "output_type": "stream",
          "text": [
            "\rPneumonia:  20%|██        | 156/780 [00:23<01:23,  7.49it/s]"
          ]
        },
        {
          "name": "stdout",
          "output_type": "stream",
          "text": [
            "1/1 [==============================] - 0s 60ms/step\n"
          ]
        },
        {
          "name": "stderr",
          "output_type": "stream",
          "text": [
            "\rPneumonia:  20%|██        | 157/780 [00:23<01:22,  7.53it/s]"
          ]
        },
        {
          "name": "stdout",
          "output_type": "stream",
          "text": [
            "1/1 [==============================] - 0s 57ms/step\n"
          ]
        },
        {
          "name": "stderr",
          "output_type": "stream",
          "text": [
            "\rPneumonia:  20%|██        | 158/780 [00:23<01:21,  7.64it/s]"
          ]
        },
        {
          "name": "stdout",
          "output_type": "stream",
          "text": [
            "1/1 [==============================] - 0s 60ms/step\n"
          ]
        },
        {
          "name": "stderr",
          "output_type": "stream",
          "text": [
            "\rPneumonia:  20%|██        | 159/780 [00:23<01:20,  7.72it/s]"
          ]
        },
        {
          "name": "stdout",
          "output_type": "stream",
          "text": [
            "1/1 [==============================] - 0s 62ms/step\n"
          ]
        },
        {
          "name": "stderr",
          "output_type": "stream",
          "text": [
            "\rPneumonia:  21%|██        | 160/780 [00:23<01:19,  7.79it/s]"
          ]
        },
        {
          "name": "stdout",
          "output_type": "stream",
          "text": [
            "1/1 [==============================] - 0s 60ms/step\n"
          ]
        },
        {
          "name": "stderr",
          "output_type": "stream",
          "text": [
            "\rPneumonia:  21%|██        | 161/780 [00:23<01:19,  7.79it/s]"
          ]
        },
        {
          "name": "stdout",
          "output_type": "stream",
          "text": [
            "1/1 [==============================] - 0s 77ms/step\n"
          ]
        },
        {
          "name": "stderr",
          "output_type": "stream",
          "text": [
            "\rPneumonia:  21%|██        | 162/780 [00:24<01:21,  7.60it/s]"
          ]
        },
        {
          "name": "stdout",
          "output_type": "stream",
          "text": [
            "1/1 [==============================] - 0s 61ms/step\n"
          ]
        },
        {
          "name": "stderr",
          "output_type": "stream",
          "text": [
            "\rPneumonia:  21%|██        | 163/780 [00:24<01:22,  7.49it/s]"
          ]
        },
        {
          "name": "stdout",
          "output_type": "stream",
          "text": [
            "1/1 [==============================] - 0s 58ms/step\n"
          ]
        },
        {
          "name": "stderr",
          "output_type": "stream",
          "text": [
            "\rPneumonia:  21%|██        | 164/780 [00:24<01:20,  7.63it/s]"
          ]
        },
        {
          "name": "stdout",
          "output_type": "stream",
          "text": [
            "1/1 [==============================] - 0s 58ms/step\n"
          ]
        },
        {
          "name": "stderr",
          "output_type": "stream",
          "text": [
            "\rPneumonia:  21%|██        | 165/780 [00:24<01:19,  7.71it/s]"
          ]
        },
        {
          "name": "stdout",
          "output_type": "stream",
          "text": [
            "1/1 [==============================] - 0s 59ms/step\n"
          ]
        },
        {
          "name": "stderr",
          "output_type": "stream",
          "text": [
            "\rPneumonia:  21%|██▏       | 166/780 [00:24<01:19,  7.68it/s]"
          ]
        },
        {
          "name": "stdout",
          "output_type": "stream",
          "text": [
            "1/1 [==============================] - 0s 62ms/step\n"
          ]
        },
        {
          "name": "stderr",
          "output_type": "stream",
          "text": [
            "\rPneumonia:  21%|██▏       | 167/780 [00:24<01:19,  7.66it/s]"
          ]
        },
        {
          "name": "stdout",
          "output_type": "stream",
          "text": [
            "1/1 [==============================] - 0s 59ms/step\n"
          ]
        },
        {
          "name": "stderr",
          "output_type": "stream",
          "text": [
            "\rPneumonia:  22%|██▏       | 168/780 [00:24<01:19,  7.67it/s]"
          ]
        },
        {
          "name": "stdout",
          "output_type": "stream",
          "text": [
            "1/1 [==============================] - 0s 60ms/step\n"
          ]
        },
        {
          "name": "stderr",
          "output_type": "stream",
          "text": [
            "\rPneumonia:  22%|██▏       | 169/780 [00:24<01:18,  7.75it/s]"
          ]
        },
        {
          "name": "stdout",
          "output_type": "stream",
          "text": [
            "1/1 [==============================] - 0s 70ms/step\n"
          ]
        },
        {
          "name": "stderr",
          "output_type": "stream",
          "text": [
            "\rPneumonia:  22%|██▏       | 170/780 [00:25<01:20,  7.59it/s]"
          ]
        },
        {
          "name": "stdout",
          "output_type": "stream",
          "text": [
            "1/1 [==============================] - 0s 59ms/step\n"
          ]
        },
        {
          "name": "stderr",
          "output_type": "stream",
          "text": [
            "\rPneumonia:  22%|██▏       | 171/780 [00:25<01:18,  7.72it/s]"
          ]
        },
        {
          "name": "stdout",
          "output_type": "stream",
          "text": [
            "1/1 [==============================] - 0s 63ms/step\n"
          ]
        },
        {
          "name": "stderr",
          "output_type": "stream",
          "text": [
            "\rPneumonia:  22%|██▏       | 172/780 [00:25<01:23,  7.31it/s]"
          ]
        },
        {
          "name": "stdout",
          "output_type": "stream",
          "text": [
            "1/1 [==============================] - 0s 61ms/step\n"
          ]
        },
        {
          "name": "stderr",
          "output_type": "stream",
          "text": [
            "\rPneumonia:  22%|██▏       | 173/780 [00:25<01:23,  7.31it/s]"
          ]
        },
        {
          "name": "stdout",
          "output_type": "stream",
          "text": [
            "1/1 [==============================] - 0s 60ms/step\n"
          ]
        },
        {
          "name": "stderr",
          "output_type": "stream",
          "text": [
            "\rPneumonia:  22%|██▏       | 174/780 [00:25<01:21,  7.43it/s]"
          ]
        },
        {
          "name": "stdout",
          "output_type": "stream",
          "text": [
            "1/1 [==============================] - 0s 64ms/step\n"
          ]
        },
        {
          "name": "stderr",
          "output_type": "stream",
          "text": [
            "\rPneumonia:  22%|██▏       | 175/780 [00:25<01:22,  7.30it/s]"
          ]
        },
        {
          "name": "stdout",
          "output_type": "stream",
          "text": [
            "1/1 [==============================] - 0s 60ms/step\n"
          ]
        },
        {
          "name": "stderr",
          "output_type": "stream",
          "text": [
            "\rPneumonia:  23%|██▎       | 176/780 [00:25<01:22,  7.36it/s]"
          ]
        },
        {
          "name": "stdout",
          "output_type": "stream",
          "text": [
            "1/1 [==============================] - 0s 60ms/step\n"
          ]
        },
        {
          "name": "stderr",
          "output_type": "stream",
          "text": [
            "\rPneumonia:  23%|██▎       | 177/780 [00:26<01:19,  7.55it/s]"
          ]
        },
        {
          "name": "stdout",
          "output_type": "stream",
          "text": [
            "1/1 [==============================] - 0s 60ms/step\n"
          ]
        },
        {
          "name": "stderr",
          "output_type": "stream",
          "text": [
            "\rPneumonia:  23%|██▎       | 178/780 [00:26<01:19,  7.58it/s]"
          ]
        },
        {
          "name": "stdout",
          "output_type": "stream",
          "text": [
            "1/1 [==============================] - 0s 60ms/step\n"
          ]
        },
        {
          "name": "stderr",
          "output_type": "stream",
          "text": [
            "\rPneumonia:  23%|██▎       | 179/780 [00:26<01:18,  7.64it/s]"
          ]
        },
        {
          "name": "stdout",
          "output_type": "stream",
          "text": [
            "1/1 [==============================] - 0s 55ms/step\n"
          ]
        },
        {
          "name": "stderr",
          "output_type": "stream",
          "text": [
            "\rPneumonia:  23%|██▎       | 180/780 [00:26<01:19,  7.52it/s]"
          ]
        },
        {
          "name": "stdout",
          "output_type": "stream",
          "text": [
            "1/1 [==============================] - 0s 59ms/step\n"
          ]
        },
        {
          "name": "stderr",
          "output_type": "stream",
          "text": [
            "\rPneumonia:  23%|██▎       | 181/780 [00:26<01:19,  7.58it/s]"
          ]
        },
        {
          "name": "stdout",
          "output_type": "stream",
          "text": [
            "1/1 [==============================] - 0s 86ms/step\n"
          ]
        },
        {
          "name": "stderr",
          "output_type": "stream",
          "text": [
            "\rPneumonia:  23%|██▎       | 182/780 [00:26<01:23,  7.20it/s]"
          ]
        },
        {
          "name": "stdout",
          "output_type": "stream",
          "text": [
            "1/1 [==============================] - 0s 103ms/step\n"
          ]
        },
        {
          "name": "stderr",
          "output_type": "stream",
          "text": [
            "\rPneumonia:  23%|██▎       | 183/780 [00:26<01:32,  6.42it/s]"
          ]
        },
        {
          "name": "stdout",
          "output_type": "stream",
          "text": [
            "1/1 [==============================] - 0s 102ms/step\n"
          ]
        },
        {
          "name": "stderr",
          "output_type": "stream",
          "text": [
            "\rPneumonia:  24%|██▎       | 184/780 [00:27<01:41,  5.89it/s]"
          ]
        },
        {
          "name": "stdout",
          "output_type": "stream",
          "text": [
            "1/1 [==============================] - 0s 100ms/step\n"
          ]
        },
        {
          "name": "stderr",
          "output_type": "stream",
          "text": [
            "\rPneumonia:  24%|██▎       | 185/780 [00:27<01:44,  5.72it/s]"
          ]
        },
        {
          "name": "stdout",
          "output_type": "stream",
          "text": [
            "1/1 [==============================] - 0s 96ms/step\n"
          ]
        },
        {
          "name": "stderr",
          "output_type": "stream",
          "text": [
            "\rPneumonia:  24%|██▍       | 186/780 [00:27<01:45,  5.64it/s]"
          ]
        },
        {
          "name": "stdout",
          "output_type": "stream",
          "text": [
            "1/1 [==============================] - 0s 96ms/step\n"
          ]
        },
        {
          "name": "stderr",
          "output_type": "stream",
          "text": [
            "\rPneumonia:  24%|██▍       | 187/780 [00:27<01:43,  5.74it/s]"
          ]
        },
        {
          "name": "stdout",
          "output_type": "stream",
          "text": [
            "1/1 [==============================] - 0s 94ms/step\n"
          ]
        },
        {
          "name": "stderr",
          "output_type": "stream",
          "text": [
            "\rPneumonia:  24%|██▍       | 188/780 [00:27<01:43,  5.73it/s]"
          ]
        },
        {
          "name": "stdout",
          "output_type": "stream",
          "text": [
            "1/1 [==============================] - 0s 95ms/step\n"
          ]
        },
        {
          "name": "stderr",
          "output_type": "stream",
          "text": [
            "\rPneumonia:  24%|██▍       | 189/780 [00:28<02:02,  4.83it/s]"
          ]
        },
        {
          "name": "stdout",
          "output_type": "stream",
          "text": [
            "1/1 [==============================] - 0s 97ms/step\n"
          ]
        },
        {
          "name": "stderr",
          "output_type": "stream",
          "text": [
            "\rPneumonia:  24%|██▍       | 190/780 [00:28<02:02,  4.83it/s]"
          ]
        },
        {
          "name": "stdout",
          "output_type": "stream",
          "text": [
            "1/1 [==============================] - 0s 97ms/step\n"
          ]
        },
        {
          "name": "stderr",
          "output_type": "stream",
          "text": [
            "\rPneumonia:  24%|██▍       | 191/780 [00:28<02:01,  4.86it/s]"
          ]
        },
        {
          "name": "stdout",
          "output_type": "stream",
          "text": [
            "1/1 [==============================] - 0s 110ms/step\n"
          ]
        },
        {
          "name": "stderr",
          "output_type": "stream",
          "text": [
            "\rPneumonia:  25%|██▍       | 192/780 [00:28<02:03,  4.77it/s]"
          ]
        },
        {
          "name": "stdout",
          "output_type": "stream",
          "text": [
            "1/1 [==============================] - 0s 105ms/step\n"
          ]
        },
        {
          "name": "stderr",
          "output_type": "stream",
          "text": [
            "\rPneumonia:  25%|██▍       | 193/780 [00:28<01:59,  4.91it/s]"
          ]
        },
        {
          "name": "stdout",
          "output_type": "stream",
          "text": [
            "1/1 [==============================] - 0s 103ms/step\n"
          ]
        },
        {
          "name": "stderr",
          "output_type": "stream",
          "text": [
            "\rPneumonia:  25%|██▍       | 194/780 [00:29<02:01,  4.84it/s]"
          ]
        },
        {
          "name": "stdout",
          "output_type": "stream",
          "text": [
            "1/1 [==============================] - 0s 96ms/step\n"
          ]
        },
        {
          "name": "stderr",
          "output_type": "stream",
          "text": [
            "\rPneumonia:  25%|██▌       | 195/780 [00:29<01:58,  4.95it/s]"
          ]
        },
        {
          "name": "stdout",
          "output_type": "stream",
          "text": [
            "1/1 [==============================] - 0s 96ms/step\n"
          ]
        },
        {
          "name": "stderr",
          "output_type": "stream",
          "text": [
            "\rPneumonia:  25%|██▌       | 196/780 [00:29<01:54,  5.08it/s]"
          ]
        },
        {
          "name": "stdout",
          "output_type": "stream",
          "text": [
            "1/1 [==============================] - 0s 91ms/step\n"
          ]
        },
        {
          "name": "stderr",
          "output_type": "stream",
          "text": [
            "\rPneumonia:  25%|██▌       | 197/780 [00:29<01:53,  5.15it/s]"
          ]
        },
        {
          "name": "stdout",
          "output_type": "stream",
          "text": [
            "1/1 [==============================] - 0s 99ms/step\n"
          ]
        },
        {
          "name": "stderr",
          "output_type": "stream",
          "text": [
            "\rPneumonia:  25%|██▌       | 198/780 [00:29<01:54,  5.10it/s]"
          ]
        },
        {
          "name": "stdout",
          "output_type": "stream",
          "text": [
            "1/1 [==============================] - 0s 97ms/step\n"
          ]
        },
        {
          "name": "stderr",
          "output_type": "stream",
          "text": [
            "\rPneumonia:  26%|██▌       | 199/780 [00:30<01:53,  5.14it/s]"
          ]
        },
        {
          "name": "stdout",
          "output_type": "stream",
          "text": [
            "1/1 [==============================] - 0s 111ms/step\n"
          ]
        },
        {
          "name": "stderr",
          "output_type": "stream",
          "text": [
            "\rPneumonia:  26%|██▌       | 200/780 [00:30<01:52,  5.17it/s]"
          ]
        },
        {
          "name": "stdout",
          "output_type": "stream",
          "text": [
            "1/1 [==============================] - 0s 88ms/step\n"
          ]
        },
        {
          "name": "stderr",
          "output_type": "stream",
          "text": [
            "\rPneumonia:  26%|██▌       | 201/780 [00:30<01:53,  5.11it/s]"
          ]
        },
        {
          "name": "stdout",
          "output_type": "stream",
          "text": [
            "1/1 [==============================] - 0s 89ms/step\n"
          ]
        },
        {
          "name": "stderr",
          "output_type": "stream",
          "text": [
            "\rPneumonia:  26%|██▌       | 202/780 [00:30<01:50,  5.25it/s]"
          ]
        },
        {
          "name": "stdout",
          "output_type": "stream",
          "text": [
            "1/1 [==============================] - 0s 90ms/step\n"
          ]
        },
        {
          "name": "stderr",
          "output_type": "stream",
          "text": [
            "\rPneumonia:  26%|██▌       | 203/780 [00:30<01:45,  5.45it/s]"
          ]
        },
        {
          "name": "stdout",
          "output_type": "stream",
          "text": [
            "1/1 [==============================] - 0s 89ms/step\n"
          ]
        },
        {
          "name": "stderr",
          "output_type": "stream",
          "text": [
            "\rPneumonia:  26%|██▌       | 204/780 [00:31<01:44,  5.49it/s]"
          ]
        },
        {
          "name": "stdout",
          "output_type": "stream",
          "text": [
            "1/1 [==============================] - 0s 82ms/step\n"
          ]
        },
        {
          "name": "stderr",
          "output_type": "stream",
          "text": [
            "\rPneumonia:  26%|██▋       | 205/780 [00:31<01:43,  5.55it/s]"
          ]
        },
        {
          "name": "stdout",
          "output_type": "stream",
          "text": [
            "1/1 [==============================] - 0s 82ms/step\n"
          ]
        },
        {
          "name": "stderr",
          "output_type": "stream",
          "text": [
            "\rPneumonia:  26%|██▋       | 206/780 [00:31<01:38,  5.83it/s]"
          ]
        },
        {
          "name": "stdout",
          "output_type": "stream",
          "text": [
            "1/1 [==============================] - 0s 94ms/step\n"
          ]
        },
        {
          "name": "stderr",
          "output_type": "stream",
          "text": [
            "\rPneumonia:  27%|██▋       | 207/780 [00:31<01:40,  5.68it/s]"
          ]
        },
        {
          "name": "stdout",
          "output_type": "stream",
          "text": [
            "1/1 [==============================] - 0s 90ms/step\n"
          ]
        },
        {
          "name": "stderr",
          "output_type": "stream",
          "text": [
            "\rPneumonia:  27%|██▋       | 208/780 [00:31<01:40,  5.72it/s]"
          ]
        },
        {
          "name": "stdout",
          "output_type": "stream",
          "text": [
            "1/1 [==============================] - 0s 74ms/step\n"
          ]
        },
        {
          "name": "stderr",
          "output_type": "stream",
          "text": [
            "\rPneumonia:  27%|██▋       | 209/780 [00:31<01:36,  5.93it/s]"
          ]
        },
        {
          "name": "stdout",
          "output_type": "stream",
          "text": [
            "1/1 [==============================] - 0s 57ms/step\n"
          ]
        },
        {
          "name": "stderr",
          "output_type": "stream",
          "text": [
            "\rPneumonia:  27%|██▋       | 210/780 [00:32<01:30,  6.32it/s]"
          ]
        },
        {
          "name": "stdout",
          "output_type": "stream",
          "text": [
            "1/1 [==============================] - 0s 53ms/step\n"
          ]
        },
        {
          "name": "stderr",
          "output_type": "stream",
          "text": [
            "\rPneumonia:  27%|██▋       | 211/780 [00:32<01:23,  6.83it/s]"
          ]
        },
        {
          "name": "stdout",
          "output_type": "stream",
          "text": [
            "1/1 [==============================] - 0s 61ms/step\n"
          ]
        },
        {
          "name": "stderr",
          "output_type": "stream",
          "text": [
            "\rPneumonia:  27%|██▋       | 212/780 [00:32<01:19,  7.14it/s]"
          ]
        },
        {
          "name": "stdout",
          "output_type": "stream",
          "text": [
            "1/1 [==============================] - 0s 53ms/step\n"
          ]
        },
        {
          "name": "stderr",
          "output_type": "stream",
          "text": [
            "\rPneumonia:  27%|██▋       | 213/780 [00:32<01:16,  7.43it/s]"
          ]
        },
        {
          "name": "stdout",
          "output_type": "stream",
          "text": [
            "1/1 [==============================] - 0s 58ms/step\n"
          ]
        },
        {
          "name": "stderr",
          "output_type": "stream",
          "text": [
            "\rPneumonia:  27%|██▋       | 214/780 [00:32<01:15,  7.47it/s]"
          ]
        },
        {
          "name": "stdout",
          "output_type": "stream",
          "text": [
            "1/1 [==============================] - 0s 57ms/step\n"
          ]
        },
        {
          "name": "stderr",
          "output_type": "stream",
          "text": [
            "\rPneumonia:  28%|██▊       | 215/780 [00:32<01:14,  7.60it/s]"
          ]
        },
        {
          "name": "stdout",
          "output_type": "stream",
          "text": [
            "1/1 [==============================] - 0s 64ms/step\n"
          ]
        },
        {
          "name": "stderr",
          "output_type": "stream",
          "text": [
            "\rPneumonia:  28%|██▊       | 216/780 [00:32<01:15,  7.45it/s]"
          ]
        },
        {
          "name": "stdout",
          "output_type": "stream",
          "text": [
            "1/1 [==============================] - 0s 52ms/step\n"
          ]
        },
        {
          "name": "stderr",
          "output_type": "stream",
          "text": [
            "\rPneumonia:  28%|██▊       | 217/780 [00:32<01:15,  7.44it/s]"
          ]
        },
        {
          "name": "stdout",
          "output_type": "stream",
          "text": [
            "1/1 [==============================] - 0s 54ms/step\n"
          ]
        },
        {
          "name": "stderr",
          "output_type": "stream",
          "text": [
            "\rPneumonia:  28%|██▊       | 218/780 [00:33<01:16,  7.32it/s]"
          ]
        },
        {
          "name": "stdout",
          "output_type": "stream",
          "text": [
            "1/1 [==============================] - 0s 67ms/step\n"
          ]
        },
        {
          "name": "stderr",
          "output_type": "stream",
          "text": [
            "\rPneumonia:  28%|██▊       | 219/780 [00:33<01:15,  7.39it/s]"
          ]
        },
        {
          "name": "stdout",
          "output_type": "stream",
          "text": [
            "1/1 [==============================] - 0s 58ms/step\n"
          ]
        },
        {
          "name": "stderr",
          "output_type": "stream",
          "text": [
            "\rPneumonia:  28%|██▊       | 220/780 [00:33<01:13,  7.58it/s]"
          ]
        },
        {
          "name": "stdout",
          "output_type": "stream",
          "text": [
            "1/1 [==============================] - 0s 57ms/step\n"
          ]
        },
        {
          "name": "stderr",
          "output_type": "stream",
          "text": [
            "\rPneumonia:  28%|██▊       | 221/780 [00:33<01:12,  7.73it/s]"
          ]
        },
        {
          "name": "stdout",
          "output_type": "stream",
          "text": [
            "1/1 [==============================] - 0s 53ms/step\n"
          ]
        },
        {
          "name": "stderr",
          "output_type": "stream",
          "text": [
            "\rPneumonia:  28%|██▊       | 222/780 [00:33<01:11,  7.78it/s]"
          ]
        },
        {
          "name": "stdout",
          "output_type": "stream",
          "text": [
            "1/1 [==============================] - 0s 53ms/step\n"
          ]
        },
        {
          "name": "stderr",
          "output_type": "stream",
          "text": [
            "\rPneumonia:  29%|██▊       | 223/780 [00:33<01:12,  7.66it/s]"
          ]
        },
        {
          "name": "stdout",
          "output_type": "stream",
          "text": [
            "1/1 [==============================] - 0s 52ms/step\n"
          ]
        },
        {
          "name": "stderr",
          "output_type": "stream",
          "text": [
            "\rPneumonia:  29%|██▊       | 224/780 [00:33<01:10,  7.85it/s]"
          ]
        },
        {
          "name": "stdout",
          "output_type": "stream",
          "text": [
            "1/1 [==============================] - 0s 53ms/step\n"
          ]
        },
        {
          "name": "stderr",
          "output_type": "stream",
          "text": [
            "\rPneumonia:  29%|██▉       | 225/780 [00:33<01:12,  7.62it/s]"
          ]
        },
        {
          "name": "stdout",
          "output_type": "stream",
          "text": [
            "1/1 [==============================] - 0s 53ms/step\n"
          ]
        },
        {
          "name": "stderr",
          "output_type": "stream",
          "text": [
            "\rPneumonia:  29%|██▉       | 226/780 [00:34<01:12,  7.67it/s]"
          ]
        },
        {
          "name": "stdout",
          "output_type": "stream",
          "text": [
            "1/1 [==============================] - 0s 51ms/step\n"
          ]
        },
        {
          "name": "stderr",
          "output_type": "stream",
          "text": [
            "\rPneumonia:  29%|██▉       | 227/780 [00:34<01:11,  7.76it/s]"
          ]
        },
        {
          "name": "stdout",
          "output_type": "stream",
          "text": [
            "1/1 [==============================] - 0s 57ms/step\n"
          ]
        },
        {
          "name": "stderr",
          "output_type": "stream",
          "text": [
            "\rPneumonia:  29%|██▉       | 228/780 [00:34<01:10,  7.82it/s]"
          ]
        },
        {
          "name": "stdout",
          "output_type": "stream",
          "text": [
            "1/1 [==============================] - 0s 52ms/step\n"
          ]
        },
        {
          "name": "stderr",
          "output_type": "stream",
          "text": [
            "\rPneumonia:  29%|██▉       | 229/780 [00:34<01:07,  8.15it/s]"
          ]
        },
        {
          "name": "stdout",
          "output_type": "stream",
          "text": [
            "1/1 [==============================] - 0s 55ms/step\n"
          ]
        },
        {
          "name": "stderr",
          "output_type": "stream",
          "text": [
            "\rPneumonia:  29%|██▉       | 230/780 [00:34<01:06,  8.22it/s]"
          ]
        },
        {
          "name": "stdout",
          "output_type": "stream",
          "text": [
            "1/1 [==============================] - 0s 56ms/step\n"
          ]
        },
        {
          "name": "stderr",
          "output_type": "stream",
          "text": [
            "\rPneumonia:  30%|██▉       | 231/780 [00:34<01:06,  8.30it/s]"
          ]
        },
        {
          "name": "stdout",
          "output_type": "stream",
          "text": [
            "1/1 [==============================] - 0s 53ms/step\n"
          ]
        },
        {
          "name": "stderr",
          "output_type": "stream",
          "text": [
            "\rPneumonia:  30%|██▉       | 232/780 [00:34<01:06,  8.23it/s]"
          ]
        },
        {
          "name": "stdout",
          "output_type": "stream",
          "text": [
            "1/1 [==============================] - 0s 57ms/step\n"
          ]
        },
        {
          "name": "stderr",
          "output_type": "stream",
          "text": [
            "\rPneumonia:  30%|██▉       | 233/780 [00:34<01:08,  7.93it/s]"
          ]
        },
        {
          "name": "stdout",
          "output_type": "stream",
          "text": [
            "1/1 [==============================] - 0s 55ms/step\n"
          ]
        },
        {
          "name": "stderr",
          "output_type": "stream",
          "text": [
            "\rPneumonia:  30%|███       | 234/780 [00:35<01:09,  7.82it/s]"
          ]
        },
        {
          "name": "stdout",
          "output_type": "stream",
          "text": [
            "1/1 [==============================] - 0s 58ms/step\n"
          ]
        },
        {
          "name": "stderr",
          "output_type": "stream",
          "text": [
            "\rPneumonia:  30%|███       | 235/780 [00:35<01:10,  7.69it/s]"
          ]
        },
        {
          "name": "stdout",
          "output_type": "stream",
          "text": [
            "1/1 [==============================] - 0s 51ms/step\n"
          ]
        },
        {
          "name": "stderr",
          "output_type": "stream",
          "text": [
            "\rPneumonia:  30%|███       | 236/780 [00:35<01:09,  7.88it/s]"
          ]
        },
        {
          "name": "stdout",
          "output_type": "stream",
          "text": [
            "1/1 [==============================] - 0s 51ms/step\n"
          ]
        },
        {
          "name": "stderr",
          "output_type": "stream",
          "text": [
            "\rPneumonia:  30%|███       | 237/780 [00:35<01:07,  8.08it/s]"
          ]
        },
        {
          "name": "stdout",
          "output_type": "stream",
          "text": [
            "1/1 [==============================] - 0s 60ms/step\n"
          ]
        },
        {
          "name": "stderr",
          "output_type": "stream",
          "text": [
            "\rPneumonia:  31%|███       | 238/780 [00:35<01:07,  7.99it/s]"
          ]
        },
        {
          "name": "stdout",
          "output_type": "stream",
          "text": [
            "1/1 [==============================] - 0s 52ms/step\n"
          ]
        },
        {
          "name": "stderr",
          "output_type": "stream",
          "text": [
            "\rPneumonia:  31%|███       | 239/780 [00:35<01:07,  7.99it/s]"
          ]
        },
        {
          "name": "stdout",
          "output_type": "stream",
          "text": [
            "1/1 [==============================] - 0s 51ms/step\n"
          ]
        },
        {
          "name": "stderr",
          "output_type": "stream",
          "text": [
            "\rPneumonia:  31%|███       | 240/780 [00:35<01:06,  8.15it/s]"
          ]
        },
        {
          "name": "stdout",
          "output_type": "stream",
          "text": [
            "1/1 [==============================] - 0s 52ms/step\n"
          ]
        },
        {
          "name": "stderr",
          "output_type": "stream",
          "text": [
            "\rPneumonia:  31%|███       | 241/780 [00:35<01:06,  8.16it/s]"
          ]
        },
        {
          "name": "stdout",
          "output_type": "stream",
          "text": [
            "1/1 [==============================] - 0s 57ms/step\n"
          ]
        },
        {
          "name": "stderr",
          "output_type": "stream",
          "text": [
            "\rPneumonia:  31%|███       | 242/780 [00:36<01:06,  8.11it/s]"
          ]
        },
        {
          "name": "stdout",
          "output_type": "stream",
          "text": [
            "1/1 [==============================] - 0s 53ms/step\n"
          ]
        },
        {
          "name": "stderr",
          "output_type": "stream",
          "text": [
            "\rPneumonia:  31%|███       | 243/780 [00:36<01:06,  8.08it/s]"
          ]
        },
        {
          "name": "stdout",
          "output_type": "stream",
          "text": [
            "1/1 [==============================] - 0s 52ms/step\n"
          ]
        },
        {
          "name": "stderr",
          "output_type": "stream",
          "text": [
            "\rPneumonia:  31%|███▏      | 244/780 [00:36<01:08,  7.80it/s]"
          ]
        },
        {
          "name": "stdout",
          "output_type": "stream",
          "text": [
            "1/1 [==============================] - 0s 58ms/step\n"
          ]
        },
        {
          "name": "stderr",
          "output_type": "stream",
          "text": [
            "\rPneumonia:  31%|███▏      | 245/780 [00:36<01:07,  7.96it/s]"
          ]
        },
        {
          "name": "stdout",
          "output_type": "stream",
          "text": [
            "1/1 [==============================] - 0s 63ms/step\n"
          ]
        },
        {
          "name": "stderr",
          "output_type": "stream",
          "text": [
            "\rPneumonia:  32%|███▏      | 246/780 [00:36<01:10,  7.60it/s]"
          ]
        },
        {
          "name": "stdout",
          "output_type": "stream",
          "text": [
            "1/1 [==============================] - 0s 51ms/step\n"
          ]
        },
        {
          "name": "stderr",
          "output_type": "stream",
          "text": [
            "\rPneumonia:  32%|███▏      | 247/780 [00:36<01:09,  7.72it/s]"
          ]
        },
        {
          "name": "stdout",
          "output_type": "stream",
          "text": [
            "1/1 [==============================] - 0s 52ms/step\n"
          ]
        },
        {
          "name": "stderr",
          "output_type": "stream",
          "text": [
            "\rPneumonia:  32%|███▏      | 248/780 [00:36<01:07,  7.84it/s]"
          ]
        },
        {
          "name": "stdout",
          "output_type": "stream",
          "text": [
            "1/1 [==============================] - 0s 51ms/step\n"
          ]
        },
        {
          "name": "stderr",
          "output_type": "stream",
          "text": [
            "\rPneumonia:  32%|███▏      | 249/780 [00:36<01:06,  7.95it/s]"
          ]
        },
        {
          "name": "stdout",
          "output_type": "stream",
          "text": [
            "1/1 [==============================] - 0s 51ms/step\n"
          ]
        },
        {
          "name": "stderr",
          "output_type": "stream",
          "text": [
            "\rPneumonia:  32%|███▏      | 250/780 [00:37<01:06,  7.98it/s]"
          ]
        },
        {
          "name": "stdout",
          "output_type": "stream",
          "text": [
            "1/1 [==============================] - 0s 50ms/step\n"
          ]
        },
        {
          "name": "stderr",
          "output_type": "stream",
          "text": [
            "\rPneumonia:  32%|███▏      | 251/780 [00:37<01:05,  8.08it/s]"
          ]
        },
        {
          "name": "stdout",
          "output_type": "stream",
          "text": [
            "1/1 [==============================] - 0s 53ms/step\n"
          ]
        },
        {
          "name": "stderr",
          "output_type": "stream",
          "text": [
            "\rPneumonia:  32%|███▏      | 252/780 [00:37<01:06,  7.96it/s]"
          ]
        },
        {
          "name": "stdout",
          "output_type": "stream",
          "text": [
            "1/1 [==============================] - 0s 51ms/step\n"
          ]
        },
        {
          "name": "stderr",
          "output_type": "stream",
          "text": [
            "\rPneumonia:  32%|███▏      | 253/780 [00:37<01:07,  7.84it/s]"
          ]
        },
        {
          "name": "stdout",
          "output_type": "stream",
          "text": [
            "1/1 [==============================] - 0s 55ms/step\n"
          ]
        },
        {
          "name": "stderr",
          "output_type": "stream",
          "text": [
            "\rPneumonia:  33%|███▎      | 254/780 [00:37<01:05,  8.02it/s]"
          ]
        },
        {
          "name": "stdout",
          "output_type": "stream",
          "text": [
            "1/1 [==============================] - 0s 52ms/step\n"
          ]
        },
        {
          "name": "stderr",
          "output_type": "stream",
          "text": [
            "\rPneumonia:  33%|███▎      | 255/780 [00:37<01:06,  7.94it/s]"
          ]
        },
        {
          "name": "stdout",
          "output_type": "stream",
          "text": [
            "1/1 [==============================] - 0s 57ms/step\n"
          ]
        },
        {
          "name": "stderr",
          "output_type": "stream",
          "text": [
            "\rPneumonia:  33%|███▎      | 256/780 [00:37<01:04,  8.14it/s]"
          ]
        },
        {
          "name": "stdout",
          "output_type": "stream",
          "text": [
            "1/1 [==============================] - 0s 51ms/step\n"
          ]
        },
        {
          "name": "stderr",
          "output_type": "stream",
          "text": [
            "\rPneumonia:  33%|███▎      | 257/780 [00:37<01:03,  8.21it/s]"
          ]
        },
        {
          "name": "stdout",
          "output_type": "stream",
          "text": [
            "1/1 [==============================] - 0s 53ms/step\n"
          ]
        },
        {
          "name": "stderr",
          "output_type": "stream",
          "text": [
            "\rPneumonia:  33%|███▎      | 258/780 [00:38<01:04,  8.15it/s]"
          ]
        },
        {
          "name": "stdout",
          "output_type": "stream",
          "text": [
            "1/1 [==============================] - 0s 51ms/step\n"
          ]
        },
        {
          "name": "stderr",
          "output_type": "stream",
          "text": [
            "\rPneumonia:  33%|███▎      | 259/780 [00:38<01:04,  8.04it/s]"
          ]
        },
        {
          "name": "stdout",
          "output_type": "stream",
          "text": [
            "1/1 [==============================] - 0s 51ms/step\n"
          ]
        },
        {
          "name": "stderr",
          "output_type": "stream",
          "text": [
            "\rPneumonia:  33%|███▎      | 260/780 [00:38<01:04,  8.06it/s]"
          ]
        },
        {
          "name": "stdout",
          "output_type": "stream",
          "text": [
            "1/1 [==============================] - 0s 56ms/step\n"
          ]
        },
        {
          "name": "stderr",
          "output_type": "stream",
          "text": [
            "\rPneumonia:  33%|███▎      | 261/780 [00:38<01:05,  7.96it/s]"
          ]
        },
        {
          "name": "stdout",
          "output_type": "stream",
          "text": [
            "1/1 [==============================] - 0s 54ms/step\n"
          ]
        },
        {
          "name": "stderr",
          "output_type": "stream",
          "text": [
            "\rPneumonia:  34%|███▎      | 262/780 [00:38<01:05,  7.90it/s]"
          ]
        },
        {
          "name": "stdout",
          "output_type": "stream",
          "text": [
            "1/1 [==============================] - 0s 53ms/step\n"
          ]
        },
        {
          "name": "stderr",
          "output_type": "stream",
          "text": [
            "\rPneumonia:  34%|███▎      | 263/780 [00:38<01:08,  7.58it/s]"
          ]
        },
        {
          "name": "stdout",
          "output_type": "stream",
          "text": [
            "1/1 [==============================] - 0s 51ms/step\n"
          ]
        },
        {
          "name": "stderr",
          "output_type": "stream",
          "text": [
            "\rPneumonia:  34%|███▍      | 264/780 [00:38<01:08,  7.58it/s]"
          ]
        },
        {
          "name": "stdout",
          "output_type": "stream",
          "text": [
            "1/1 [==============================] - 0s 50ms/step\n"
          ]
        },
        {
          "name": "stderr",
          "output_type": "stream",
          "text": [
            "\rPneumonia:  34%|███▍      | 265/780 [00:39<01:06,  7.74it/s]"
          ]
        },
        {
          "name": "stdout",
          "output_type": "stream",
          "text": [
            "1/1 [==============================] - 0s 51ms/step\n"
          ]
        },
        {
          "name": "stderr",
          "output_type": "stream",
          "text": [
            "\rPneumonia:  34%|███▍      | 266/780 [00:39<01:06,  7.70it/s]"
          ]
        },
        {
          "name": "stdout",
          "output_type": "stream",
          "text": [
            "1/1 [==============================] - 0s 52ms/step\n"
          ]
        },
        {
          "name": "stderr",
          "output_type": "stream",
          "text": [
            "\rPneumonia:  34%|███▍      | 267/780 [00:39<01:06,  7.71it/s]"
          ]
        },
        {
          "name": "stdout",
          "output_type": "stream",
          "text": [
            "1/1 [==============================] - 0s 51ms/step\n"
          ]
        },
        {
          "name": "stderr",
          "output_type": "stream",
          "text": [
            "\rPneumonia:  34%|███▍      | 268/780 [00:39<01:05,  7.86it/s]"
          ]
        },
        {
          "name": "stdout",
          "output_type": "stream",
          "text": [
            "1/1 [==============================] - 0s 52ms/step\n"
          ]
        },
        {
          "name": "stderr",
          "output_type": "stream",
          "text": [
            "\rPneumonia:  34%|███▍      | 269/780 [00:39<01:04,  7.94it/s]"
          ]
        },
        {
          "name": "stdout",
          "output_type": "stream",
          "text": [
            "1/1 [==============================] - 0s 52ms/step\n"
          ]
        },
        {
          "name": "stderr",
          "output_type": "stream",
          "text": [
            "\rPneumonia:  35%|███▍      | 270/780 [00:39<01:04,  7.89it/s]"
          ]
        },
        {
          "name": "stdout",
          "output_type": "stream",
          "text": [
            "1/1 [==============================] - 0s 52ms/step\n"
          ]
        },
        {
          "name": "stderr",
          "output_type": "stream",
          "text": [
            "\rPneumonia:  35%|███▍      | 271/780 [00:39<01:05,  7.74it/s]"
          ]
        },
        {
          "name": "stdout",
          "output_type": "stream",
          "text": [
            "1/1 [==============================] - 0s 51ms/step\n"
          ]
        },
        {
          "name": "stderr",
          "output_type": "stream",
          "text": [
            "\rPneumonia:  35%|███▍      | 272/780 [00:39<01:04,  7.87it/s]"
          ]
        },
        {
          "name": "stdout",
          "output_type": "stream",
          "text": [
            "1/1 [==============================] - 0s 61ms/step\n"
          ]
        },
        {
          "name": "stderr",
          "output_type": "stream",
          "text": [
            "\rPneumonia:  35%|███▌      | 273/780 [00:40<01:06,  7.60it/s]"
          ]
        },
        {
          "name": "stdout",
          "output_type": "stream",
          "text": [
            "1/1 [==============================] - 0s 51ms/step\n"
          ]
        },
        {
          "name": "stderr",
          "output_type": "stream",
          "text": [
            "\rPneumonia:  35%|███▌      | 274/780 [00:40<01:07,  7.53it/s]"
          ]
        },
        {
          "name": "stdout",
          "output_type": "stream",
          "text": [
            "1/1 [==============================] - 0s 52ms/step\n"
          ]
        },
        {
          "name": "stderr",
          "output_type": "stream",
          "text": [
            "\rPneumonia:  35%|███▌      | 275/780 [00:40<01:03,  7.97it/s]"
          ]
        },
        {
          "name": "stdout",
          "output_type": "stream",
          "text": [
            "1/1 [==============================] - 0s 53ms/step\n"
          ]
        },
        {
          "name": "stderr",
          "output_type": "stream",
          "text": [
            "\rPneumonia:  35%|███▌      | 276/780 [00:40<01:01,  8.14it/s]"
          ]
        },
        {
          "name": "stdout",
          "output_type": "stream",
          "text": [
            "1/1 [==============================] - 0s 51ms/step\n"
          ]
        },
        {
          "name": "stderr",
          "output_type": "stream",
          "text": [
            "\rPneumonia:  36%|███▌      | 277/780 [00:40<01:02,  8.10it/s]"
          ]
        },
        {
          "name": "stdout",
          "output_type": "stream",
          "text": [
            "1/1 [==============================] - 0s 53ms/step\n"
          ]
        },
        {
          "name": "stderr",
          "output_type": "stream",
          "text": [
            "\rPneumonia:  36%|███▌      | 278/780 [00:40<01:03,  7.87it/s]"
          ]
        },
        {
          "name": "stdout",
          "output_type": "stream",
          "text": [
            "1/1 [==============================] - 0s 52ms/step\n"
          ]
        },
        {
          "name": "stderr",
          "output_type": "stream",
          "text": [
            "\rPneumonia:  36%|███▌      | 279/780 [00:40<01:03,  7.84it/s]"
          ]
        },
        {
          "name": "stdout",
          "output_type": "stream",
          "text": [
            "1/1 [==============================] - 0s 53ms/step\n"
          ]
        },
        {
          "name": "stderr",
          "output_type": "stream",
          "text": [
            "\rPneumonia:  36%|███▌      | 280/780 [00:40<01:03,  7.82it/s]"
          ]
        },
        {
          "name": "stdout",
          "output_type": "stream",
          "text": [
            "1/1 [==============================] - 0s 54ms/step\n"
          ]
        },
        {
          "name": "stderr",
          "output_type": "stream",
          "text": [
            "\rPneumonia:  36%|███▌      | 281/780 [00:41<01:03,  7.83it/s]"
          ]
        },
        {
          "name": "stdout",
          "output_type": "stream",
          "text": [
            "1/1 [==============================] - 0s 53ms/step\n"
          ]
        },
        {
          "name": "stderr",
          "output_type": "stream",
          "text": [
            "\rPneumonia:  36%|███▌      | 282/780 [00:41<01:01,  8.04it/s]"
          ]
        },
        {
          "name": "stdout",
          "output_type": "stream",
          "text": [
            "1/1 [==============================] - 0s 59ms/step\n"
          ]
        },
        {
          "name": "stderr",
          "output_type": "stream",
          "text": [
            "\rPneumonia:  36%|███▋      | 283/780 [00:41<01:01,  8.07it/s]"
          ]
        },
        {
          "name": "stdout",
          "output_type": "stream",
          "text": [
            "1/1 [==============================] - 0s 52ms/step\n"
          ]
        },
        {
          "name": "stderr",
          "output_type": "stream",
          "text": [
            "\rPneumonia:  36%|███▋      | 284/780 [00:41<01:01,  8.08it/s]"
          ]
        },
        {
          "name": "stdout",
          "output_type": "stream",
          "text": [
            "1/1 [==============================] - 0s 52ms/step\n"
          ]
        },
        {
          "name": "stderr",
          "output_type": "stream",
          "text": [
            "\rPneumonia:  37%|███▋      | 285/780 [00:41<01:00,  8.13it/s]"
          ]
        },
        {
          "name": "stdout",
          "output_type": "stream",
          "text": [
            "1/1 [==============================] - 0s 54ms/step\n"
          ]
        },
        {
          "name": "stderr",
          "output_type": "stream",
          "text": [
            "\rPneumonia:  37%|███▋      | 286/780 [00:41<01:01,  8.07it/s]"
          ]
        },
        {
          "name": "stdout",
          "output_type": "stream",
          "text": [
            "1/1 [==============================] - 0s 61ms/step\n"
          ]
        },
        {
          "name": "stderr",
          "output_type": "stream",
          "text": [
            "\rPneumonia:  37%|███▋      | 287/780 [00:41<01:05,  7.49it/s]"
          ]
        },
        {
          "name": "stdout",
          "output_type": "stream",
          "text": [
            "1/1 [==============================] - 0s 78ms/step\n"
          ]
        },
        {
          "name": "stderr",
          "output_type": "stream",
          "text": [
            "\rPneumonia:  37%|███▋      | 288/780 [00:41<01:07,  7.25it/s]"
          ]
        },
        {
          "name": "stdout",
          "output_type": "stream",
          "text": [
            "1/1 [==============================] - 0s 88ms/step\n"
          ]
        },
        {
          "name": "stderr",
          "output_type": "stream",
          "text": [
            "\rPneumonia:  37%|███▋      | 289/780 [00:42<01:14,  6.58it/s]"
          ]
        },
        {
          "name": "stdout",
          "output_type": "stream",
          "text": [
            "1/1 [==============================] - 0s 88ms/step\n"
          ]
        },
        {
          "name": "stderr",
          "output_type": "stream",
          "text": [
            "\rPneumonia:  37%|███▋      | 290/780 [00:42<01:23,  5.88it/s]"
          ]
        },
        {
          "name": "stdout",
          "output_type": "stream",
          "text": [
            "1/1 [==============================] - 0s 89ms/step\n"
          ]
        },
        {
          "name": "stderr",
          "output_type": "stream",
          "text": [
            "\rPneumonia:  37%|███▋      | 291/780 [00:42<01:36,  5.05it/s]"
          ]
        },
        {
          "name": "stdout",
          "output_type": "stream",
          "text": [
            "1/1 [==============================] - 0s 104ms/step\n"
          ]
        },
        {
          "name": "stderr",
          "output_type": "stream",
          "text": [
            "\rPneumonia:  37%|███▋      | 292/780 [00:42<01:35,  5.12it/s]"
          ]
        },
        {
          "name": "stdout",
          "output_type": "stream",
          "text": [
            "1/1 [==============================] - 0s 100ms/step\n"
          ]
        },
        {
          "name": "stderr",
          "output_type": "stream",
          "text": [
            "\rPneumonia:  38%|███▊      | 293/780 [00:43<01:36,  5.02it/s]"
          ]
        },
        {
          "name": "stdout",
          "output_type": "stream",
          "text": [
            "1/1 [==============================] - 0s 106ms/step\n"
          ]
        },
        {
          "name": "stderr",
          "output_type": "stream",
          "text": [
            "\rPneumonia:  38%|███▊      | 294/780 [00:43<01:49,  4.44it/s]"
          ]
        },
        {
          "name": "stdout",
          "output_type": "stream",
          "text": [
            "1/1 [==============================] - 0s 89ms/step\n"
          ]
        },
        {
          "name": "stderr",
          "output_type": "stream",
          "text": [
            "\rPneumonia:  38%|███▊      | 295/780 [00:43<01:41,  4.76it/s]"
          ]
        },
        {
          "name": "stdout",
          "output_type": "stream",
          "text": [
            "1/1 [==============================] - 0s 97ms/step\n"
          ]
        },
        {
          "name": "stderr",
          "output_type": "stream",
          "text": [
            "\rPneumonia:  38%|███▊      | 296/780 [00:43<01:39,  4.86it/s]"
          ]
        },
        {
          "name": "stdout",
          "output_type": "stream",
          "text": [
            "1/1 [==============================] - 0s 91ms/step\n"
          ]
        },
        {
          "name": "stderr",
          "output_type": "stream",
          "text": [
            "\rPneumonia:  38%|███▊      | 297/780 [00:43<01:38,  4.92it/s]"
          ]
        },
        {
          "name": "stdout",
          "output_type": "stream",
          "text": [
            "1/1 [==============================] - 0s 94ms/step\n"
          ]
        },
        {
          "name": "stderr",
          "output_type": "stream",
          "text": [
            "\rPneumonia:  38%|███▊      | 298/780 [00:44<01:32,  5.21it/s]"
          ]
        },
        {
          "name": "stdout",
          "output_type": "stream",
          "text": [
            "1/1 [==============================] - 0s 96ms/step\n"
          ]
        },
        {
          "name": "stderr",
          "output_type": "stream",
          "text": [
            "\rPneumonia:  38%|███▊      | 299/780 [00:44<01:44,  4.62it/s]"
          ]
        },
        {
          "name": "stdout",
          "output_type": "stream",
          "text": [
            "1/1 [==============================] - 0s 90ms/step\n"
          ]
        },
        {
          "name": "stderr",
          "output_type": "stream",
          "text": [
            "\rPneumonia:  38%|███▊      | 300/780 [00:44<01:36,  4.96it/s]"
          ]
        },
        {
          "name": "stdout",
          "output_type": "stream",
          "text": [
            "1/1 [==============================] - 0s 115ms/step\n"
          ]
        },
        {
          "name": "stderr",
          "output_type": "stream",
          "text": [
            "\rPneumonia:  39%|███▊      | 301/780 [00:44<01:36,  4.97it/s]"
          ]
        },
        {
          "name": "stdout",
          "output_type": "stream",
          "text": [
            "1/1 [==============================] - 0s 111ms/step\n"
          ]
        },
        {
          "name": "stderr",
          "output_type": "stream",
          "text": [
            "\rPneumonia:  39%|███▊      | 302/780 [00:44<01:38,  4.86it/s]"
          ]
        },
        {
          "name": "stdout",
          "output_type": "stream",
          "text": [
            "1/1 [==============================] - 0s 85ms/step\n"
          ]
        },
        {
          "name": "stderr",
          "output_type": "stream",
          "text": [
            "\rPneumonia:  39%|███▉      | 303/780 [00:45<01:32,  5.15it/s]"
          ]
        },
        {
          "name": "stdout",
          "output_type": "stream",
          "text": [
            "1/1 [==============================] - 0s 81ms/step\n"
          ]
        },
        {
          "name": "stderr",
          "output_type": "stream",
          "text": [
            "\rPneumonia:  39%|███▉      | 304/780 [00:45<01:28,  5.36it/s]"
          ]
        },
        {
          "name": "stdout",
          "output_type": "stream",
          "text": [
            "1/1 [==============================] - 0s 88ms/step\n"
          ]
        },
        {
          "name": "stderr",
          "output_type": "stream",
          "text": [
            "\rPneumonia:  39%|███▉      | 305/780 [00:45<01:26,  5.46it/s]"
          ]
        },
        {
          "name": "stdout",
          "output_type": "stream",
          "text": [
            "1/1 [==============================] - 0s 88ms/step\n"
          ]
        },
        {
          "name": "stderr",
          "output_type": "stream",
          "text": [
            "\rPneumonia:  39%|███▉      | 306/780 [00:45<01:38,  4.80it/s]"
          ]
        },
        {
          "name": "stdout",
          "output_type": "stream",
          "text": [
            "1/1 [==============================] - 0s 92ms/step\n"
          ]
        },
        {
          "name": "stderr",
          "output_type": "stream",
          "text": [
            "\rPneumonia:  39%|███▉      | 307/780 [00:45<01:42,  4.62it/s]"
          ]
        },
        {
          "name": "stdout",
          "output_type": "stream",
          "text": [
            "1/1 [==============================] - 0s 101ms/step\n"
          ]
        },
        {
          "name": "stderr",
          "output_type": "stream",
          "text": [
            "\rPneumonia:  39%|███▉      | 308/780 [00:46<01:39,  4.77it/s]"
          ]
        },
        {
          "name": "stdout",
          "output_type": "stream",
          "text": [
            "1/1 [==============================] - 0s 92ms/step\n"
          ]
        },
        {
          "name": "stderr",
          "output_type": "stream",
          "text": [
            "\rPneumonia:  40%|███▉      | 309/780 [00:46<01:44,  4.51it/s]"
          ]
        },
        {
          "name": "stdout",
          "output_type": "stream",
          "text": [
            "1/1 [==============================] - 0s 92ms/step\n"
          ]
        },
        {
          "name": "stderr",
          "output_type": "stream",
          "text": [
            "\rPneumonia:  40%|███▉      | 310/780 [00:46<01:36,  4.87it/s]"
          ]
        },
        {
          "name": "stdout",
          "output_type": "stream",
          "text": [
            "1/1 [==============================] - 0s 71ms/step\n"
          ]
        },
        {
          "name": "stderr",
          "output_type": "stream",
          "text": [
            "\rPneumonia:  40%|███▉      | 311/780 [00:46<01:30,  5.18it/s]"
          ]
        },
        {
          "name": "stdout",
          "output_type": "stream",
          "text": [
            "1/1 [==============================] - 0s 56ms/step\n"
          ]
        },
        {
          "name": "stderr",
          "output_type": "stream",
          "text": [
            "\rPneumonia:  40%|████      | 312/780 [00:46<01:21,  5.76it/s]"
          ]
        },
        {
          "name": "stdout",
          "output_type": "stream",
          "text": [
            "1/1 [==============================] - 0s 52ms/step\n"
          ]
        },
        {
          "name": "stderr",
          "output_type": "stream",
          "text": [
            "\rPneumonia:  40%|████      | 313/780 [00:46<01:15,  6.15it/s]"
          ]
        },
        {
          "name": "stdout",
          "output_type": "stream",
          "text": [
            "1/1 [==============================] - 0s 54ms/step\n"
          ]
        },
        {
          "name": "stderr",
          "output_type": "stream",
          "text": [
            "\rPneumonia:  40%|████      | 314/780 [00:47<01:11,  6.54it/s]"
          ]
        },
        {
          "name": "stdout",
          "output_type": "stream",
          "text": [
            "1/1 [==============================] - 0s 52ms/step\n"
          ]
        },
        {
          "name": "stderr",
          "output_type": "stream",
          "text": [
            "\rPneumonia:  40%|████      | 315/780 [00:47<01:06,  6.96it/s]"
          ]
        },
        {
          "name": "stdout",
          "output_type": "stream",
          "text": [
            "1/1 [==============================] - 0s 52ms/step\n"
          ]
        },
        {
          "name": "stderr",
          "output_type": "stream",
          "text": [
            "\rPneumonia:  41%|████      | 316/780 [00:47<01:03,  7.33it/s]"
          ]
        },
        {
          "name": "stdout",
          "output_type": "stream",
          "text": [
            "1/1 [==============================] - 0s 55ms/step\n"
          ]
        },
        {
          "name": "stderr",
          "output_type": "stream",
          "text": [
            "\rPneumonia:  41%|████      | 317/780 [00:47<01:01,  7.47it/s]"
          ]
        },
        {
          "name": "stdout",
          "output_type": "stream",
          "text": [
            "1/1 [==============================] - 0s 53ms/step\n"
          ]
        },
        {
          "name": "stderr",
          "output_type": "stream",
          "text": [
            "\rPneumonia:  41%|████      | 318/780 [00:47<00:59,  7.81it/s]"
          ]
        },
        {
          "name": "stdout",
          "output_type": "stream",
          "text": [
            "1/1 [==============================] - 0s 60ms/step\n"
          ]
        },
        {
          "name": "stderr",
          "output_type": "stream",
          "text": [
            "\rPneumonia:  41%|████      | 319/780 [00:47<00:58,  7.88it/s]"
          ]
        },
        {
          "name": "stdout",
          "output_type": "stream",
          "text": [
            "1/1 [==============================] - 0s 57ms/step\n"
          ]
        },
        {
          "name": "stderr",
          "output_type": "stream",
          "text": [
            "\rPneumonia:  41%|████      | 320/780 [00:47<00:58,  7.86it/s]"
          ]
        },
        {
          "name": "stdout",
          "output_type": "stream",
          "text": [
            "1/1 [==============================] - 0s 52ms/step\n"
          ]
        },
        {
          "name": "stderr",
          "output_type": "stream",
          "text": [
            "\rPneumonia:  41%|████      | 321/780 [00:47<00:57,  8.00it/s]"
          ]
        },
        {
          "name": "stdout",
          "output_type": "stream",
          "text": [
            "1/1 [==============================] - 0s 66ms/step\n"
          ]
        },
        {
          "name": "stderr",
          "output_type": "stream",
          "text": [
            "\rPneumonia:  41%|████▏     | 322/780 [00:48<00:59,  7.65it/s]"
          ]
        },
        {
          "name": "stdout",
          "output_type": "stream",
          "text": [
            "1/1 [==============================] - 0s 55ms/step\n"
          ]
        },
        {
          "name": "stderr",
          "output_type": "stream",
          "text": [
            "\rPneumonia:  41%|████▏     | 323/780 [00:48<00:59,  7.71it/s]"
          ]
        },
        {
          "name": "stdout",
          "output_type": "stream",
          "text": [
            "1/1 [==============================] - 0s 53ms/step\n"
          ]
        },
        {
          "name": "stderr",
          "output_type": "stream",
          "text": [
            "\rPneumonia:  42%|████▏     | 324/780 [00:48<00:58,  7.77it/s]"
          ]
        },
        {
          "name": "stdout",
          "output_type": "stream",
          "text": [
            "1/1 [==============================] - 0s 52ms/step\n"
          ]
        },
        {
          "name": "stderr",
          "output_type": "stream",
          "text": [
            "\rPneumonia:  42%|████▏     | 325/780 [00:48<00:57,  7.89it/s]"
          ]
        },
        {
          "name": "stdout",
          "output_type": "stream",
          "text": [
            "1/1 [==============================] - 0s 51ms/step\n"
          ]
        },
        {
          "name": "stderr",
          "output_type": "stream",
          "text": [
            "\rPneumonia:  42%|████▏     | 326/780 [00:48<00:56,  7.97it/s]"
          ]
        },
        {
          "name": "stdout",
          "output_type": "stream",
          "text": [
            "1/1 [==============================] - 0s 58ms/step\n"
          ]
        },
        {
          "name": "stderr",
          "output_type": "stream",
          "text": [
            "\rPneumonia:  42%|████▏     | 327/780 [00:48<00:59,  7.58it/s]"
          ]
        },
        {
          "name": "stdout",
          "output_type": "stream",
          "text": [
            "1/1 [==============================] - 0s 54ms/step\n"
          ]
        },
        {
          "name": "stderr",
          "output_type": "stream",
          "text": [
            "\rPneumonia:  42%|████▏     | 328/780 [00:48<00:57,  7.82it/s]"
          ]
        },
        {
          "name": "stdout",
          "output_type": "stream",
          "text": [
            "1/1 [==============================] - 0s 53ms/step\n"
          ]
        },
        {
          "name": "stderr",
          "output_type": "stream",
          "text": [
            "\rPneumonia:  42%|████▏     | 329/780 [00:48<00:56,  7.93it/s]"
          ]
        },
        {
          "name": "stdout",
          "output_type": "stream",
          "text": [
            "1/1 [==============================] - 0s 67ms/step\n"
          ]
        },
        {
          "name": "stderr",
          "output_type": "stream",
          "text": [
            "\rPneumonia:  42%|████▏     | 330/780 [00:49<00:58,  7.72it/s]"
          ]
        },
        {
          "name": "stdout",
          "output_type": "stream",
          "text": [
            "1/1 [==============================] - 0s 53ms/step\n"
          ]
        },
        {
          "name": "stderr",
          "output_type": "stream",
          "text": [
            "\rPneumonia:  42%|████▏     | 331/780 [00:49<00:58,  7.71it/s]"
          ]
        },
        {
          "name": "stdout",
          "output_type": "stream",
          "text": [
            "1/1 [==============================] - 0s 52ms/step\n"
          ]
        },
        {
          "name": "stderr",
          "output_type": "stream",
          "text": [
            "\rPneumonia:  43%|████▎     | 332/780 [00:49<00:57,  7.76it/s]"
          ]
        },
        {
          "name": "stdout",
          "output_type": "stream",
          "text": [
            "1/1 [==============================] - 0s 52ms/step\n"
          ]
        },
        {
          "name": "stderr",
          "output_type": "stream",
          "text": [
            "\rPneumonia:  43%|████▎     | 333/780 [00:49<00:57,  7.80it/s]"
          ]
        },
        {
          "name": "stdout",
          "output_type": "stream",
          "text": [
            "1/1 [==============================] - 0s 52ms/step\n"
          ]
        },
        {
          "name": "stderr",
          "output_type": "stream",
          "text": [
            "\rPneumonia:  43%|████▎     | 334/780 [00:49<00:57,  7.76it/s]"
          ]
        },
        {
          "name": "stdout",
          "output_type": "stream",
          "text": [
            "1/1 [==============================] - 0s 56ms/step\n"
          ]
        },
        {
          "name": "stderr",
          "output_type": "stream",
          "text": [
            "\rPneumonia:  43%|████▎     | 335/780 [00:49<00:57,  7.73it/s]"
          ]
        },
        {
          "name": "stdout",
          "output_type": "stream",
          "text": [
            "1/1 [==============================] - 0s 53ms/step\n"
          ]
        },
        {
          "name": "stderr",
          "output_type": "stream",
          "text": [
            "\rPneumonia:  43%|████▎     | 336/780 [00:49<00:57,  7.71it/s]"
          ]
        },
        {
          "name": "stdout",
          "output_type": "stream",
          "text": [
            "1/1 [==============================] - 0s 55ms/step\n"
          ]
        },
        {
          "name": "stderr",
          "output_type": "stream",
          "text": [
            "\rPneumonia:  43%|████▎     | 337/780 [00:49<00:56,  7.84it/s]"
          ]
        },
        {
          "name": "stdout",
          "output_type": "stream",
          "text": [
            "1/1 [==============================] - 0s 60ms/step\n"
          ]
        },
        {
          "name": "stderr",
          "output_type": "stream",
          "text": [
            "\rPneumonia:  43%|████▎     | 338/780 [00:50<00:57,  7.70it/s]"
          ]
        },
        {
          "name": "stdout",
          "output_type": "stream",
          "text": [
            "1/1 [==============================] - 0s 52ms/step\n"
          ]
        },
        {
          "name": "stderr",
          "output_type": "stream",
          "text": [
            "\rPneumonia:  43%|████▎     | 339/780 [00:50<00:55,  7.90it/s]"
          ]
        },
        {
          "name": "stdout",
          "output_type": "stream",
          "text": [
            "1/1 [==============================] - 0s 68ms/step\n"
          ]
        },
        {
          "name": "stderr",
          "output_type": "stream",
          "text": [
            "\rPneumonia:  44%|████▎     | 340/780 [00:50<00:58,  7.56it/s]"
          ]
        },
        {
          "name": "stdout",
          "output_type": "stream",
          "text": [
            "1/1 [==============================] - 0s 52ms/step\n"
          ]
        },
        {
          "name": "stderr",
          "output_type": "stream",
          "text": [
            "\rPneumonia:  44%|████▎     | 341/780 [00:50<00:58,  7.53it/s]"
          ]
        },
        {
          "name": "stdout",
          "output_type": "stream",
          "text": [
            "1/1 [==============================] - 0s 54ms/step\n"
          ]
        },
        {
          "name": "stderr",
          "output_type": "stream",
          "text": [
            "\rPneumonia:  44%|████▍     | 342/780 [00:50<00:56,  7.80it/s]"
          ]
        },
        {
          "name": "stdout",
          "output_type": "stream",
          "text": [
            "1/1 [==============================] - 0s 53ms/step\n"
          ]
        },
        {
          "name": "stderr",
          "output_type": "stream",
          "text": [
            "\rPneumonia:  44%|████▍     | 343/780 [00:50<00:56,  7.79it/s]"
          ]
        },
        {
          "name": "stdout",
          "output_type": "stream",
          "text": [
            "1/1 [==============================] - 0s 53ms/step\n"
          ]
        },
        {
          "name": "stderr",
          "output_type": "stream",
          "text": [
            "\rPneumonia:  44%|████▍     | 344/780 [00:50<00:55,  7.90it/s]"
          ]
        },
        {
          "name": "stdout",
          "output_type": "stream",
          "text": [
            "1/1 [==============================] - 0s 54ms/step\n"
          ]
        },
        {
          "name": "stderr",
          "output_type": "stream",
          "text": [
            "\rPneumonia:  44%|████▍     | 345/780 [00:51<00:54,  8.00it/s]"
          ]
        },
        {
          "name": "stdout",
          "output_type": "stream",
          "text": [
            "1/1 [==============================] - 0s 60ms/step\n"
          ]
        },
        {
          "name": "stderr",
          "output_type": "stream",
          "text": [
            "\rPneumonia:  44%|████▍     | 346/780 [00:51<00:56,  7.75it/s]"
          ]
        },
        {
          "name": "stdout",
          "output_type": "stream",
          "text": [
            "1/1 [==============================] - 0s 51ms/step\n"
          ]
        },
        {
          "name": "stderr",
          "output_type": "stream",
          "text": [
            "\rPneumonia:  44%|████▍     | 347/780 [00:51<00:55,  7.86it/s]"
          ]
        },
        {
          "name": "stdout",
          "output_type": "stream",
          "text": [
            "1/1 [==============================] - 0s 56ms/step\n"
          ]
        },
        {
          "name": "stderr",
          "output_type": "stream",
          "text": [
            "\rPneumonia:  45%|████▍     | 348/780 [00:51<00:54,  7.97it/s]"
          ]
        },
        {
          "name": "stdout",
          "output_type": "stream",
          "text": [
            "1/1 [==============================] - 0s 53ms/step\n"
          ]
        },
        {
          "name": "stderr",
          "output_type": "stream",
          "text": [
            "\rPneumonia:  45%|████▍     | 349/780 [00:51<00:54,  7.88it/s]"
          ]
        },
        {
          "name": "stdout",
          "output_type": "stream",
          "text": [
            "1/1 [==============================] - 0s 53ms/step\n"
          ]
        },
        {
          "name": "stderr",
          "output_type": "stream",
          "text": [
            "\rPneumonia:  45%|████▍     | 350/780 [00:51<00:55,  7.79it/s]"
          ]
        },
        {
          "name": "stdout",
          "output_type": "stream",
          "text": [
            "1/1 [==============================] - 0s 53ms/step\n"
          ]
        },
        {
          "name": "stderr",
          "output_type": "stream",
          "text": [
            "\rPneumonia:  45%|████▌     | 351/780 [00:51<00:55,  7.79it/s]"
          ]
        },
        {
          "name": "stdout",
          "output_type": "stream",
          "text": [
            "1/1 [==============================] - 0s 54ms/step\n"
          ]
        },
        {
          "name": "stderr",
          "output_type": "stream",
          "text": [
            "\rPneumonia:  45%|████▌     | 352/780 [00:51<00:54,  7.87it/s]"
          ]
        },
        {
          "name": "stdout",
          "output_type": "stream",
          "text": [
            "1/1 [==============================] - 0s 61ms/step\n"
          ]
        },
        {
          "name": "stderr",
          "output_type": "stream",
          "text": [
            "\rPneumonia:  45%|████▌     | 353/780 [00:52<00:54,  7.79it/s]"
          ]
        },
        {
          "name": "stdout",
          "output_type": "stream",
          "text": [
            "1/1 [==============================] - 0s 64ms/step\n"
          ]
        },
        {
          "name": "stderr",
          "output_type": "stream",
          "text": [
            "\rPneumonia:  45%|████▌     | 354/780 [00:52<00:54,  7.75it/s]"
          ]
        },
        {
          "name": "stdout",
          "output_type": "stream",
          "text": [
            "1/1 [==============================] - 0s 52ms/step\n"
          ]
        },
        {
          "name": "stderr",
          "output_type": "stream",
          "text": [
            "\rPneumonia:  46%|████▌     | 355/780 [00:52<00:54,  7.86it/s]"
          ]
        },
        {
          "name": "stdout",
          "output_type": "stream",
          "text": [
            "1/1 [==============================] - 0s 57ms/step\n"
          ]
        },
        {
          "name": "stderr",
          "output_type": "stream",
          "text": [
            "\rPneumonia:  46%|████▌     | 356/780 [00:52<00:54,  7.83it/s]"
          ]
        },
        {
          "name": "stdout",
          "output_type": "stream",
          "text": [
            "1/1 [==============================] - 0s 58ms/step\n"
          ]
        },
        {
          "name": "stderr",
          "output_type": "stream",
          "text": [
            "\rPneumonia:  46%|████▌     | 357/780 [00:52<00:54,  7.80it/s]"
          ]
        },
        {
          "name": "stdout",
          "output_type": "stream",
          "text": [
            "1/1 [==============================] - 0s 53ms/step\n"
          ]
        },
        {
          "name": "stderr",
          "output_type": "stream",
          "text": [
            "\rPneumonia:  46%|████▌     | 358/780 [00:52<00:54,  7.80it/s]"
          ]
        },
        {
          "name": "stdout",
          "output_type": "stream",
          "text": [
            "1/1 [==============================] - 0s 55ms/step\n"
          ]
        },
        {
          "name": "stderr",
          "output_type": "stream",
          "text": [
            "\rPneumonia:  46%|████▌     | 359/780 [00:52<00:53,  7.84it/s]"
          ]
        },
        {
          "name": "stdout",
          "output_type": "stream",
          "text": [
            "1/1 [==============================] - 0s 54ms/step\n"
          ]
        },
        {
          "name": "stderr",
          "output_type": "stream",
          "text": [
            "\rPneumonia:  46%|████▌     | 360/780 [00:52<00:53,  7.80it/s]"
          ]
        },
        {
          "name": "stdout",
          "output_type": "stream",
          "text": [
            "1/1 [==============================] - 0s 54ms/step\n"
          ]
        },
        {
          "name": "stderr",
          "output_type": "stream",
          "text": [
            "\rPneumonia:  46%|████▋     | 361/780 [00:53<00:53,  7.87it/s]"
          ]
        },
        {
          "name": "stdout",
          "output_type": "stream",
          "text": [
            "1/1 [==============================] - 0s 63ms/step\n"
          ]
        },
        {
          "name": "stderr",
          "output_type": "stream",
          "text": [
            "\rPneumonia:  46%|████▋     | 362/780 [00:53<00:53,  7.81it/s]"
          ]
        },
        {
          "name": "stdout",
          "output_type": "stream",
          "text": [
            "1/1 [==============================] - 0s 63ms/step\n"
          ]
        },
        {
          "name": "stderr",
          "output_type": "stream",
          "text": [
            "\rPneumonia:  47%|████▋     | 363/780 [00:53<00:54,  7.61it/s]"
          ]
        },
        {
          "name": "stdout",
          "output_type": "stream",
          "text": [
            "1/1 [==============================] - 0s 52ms/step\n"
          ]
        },
        {
          "name": "stderr",
          "output_type": "stream",
          "text": [
            "\rPneumonia:  47%|████▋     | 364/780 [00:53<00:53,  7.78it/s]"
          ]
        },
        {
          "name": "stdout",
          "output_type": "stream",
          "text": [
            "1/1 [==============================] - 0s 58ms/step\n"
          ]
        },
        {
          "name": "stderr",
          "output_type": "stream",
          "text": [
            "\rPneumonia:  47%|████▋     | 365/780 [00:53<00:53,  7.74it/s]"
          ]
        },
        {
          "name": "stdout",
          "output_type": "stream",
          "text": [
            "1/1 [==============================] - 0s 58ms/step\n"
          ]
        },
        {
          "name": "stderr",
          "output_type": "stream",
          "text": [
            "\rPneumonia:  47%|████▋     | 366/780 [00:53<00:54,  7.63it/s]"
          ]
        },
        {
          "name": "stdout",
          "output_type": "stream",
          "text": [
            "1/1 [==============================] - 0s 52ms/step\n"
          ]
        },
        {
          "name": "stderr",
          "output_type": "stream",
          "text": [
            "\rPneumonia:  47%|████▋     | 367/780 [00:53<00:53,  7.75it/s]"
          ]
        },
        {
          "name": "stdout",
          "output_type": "stream",
          "text": [
            "1/1 [==============================] - 0s 56ms/step\n"
          ]
        },
        {
          "name": "stderr",
          "output_type": "stream",
          "text": [
            "\rPneumonia:  47%|████▋     | 368/780 [00:53<00:52,  7.84it/s]"
          ]
        },
        {
          "name": "stdout",
          "output_type": "stream",
          "text": [
            "1/1 [==============================] - 0s 53ms/step\n"
          ]
        },
        {
          "name": "stderr",
          "output_type": "stream",
          "text": [
            "\rPneumonia:  47%|████▋     | 369/780 [00:54<00:52,  7.78it/s]"
          ]
        },
        {
          "name": "stdout",
          "output_type": "stream",
          "text": [
            "1/1 [==============================] - 0s 62ms/step\n"
          ]
        },
        {
          "name": "stderr",
          "output_type": "stream",
          "text": [
            "\rPneumonia:  47%|████▋     | 370/780 [00:54<00:51,  7.89it/s]"
          ]
        },
        {
          "name": "stdout",
          "output_type": "stream",
          "text": [
            "1/1 [==============================] - 0s 52ms/step\n"
          ]
        },
        {
          "name": "stderr",
          "output_type": "stream",
          "text": [
            "\rPneumonia:  48%|████▊     | 371/780 [00:54<00:51,  8.01it/s]"
          ]
        },
        {
          "name": "stdout",
          "output_type": "stream",
          "text": [
            "1/1 [==============================] - 0s 52ms/step\n"
          ]
        },
        {
          "name": "stderr",
          "output_type": "stream",
          "text": [
            "\rPneumonia:  48%|████▊     | 372/780 [00:54<00:51,  7.97it/s]"
          ]
        },
        {
          "name": "stdout",
          "output_type": "stream",
          "text": [
            "1/1 [==============================] - 0s 53ms/step\n"
          ]
        },
        {
          "name": "stderr",
          "output_type": "stream",
          "text": [
            "\rPneumonia:  48%|████▊     | 373/780 [00:54<00:51,  7.94it/s]"
          ]
        },
        {
          "name": "stdout",
          "output_type": "stream",
          "text": [
            "1/1 [==============================] - 0s 53ms/step\n"
          ]
        },
        {
          "name": "stderr",
          "output_type": "stream",
          "text": [
            "\rPneumonia:  48%|████▊     | 374/780 [00:54<00:50,  8.01it/s]"
          ]
        },
        {
          "name": "stdout",
          "output_type": "stream",
          "text": [
            "1/1 [==============================] - 0s 59ms/step\n"
          ]
        },
        {
          "name": "stderr",
          "output_type": "stream",
          "text": [
            "\rPneumonia:  48%|████▊     | 375/780 [00:54<00:51,  7.85it/s]"
          ]
        },
        {
          "name": "stdout",
          "output_type": "stream",
          "text": [
            "1/1 [==============================] - 0s 54ms/step\n"
          ]
        },
        {
          "name": "stderr",
          "output_type": "stream",
          "text": [
            "\rPneumonia:  48%|████▊     | 376/780 [00:54<00:51,  7.77it/s]"
          ]
        },
        {
          "name": "stdout",
          "output_type": "stream",
          "text": [
            "1/1 [==============================] - 0s 54ms/step\n"
          ]
        },
        {
          "name": "stderr",
          "output_type": "stream",
          "text": [
            "\rPneumonia:  48%|████▊     | 377/780 [00:55<00:52,  7.74it/s]"
          ]
        },
        {
          "name": "stdout",
          "output_type": "stream",
          "text": [
            "1/1 [==============================] - 0s 66ms/step\n"
          ]
        },
        {
          "name": "stderr",
          "output_type": "stream",
          "text": [
            "\rPneumonia:  48%|████▊     | 378/780 [00:55<00:53,  7.53it/s]"
          ]
        },
        {
          "name": "stdout",
          "output_type": "stream",
          "text": [
            "1/1 [==============================] - 0s 52ms/step\n"
          ]
        },
        {
          "name": "stderr",
          "output_type": "stream",
          "text": [
            "\rPneumonia:  49%|████▊     | 379/780 [00:55<00:52,  7.67it/s]"
          ]
        },
        {
          "name": "stdout",
          "output_type": "stream",
          "text": [
            "1/1 [==============================] - 0s 53ms/step\n"
          ]
        },
        {
          "name": "stderr",
          "output_type": "stream",
          "text": [
            "\rPneumonia:  49%|████▊     | 380/780 [00:55<00:51,  7.73it/s]"
          ]
        },
        {
          "name": "stdout",
          "output_type": "stream",
          "text": [
            "1/1 [==============================] - 0s 56ms/step\n"
          ]
        },
        {
          "name": "stderr",
          "output_type": "stream",
          "text": [
            "\rPneumonia:  49%|████▉     | 381/780 [00:55<00:50,  7.84it/s]"
          ]
        },
        {
          "name": "stdout",
          "output_type": "stream",
          "text": [
            "1/1 [==============================] - 0s 53ms/step\n"
          ]
        },
        {
          "name": "stderr",
          "output_type": "stream",
          "text": [
            "\rPneumonia:  49%|████▉     | 382/780 [00:55<00:52,  7.64it/s]"
          ]
        },
        {
          "name": "stdout",
          "output_type": "stream",
          "text": [
            "1/1 [==============================] - 0s 55ms/step\n"
          ]
        },
        {
          "name": "stderr",
          "output_type": "stream",
          "text": [
            "\rPneumonia:  49%|████▉     | 383/780 [00:55<00:52,  7.62it/s]"
          ]
        },
        {
          "name": "stdout",
          "output_type": "stream",
          "text": [
            "1/1 [==============================] - 0s 53ms/step\n"
          ]
        },
        {
          "name": "stderr",
          "output_type": "stream",
          "text": [
            "\rPneumonia:  49%|████▉     | 384/780 [00:56<00:51,  7.63it/s]"
          ]
        },
        {
          "name": "stdout",
          "output_type": "stream",
          "text": [
            "1/1 [==============================] - 0s 57ms/step\n"
          ]
        },
        {
          "name": "stderr",
          "output_type": "stream",
          "text": [
            "\rPneumonia:  49%|████▉     | 385/780 [00:56<00:52,  7.58it/s]"
          ]
        },
        {
          "name": "stdout",
          "output_type": "stream",
          "text": [
            "1/1 [==============================] - 0s 64ms/step\n"
          ]
        },
        {
          "name": "stderr",
          "output_type": "stream",
          "text": [
            "\rPneumonia:  49%|████▉     | 386/780 [00:56<00:50,  7.77it/s]"
          ]
        },
        {
          "name": "stdout",
          "output_type": "stream",
          "text": [
            "1/1 [==============================] - 0s 53ms/step\n"
          ]
        },
        {
          "name": "stderr",
          "output_type": "stream",
          "text": [
            "\rPneumonia:  50%|████▉     | 387/780 [00:56<00:50,  7.80it/s]"
          ]
        },
        {
          "name": "stdout",
          "output_type": "stream",
          "text": [
            "1/1 [==============================] - 0s 56ms/step\n"
          ]
        },
        {
          "name": "stderr",
          "output_type": "stream",
          "text": [
            "\rPneumonia:  50%|████▉     | 388/780 [00:56<00:49,  7.88it/s]"
          ]
        },
        {
          "name": "stdout",
          "output_type": "stream",
          "text": [
            "1/1 [==============================] - 0s 64ms/step\n"
          ]
        },
        {
          "name": "stderr",
          "output_type": "stream",
          "text": [
            "\rPneumonia:  50%|████▉     | 389/780 [00:56<00:50,  7.69it/s]"
          ]
        },
        {
          "name": "stdout",
          "output_type": "stream",
          "text": [
            "1/1 [==============================] - 0s 88ms/step\n"
          ]
        },
        {
          "name": "stderr",
          "output_type": "stream",
          "text": [
            "\rPneumonia:  50%|█████     | 390/780 [00:56<00:54,  7.11it/s]"
          ]
        },
        {
          "name": "stdout",
          "output_type": "stream",
          "text": [
            "1/1 [==============================] - 0s 85ms/step\n"
          ]
        },
        {
          "name": "stderr",
          "output_type": "stream",
          "text": [
            "\rPneumonia:  50%|█████     | 391/780 [00:57<00:57,  6.71it/s]"
          ]
        },
        {
          "name": "stdout",
          "output_type": "stream",
          "text": [
            "1/1 [==============================] - 0s 85ms/step\n"
          ]
        },
        {
          "name": "stderr",
          "output_type": "stream",
          "text": [
            "\rPneumonia:  50%|█████     | 392/780 [00:57<01:12,  5.39it/s]"
          ]
        },
        {
          "name": "stdout",
          "output_type": "stream",
          "text": [
            "1/1 [==============================] - 0s 89ms/step\n"
          ]
        },
        {
          "name": "stderr",
          "output_type": "stream",
          "text": [
            "\rPneumonia:  50%|█████     | 393/780 [00:57<01:19,  4.89it/s]"
          ]
        },
        {
          "name": "stdout",
          "output_type": "stream",
          "text": [
            "1/1 [==============================] - 0s 98ms/step\n"
          ]
        },
        {
          "name": "stderr",
          "output_type": "stream",
          "text": [
            "\rPneumonia:  51%|█████     | 394/780 [00:57<01:23,  4.60it/s]"
          ]
        },
        {
          "name": "stdout",
          "output_type": "stream",
          "text": [
            "1/1 [==============================] - 0s 100ms/step\n"
          ]
        },
        {
          "name": "stderr",
          "output_type": "stream",
          "text": [
            "\rPneumonia:  51%|█████     | 395/780 [00:57<01:18,  4.89it/s]"
          ]
        },
        {
          "name": "stdout",
          "output_type": "stream",
          "text": [
            "1/1 [==============================] - 0s 86ms/step\n"
          ]
        },
        {
          "name": "stderr",
          "output_type": "stream",
          "text": [
            "\rPneumonia:  51%|█████     | 396/780 [00:58<01:26,  4.45it/s]"
          ]
        },
        {
          "name": "stdout",
          "output_type": "stream",
          "text": [
            "1/1 [==============================] - 0s 109ms/step\n"
          ]
        },
        {
          "name": "stderr",
          "output_type": "stream",
          "text": [
            "\rPneumonia:  51%|█████     | 397/780 [00:58<01:22,  4.62it/s]"
          ]
        },
        {
          "name": "stdout",
          "output_type": "stream",
          "text": [
            "1/1 [==============================] - 0s 84ms/step\n"
          ]
        },
        {
          "name": "stderr",
          "output_type": "stream",
          "text": [
            "\rPneumonia:  51%|█████     | 398/780 [00:58<01:16,  4.97it/s]"
          ]
        },
        {
          "name": "stdout",
          "output_type": "stream",
          "text": [
            "1/1 [==============================] - 0s 90ms/step\n"
          ]
        },
        {
          "name": "stderr",
          "output_type": "stream",
          "text": [
            "\rPneumonia:  51%|█████     | 399/780 [00:58<01:15,  5.07it/s]"
          ]
        },
        {
          "name": "stdout",
          "output_type": "stream",
          "text": [
            "1/1 [==============================] - 0s 96ms/step\n"
          ]
        },
        {
          "name": "stderr",
          "output_type": "stream",
          "text": [
            "\rPneumonia:  51%|█████▏    | 400/780 [00:59<01:24,  4.51it/s]"
          ]
        },
        {
          "name": "stdout",
          "output_type": "stream",
          "text": [
            "1/1 [==============================] - 0s 88ms/step\n"
          ]
        },
        {
          "name": "stderr",
          "output_type": "stream",
          "text": [
            "\rPneumonia:  51%|█████▏    | 401/780 [00:59<01:17,  4.87it/s]"
          ]
        },
        {
          "name": "stdout",
          "output_type": "stream",
          "text": [
            "1/1 [==============================] - 0s 92ms/step\n"
          ]
        },
        {
          "name": "stderr",
          "output_type": "stream",
          "text": [
            "\rPneumonia:  52%|█████▏    | 402/780 [00:59<01:14,  5.09it/s]"
          ]
        },
        {
          "name": "stdout",
          "output_type": "stream",
          "text": [
            "1/1 [==============================] - 0s 87ms/step\n"
          ]
        },
        {
          "name": "stderr",
          "output_type": "stream",
          "text": [
            "\rPneumonia:  52%|█████▏    | 403/780 [00:59<01:11,  5.29it/s]"
          ]
        },
        {
          "name": "stdout",
          "output_type": "stream",
          "text": [
            "1/1 [==============================] - 0s 93ms/step\n"
          ]
        },
        {
          "name": "stderr",
          "output_type": "stream",
          "text": [
            "\rPneumonia:  52%|█████▏    | 404/780 [00:59<01:10,  5.36it/s]"
          ]
        },
        {
          "name": "stdout",
          "output_type": "stream",
          "text": [
            "1/1 [==============================] - 0s 98ms/step\n"
          ]
        },
        {
          "name": "stderr",
          "output_type": "stream",
          "text": [
            "\rPneumonia:  52%|█████▏    | 405/780 [00:59<01:07,  5.54it/s]"
          ]
        },
        {
          "name": "stdout",
          "output_type": "stream",
          "text": [
            "1/1 [==============================] - 0s 99ms/step\n"
          ]
        },
        {
          "name": "stderr",
          "output_type": "stream",
          "text": [
            "\rPneumonia:  52%|█████▏    | 406/780 [01:00<01:08,  5.48it/s]"
          ]
        },
        {
          "name": "stdout",
          "output_type": "stream",
          "text": [
            "1/1 [==============================] - 0s 90ms/step\n"
          ]
        },
        {
          "name": "stderr",
          "output_type": "stream",
          "text": [
            "\rPneumonia:  52%|█████▏    | 407/780 [01:00<01:05,  5.68it/s]"
          ]
        },
        {
          "name": "stdout",
          "output_type": "stream",
          "text": [
            "1/1 [==============================] - 0s 87ms/step\n"
          ]
        },
        {
          "name": "stderr",
          "output_type": "stream",
          "text": [
            "\rPneumonia:  52%|█████▏    | 408/780 [01:00<01:14,  5.01it/s]"
          ]
        },
        {
          "name": "stdout",
          "output_type": "stream",
          "text": [
            "1/1 [==============================] - 0s 103ms/step\n"
          ]
        },
        {
          "name": "stderr",
          "output_type": "stream",
          "text": [
            "\rPneumonia:  52%|█████▏    | 409/780 [01:00<01:12,  5.13it/s]"
          ]
        },
        {
          "name": "stdout",
          "output_type": "stream",
          "text": [
            "1/1 [==============================] - 0s 90ms/step\n"
          ]
        },
        {
          "name": "stderr",
          "output_type": "stream",
          "text": [
            "\rPneumonia:  53%|█████▎    | 410/780 [01:00<01:14,  4.94it/s]"
          ]
        },
        {
          "name": "stdout",
          "output_type": "stream",
          "text": [
            "1/1 [==============================] - 0s 89ms/step\n"
          ]
        },
        {
          "name": "stderr",
          "output_type": "stream",
          "text": [
            "\rPneumonia:  53%|█████▎    | 411/780 [01:01<01:12,  5.07it/s]"
          ]
        },
        {
          "name": "stdout",
          "output_type": "stream",
          "text": [
            "1/1 [==============================] - 0s 96ms/step\n"
          ]
        },
        {
          "name": "stderr",
          "output_type": "stream",
          "text": [
            "\rPneumonia:  53%|█████▎    | 412/780 [01:01<01:13,  4.98it/s]"
          ]
        },
        {
          "name": "stdout",
          "output_type": "stream",
          "text": [
            "1/1 [==============================] - 0s 92ms/step\n"
          ]
        },
        {
          "name": "stderr",
          "output_type": "stream",
          "text": [
            "\rPneumonia:  53%|█████▎    | 413/780 [01:01<01:09,  5.25it/s]"
          ]
        },
        {
          "name": "stdout",
          "output_type": "stream",
          "text": [
            "1/1 [==============================] - 0s 87ms/step\n"
          ]
        },
        {
          "name": "stderr",
          "output_type": "stream",
          "text": [
            "\rPneumonia:  53%|█████▎    | 414/780 [01:01<01:08,  5.36it/s]"
          ]
        },
        {
          "name": "stdout",
          "output_type": "stream",
          "text": [
            "1/1 [==============================] - 0s 51ms/step\n"
          ]
        },
        {
          "name": "stderr",
          "output_type": "stream",
          "text": [
            "\rPneumonia:  53%|█████▎    | 415/780 [01:01<01:00,  5.99it/s]"
          ]
        },
        {
          "name": "stdout",
          "output_type": "stream",
          "text": [
            "1/1 [==============================] - 0s 51ms/step\n"
          ]
        },
        {
          "name": "stderr",
          "output_type": "stream",
          "text": [
            "\rPneumonia:  53%|█████▎    | 416/780 [01:01<00:56,  6.44it/s]"
          ]
        },
        {
          "name": "stdout",
          "output_type": "stream",
          "text": [
            "1/1 [==============================] - 0s 55ms/step\n"
          ]
        },
        {
          "name": "stderr",
          "output_type": "stream",
          "text": [
            "\rPneumonia:  53%|█████▎    | 417/780 [01:02<00:52,  6.86it/s]"
          ]
        },
        {
          "name": "stdout",
          "output_type": "stream",
          "text": [
            "1/1 [==============================] - 0s 51ms/step\n"
          ]
        },
        {
          "name": "stderr",
          "output_type": "stream",
          "text": [
            "\rPneumonia:  54%|█████▎    | 418/780 [01:02<00:50,  7.17it/s]"
          ]
        },
        {
          "name": "stdout",
          "output_type": "stream",
          "text": [
            "1/1 [==============================] - 0s 55ms/step\n"
          ]
        },
        {
          "name": "stderr",
          "output_type": "stream",
          "text": [
            "\rPneumonia:  54%|█████▎    | 419/780 [01:02<00:49,  7.23it/s]"
          ]
        },
        {
          "name": "stdout",
          "output_type": "stream",
          "text": [
            "1/1 [==============================] - 0s 52ms/step\n"
          ]
        },
        {
          "name": "stderr",
          "output_type": "stream",
          "text": [
            "\rPneumonia:  54%|█████▍    | 420/780 [01:02<00:47,  7.57it/s]"
          ]
        },
        {
          "name": "stdout",
          "output_type": "stream",
          "text": [
            "1/1 [==============================] - 0s 56ms/step\n"
          ]
        },
        {
          "name": "stderr",
          "output_type": "stream",
          "text": [
            "\rPneumonia:  54%|█████▍    | 421/780 [01:02<00:46,  7.74it/s]"
          ]
        },
        {
          "name": "stdout",
          "output_type": "stream",
          "text": [
            "1/1 [==============================] - 0s 51ms/step\n"
          ]
        },
        {
          "name": "stderr",
          "output_type": "stream",
          "text": [
            "\rPneumonia:  54%|█████▍    | 422/780 [01:02<00:47,  7.49it/s]"
          ]
        },
        {
          "name": "stdout",
          "output_type": "stream",
          "text": [
            "1/1 [==============================] - 0s 52ms/step\n"
          ]
        },
        {
          "name": "stderr",
          "output_type": "stream",
          "text": [
            "\rPneumonia:  54%|█████▍    | 423/780 [01:02<00:46,  7.73it/s]"
          ]
        },
        {
          "name": "stdout",
          "output_type": "stream",
          "text": [
            "1/1 [==============================] - 0s 53ms/step\n"
          ]
        },
        {
          "name": "stderr",
          "output_type": "stream",
          "text": [
            "\rPneumonia:  54%|█████▍    | 424/780 [01:02<00:46,  7.60it/s]"
          ]
        },
        {
          "name": "stdout",
          "output_type": "stream",
          "text": [
            "1/1 [==============================] - 0s 52ms/step\n"
          ]
        },
        {
          "name": "stderr",
          "output_type": "stream",
          "text": [
            "\rPneumonia:  54%|█████▍    | 425/780 [01:03<00:47,  7.50it/s]"
          ]
        },
        {
          "name": "stdout",
          "output_type": "stream",
          "text": [
            "1/1 [==============================] - 0s 54ms/step\n"
          ]
        },
        {
          "name": "stderr",
          "output_type": "stream",
          "text": [
            "\rPneumonia:  55%|█████▍    | 426/780 [01:03<00:46,  7.68it/s]"
          ]
        },
        {
          "name": "stdout",
          "output_type": "stream",
          "text": [
            "1/1 [==============================] - 0s 52ms/step\n"
          ]
        },
        {
          "name": "stderr",
          "output_type": "stream",
          "text": [
            "\rPneumonia:  55%|█████▍    | 427/780 [01:03<00:45,  7.78it/s]"
          ]
        },
        {
          "name": "stdout",
          "output_type": "stream",
          "text": [
            "1/1 [==============================] - 0s 51ms/step\n"
          ]
        },
        {
          "name": "stderr",
          "output_type": "stream",
          "text": [
            "\rPneumonia:  55%|█████▍    | 428/780 [01:03<00:46,  7.60it/s]"
          ]
        },
        {
          "name": "stdout",
          "output_type": "stream",
          "text": [
            "1/1 [==============================] - 0s 55ms/step\n"
          ]
        },
        {
          "name": "stderr",
          "output_type": "stream",
          "text": [
            "\rPneumonia:  55%|█████▌    | 429/780 [01:03<00:44,  7.82it/s]"
          ]
        },
        {
          "name": "stdout",
          "output_type": "stream",
          "text": [
            "1/1 [==============================] - 0s 51ms/step\n"
          ]
        },
        {
          "name": "stderr",
          "output_type": "stream",
          "text": [
            "\rPneumonia:  55%|█████▌    | 430/780 [01:03<00:47,  7.40it/s]"
          ]
        },
        {
          "name": "stdout",
          "output_type": "stream",
          "text": [
            "1/1 [==============================] - 0s 65ms/step\n"
          ]
        },
        {
          "name": "stderr",
          "output_type": "stream",
          "text": [
            "\rPneumonia:  55%|█████▌    | 431/780 [01:03<00:47,  7.34it/s]"
          ]
        },
        {
          "name": "stdout",
          "output_type": "stream",
          "text": [
            "1/1 [==============================] - 0s 52ms/step\n"
          ]
        },
        {
          "name": "stderr",
          "output_type": "stream",
          "text": [
            "\rPneumonia:  55%|█████▌    | 432/780 [01:03<00:45,  7.59it/s]"
          ]
        },
        {
          "name": "stdout",
          "output_type": "stream",
          "text": [
            "1/1 [==============================] - 0s 52ms/step\n"
          ]
        },
        {
          "name": "stderr",
          "output_type": "stream",
          "text": [
            "\rPneumonia:  56%|█████▌    | 433/780 [01:04<00:45,  7.61it/s]"
          ]
        },
        {
          "name": "stdout",
          "output_type": "stream",
          "text": [
            "1/1 [==============================] - 0s 52ms/step\n"
          ]
        },
        {
          "name": "stderr",
          "output_type": "stream",
          "text": [
            "\rPneumonia:  56%|█████▌    | 434/780 [01:04<00:44,  7.82it/s]"
          ]
        },
        {
          "name": "stdout",
          "output_type": "stream",
          "text": [
            "1/1 [==============================] - 0s 51ms/step\n"
          ]
        },
        {
          "name": "stderr",
          "output_type": "stream",
          "text": [
            "\rPneumonia:  56%|█████▌    | 435/780 [01:04<00:42,  8.04it/s]"
          ]
        },
        {
          "name": "stdout",
          "output_type": "stream",
          "text": [
            "1/1 [==============================] - 0s 58ms/step\n"
          ]
        },
        {
          "name": "stderr",
          "output_type": "stream",
          "text": [
            "\rPneumonia:  56%|█████▌    | 436/780 [01:04<00:44,  7.78it/s]"
          ]
        },
        {
          "name": "stdout",
          "output_type": "stream",
          "text": [
            "1/1 [==============================] - 0s 52ms/step\n"
          ]
        },
        {
          "name": "stderr",
          "output_type": "stream",
          "text": [
            "\rPneumonia:  56%|█████▌    | 437/780 [01:04<00:43,  7.83it/s]"
          ]
        },
        {
          "name": "stdout",
          "output_type": "stream",
          "text": [
            "1/1 [==============================] - 0s 52ms/step\n"
          ]
        },
        {
          "name": "stderr",
          "output_type": "stream",
          "text": [
            "\rPneumonia:  56%|█████▌    | 438/780 [01:04<00:44,  7.67it/s]"
          ]
        },
        {
          "name": "stdout",
          "output_type": "stream",
          "text": [
            "1/1 [==============================] - 0s 54ms/step\n"
          ]
        },
        {
          "name": "stderr",
          "output_type": "stream",
          "text": [
            "\rPneumonia:  56%|█████▋    | 439/780 [01:04<00:44,  7.74it/s]"
          ]
        },
        {
          "name": "stdout",
          "output_type": "stream",
          "text": [
            "1/1 [==============================] - 0s 54ms/step\n"
          ]
        },
        {
          "name": "stderr",
          "output_type": "stream",
          "text": [
            "\rPneumonia:  56%|█████▋    | 440/780 [01:05<00:43,  7.75it/s]"
          ]
        },
        {
          "name": "stdout",
          "output_type": "stream",
          "text": [
            "1/1 [==============================] - 0s 50ms/step\n"
          ]
        },
        {
          "name": "stderr",
          "output_type": "stream",
          "text": [
            "\rPneumonia:  57%|█████▋    | 441/780 [01:05<00:42,  7.99it/s]"
          ]
        },
        {
          "name": "stdout",
          "output_type": "stream",
          "text": [
            "1/1 [==============================] - 0s 51ms/step\n"
          ]
        },
        {
          "name": "stderr",
          "output_type": "stream",
          "text": [
            "\rPneumonia:  57%|█████▋    | 442/780 [01:05<00:41,  8.10it/s]"
          ]
        },
        {
          "name": "stdout",
          "output_type": "stream",
          "text": [
            "1/1 [==============================] - 0s 51ms/step\n"
          ]
        },
        {
          "name": "stderr",
          "output_type": "stream",
          "text": [
            "\rPneumonia:  57%|█████▋    | 443/780 [01:05<00:42,  7.98it/s]"
          ]
        },
        {
          "name": "stdout",
          "output_type": "stream",
          "text": [
            "1/1 [==============================] - 0s 51ms/step\n"
          ]
        },
        {
          "name": "stderr",
          "output_type": "stream",
          "text": [
            "\rPneumonia:  57%|█████▋    | 444/780 [01:05<00:40,  8.21it/s]"
          ]
        },
        {
          "name": "stdout",
          "output_type": "stream",
          "text": [
            "1/1 [==============================] - 0s 53ms/step\n"
          ]
        },
        {
          "name": "stderr",
          "output_type": "stream",
          "text": [
            "\rPneumonia:  57%|█████▋    | 445/780 [01:05<00:41,  8.06it/s]"
          ]
        },
        {
          "name": "stdout",
          "output_type": "stream",
          "text": [
            "1/1 [==============================] - 0s 62ms/step\n"
          ]
        },
        {
          "name": "stderr",
          "output_type": "stream",
          "text": [
            "\rPneumonia:  57%|█████▋    | 446/780 [01:05<00:42,  7.92it/s]"
          ]
        },
        {
          "name": "stdout",
          "output_type": "stream",
          "text": [
            "1/1 [==============================] - 0s 54ms/step\n"
          ]
        },
        {
          "name": "stderr",
          "output_type": "stream",
          "text": [
            "\rPneumonia:  57%|█████▋    | 447/780 [01:05<00:42,  7.77it/s]"
          ]
        },
        {
          "name": "stdout",
          "output_type": "stream",
          "text": [
            "1/1 [==============================] - 0s 56ms/step\n"
          ]
        },
        {
          "name": "stderr",
          "output_type": "stream",
          "text": [
            "\rPneumonia:  57%|█████▋    | 448/780 [01:06<00:42,  7.90it/s]"
          ]
        },
        {
          "name": "stdout",
          "output_type": "stream",
          "text": [
            "1/1 [==============================] - 0s 52ms/step\n"
          ]
        },
        {
          "name": "stderr",
          "output_type": "stream",
          "text": [
            "\rPneumonia:  58%|█████▊    | 449/780 [01:06<00:42,  7.72it/s]"
          ]
        },
        {
          "name": "stdout",
          "output_type": "stream",
          "text": [
            "1/1 [==============================] - 0s 52ms/step\n"
          ]
        },
        {
          "name": "stderr",
          "output_type": "stream",
          "text": [
            "\rPneumonia:  58%|█████▊    | 450/780 [01:06<00:42,  7.81it/s]"
          ]
        },
        {
          "name": "stdout",
          "output_type": "stream",
          "text": [
            "1/1 [==============================] - 0s 52ms/step\n"
          ]
        },
        {
          "name": "stderr",
          "output_type": "stream",
          "text": [
            "\rPneumonia:  58%|█████▊    | 451/780 [01:06<00:41,  7.91it/s]"
          ]
        },
        {
          "name": "stdout",
          "output_type": "stream",
          "text": [
            "1/1 [==============================] - 0s 52ms/step\n"
          ]
        },
        {
          "name": "stderr",
          "output_type": "stream",
          "text": [
            "\rPneumonia:  58%|█████▊    | 452/780 [01:06<00:40,  8.01it/s]"
          ]
        },
        {
          "name": "stdout",
          "output_type": "stream",
          "text": [
            "1/1 [==============================] - 0s 52ms/step\n"
          ]
        },
        {
          "name": "stderr",
          "output_type": "stream",
          "text": [
            "\rPneumonia:  58%|█████▊    | 453/780 [01:06<00:41,  7.96it/s]"
          ]
        },
        {
          "name": "stdout",
          "output_type": "stream",
          "text": [
            "1/1 [==============================] - 0s 62ms/step\n"
          ]
        },
        {
          "name": "stderr",
          "output_type": "stream",
          "text": [
            "\rPneumonia:  58%|█████▊    | 454/780 [01:06<00:41,  7.80it/s]"
          ]
        },
        {
          "name": "stdout",
          "output_type": "stream",
          "text": [
            "1/1 [==============================] - 0s 52ms/step\n"
          ]
        },
        {
          "name": "stderr",
          "output_type": "stream",
          "text": [
            "\rPneumonia:  58%|█████▊    | 455/780 [01:06<00:42,  7.71it/s]"
          ]
        },
        {
          "name": "stdout",
          "output_type": "stream",
          "text": [
            "1/1 [==============================] - 0s 56ms/step\n"
          ]
        },
        {
          "name": "stderr",
          "output_type": "stream",
          "text": [
            "\rPneumonia:  58%|█████▊    | 456/780 [01:07<00:42,  7.67it/s]"
          ]
        },
        {
          "name": "stdout",
          "output_type": "stream",
          "text": [
            "1/1 [==============================] - 0s 51ms/step\n"
          ]
        },
        {
          "name": "stderr",
          "output_type": "stream",
          "text": [
            "\rPneumonia:  59%|█████▊    | 457/780 [01:07<00:41,  7.72it/s]"
          ]
        },
        {
          "name": "stdout",
          "output_type": "stream",
          "text": [
            "1/1 [==============================] - 0s 54ms/step\n"
          ]
        },
        {
          "name": "stderr",
          "output_type": "stream",
          "text": [
            "\rPneumonia:  59%|█████▊    | 458/780 [01:07<00:41,  7.68it/s]"
          ]
        },
        {
          "name": "stdout",
          "output_type": "stream",
          "text": [
            "1/1 [==============================] - 0s 52ms/step\n"
          ]
        },
        {
          "name": "stderr",
          "output_type": "stream",
          "text": [
            "\rPneumonia:  59%|█████▉    | 459/780 [01:07<00:40,  7.95it/s]"
          ]
        },
        {
          "name": "stdout",
          "output_type": "stream",
          "text": [
            "1/1 [==============================] - 0s 55ms/step\n"
          ]
        },
        {
          "name": "stderr",
          "output_type": "stream",
          "text": [
            "\rPneumonia:  59%|█████▉    | 460/780 [01:07<00:40,  7.83it/s]"
          ]
        },
        {
          "name": "stdout",
          "output_type": "stream",
          "text": [
            "1/1 [==============================] - 0s 63ms/step\n"
          ]
        },
        {
          "name": "stderr",
          "output_type": "stream",
          "text": [
            "\rPneumonia:  59%|█████▉    | 461/780 [01:07<00:41,  7.74it/s]"
          ]
        },
        {
          "name": "stdout",
          "output_type": "stream",
          "text": [
            "1/1 [==============================] - 0s 60ms/step\n"
          ]
        },
        {
          "name": "stderr",
          "output_type": "stream",
          "text": [
            "\rPneumonia:  59%|█████▉    | 462/780 [01:07<00:41,  7.72it/s]"
          ]
        },
        {
          "name": "stdout",
          "output_type": "stream",
          "text": [
            "1/1 [==============================] - 0s 52ms/step\n"
          ]
        },
        {
          "name": "stderr",
          "output_type": "stream",
          "text": [
            "\rPneumonia:  59%|█████▉    | 463/780 [01:07<00:40,  7.77it/s]"
          ]
        },
        {
          "name": "stdout",
          "output_type": "stream",
          "text": [
            "1/1 [==============================] - 0s 55ms/step\n"
          ]
        },
        {
          "name": "stderr",
          "output_type": "stream",
          "text": [
            "\rPneumonia:  59%|█████▉    | 464/780 [01:08<00:41,  7.68it/s]"
          ]
        },
        {
          "name": "stdout",
          "output_type": "stream",
          "text": [
            "1/1 [==============================] - 0s 52ms/step\n"
          ]
        },
        {
          "name": "stderr",
          "output_type": "stream",
          "text": [
            "\rPneumonia:  60%|█████▉    | 465/780 [01:08<00:40,  7.81it/s]"
          ]
        },
        {
          "name": "stdout",
          "output_type": "stream",
          "text": [
            "1/1 [==============================] - 0s 53ms/step\n"
          ]
        },
        {
          "name": "stderr",
          "output_type": "stream",
          "text": [
            "\rPneumonia:  60%|█████▉    | 466/780 [01:08<00:40,  7.80it/s]"
          ]
        },
        {
          "name": "stdout",
          "output_type": "stream",
          "text": [
            "1/1 [==============================] - 0s 51ms/step\n"
          ]
        },
        {
          "name": "stderr",
          "output_type": "stream",
          "text": [
            "\rPneumonia:  60%|█████▉    | 467/780 [01:08<00:40,  7.81it/s]"
          ]
        },
        {
          "name": "stdout",
          "output_type": "stream",
          "text": [
            "1/1 [==============================] - 0s 53ms/step\n"
          ]
        },
        {
          "name": "stderr",
          "output_type": "stream",
          "text": [
            "\rPneumonia:  60%|██████    | 468/780 [01:08<00:39,  7.86it/s]"
          ]
        },
        {
          "name": "stdout",
          "output_type": "stream",
          "text": [
            "1/1 [==============================] - 0s 52ms/step\n"
          ]
        },
        {
          "name": "stderr",
          "output_type": "stream",
          "text": [
            "\rPneumonia:  60%|██████    | 469/780 [01:08<00:39,  7.91it/s]"
          ]
        },
        {
          "name": "stdout",
          "output_type": "stream",
          "text": [
            "1/1 [==============================] - 0s 66ms/step\n"
          ]
        },
        {
          "name": "stderr",
          "output_type": "stream",
          "text": [
            "\rPneumonia:  60%|██████    | 470/780 [01:08<00:40,  7.58it/s]"
          ]
        },
        {
          "name": "stdout",
          "output_type": "stream",
          "text": [
            "1/1 [==============================] - 0s 50ms/step\n"
          ]
        },
        {
          "name": "stderr",
          "output_type": "stream",
          "text": [
            "\rPneumonia:  60%|██████    | 471/780 [01:08<00:39,  7.73it/s]"
          ]
        },
        {
          "name": "stdout",
          "output_type": "stream",
          "text": [
            "1/1 [==============================] - 0s 53ms/step\n"
          ]
        },
        {
          "name": "stderr",
          "output_type": "stream",
          "text": [
            "\rPneumonia:  61%|██████    | 472/780 [01:09<00:39,  7.79it/s]"
          ]
        },
        {
          "name": "stdout",
          "output_type": "stream",
          "text": [
            "1/1 [==============================] - 0s 51ms/step\n"
          ]
        },
        {
          "name": "stderr",
          "output_type": "stream",
          "text": [
            "\rPneumonia:  61%|██████    | 473/780 [01:09<00:39,  7.78it/s]"
          ]
        },
        {
          "name": "stdout",
          "output_type": "stream",
          "text": [
            "1/1 [==============================] - 0s 52ms/step\n"
          ]
        },
        {
          "name": "stderr",
          "output_type": "stream",
          "text": [
            "\rPneumonia:  61%|██████    | 474/780 [01:09<00:38,  7.89it/s]"
          ]
        },
        {
          "name": "stdout",
          "output_type": "stream",
          "text": [
            "1/1 [==============================] - 0s 53ms/step\n"
          ]
        },
        {
          "name": "stderr",
          "output_type": "stream",
          "text": [
            "\rPneumonia:  61%|██████    | 475/780 [01:09<00:38,  7.93it/s]"
          ]
        },
        {
          "name": "stdout",
          "output_type": "stream",
          "text": [
            "1/1 [==============================] - 0s 53ms/step\n"
          ]
        },
        {
          "name": "stderr",
          "output_type": "stream",
          "text": [
            "\rPneumonia:  61%|██████    | 476/780 [01:09<00:38,  7.91it/s]"
          ]
        },
        {
          "name": "stdout",
          "output_type": "stream",
          "text": [
            "1/1 [==============================] - 0s 56ms/step\n"
          ]
        },
        {
          "name": "stderr",
          "output_type": "stream",
          "text": [
            "\rPneumonia:  61%|██████    | 477/780 [01:09<00:38,  7.90it/s]"
          ]
        },
        {
          "name": "stdout",
          "output_type": "stream",
          "text": [
            "1/1 [==============================] - 0s 70ms/step\n"
          ]
        },
        {
          "name": "stderr",
          "output_type": "stream",
          "text": [
            "\rPneumonia:  61%|██████▏   | 478/780 [01:09<00:39,  7.59it/s]"
          ]
        },
        {
          "name": "stdout",
          "output_type": "stream",
          "text": [
            "1/1 [==============================] - 0s 53ms/step\n"
          ]
        },
        {
          "name": "stderr",
          "output_type": "stream",
          "text": [
            "\rPneumonia:  61%|██████▏   | 479/780 [01:09<00:39,  7.62it/s]"
          ]
        },
        {
          "name": "stdout",
          "output_type": "stream",
          "text": [
            "1/1 [==============================] - 0s 53ms/step\n"
          ]
        },
        {
          "name": "stderr",
          "output_type": "stream",
          "text": [
            "\rPneumonia:  62%|██████▏   | 480/780 [01:10<00:38,  7.77it/s]"
          ]
        },
        {
          "name": "stdout",
          "output_type": "stream",
          "text": [
            "1/1 [==============================] - 0s 51ms/step\n"
          ]
        },
        {
          "name": "stderr",
          "output_type": "stream",
          "text": [
            "\rPneumonia:  62%|██████▏   | 481/780 [01:10<00:38,  7.78it/s]"
          ]
        },
        {
          "name": "stdout",
          "output_type": "stream",
          "text": [
            "1/1 [==============================] - 0s 54ms/step\n"
          ]
        },
        {
          "name": "stderr",
          "output_type": "stream",
          "text": [
            "\rPneumonia:  62%|██████▏   | 482/780 [01:10<00:38,  7.65it/s]"
          ]
        },
        {
          "name": "stdout",
          "output_type": "stream",
          "text": [
            "1/1 [==============================] - 0s 54ms/step\n"
          ]
        },
        {
          "name": "stderr",
          "output_type": "stream",
          "text": [
            "\rPneumonia:  62%|██████▏   | 483/780 [01:10<00:38,  7.79it/s]"
          ]
        },
        {
          "name": "stdout",
          "output_type": "stream",
          "text": [
            "1/1 [==============================] - 0s 55ms/step\n"
          ]
        },
        {
          "name": "stderr",
          "output_type": "stream",
          "text": [
            "\rPneumonia:  62%|██████▏   | 484/780 [01:10<00:38,  7.62it/s]"
          ]
        },
        {
          "name": "stdout",
          "output_type": "stream",
          "text": [
            "1/1 [==============================] - 0s 52ms/step\n"
          ]
        },
        {
          "name": "stderr",
          "output_type": "stream",
          "text": [
            "\rPneumonia:  62%|██████▏   | 485/780 [01:10<00:37,  7.87it/s]"
          ]
        },
        {
          "name": "stdout",
          "output_type": "stream",
          "text": [
            "1/1 [==============================] - 0s 61ms/step\n"
          ]
        },
        {
          "name": "stderr",
          "output_type": "stream",
          "text": [
            "\rPneumonia:  62%|██████▏   | 486/780 [01:10<00:38,  7.65it/s]"
          ]
        },
        {
          "name": "stdout",
          "output_type": "stream",
          "text": [
            "1/1 [==============================] - 0s 55ms/step\n"
          ]
        },
        {
          "name": "stderr",
          "output_type": "stream",
          "text": [
            "\rPneumonia:  62%|██████▏   | 487/780 [01:11<00:37,  7.85it/s]"
          ]
        },
        {
          "name": "stdout",
          "output_type": "stream",
          "text": [
            "1/1 [==============================] - 0s 51ms/step\n"
          ]
        },
        {
          "name": "stderr",
          "output_type": "stream",
          "text": [
            "\rPneumonia:  63%|██████▎   | 488/780 [01:11<00:36,  7.94it/s]"
          ]
        },
        {
          "name": "stdout",
          "output_type": "stream",
          "text": [
            "1/1 [==============================] - 0s 58ms/step\n"
          ]
        },
        {
          "name": "stderr",
          "output_type": "stream",
          "text": [
            "\rPneumonia:  63%|██████▎   | 489/780 [01:11<00:37,  7.78it/s]"
          ]
        },
        {
          "name": "stdout",
          "output_type": "stream",
          "text": [
            "1/1 [==============================] - 0s 53ms/step\n"
          ]
        },
        {
          "name": "stderr",
          "output_type": "stream",
          "text": [
            "\rPneumonia:  63%|██████▎   | 490/780 [01:11<00:37,  7.64it/s]"
          ]
        },
        {
          "name": "stdout",
          "output_type": "stream",
          "text": [
            "1/1 [==============================] - 0s 56ms/step\n"
          ]
        },
        {
          "name": "stderr",
          "output_type": "stream",
          "text": [
            "\rPneumonia:  63%|██████▎   | 491/780 [01:11<00:37,  7.77it/s]"
          ]
        },
        {
          "name": "stdout",
          "output_type": "stream",
          "text": [
            "1/1 [==============================] - 0s 52ms/step\n"
          ]
        },
        {
          "name": "stderr",
          "output_type": "stream",
          "text": [
            "\rPneumonia:  63%|██████▎   | 492/780 [01:11<00:36,  7.80it/s]"
          ]
        },
        {
          "name": "stdout",
          "output_type": "stream",
          "text": [
            "1/1 [==============================] - 0s 89ms/step\n"
          ]
        },
        {
          "name": "stderr",
          "output_type": "stream",
          "text": [
            "\rPneumonia:  63%|██████▎   | 493/780 [01:11<00:40,  7.11it/s]"
          ]
        },
        {
          "name": "stdout",
          "output_type": "stream",
          "text": [
            "1/1 [==============================] - 0s 82ms/step\n"
          ]
        },
        {
          "name": "stderr",
          "output_type": "stream",
          "text": [
            "\rPneumonia:  63%|██████▎   | 494/780 [01:12<00:44,  6.45it/s]"
          ]
        },
        {
          "name": "stdout",
          "output_type": "stream",
          "text": [
            "1/1 [==============================] - 0s 89ms/step\n"
          ]
        },
        {
          "name": "stderr",
          "output_type": "stream",
          "text": [
            "\rPneumonia:  63%|██████▎   | 495/780 [01:12<00:48,  5.94it/s]"
          ]
        },
        {
          "name": "stdout",
          "output_type": "stream",
          "text": [
            "1/1 [==============================] - 0s 101ms/step\n"
          ]
        },
        {
          "name": "stderr",
          "output_type": "stream",
          "text": [
            "\rPneumonia:  64%|██████▎   | 496/780 [01:12<00:56,  4.99it/s]"
          ]
        },
        {
          "name": "stdout",
          "output_type": "stream",
          "text": [
            "1/1 [==============================] - 0s 95ms/step\n"
          ]
        },
        {
          "name": "stderr",
          "output_type": "stream",
          "text": [
            "\rPneumonia:  64%|██████▎   | 497/780 [01:12<00:54,  5.16it/s]"
          ]
        },
        {
          "name": "stdout",
          "output_type": "stream",
          "text": [
            "1/1 [==============================] - 0s 83ms/step\n"
          ]
        },
        {
          "name": "stderr",
          "output_type": "stream",
          "text": [
            "\rPneumonia:  64%|██████▍   | 498/780 [01:12<00:51,  5.48it/s]"
          ]
        },
        {
          "name": "stdout",
          "output_type": "stream",
          "text": [
            "1/1 [==============================] - 0s 102ms/step\n"
          ]
        },
        {
          "name": "stderr",
          "output_type": "stream",
          "text": [
            "\rPneumonia:  64%|██████▍   | 499/780 [01:13<00:58,  4.84it/s]"
          ]
        },
        {
          "name": "stdout",
          "output_type": "stream",
          "text": [
            "1/1 [==============================] - 0s 83ms/step\n"
          ]
        },
        {
          "name": "stderr",
          "output_type": "stream",
          "text": [
            "\rPneumonia:  64%|██████▍   | 500/780 [01:13<00:54,  5.17it/s]"
          ]
        },
        {
          "name": "stdout",
          "output_type": "stream",
          "text": [
            "1/1 [==============================] - 0s 106ms/step\n"
          ]
        },
        {
          "name": "stderr",
          "output_type": "stream",
          "text": [
            "\rPneumonia:  64%|██████▍   | 501/780 [01:13<00:54,  5.11it/s]"
          ]
        },
        {
          "name": "stdout",
          "output_type": "stream",
          "text": [
            "1/1 [==============================] - 0s 96ms/step\n"
          ]
        },
        {
          "name": "stderr",
          "output_type": "stream",
          "text": [
            "\rPneumonia:  64%|██████▍   | 502/780 [01:13<00:55,  5.03it/s]"
          ]
        },
        {
          "name": "stdout",
          "output_type": "stream",
          "text": [
            "1/1 [==============================] - 0s 105ms/step\n"
          ]
        },
        {
          "name": "stderr",
          "output_type": "stream",
          "text": [
            "\rPneumonia:  64%|██████▍   | 503/780 [01:13<00:55,  4.97it/s]"
          ]
        },
        {
          "name": "stdout",
          "output_type": "stream",
          "text": [
            "1/1 [==============================] - 0s 94ms/step\n"
          ]
        },
        {
          "name": "stderr",
          "output_type": "stream",
          "text": [
            "\rPneumonia:  65%|██████▍   | 504/780 [01:14<00:53,  5.17it/s]"
          ]
        },
        {
          "name": "stdout",
          "output_type": "stream",
          "text": [
            "1/1 [==============================] - 0s 86ms/step\n"
          ]
        },
        {
          "name": "stderr",
          "output_type": "stream",
          "text": [
            "\rPneumonia:  65%|██████▍   | 505/780 [01:14<00:52,  5.29it/s]"
          ]
        },
        {
          "name": "stdout",
          "output_type": "stream",
          "text": [
            "1/1 [==============================] - 0s 101ms/step\n"
          ]
        },
        {
          "name": "stderr",
          "output_type": "stream",
          "text": [
            "\rPneumonia:  65%|██████▍   | 506/780 [01:14<00:52,  5.25it/s]"
          ]
        },
        {
          "name": "stdout",
          "output_type": "stream",
          "text": [
            "1/1 [==============================] - 0s 89ms/step\n"
          ]
        },
        {
          "name": "stderr",
          "output_type": "stream",
          "text": [
            "\rPneumonia:  65%|██████▌   | 507/780 [01:14<00:51,  5.31it/s]"
          ]
        },
        {
          "name": "stdout",
          "output_type": "stream",
          "text": [
            "1/1 [==============================] - 0s 82ms/step\n"
          ]
        },
        {
          "name": "stderr",
          "output_type": "stream",
          "text": [
            "\rPneumonia:  65%|██████▌   | 508/780 [01:14<00:52,  5.21it/s]"
          ]
        },
        {
          "name": "stdout",
          "output_type": "stream",
          "text": [
            "1/1 [==============================] - 0s 90ms/step\n"
          ]
        },
        {
          "name": "stderr",
          "output_type": "stream",
          "text": [
            "\rPneumonia:  65%|██████▌   | 509/780 [01:15<00:54,  5.00it/s]"
          ]
        },
        {
          "name": "stdout",
          "output_type": "stream",
          "text": [
            "1/1 [==============================] - 0s 89ms/step\n"
          ]
        },
        {
          "name": "stderr",
          "output_type": "stream",
          "text": [
            "\rPneumonia:  65%|██████▌   | 510/780 [01:15<00:52,  5.14it/s]"
          ]
        },
        {
          "name": "stdout",
          "output_type": "stream",
          "text": [
            "1/1 [==============================] - 0s 101ms/step\n"
          ]
        },
        {
          "name": "stderr",
          "output_type": "stream",
          "text": [
            "\rPneumonia:  66%|██████▌   | 511/780 [01:15<00:51,  5.26it/s]"
          ]
        },
        {
          "name": "stdout",
          "output_type": "stream",
          "text": [
            "1/1 [==============================] - 0s 92ms/step\n"
          ]
        },
        {
          "name": "stderr",
          "output_type": "stream",
          "text": [
            "\rPneumonia:  66%|██████▌   | 512/780 [01:15<00:48,  5.52it/s]"
          ]
        },
        {
          "name": "stdout",
          "output_type": "stream",
          "text": [
            "1/1 [==============================] - 0s 98ms/step\n"
          ]
        },
        {
          "name": "stderr",
          "output_type": "stream",
          "text": [
            "\rPneumonia:  66%|██████▌   | 513/780 [01:15<00:47,  5.57it/s]"
          ]
        },
        {
          "name": "stdout",
          "output_type": "stream",
          "text": [
            "1/1 [==============================] - 0s 99ms/step\n"
          ]
        },
        {
          "name": "stderr",
          "output_type": "stream",
          "text": [
            "\rPneumonia:  66%|██████▌   | 514/780 [01:15<00:49,  5.38it/s]"
          ]
        },
        {
          "name": "stdout",
          "output_type": "stream",
          "text": [
            "1/1 [==============================] - 0s 127ms/step\n"
          ]
        },
        {
          "name": "stderr",
          "output_type": "stream",
          "text": [
            "\rPneumonia:  66%|██████▌   | 515/780 [01:16<00:50,  5.20it/s]"
          ]
        },
        {
          "name": "stdout",
          "output_type": "stream",
          "text": [
            "1/1 [==============================] - 0s 93ms/step\n"
          ]
        },
        {
          "name": "stderr",
          "output_type": "stream",
          "text": [
            "\rPneumonia:  66%|██████▌   | 516/780 [01:16<00:49,  5.34it/s]"
          ]
        },
        {
          "name": "stdout",
          "output_type": "stream",
          "text": [
            "1/1 [==============================] - 0s 85ms/step\n"
          ]
        },
        {
          "name": "stderr",
          "output_type": "stream",
          "text": [
            "\rPneumonia:  66%|██████▋   | 517/780 [01:16<00:55,  4.70it/s]"
          ]
        },
        {
          "name": "stdout",
          "output_type": "stream",
          "text": [
            "1/1 [==============================] - 0s 86ms/step\n"
          ]
        },
        {
          "name": "stderr",
          "output_type": "stream",
          "text": [
            "\rPneumonia:  66%|██████▋   | 518/780 [01:16<00:52,  4.95it/s]"
          ]
        },
        {
          "name": "stdout",
          "output_type": "stream",
          "text": [
            "1/1 [==============================] - 0s 92ms/step\n"
          ]
        },
        {
          "name": "stderr",
          "output_type": "stream",
          "text": [
            "\rPneumonia:  67%|██████▋   | 519/780 [01:16<00:49,  5.31it/s]"
          ]
        },
        {
          "name": "stdout",
          "output_type": "stream",
          "text": [
            "1/1 [==============================] - 0s 81ms/step\n"
          ]
        },
        {
          "name": "stderr",
          "output_type": "stream",
          "text": [
            "\rPneumonia:  67%|██████▋   | 520/780 [01:17<00:46,  5.57it/s]"
          ]
        },
        {
          "name": "stdout",
          "output_type": "stream",
          "text": [
            "1/1 [==============================] - 0s 52ms/step\n"
          ]
        },
        {
          "name": "stderr",
          "output_type": "stream",
          "text": [
            "\rPneumonia:  67%|██████▋   | 521/780 [01:17<00:42,  6.05it/s]"
          ]
        },
        {
          "name": "stdout",
          "output_type": "stream",
          "text": [
            "1/1 [==============================] - 0s 53ms/step\n"
          ]
        },
        {
          "name": "stderr",
          "output_type": "stream",
          "text": [
            "\rPneumonia:  67%|██████▋   | 522/780 [01:17<00:39,  6.61it/s]"
          ]
        },
        {
          "name": "stdout",
          "output_type": "stream",
          "text": [
            "1/1 [==============================] - 0s 52ms/step\n"
          ]
        },
        {
          "name": "stderr",
          "output_type": "stream",
          "text": [
            "\rPneumonia:  67%|██████▋   | 523/780 [01:17<00:37,  6.86it/s]"
          ]
        },
        {
          "name": "stdout",
          "output_type": "stream",
          "text": [
            "1/1 [==============================] - 0s 52ms/step\n"
          ]
        },
        {
          "name": "stderr",
          "output_type": "stream",
          "text": [
            "\rPneumonia:  67%|██████▋   | 524/780 [01:17<00:36,  7.02it/s]"
          ]
        },
        {
          "name": "stdout",
          "output_type": "stream",
          "text": [
            "1/1 [==============================] - 0s 51ms/step\n"
          ]
        },
        {
          "name": "stderr",
          "output_type": "stream",
          "text": [
            "\rPneumonia:  67%|██████▋   | 525/780 [01:17<00:35,  7.27it/s]"
          ]
        },
        {
          "name": "stdout",
          "output_type": "stream",
          "text": [
            "1/1 [==============================] - 0s 58ms/step\n"
          ]
        },
        {
          "name": "stderr",
          "output_type": "stream",
          "text": [
            "\rPneumonia:  67%|██████▋   | 526/780 [01:17<00:34,  7.28it/s]"
          ]
        },
        {
          "name": "stdout",
          "output_type": "stream",
          "text": [
            "1/1 [==============================] - 0s 58ms/step\n"
          ]
        },
        {
          "name": "stderr",
          "output_type": "stream",
          "text": [
            "\rPneumonia:  68%|██████▊   | 527/780 [01:17<00:34,  7.40it/s]"
          ]
        },
        {
          "name": "stdout",
          "output_type": "stream",
          "text": [
            "1/1 [==============================] - 0s 52ms/step\n"
          ]
        },
        {
          "name": "stderr",
          "output_type": "stream",
          "text": [
            "\rPneumonia:  68%|██████▊   | 528/780 [01:18<00:33,  7.53it/s]"
          ]
        },
        {
          "name": "stdout",
          "output_type": "stream",
          "text": [
            "1/1 [==============================] - 0s 52ms/step\n"
          ]
        },
        {
          "name": "stderr",
          "output_type": "stream",
          "text": [
            "\rPneumonia:  68%|██████▊   | 529/780 [01:18<00:33,  7.41it/s]"
          ]
        },
        {
          "name": "stdout",
          "output_type": "stream",
          "text": [
            "1/1 [==============================] - 0s 58ms/step\n"
          ]
        },
        {
          "name": "stderr",
          "output_type": "stream",
          "text": [
            "\rPneumonia:  68%|██████▊   | 530/780 [01:18<00:33,  7.49it/s]"
          ]
        },
        {
          "name": "stdout",
          "output_type": "stream",
          "text": [
            "1/1 [==============================] - 0s 54ms/step\n"
          ]
        },
        {
          "name": "stderr",
          "output_type": "stream",
          "text": [
            "\rPneumonia:  68%|██████▊   | 531/780 [01:18<00:32,  7.67it/s]"
          ]
        },
        {
          "name": "stdout",
          "output_type": "stream",
          "text": [
            "1/1 [==============================] - 0s 52ms/step\n"
          ]
        },
        {
          "name": "stderr",
          "output_type": "stream",
          "text": [
            "\rPneumonia:  68%|██████▊   | 532/780 [01:18<00:31,  7.86it/s]"
          ]
        },
        {
          "name": "stdout",
          "output_type": "stream",
          "text": [
            "1/1 [==============================] - 0s 56ms/step\n"
          ]
        },
        {
          "name": "stderr",
          "output_type": "stream",
          "text": [
            "\rPneumonia:  68%|██████▊   | 533/780 [01:18<00:31,  7.86it/s]"
          ]
        },
        {
          "name": "stdout",
          "output_type": "stream",
          "text": [
            "1/1 [==============================] - 0s 54ms/step\n"
          ]
        },
        {
          "name": "stderr",
          "output_type": "stream",
          "text": [
            "\rPneumonia:  68%|██████▊   | 534/780 [01:18<00:31,  7.73it/s]"
          ]
        },
        {
          "name": "stdout",
          "output_type": "stream",
          "text": [
            "1/1 [==============================] - 0s 55ms/step\n"
          ]
        },
        {
          "name": "stderr",
          "output_type": "stream",
          "text": [
            "\rPneumonia:  69%|██████▊   | 535/780 [01:19<00:31,  7.77it/s]"
          ]
        },
        {
          "name": "stdout",
          "output_type": "stream",
          "text": [
            "1/1 [==============================] - 0s 52ms/step\n"
          ]
        },
        {
          "name": "stderr",
          "output_type": "stream",
          "text": [
            "\rPneumonia:  69%|██████▊   | 536/780 [01:19<00:31,  7.86it/s]"
          ]
        },
        {
          "name": "stdout",
          "output_type": "stream",
          "text": [
            "1/1 [==============================] - 0s 60ms/step\n"
          ]
        },
        {
          "name": "stderr",
          "output_type": "stream",
          "text": [
            "\rPneumonia:  69%|██████▉   | 537/780 [01:19<00:31,  7.69it/s]"
          ]
        },
        {
          "name": "stdout",
          "output_type": "stream",
          "text": [
            "1/1 [==============================] - 0s 53ms/step\n"
          ]
        },
        {
          "name": "stderr",
          "output_type": "stream",
          "text": [
            "\rPneumonia:  69%|██████▉   | 538/780 [01:19<00:31,  7.65it/s]"
          ]
        },
        {
          "name": "stdout",
          "output_type": "stream",
          "text": [
            "1/1 [==============================] - 0s 55ms/step\n"
          ]
        },
        {
          "name": "stderr",
          "output_type": "stream",
          "text": [
            "\rPneumonia:  69%|██████▉   | 539/780 [01:19<00:31,  7.66it/s]"
          ]
        },
        {
          "name": "stdout",
          "output_type": "stream",
          "text": [
            "1/1 [==============================] - 0s 58ms/step\n"
          ]
        },
        {
          "name": "stderr",
          "output_type": "stream",
          "text": [
            "\rPneumonia:  69%|██████▉   | 540/780 [01:19<00:32,  7.46it/s]"
          ]
        },
        {
          "name": "stdout",
          "output_type": "stream",
          "text": [
            "1/1 [==============================] - 0s 54ms/step\n"
          ]
        },
        {
          "name": "stderr",
          "output_type": "stream",
          "text": [
            "\rPneumonia:  69%|██████▉   | 541/780 [01:19<00:31,  7.53it/s]"
          ]
        },
        {
          "name": "stdout",
          "output_type": "stream",
          "text": [
            "1/1 [==============================] - 0s 52ms/step\n"
          ]
        },
        {
          "name": "stderr",
          "output_type": "stream",
          "text": [
            "\rPneumonia:  69%|██████▉   | 542/780 [01:19<00:31,  7.62it/s]"
          ]
        },
        {
          "name": "stdout",
          "output_type": "stream",
          "text": [
            "1/1 [==============================] - 0s 56ms/step\n"
          ]
        },
        {
          "name": "stderr",
          "output_type": "stream",
          "text": [
            "\rPneumonia:  70%|██████▉   | 543/780 [01:20<00:31,  7.42it/s]"
          ]
        },
        {
          "name": "stdout",
          "output_type": "stream",
          "text": [
            "1/1 [==============================] - 0s 53ms/step\n"
          ]
        },
        {
          "name": "stderr",
          "output_type": "stream",
          "text": [
            "\rPneumonia:  70%|██████▉   | 544/780 [01:20<00:31,  7.54it/s]"
          ]
        },
        {
          "name": "stdout",
          "output_type": "stream",
          "text": [
            "1/1 [==============================] - 0s 54ms/step\n"
          ]
        },
        {
          "name": "stderr",
          "output_type": "stream",
          "text": [
            "\rPneumonia:  70%|██████▉   | 545/780 [01:20<00:32,  7.34it/s]"
          ]
        },
        {
          "name": "stdout",
          "output_type": "stream",
          "text": [
            "1/1 [==============================] - 0s 65ms/step\n"
          ]
        },
        {
          "name": "stderr",
          "output_type": "stream",
          "text": [
            "\rPneumonia:  70%|███████   | 546/780 [01:20<00:31,  7.36it/s]"
          ]
        },
        {
          "name": "stdout",
          "output_type": "stream",
          "text": [
            "1/1 [==============================] - 0s 60ms/step\n"
          ]
        },
        {
          "name": "stderr",
          "output_type": "stream",
          "text": [
            "\rPneumonia:  70%|███████   | 547/780 [01:20<00:32,  7.22it/s]"
          ]
        },
        {
          "name": "stdout",
          "output_type": "stream",
          "text": [
            "1/1 [==============================] - 0s 57ms/step\n"
          ]
        },
        {
          "name": "stderr",
          "output_type": "stream",
          "text": [
            "\rPneumonia:  70%|███████   | 548/780 [01:20<00:32,  7.23it/s]"
          ]
        },
        {
          "name": "stdout",
          "output_type": "stream",
          "text": [
            "1/1 [==============================] - 0s 57ms/step\n"
          ]
        },
        {
          "name": "stderr",
          "output_type": "stream",
          "text": [
            "\rPneumonia:  70%|███████   | 549/780 [01:20<00:31,  7.24it/s]"
          ]
        },
        {
          "name": "stdout",
          "output_type": "stream",
          "text": [
            "1/1 [==============================] - 0s 54ms/step\n"
          ]
        },
        {
          "name": "stderr",
          "output_type": "stream",
          "text": [
            "\rPneumonia:  71%|███████   | 550/780 [01:21<00:30,  7.42it/s]"
          ]
        },
        {
          "name": "stdout",
          "output_type": "stream",
          "text": [
            "1/1 [==============================] - 0s 56ms/step\n"
          ]
        },
        {
          "name": "stderr",
          "output_type": "stream",
          "text": [
            "\rPneumonia:  71%|███████   | 551/780 [01:21<00:32,  7.12it/s]"
          ]
        },
        {
          "name": "stdout",
          "output_type": "stream",
          "text": [
            "1/1 [==============================] - 0s 65ms/step\n"
          ]
        },
        {
          "name": "stderr",
          "output_type": "stream",
          "text": [
            "\rPneumonia:  71%|███████   | 552/780 [01:21<00:31,  7.26it/s]"
          ]
        },
        {
          "name": "stdout",
          "output_type": "stream",
          "text": [
            "1/1 [==============================] - 0s 62ms/step\n"
          ]
        },
        {
          "name": "stderr",
          "output_type": "stream",
          "text": [
            "\rPneumonia:  71%|███████   | 553/780 [01:21<00:31,  7.19it/s]"
          ]
        },
        {
          "name": "stdout",
          "output_type": "stream",
          "text": [
            "1/1 [==============================] - 0s 56ms/step\n"
          ]
        },
        {
          "name": "stderr",
          "output_type": "stream",
          "text": [
            "\rPneumonia:  71%|███████   | 554/780 [01:21<00:31,  7.28it/s]"
          ]
        },
        {
          "name": "stdout",
          "output_type": "stream",
          "text": [
            "1/1 [==============================] - 0s 54ms/step\n"
          ]
        },
        {
          "name": "stderr",
          "output_type": "stream",
          "text": [
            "\rPneumonia:  71%|███████   | 555/780 [01:21<00:30,  7.46it/s]"
          ]
        },
        {
          "name": "stdout",
          "output_type": "stream",
          "text": [
            "1/1 [==============================] - 0s 53ms/step\n"
          ]
        },
        {
          "name": "stderr",
          "output_type": "stream",
          "text": [
            "\rPneumonia:  71%|███████▏  | 556/780 [01:21<00:29,  7.50it/s]"
          ]
        },
        {
          "name": "stdout",
          "output_type": "stream",
          "text": [
            "1/1 [==============================] - 0s 55ms/step\n"
          ]
        },
        {
          "name": "stderr",
          "output_type": "stream",
          "text": [
            "\rPneumonia:  71%|███████▏  | 557/780 [01:21<00:29,  7.68it/s]"
          ]
        },
        {
          "name": "stdout",
          "output_type": "stream",
          "text": [
            "1/1 [==============================] - 0s 52ms/step\n"
          ]
        },
        {
          "name": "stderr",
          "output_type": "stream",
          "text": [
            "\rPneumonia:  72%|███████▏  | 558/780 [01:22<00:28,  7.69it/s]"
          ]
        },
        {
          "name": "stdout",
          "output_type": "stream",
          "text": [
            "1/1 [==============================] - 0s 52ms/step\n"
          ]
        },
        {
          "name": "stderr",
          "output_type": "stream",
          "text": [
            "\rPneumonia:  72%|███████▏  | 559/780 [01:22<00:28,  7.72it/s]"
          ]
        },
        {
          "name": "stdout",
          "output_type": "stream",
          "text": [
            "1/1 [==============================] - 0s 60ms/step\n"
          ]
        },
        {
          "name": "stderr",
          "output_type": "stream",
          "text": [
            "\rPneumonia:  72%|███████▏  | 560/780 [01:22<00:28,  7.59it/s]"
          ]
        },
        {
          "name": "stdout",
          "output_type": "stream",
          "text": [
            "1/1 [==============================] - 0s 54ms/step\n"
          ]
        },
        {
          "name": "stderr",
          "output_type": "stream",
          "text": [
            "\rPneumonia:  72%|███████▏  | 561/780 [01:22<00:29,  7.51it/s]"
          ]
        },
        {
          "name": "stdout",
          "output_type": "stream",
          "text": [
            "1/1 [==============================] - 0s 54ms/step\n"
          ]
        },
        {
          "name": "stderr",
          "output_type": "stream",
          "text": [
            "\rPneumonia:  72%|███████▏  | 562/780 [01:22<00:28,  7.57it/s]"
          ]
        },
        {
          "name": "stdout",
          "output_type": "stream",
          "text": [
            "1/1 [==============================] - 0s 55ms/step\n"
          ]
        },
        {
          "name": "stderr",
          "output_type": "stream",
          "text": [
            "\rPneumonia:  72%|███████▏  | 563/780 [01:22<00:29,  7.41it/s]"
          ]
        },
        {
          "name": "stdout",
          "output_type": "stream",
          "text": [
            "1/1 [==============================] - 0s 52ms/step\n"
          ]
        },
        {
          "name": "stderr",
          "output_type": "stream",
          "text": [
            "\rPneumonia:  72%|███████▏  | 564/780 [01:22<00:28,  7.56it/s]"
          ]
        },
        {
          "name": "stdout",
          "output_type": "stream",
          "text": [
            "1/1 [==============================] - 0s 55ms/step\n"
          ]
        },
        {
          "name": "stderr",
          "output_type": "stream",
          "text": [
            "\rPneumonia:  72%|███████▏  | 565/780 [01:23<00:28,  7.54it/s]"
          ]
        },
        {
          "name": "stdout",
          "output_type": "stream",
          "text": [
            "1/1 [==============================] - 0s 61ms/step\n"
          ]
        },
        {
          "name": "stderr",
          "output_type": "stream",
          "text": [
            "\rPneumonia:  73%|███████▎  | 566/780 [01:23<00:28,  7.50it/s]"
          ]
        },
        {
          "name": "stdout",
          "output_type": "stream",
          "text": [
            "1/1 [==============================] - 0s 51ms/step\n"
          ]
        },
        {
          "name": "stderr",
          "output_type": "stream",
          "text": [
            "\rPneumonia:  73%|███████▎  | 567/780 [01:23<00:28,  7.53it/s]"
          ]
        },
        {
          "name": "stdout",
          "output_type": "stream",
          "text": [
            "1/1 [==============================] - 0s 52ms/step\n"
          ]
        },
        {
          "name": "stderr",
          "output_type": "stream",
          "text": [
            "\rPneumonia:  73%|███████▎  | 568/780 [01:23<00:28,  7.35it/s]"
          ]
        },
        {
          "name": "stdout",
          "output_type": "stream",
          "text": [
            "1/1 [==============================] - 0s 63ms/step\n"
          ]
        },
        {
          "name": "stderr",
          "output_type": "stream",
          "text": [
            "\rPneumonia:  73%|███████▎  | 569/780 [01:23<00:28,  7.39it/s]"
          ]
        },
        {
          "name": "stdout",
          "output_type": "stream",
          "text": [
            "1/1 [==============================] - 0s 52ms/step\n"
          ]
        },
        {
          "name": "stderr",
          "output_type": "stream",
          "text": [
            "\rPneumonia:  73%|███████▎  | 570/780 [01:23<00:28,  7.32it/s]"
          ]
        },
        {
          "name": "stdout",
          "output_type": "stream",
          "text": [
            "1/1 [==============================] - 0s 55ms/step\n"
          ]
        },
        {
          "name": "stderr",
          "output_type": "stream",
          "text": [
            "\rPneumonia:  73%|███████▎  | 571/780 [01:23<00:27,  7.52it/s]"
          ]
        },
        {
          "name": "stdout",
          "output_type": "stream",
          "text": [
            "1/1 [==============================] - 0s 60ms/step\n"
          ]
        },
        {
          "name": "stderr",
          "output_type": "stream",
          "text": [
            "\rPneumonia:  73%|███████▎  | 572/780 [01:23<00:27,  7.60it/s]"
          ]
        },
        {
          "name": "stdout",
          "output_type": "stream",
          "text": [
            "1/1 [==============================] - 0s 52ms/step\n"
          ]
        },
        {
          "name": "stderr",
          "output_type": "stream",
          "text": [
            "\rPneumonia:  73%|███████▎  | 573/780 [01:24<00:27,  7.47it/s]"
          ]
        },
        {
          "name": "stdout",
          "output_type": "stream",
          "text": [
            "1/1 [==============================] - 0s 52ms/step\n"
          ]
        },
        {
          "name": "stderr",
          "output_type": "stream",
          "text": [
            "\rPneumonia:  74%|███████▎  | 574/780 [01:24<00:26,  7.68it/s]"
          ]
        },
        {
          "name": "stdout",
          "output_type": "stream",
          "text": [
            "1/1 [==============================] - 0s 54ms/step\n"
          ]
        },
        {
          "name": "stderr",
          "output_type": "stream",
          "text": [
            "\rPneumonia:  74%|███████▎  | 575/780 [01:24<00:26,  7.70it/s]"
          ]
        },
        {
          "name": "stdout",
          "output_type": "stream",
          "text": [
            "1/1 [==============================] - 0s 55ms/step\n"
          ]
        },
        {
          "name": "stderr",
          "output_type": "stream",
          "text": [
            "\rPneumonia:  74%|███████▍  | 576/780 [01:24<00:27,  7.43it/s]"
          ]
        },
        {
          "name": "stdout",
          "output_type": "stream",
          "text": [
            "1/1 [==============================] - 0s 52ms/step\n"
          ]
        },
        {
          "name": "stderr",
          "output_type": "stream",
          "text": [
            "\rPneumonia:  74%|███████▍  | 577/780 [01:24<00:26,  7.55it/s]"
          ]
        },
        {
          "name": "stdout",
          "output_type": "stream",
          "text": [
            "1/1 [==============================] - 0s 60ms/step\n"
          ]
        },
        {
          "name": "stderr",
          "output_type": "stream",
          "text": [
            "\rPneumonia:  74%|███████▍  | 578/780 [01:24<00:26,  7.50it/s]"
          ]
        },
        {
          "name": "stdout",
          "output_type": "stream",
          "text": [
            "1/1 [==============================] - 0s 53ms/step\n"
          ]
        },
        {
          "name": "stderr",
          "output_type": "stream",
          "text": [
            "\rPneumonia:  74%|███████▍  | 579/780 [01:24<00:27,  7.41it/s]"
          ]
        },
        {
          "name": "stdout",
          "output_type": "stream",
          "text": [
            "1/1 [==============================] - 0s 58ms/step\n"
          ]
        },
        {
          "name": "stderr",
          "output_type": "stream",
          "text": [
            "\rPneumonia:  74%|███████▍  | 580/780 [01:25<00:26,  7.43it/s]"
          ]
        },
        {
          "name": "stdout",
          "output_type": "stream",
          "text": [
            "1/1 [==============================] - 0s 52ms/step\n"
          ]
        },
        {
          "name": "stderr",
          "output_type": "stream",
          "text": [
            "\rPneumonia:  74%|███████▍  | 581/780 [01:25<00:26,  7.62it/s]"
          ]
        },
        {
          "name": "stdout",
          "output_type": "stream",
          "text": [
            "1/1 [==============================] - 0s 56ms/step\n"
          ]
        },
        {
          "name": "stderr",
          "output_type": "stream",
          "text": [
            "\rPneumonia:  75%|███████▍  | 582/780 [01:25<00:25,  7.71it/s]"
          ]
        },
        {
          "name": "stdout",
          "output_type": "stream",
          "text": [
            "1/1 [==============================] - 0s 54ms/step\n"
          ]
        },
        {
          "name": "stderr",
          "output_type": "stream",
          "text": [
            "\rPneumonia:  75%|███████▍  | 583/780 [01:25<00:25,  7.71it/s]"
          ]
        },
        {
          "name": "stdout",
          "output_type": "stream",
          "text": [
            "1/1 [==============================] - 0s 58ms/step\n"
          ]
        },
        {
          "name": "stderr",
          "output_type": "stream",
          "text": [
            "\rPneumonia:  75%|███████▍  | 584/780 [01:25<00:25,  7.64it/s]"
          ]
        },
        {
          "name": "stdout",
          "output_type": "stream",
          "text": [
            "1/1 [==============================] - 0s 53ms/step\n"
          ]
        },
        {
          "name": "stderr",
          "output_type": "stream",
          "text": [
            "\rPneumonia:  75%|███████▌  | 585/780 [01:25<00:25,  7.75it/s]"
          ]
        },
        {
          "name": "stdout",
          "output_type": "stream",
          "text": [
            "1/1 [==============================] - 0s 59ms/step\n"
          ]
        },
        {
          "name": "stderr",
          "output_type": "stream",
          "text": [
            "\rPneumonia:  75%|███████▌  | 586/780 [01:25<00:24,  7.83it/s]"
          ]
        },
        {
          "name": "stdout",
          "output_type": "stream",
          "text": [
            "1/1 [==============================] - 0s 53ms/step\n"
          ]
        },
        {
          "name": "stderr",
          "output_type": "stream",
          "text": [
            "\rPneumonia:  75%|███████▌  | 587/780 [01:25<00:24,  7.74it/s]"
          ]
        },
        {
          "name": "stdout",
          "output_type": "stream",
          "text": [
            "1/1 [==============================] - 0s 59ms/step\n"
          ]
        },
        {
          "name": "stderr",
          "output_type": "stream",
          "text": [
            "\rPneumonia:  75%|███████▌  | 588/780 [01:26<00:25,  7.42it/s]"
          ]
        },
        {
          "name": "stdout",
          "output_type": "stream",
          "text": [
            "1/1 [==============================] - 0s 63ms/step\n"
          ]
        },
        {
          "name": "stderr",
          "output_type": "stream",
          "text": [
            "\rPneumonia:  76%|███████▌  | 589/780 [01:26<00:25,  7.42it/s]"
          ]
        },
        {
          "name": "stdout",
          "output_type": "stream",
          "text": [
            "1/1 [==============================] - 0s 52ms/step\n"
          ]
        },
        {
          "name": "stderr",
          "output_type": "stream",
          "text": [
            "\rPneumonia:  76%|███████▌  | 590/780 [01:26<00:24,  7.61it/s]"
          ]
        },
        {
          "name": "stdout",
          "output_type": "stream",
          "text": [
            "1/1 [==============================] - 0s 52ms/step\n"
          ]
        },
        {
          "name": "stderr",
          "output_type": "stream",
          "text": [
            "\rPneumonia:  76%|███████▌  | 591/780 [01:26<00:24,  7.77it/s]"
          ]
        },
        {
          "name": "stdout",
          "output_type": "stream",
          "text": [
            "1/1 [==============================] - 0s 56ms/step\n"
          ]
        },
        {
          "name": "stderr",
          "output_type": "stream",
          "text": [
            "\rPneumonia:  76%|███████▌  | 592/780 [01:26<00:24,  7.55it/s]"
          ]
        },
        {
          "name": "stdout",
          "output_type": "stream",
          "text": [
            "1/1 [==============================] - 0s 53ms/step\n"
          ]
        },
        {
          "name": "stderr",
          "output_type": "stream",
          "text": [
            "\rPneumonia:  76%|███████▌  | 593/780 [01:26<00:24,  7.77it/s]"
          ]
        },
        {
          "name": "stdout",
          "output_type": "stream",
          "text": [
            "1/1 [==============================] - 0s 52ms/step\n"
          ]
        },
        {
          "name": "stderr",
          "output_type": "stream",
          "text": [
            "\rPneumonia:  76%|███████▌  | 594/780 [01:26<00:23,  7.76it/s]"
          ]
        },
        {
          "name": "stdout",
          "output_type": "stream",
          "text": [
            "1/1 [==============================] - 0s 51ms/step\n"
          ]
        },
        {
          "name": "stderr",
          "output_type": "stream",
          "text": [
            "\rPneumonia:  76%|███████▋  | 595/780 [01:26<00:23,  7.75it/s]"
          ]
        },
        {
          "name": "stdout",
          "output_type": "stream",
          "text": [
            "1/1 [==============================] - 0s 75ms/step\n"
          ]
        },
        {
          "name": "stderr",
          "output_type": "stream",
          "text": [
            "\rPneumonia:  76%|███████▋  | 596/780 [01:27<00:25,  7.33it/s]"
          ]
        },
        {
          "name": "stdout",
          "output_type": "stream",
          "text": [
            "1/1 [==============================] - 0s 89ms/step\n"
          ]
        },
        {
          "name": "stderr",
          "output_type": "stream",
          "text": [
            "\rPneumonia:  77%|███████▋  | 597/780 [01:27<00:27,  6.57it/s]"
          ]
        },
        {
          "name": "stdout",
          "output_type": "stream",
          "text": [
            "1/1 [==============================] - 0s 90ms/step\n"
          ]
        },
        {
          "name": "stderr",
          "output_type": "stream",
          "text": [
            "\rPneumonia:  77%|███████▋  | 598/780 [01:27<00:28,  6.42it/s]"
          ]
        },
        {
          "name": "stdout",
          "output_type": "stream",
          "text": [
            "1/1 [==============================] - 0s 88ms/step\n"
          ]
        },
        {
          "name": "stderr",
          "output_type": "stream",
          "text": [
            "\rPneumonia:  77%|███████▋  | 599/780 [01:27<00:29,  6.17it/s]"
          ]
        },
        {
          "name": "stdout",
          "output_type": "stream",
          "text": [
            "1/1 [==============================] - 0s 90ms/step\n"
          ]
        },
        {
          "name": "stderr",
          "output_type": "stream",
          "text": [
            "\rPneumonia:  77%|███████▋  | 600/780 [01:27<00:29,  6.15it/s]"
          ]
        },
        {
          "name": "stdout",
          "output_type": "stream",
          "text": [
            "1/1 [==============================] - 0s 86ms/step\n"
          ]
        },
        {
          "name": "stderr",
          "output_type": "stream",
          "text": [
            "\rPneumonia:  77%|███████▋  | 601/780 [01:27<00:28,  6.29it/s]"
          ]
        },
        {
          "name": "stdout",
          "output_type": "stream",
          "text": [
            "1/1 [==============================] - 0s 136ms/step\n"
          ]
        },
        {
          "name": "stderr",
          "output_type": "stream",
          "text": [
            "\rPneumonia:  77%|███████▋  | 602/780 [01:28<00:31,  5.66it/s]"
          ]
        },
        {
          "name": "stdout",
          "output_type": "stream",
          "text": [
            "1/1 [==============================] - 0s 101ms/step\n"
          ]
        },
        {
          "name": "stderr",
          "output_type": "stream",
          "text": [
            "\rPneumonia:  77%|███████▋  | 603/780 [01:28<00:32,  5.43it/s]"
          ]
        },
        {
          "name": "stdout",
          "output_type": "stream",
          "text": [
            "1/1 [==============================] - 0s 144ms/step\n"
          ]
        },
        {
          "name": "stderr",
          "output_type": "stream",
          "text": [
            "\rPneumonia:  77%|███████▋  | 604/780 [01:28<00:35,  5.00it/s]"
          ]
        },
        {
          "name": "stdout",
          "output_type": "stream",
          "text": [
            "1/1 [==============================] - 0s 106ms/step\n"
          ]
        },
        {
          "name": "stderr",
          "output_type": "stream",
          "text": [
            "\rPneumonia:  78%|███████▊  | 605/780 [01:28<00:35,  4.88it/s]"
          ]
        },
        {
          "name": "stdout",
          "output_type": "stream",
          "text": [
            "1/1 [==============================] - 0s 86ms/step\n"
          ]
        },
        {
          "name": "stderr",
          "output_type": "stream",
          "text": [
            "\rPneumonia:  78%|███████▊  | 606/780 [01:29<00:33,  5.24it/s]"
          ]
        },
        {
          "name": "stdout",
          "output_type": "stream",
          "text": [
            "1/1 [==============================] - 0s 85ms/step\n"
          ]
        },
        {
          "name": "stderr",
          "output_type": "stream",
          "text": [
            "\rPneumonia:  78%|███████▊  | 607/780 [01:29<00:32,  5.38it/s]"
          ]
        },
        {
          "name": "stdout",
          "output_type": "stream",
          "text": [
            "1/1 [==============================] - 0s 113ms/step\n"
          ]
        },
        {
          "name": "stderr",
          "output_type": "stream",
          "text": [
            "\rPneumonia:  78%|███████▊  | 608/780 [01:29<00:36,  4.69it/s]"
          ]
        },
        {
          "name": "stdout",
          "output_type": "stream",
          "text": [
            "1/1 [==============================] - 0s 84ms/step\n"
          ]
        },
        {
          "name": "stderr",
          "output_type": "stream",
          "text": [
            "\rPneumonia:  78%|███████▊  | 609/780 [01:29<00:34,  5.02it/s]"
          ]
        },
        {
          "name": "stdout",
          "output_type": "stream",
          "text": [
            "1/1 [==============================] - 0s 86ms/step\n"
          ]
        },
        {
          "name": "stderr",
          "output_type": "stream",
          "text": [
            "\rPneumonia:  78%|███████▊  | 610/780 [01:29<00:32,  5.25it/s]"
          ]
        },
        {
          "name": "stdout",
          "output_type": "stream",
          "text": [
            "1/1 [==============================] - 0s 89ms/step\n"
          ]
        },
        {
          "name": "stderr",
          "output_type": "stream",
          "text": [
            "\rPneumonia:  78%|███████▊  | 611/780 [01:29<00:32,  5.27it/s]"
          ]
        },
        {
          "name": "stdout",
          "output_type": "stream",
          "text": [
            "1/1 [==============================] - 0s 89ms/step\n"
          ]
        },
        {
          "name": "stderr",
          "output_type": "stream",
          "text": [
            "\rPneumonia:  78%|███████▊  | 612/780 [01:30<00:31,  5.33it/s]"
          ]
        },
        {
          "name": "stdout",
          "output_type": "stream",
          "text": [
            "1/1 [==============================] - 0s 103ms/step\n"
          ]
        },
        {
          "name": "stderr",
          "output_type": "stream",
          "text": [
            "\rPneumonia:  79%|███████▊  | 613/780 [01:30<00:36,  4.58it/s]"
          ]
        },
        {
          "name": "stdout",
          "output_type": "stream",
          "text": [
            "1/1 [==============================] - 0s 95ms/step\n"
          ]
        },
        {
          "name": "stderr",
          "output_type": "stream",
          "text": [
            "\rPneumonia:  79%|███████▊  | 614/780 [01:30<00:35,  4.68it/s]"
          ]
        },
        {
          "name": "stdout",
          "output_type": "stream",
          "text": [
            "1/1 [==============================] - 0s 94ms/step\n"
          ]
        },
        {
          "name": "stderr",
          "output_type": "stream",
          "text": [
            "\rPneumonia:  79%|███████▉  | 615/780 [01:30<00:33,  4.98it/s]"
          ]
        },
        {
          "name": "stdout",
          "output_type": "stream",
          "text": [
            "1/1 [==============================] - 0s 99ms/step\n"
          ]
        },
        {
          "name": "stderr",
          "output_type": "stream",
          "text": [
            "\rPneumonia:  79%|███████▉  | 616/780 [01:31<00:32,  4.99it/s]"
          ]
        },
        {
          "name": "stdout",
          "output_type": "stream",
          "text": [
            "1/1 [==============================] - 0s 92ms/step\n"
          ]
        },
        {
          "name": "stderr",
          "output_type": "stream",
          "text": [
            "\rPneumonia:  79%|███████▉  | 617/780 [01:31<00:36,  4.51it/s]"
          ]
        },
        {
          "name": "stdout",
          "output_type": "stream",
          "text": [
            "1/1 [==============================] - 0s 89ms/step\n"
          ]
        },
        {
          "name": "stderr",
          "output_type": "stream",
          "text": [
            "\rPneumonia:  79%|███████▉  | 618/780 [01:31<00:37,  4.30it/s]"
          ]
        },
        {
          "name": "stdout",
          "output_type": "stream",
          "text": [
            "1/1 [==============================] - 0s 87ms/step\n"
          ]
        },
        {
          "name": "stderr",
          "output_type": "stream",
          "text": [
            "\rPneumonia:  79%|███████▉  | 619/780 [01:31<00:34,  4.73it/s]"
          ]
        },
        {
          "name": "stdout",
          "output_type": "stream",
          "text": [
            "1/1 [==============================] - 0s 116ms/step\n"
          ]
        },
        {
          "name": "stderr",
          "output_type": "stream",
          "text": [
            "\rPneumonia:  79%|███████▉  | 620/780 [01:32<00:37,  4.27it/s]"
          ]
        },
        {
          "name": "stdout",
          "output_type": "stream",
          "text": [
            "1/1 [==============================] - 0s 85ms/step\n"
          ]
        },
        {
          "name": "stderr",
          "output_type": "stream",
          "text": [
            "\rPneumonia:  80%|███████▉  | 621/780 [01:32<00:34,  4.55it/s]"
          ]
        },
        {
          "name": "stdout",
          "output_type": "stream",
          "text": [
            "1/1 [==============================] - 0s 89ms/step\n"
          ]
        },
        {
          "name": "stderr",
          "output_type": "stream",
          "text": [
            "\rPneumonia:  80%|███████▉  | 622/780 [01:32<00:33,  4.79it/s]"
          ]
        },
        {
          "name": "stdout",
          "output_type": "stream",
          "text": [
            "1/1 [==============================] - 0s 59ms/step\n"
          ]
        },
        {
          "name": "stderr",
          "output_type": "stream",
          "text": [
            "\rPneumonia:  80%|███████▉  | 623/780 [01:32<00:30,  5.22it/s]"
          ]
        },
        {
          "name": "stdout",
          "output_type": "stream",
          "text": [
            "1/1 [==============================] - 0s 58ms/step\n"
          ]
        },
        {
          "name": "stderr",
          "output_type": "stream",
          "text": [
            "\rPneumonia:  80%|████████  | 624/780 [01:32<00:27,  5.66it/s]"
          ]
        },
        {
          "name": "stdout",
          "output_type": "stream",
          "text": [
            "1/1 [==============================] - 0s 55ms/step\n"
          ]
        },
        {
          "name": "stderr",
          "output_type": "stream",
          "text": [
            "\rPneumonia:  80%|████████  | 625/780 [01:32<00:24,  6.22it/s]"
          ]
        },
        {
          "name": "stdout",
          "output_type": "stream",
          "text": [
            "1/1 [==============================] - 0s 55ms/step\n"
          ]
        },
        {
          "name": "stderr",
          "output_type": "stream",
          "text": [
            "\rPneumonia:  80%|████████  | 626/780 [01:32<00:24,  6.33it/s]"
          ]
        },
        {
          "name": "stdout",
          "output_type": "stream",
          "text": [
            "1/1 [==============================] - 0s 67ms/step\n"
          ]
        },
        {
          "name": "stderr",
          "output_type": "stream",
          "text": [
            "\rPneumonia:  80%|████████  | 627/780 [01:33<00:23,  6.50it/s]"
          ]
        },
        {
          "name": "stdout",
          "output_type": "stream",
          "text": [
            "1/1 [==============================] - 0s 50ms/step\n"
          ]
        },
        {
          "name": "stderr",
          "output_type": "stream",
          "text": [
            "\rPneumonia:  81%|████████  | 628/780 [01:33<00:21,  6.96it/s]"
          ]
        },
        {
          "name": "stdout",
          "output_type": "stream",
          "text": [
            "1/1 [==============================] - 0s 62ms/step\n"
          ]
        },
        {
          "name": "stderr",
          "output_type": "stream",
          "text": [
            "\rPneumonia:  81%|████████  | 629/780 [01:33<00:20,  7.20it/s]"
          ]
        },
        {
          "name": "stdout",
          "output_type": "stream",
          "text": [
            "1/1 [==============================] - 0s 53ms/step\n"
          ]
        },
        {
          "name": "stderr",
          "output_type": "stream",
          "text": [
            "\rPneumonia:  81%|████████  | 630/780 [01:33<00:20,  7.44it/s]"
          ]
        },
        {
          "name": "stdout",
          "output_type": "stream",
          "text": [
            "1/1 [==============================] - 0s 56ms/step\n"
          ]
        },
        {
          "name": "stderr",
          "output_type": "stream",
          "text": [
            "\rPneumonia:  81%|████████  | 631/780 [01:33<00:20,  7.39it/s]"
          ]
        },
        {
          "name": "stdout",
          "output_type": "stream",
          "text": [
            "1/1 [==============================] - 0s 61ms/step\n"
          ]
        },
        {
          "name": "stderr",
          "output_type": "stream",
          "text": [
            "\rPneumonia:  81%|████████  | 632/780 [01:33<00:20,  7.28it/s]"
          ]
        },
        {
          "name": "stdout",
          "output_type": "stream",
          "text": [
            "1/1 [==============================] - 0s 58ms/step\n"
          ]
        },
        {
          "name": "stderr",
          "output_type": "stream",
          "text": [
            "\rPneumonia:  81%|████████  | 633/780 [01:33<00:20,  7.15it/s]"
          ]
        },
        {
          "name": "stdout",
          "output_type": "stream",
          "text": [
            "1/1 [==============================] - 0s 58ms/step\n"
          ]
        },
        {
          "name": "stderr",
          "output_type": "stream",
          "text": [
            "\rPneumonia:  81%|████████▏ | 634/780 [01:34<00:20,  7.28it/s]"
          ]
        },
        {
          "name": "stdout",
          "output_type": "stream",
          "text": [
            "1/1 [==============================] - 0s 55ms/step\n"
          ]
        },
        {
          "name": "stderr",
          "output_type": "stream",
          "text": [
            "\rPneumonia:  81%|████████▏ | 635/780 [01:34<00:19,  7.42it/s]"
          ]
        },
        {
          "name": "stdout",
          "output_type": "stream",
          "text": [
            "1/1 [==============================] - 0s 54ms/step\n"
          ]
        },
        {
          "name": "stderr",
          "output_type": "stream",
          "text": [
            "\rPneumonia:  82%|████████▏ | 636/780 [01:34<00:19,  7.42it/s]"
          ]
        },
        {
          "name": "stdout",
          "output_type": "stream",
          "text": [
            "1/1 [==============================] - 0s 55ms/step\n"
          ]
        },
        {
          "name": "stderr",
          "output_type": "stream",
          "text": [
            "\rPneumonia:  82%|████████▏ | 637/780 [01:34<00:18,  7.67it/s]"
          ]
        },
        {
          "name": "stdout",
          "output_type": "stream",
          "text": [
            "1/1 [==============================] - 0s 64ms/step\n"
          ]
        },
        {
          "name": "stderr",
          "output_type": "stream",
          "text": [
            "\rPneumonia:  82%|████████▏ | 638/780 [01:34<00:18,  7.62it/s]"
          ]
        },
        {
          "name": "stdout",
          "output_type": "stream",
          "text": [
            "1/1 [==============================] - 0s 56ms/step\n"
          ]
        },
        {
          "name": "stderr",
          "output_type": "stream",
          "text": [
            "\rPneumonia:  82%|████████▏ | 639/780 [01:34<00:18,  7.70it/s]"
          ]
        },
        {
          "name": "stdout",
          "output_type": "stream",
          "text": [
            "1/1 [==============================] - 0s 57ms/step\n"
          ]
        },
        {
          "name": "stderr",
          "output_type": "stream",
          "text": [
            "\rPneumonia:  82%|████████▏ | 640/780 [01:34<00:18,  7.61it/s]"
          ]
        },
        {
          "name": "stdout",
          "output_type": "stream",
          "text": [
            "1/1 [==============================] - 0s 65ms/step\n"
          ]
        },
        {
          "name": "stderr",
          "output_type": "stream",
          "text": [
            "\rPneumonia:  82%|████████▏ | 641/780 [01:34<00:18,  7.43it/s]"
          ]
        },
        {
          "name": "stdout",
          "output_type": "stream",
          "text": [
            "1/1 [==============================] - 0s 54ms/step\n"
          ]
        },
        {
          "name": "stderr",
          "output_type": "stream",
          "text": [
            "\rPneumonia:  82%|████████▏ | 642/780 [01:35<00:18,  7.42it/s]"
          ]
        },
        {
          "name": "stdout",
          "output_type": "stream",
          "text": [
            "1/1 [==============================] - 0s 54ms/step\n"
          ]
        },
        {
          "name": "stderr",
          "output_type": "stream",
          "text": [
            "\rPneumonia:  82%|████████▏ | 643/780 [01:35<00:18,  7.59it/s]"
          ]
        },
        {
          "name": "stdout",
          "output_type": "stream",
          "text": [
            "1/1 [==============================] - 0s 53ms/step\n"
          ]
        },
        {
          "name": "stderr",
          "output_type": "stream",
          "text": [
            "\rPneumonia:  83%|████████▎ | 644/780 [01:35<00:17,  7.57it/s]"
          ]
        },
        {
          "name": "stdout",
          "output_type": "stream",
          "text": [
            "1/1 [==============================] - 0s 57ms/step\n"
          ]
        },
        {
          "name": "stderr",
          "output_type": "stream",
          "text": [
            "\rPneumonia:  83%|████████▎ | 645/780 [01:35<00:17,  7.61it/s]"
          ]
        },
        {
          "name": "stdout",
          "output_type": "stream",
          "text": [
            "1/1 [==============================] - 0s 54ms/step\n"
          ]
        },
        {
          "name": "stderr",
          "output_type": "stream",
          "text": [
            "\rPneumonia:  83%|████████▎ | 646/780 [01:35<00:17,  7.63it/s]"
          ]
        },
        {
          "name": "stdout",
          "output_type": "stream",
          "text": [
            "1/1 [==============================] - 0s 61ms/step\n"
          ]
        },
        {
          "name": "stderr",
          "output_type": "stream",
          "text": [
            "\rPneumonia:  83%|████████▎ | 647/780 [01:35<00:17,  7.59it/s]"
          ]
        },
        {
          "name": "stdout",
          "output_type": "stream",
          "text": [
            "1/1 [==============================] - 0s 56ms/step\n"
          ]
        },
        {
          "name": "stderr",
          "output_type": "stream",
          "text": [
            "\rPneumonia:  83%|████████▎ | 648/780 [01:35<00:17,  7.67it/s]"
          ]
        },
        {
          "name": "stdout",
          "output_type": "stream",
          "text": [
            "1/1 [==============================] - 0s 64ms/step\n"
          ]
        },
        {
          "name": "stderr",
          "output_type": "stream",
          "text": [
            "\rPneumonia:  83%|████████▎ | 649/780 [01:36<00:17,  7.35it/s]"
          ]
        },
        {
          "name": "stdout",
          "output_type": "stream",
          "text": [
            "1/1 [==============================] - 0s 57ms/step\n"
          ]
        },
        {
          "name": "stderr",
          "output_type": "stream",
          "text": [
            "\rPneumonia:  83%|████████▎ | 650/780 [01:36<00:18,  7.20it/s]"
          ]
        },
        {
          "name": "stdout",
          "output_type": "stream",
          "text": [
            "1/1 [==============================] - 0s 53ms/step\n"
          ]
        },
        {
          "name": "stderr",
          "output_type": "stream",
          "text": [
            "\rPneumonia:  83%|████████▎ | 651/780 [01:36<00:17,  7.47it/s]"
          ]
        },
        {
          "name": "stdout",
          "output_type": "stream",
          "text": [
            "1/1 [==============================] - 0s 56ms/step\n"
          ]
        },
        {
          "name": "stderr",
          "output_type": "stream",
          "text": [
            "\rPneumonia:  84%|████████▎ | 652/780 [01:36<00:17,  7.42it/s]"
          ]
        },
        {
          "name": "stdout",
          "output_type": "stream",
          "text": [
            "1/1 [==============================] - 0s 55ms/step\n"
          ]
        },
        {
          "name": "stderr",
          "output_type": "stream",
          "text": [
            "\rPneumonia:  84%|████████▎ | 653/780 [01:36<00:16,  7.59it/s]"
          ]
        },
        {
          "name": "stdout",
          "output_type": "stream",
          "text": [
            "1/1 [==============================] - 0s 54ms/step\n"
          ]
        },
        {
          "name": "stderr",
          "output_type": "stream",
          "text": [
            "\rPneumonia:  84%|████████▍ | 654/780 [01:36<00:16,  7.65it/s]"
          ]
        },
        {
          "name": "stdout",
          "output_type": "stream",
          "text": [
            "1/1 [==============================] - 0s 62ms/step\n"
          ]
        },
        {
          "name": "stderr",
          "output_type": "stream",
          "text": [
            "\rPneumonia:  84%|████████▍ | 655/780 [01:36<00:16,  7.53it/s]"
          ]
        },
        {
          "name": "stdout",
          "output_type": "stream",
          "text": [
            "1/1 [==============================] - 0s 53ms/step\n"
          ]
        },
        {
          "name": "stderr",
          "output_type": "stream",
          "text": [
            "\rPneumonia:  84%|████████▍ | 656/780 [01:36<00:16,  7.51it/s]"
          ]
        },
        {
          "name": "stdout",
          "output_type": "stream",
          "text": [
            "1/1 [==============================] - 0s 54ms/step\n"
          ]
        },
        {
          "name": "stderr",
          "output_type": "stream",
          "text": [
            "\rPneumonia:  84%|████████▍ | 657/780 [01:37<00:17,  7.23it/s]"
          ]
        },
        {
          "name": "stdout",
          "output_type": "stream",
          "text": [
            "1/1 [==============================] - 0s 58ms/step\n"
          ]
        },
        {
          "name": "stderr",
          "output_type": "stream",
          "text": [
            "\rPneumonia:  84%|████████▍ | 658/780 [01:37<00:16,  7.34it/s]"
          ]
        },
        {
          "name": "stdout",
          "output_type": "stream",
          "text": [
            "1/1 [==============================] - 0s 54ms/step\n"
          ]
        },
        {
          "name": "stderr",
          "output_type": "stream",
          "text": [
            "\rPneumonia:  84%|████████▍ | 659/780 [01:37<00:16,  7.40it/s]"
          ]
        },
        {
          "name": "stdout",
          "output_type": "stream",
          "text": [
            "1/1 [==============================] - 0s 53ms/step\n"
          ]
        },
        {
          "name": "stderr",
          "output_type": "stream",
          "text": [
            "\rPneumonia:  85%|████████▍ | 660/780 [01:37<00:15,  7.57it/s]"
          ]
        },
        {
          "name": "stdout",
          "output_type": "stream",
          "text": [
            "1/1 [==============================] - 0s 54ms/step\n"
          ]
        },
        {
          "name": "stderr",
          "output_type": "stream",
          "text": [
            "\rPneumonia:  85%|████████▍ | 661/780 [01:37<00:15,  7.51it/s]"
          ]
        },
        {
          "name": "stdout",
          "output_type": "stream",
          "text": [
            "1/1 [==============================] - 0s 56ms/step\n"
          ]
        },
        {
          "name": "stderr",
          "output_type": "stream",
          "text": [
            "\rPneumonia:  85%|████████▍ | 662/780 [01:37<00:15,  7.58it/s]"
          ]
        },
        {
          "name": "stdout",
          "output_type": "stream",
          "text": [
            "1/1 [==============================] - 0s 51ms/step\n"
          ]
        },
        {
          "name": "stderr",
          "output_type": "stream",
          "text": [
            "\rPneumonia:  85%|████████▌ | 663/780 [01:37<00:15,  7.66it/s]"
          ]
        },
        {
          "name": "stdout",
          "output_type": "stream",
          "text": [
            "1/1 [==============================] - 0s 55ms/step\n"
          ]
        },
        {
          "name": "stderr",
          "output_type": "stream",
          "text": [
            "\rPneumonia:  85%|████████▌ | 664/780 [01:37<00:15,  7.71it/s]"
          ]
        },
        {
          "name": "stdout",
          "output_type": "stream",
          "text": [
            "1/1 [==============================] - 0s 51ms/step\n"
          ]
        },
        {
          "name": "stderr",
          "output_type": "stream",
          "text": [
            "\rPneumonia:  85%|████████▌ | 665/780 [01:38<00:15,  7.45it/s]"
          ]
        },
        {
          "name": "stdout",
          "output_type": "stream",
          "text": [
            "1/1 [==============================] - 0s 60ms/step\n"
          ]
        },
        {
          "name": "stderr",
          "output_type": "stream",
          "text": [
            "\rPneumonia:  85%|████████▌ | 666/780 [01:38<00:15,  7.45it/s]"
          ]
        },
        {
          "name": "stdout",
          "output_type": "stream",
          "text": [
            "1/1 [==============================] - 0s 53ms/step\n"
          ]
        },
        {
          "name": "stderr",
          "output_type": "stream",
          "text": [
            "\rPneumonia:  86%|████████▌ | 667/780 [01:38<00:15,  7.50it/s]"
          ]
        },
        {
          "name": "stdout",
          "output_type": "stream",
          "text": [
            "1/1 [==============================] - 0s 62ms/step\n"
          ]
        },
        {
          "name": "stderr",
          "output_type": "stream",
          "text": [
            "\rPneumonia:  86%|████████▌ | 668/780 [01:38<00:15,  7.40it/s]"
          ]
        },
        {
          "name": "stdout",
          "output_type": "stream",
          "text": [
            "1/1 [==============================] - 0s 55ms/step\n"
          ]
        },
        {
          "name": "stderr",
          "output_type": "stream",
          "text": [
            "\rPneumonia:  86%|████████▌ | 669/780 [01:38<00:14,  7.55it/s]"
          ]
        },
        {
          "name": "stdout",
          "output_type": "stream",
          "text": [
            "1/1 [==============================] - 0s 56ms/step\n"
          ]
        },
        {
          "name": "stderr",
          "output_type": "stream",
          "text": [
            "\rPneumonia:  86%|████████▌ | 670/780 [01:38<00:14,  7.53it/s]"
          ]
        },
        {
          "name": "stdout",
          "output_type": "stream",
          "text": [
            "1/1 [==============================] - 0s 56ms/step\n"
          ]
        },
        {
          "name": "stderr",
          "output_type": "stream",
          "text": [
            "\rPneumonia:  86%|████████▌ | 671/780 [01:38<00:14,  7.58it/s]"
          ]
        },
        {
          "name": "stdout",
          "output_type": "stream",
          "text": [
            "1/1 [==============================] - 0s 59ms/step\n"
          ]
        },
        {
          "name": "stderr",
          "output_type": "stream",
          "text": [
            "\rPneumonia:  86%|████████▌ | 672/780 [01:39<00:14,  7.49it/s]"
          ]
        },
        {
          "name": "stdout",
          "output_type": "stream",
          "text": [
            "1/1 [==============================] - 0s 54ms/step\n"
          ]
        },
        {
          "name": "stderr",
          "output_type": "stream",
          "text": [
            "\rPneumonia:  86%|████████▋ | 673/780 [01:39<00:14,  7.45it/s]"
          ]
        },
        {
          "name": "stdout",
          "output_type": "stream",
          "text": [
            "1/1 [==============================] - 0s 54ms/step\n"
          ]
        },
        {
          "name": "stderr",
          "output_type": "stream",
          "text": [
            "\rPneumonia:  86%|████████▋ | 674/780 [01:39<00:14,  7.55it/s]"
          ]
        },
        {
          "name": "stdout",
          "output_type": "stream",
          "text": [
            "1/1 [==============================] - 0s 54ms/step\n"
          ]
        },
        {
          "name": "stderr",
          "output_type": "stream",
          "text": [
            "\rPneumonia:  87%|████████▋ | 675/780 [01:39<00:13,  7.73it/s]"
          ]
        },
        {
          "name": "stdout",
          "output_type": "stream",
          "text": [
            "1/1 [==============================] - 0s 57ms/step\n"
          ]
        },
        {
          "name": "stderr",
          "output_type": "stream",
          "text": [
            "\rPneumonia:  87%|████████▋ | 676/780 [01:39<00:13,  7.56it/s]"
          ]
        },
        {
          "name": "stdout",
          "output_type": "stream",
          "text": [
            "1/1 [==============================] - 0s 56ms/step\n"
          ]
        },
        {
          "name": "stderr",
          "output_type": "stream",
          "text": [
            "\rPneumonia:  87%|████████▋ | 677/780 [01:39<00:13,  7.63it/s]"
          ]
        },
        {
          "name": "stdout",
          "output_type": "stream",
          "text": [
            "1/1 [==============================] - 0s 57ms/step\n"
          ]
        },
        {
          "name": "stderr",
          "output_type": "stream",
          "text": [
            "\rPneumonia:  87%|████████▋ | 678/780 [01:39<00:13,  7.53it/s]"
          ]
        },
        {
          "name": "stdout",
          "output_type": "stream",
          "text": [
            "1/1 [==============================] - 0s 52ms/step\n"
          ]
        },
        {
          "name": "stderr",
          "output_type": "stream",
          "text": [
            "\rPneumonia:  87%|████████▋ | 679/780 [01:39<00:13,  7.63it/s]"
          ]
        },
        {
          "name": "stdout",
          "output_type": "stream",
          "text": [
            "1/1 [==============================] - 0s 64ms/step\n"
          ]
        },
        {
          "name": "stderr",
          "output_type": "stream",
          "text": [
            "\rPneumonia:  87%|████████▋ | 680/780 [01:40<00:13,  7.51it/s]"
          ]
        },
        {
          "name": "stdout",
          "output_type": "stream",
          "text": [
            "1/1 [==============================] - 0s 58ms/step\n"
          ]
        },
        {
          "name": "stderr",
          "output_type": "stream",
          "text": [
            "\rPneumonia:  87%|████████▋ | 681/780 [01:40<00:12,  7.62it/s]"
          ]
        },
        {
          "name": "stdout",
          "output_type": "stream",
          "text": [
            "1/1 [==============================] - 0s 59ms/step\n"
          ]
        },
        {
          "name": "stderr",
          "output_type": "stream",
          "text": [
            "\rPneumonia:  87%|████████▋ | 682/780 [01:40<00:12,  7.65it/s]"
          ]
        },
        {
          "name": "stdout",
          "output_type": "stream",
          "text": [
            "1/1 [==============================] - 0s 55ms/step\n"
          ]
        },
        {
          "name": "stderr",
          "output_type": "stream",
          "text": [
            "\rPneumonia:  88%|████████▊ | 683/780 [01:40<00:12,  7.73it/s]"
          ]
        },
        {
          "name": "stdout",
          "output_type": "stream",
          "text": [
            "1/1 [==============================] - 0s 59ms/step\n"
          ]
        },
        {
          "name": "stderr",
          "output_type": "stream",
          "text": [
            "\rPneumonia:  88%|████████▊ | 684/780 [01:40<00:12,  7.75it/s]"
          ]
        },
        {
          "name": "stdout",
          "output_type": "stream",
          "text": [
            "1/1 [==============================] - 0s 61ms/step\n"
          ]
        },
        {
          "name": "stderr",
          "output_type": "stream",
          "text": [
            "\rPneumonia:  88%|████████▊ | 685/780 [01:40<00:12,  7.49it/s]"
          ]
        },
        {
          "name": "stdout",
          "output_type": "stream",
          "text": [
            "1/1 [==============================] - 0s 55ms/step\n"
          ]
        },
        {
          "name": "stderr",
          "output_type": "stream",
          "text": [
            "\rPneumonia:  88%|████████▊ | 686/780 [01:40<00:12,  7.72it/s]"
          ]
        },
        {
          "name": "stdout",
          "output_type": "stream",
          "text": [
            "1/1 [==============================] - 0s 58ms/step\n"
          ]
        },
        {
          "name": "stderr",
          "output_type": "stream",
          "text": [
            "\rPneumonia:  88%|████████▊ | 687/780 [01:41<00:11,  7.78it/s]"
          ]
        },
        {
          "name": "stdout",
          "output_type": "stream",
          "text": [
            "1/1 [==============================] - 0s 63ms/step\n"
          ]
        },
        {
          "name": "stderr",
          "output_type": "stream",
          "text": [
            "\rPneumonia:  88%|████████▊ | 688/780 [01:41<00:12,  7.58it/s]"
          ]
        },
        {
          "name": "stdout",
          "output_type": "stream",
          "text": [
            "1/1 [==============================] - 0s 52ms/step\n"
          ]
        },
        {
          "name": "stderr",
          "output_type": "stream",
          "text": [
            "\rPneumonia:  88%|████████▊ | 689/780 [01:41<00:11,  7.65it/s]"
          ]
        },
        {
          "name": "stdout",
          "output_type": "stream",
          "text": [
            "1/1 [==============================] - 0s 63ms/step\n"
          ]
        },
        {
          "name": "stderr",
          "output_type": "stream",
          "text": [
            "\rPneumonia:  88%|████████▊ | 690/780 [01:41<00:11,  7.65it/s]"
          ]
        },
        {
          "name": "stdout",
          "output_type": "stream",
          "text": [
            "1/1 [==============================] - 0s 54ms/step\n"
          ]
        },
        {
          "name": "stderr",
          "output_type": "stream",
          "text": [
            "\rPneumonia:  89%|████████▊ | 691/780 [01:41<00:11,  7.78it/s]"
          ]
        },
        {
          "name": "stdout",
          "output_type": "stream",
          "text": [
            "1/1 [==============================] - 0s 56ms/step\n"
          ]
        },
        {
          "name": "stderr",
          "output_type": "stream",
          "text": [
            "\rPneumonia:  89%|████████▊ | 692/780 [01:41<00:11,  7.67it/s]"
          ]
        },
        {
          "name": "stdout",
          "output_type": "stream",
          "text": [
            "1/1 [==============================] - 0s 52ms/step\n"
          ]
        },
        {
          "name": "stderr",
          "output_type": "stream",
          "text": [
            "\rPneumonia:  89%|████████▉ | 693/780 [01:41<00:11,  7.64it/s]"
          ]
        },
        {
          "name": "stdout",
          "output_type": "stream",
          "text": [
            "1/1 [==============================] - 0s 53ms/step\n"
          ]
        },
        {
          "name": "stderr",
          "output_type": "stream",
          "text": [
            "\rPneumonia:  89%|████████▉ | 694/780 [01:41<00:11,  7.63it/s]"
          ]
        },
        {
          "name": "stdout",
          "output_type": "stream",
          "text": [
            "1/1 [==============================] - 0s 61ms/step\n"
          ]
        },
        {
          "name": "stderr",
          "output_type": "stream",
          "text": [
            "\rPneumonia:  89%|████████▉ | 695/780 [01:42<00:11,  7.42it/s]"
          ]
        },
        {
          "name": "stdout",
          "output_type": "stream",
          "text": [
            "1/1 [==============================] - 0s 57ms/step\n"
          ]
        },
        {
          "name": "stderr",
          "output_type": "stream",
          "text": [
            "\rPneumonia:  89%|████████▉ | 696/780 [01:42<00:11,  7.23it/s]"
          ]
        },
        {
          "name": "stdout",
          "output_type": "stream",
          "text": [
            "1/1 [==============================] - 0s 55ms/step\n"
          ]
        },
        {
          "name": "stderr",
          "output_type": "stream",
          "text": [
            "\rPneumonia:  89%|████████▉ | 697/780 [01:42<00:11,  7.43it/s]"
          ]
        },
        {
          "name": "stdout",
          "output_type": "stream",
          "text": [
            "1/1 [==============================] - 0s 89ms/step\n"
          ]
        },
        {
          "name": "stderr",
          "output_type": "stream",
          "text": [
            "\rPneumonia:  89%|████████▉ | 698/780 [01:42<00:11,  7.02it/s]"
          ]
        },
        {
          "name": "stdout",
          "output_type": "stream",
          "text": [
            "1/1 [==============================] - 0s 87ms/step\n"
          ]
        },
        {
          "name": "stderr",
          "output_type": "stream",
          "text": [
            "\rPneumonia:  90%|████████▉ | 699/780 [01:42<00:12,  6.39it/s]"
          ]
        },
        {
          "name": "stdout",
          "output_type": "stream",
          "text": [
            "1/1 [==============================] - 0s 110ms/step\n"
          ]
        },
        {
          "name": "stderr",
          "output_type": "stream",
          "text": [
            "\rPneumonia:  90%|████████▉ | 700/780 [01:42<00:13,  5.74it/s]"
          ]
        },
        {
          "name": "stdout",
          "output_type": "stream",
          "text": [
            "1/1 [==============================] - 0s 113ms/step\n"
          ]
        },
        {
          "name": "stderr",
          "output_type": "stream",
          "text": [
            "\rPneumonia:  90%|████████▉ | 701/780 [01:43<00:14,  5.56it/s]"
          ]
        },
        {
          "name": "stdout",
          "output_type": "stream",
          "text": [
            "1/1 [==============================] - 0s 118ms/step\n"
          ]
        },
        {
          "name": "stderr",
          "output_type": "stream",
          "text": [
            "\rPneumonia:  90%|█████████ | 702/780 [01:43<00:14,  5.36it/s]"
          ]
        },
        {
          "name": "stdout",
          "output_type": "stream",
          "text": [
            "1/1 [==============================] - 0s 94ms/step\n"
          ]
        },
        {
          "name": "stderr",
          "output_type": "stream",
          "text": [
            "\rPneumonia:  90%|█████████ | 703/780 [01:43<00:14,  5.28it/s]"
          ]
        },
        {
          "name": "stdout",
          "output_type": "stream",
          "text": [
            "1/1 [==============================] - 0s 105ms/step\n"
          ]
        },
        {
          "name": "stderr",
          "output_type": "stream",
          "text": [
            "\rPneumonia:  90%|█████████ | 704/780 [01:43<00:15,  4.97it/s]"
          ]
        },
        {
          "name": "stdout",
          "output_type": "stream",
          "text": [
            "1/1 [==============================] - 0s 102ms/step\n"
          ]
        },
        {
          "name": "stderr",
          "output_type": "stream",
          "text": [
            "\rPneumonia:  90%|█████████ | 705/780 [01:43<00:15,  4.92it/s]"
          ]
        },
        {
          "name": "stdout",
          "output_type": "stream",
          "text": [
            "1/1 [==============================] - 0s 101ms/step\n"
          ]
        },
        {
          "name": "stderr",
          "output_type": "stream",
          "text": [
            "\rPneumonia:  91%|█████████ | 706/780 [01:44<00:14,  4.96it/s]"
          ]
        },
        {
          "name": "stdout",
          "output_type": "stream",
          "text": [
            "1/1 [==============================] - 0s 106ms/step\n"
          ]
        },
        {
          "name": "stderr",
          "output_type": "stream",
          "text": [
            "\rPneumonia:  91%|█████████ | 707/780 [01:44<00:14,  5.16it/s]"
          ]
        },
        {
          "name": "stdout",
          "output_type": "stream",
          "text": [
            "1/1 [==============================] - 0s 103ms/step\n"
          ]
        },
        {
          "name": "stderr",
          "output_type": "stream",
          "text": [
            "\rPneumonia:  91%|█████████ | 708/780 [01:44<00:14,  5.09it/s]"
          ]
        },
        {
          "name": "stdout",
          "output_type": "stream",
          "text": [
            "1/1 [==============================] - 0s 90ms/step\n"
          ]
        },
        {
          "name": "stderr",
          "output_type": "stream",
          "text": [
            "\rPneumonia:  91%|█████████ | 709/780 [01:44<00:13,  5.28it/s]"
          ]
        },
        {
          "name": "stdout",
          "output_type": "stream",
          "text": [
            "1/1 [==============================] - 0s 87ms/step\n"
          ]
        },
        {
          "name": "stderr",
          "output_type": "stream",
          "text": [
            "\rPneumonia:  91%|█████████ | 710/780 [01:44<00:12,  5.50it/s]"
          ]
        },
        {
          "name": "stdout",
          "output_type": "stream",
          "text": [
            "1/1 [==============================] - 0s 89ms/step\n"
          ]
        },
        {
          "name": "stderr",
          "output_type": "stream",
          "text": [
            "\rPneumonia:  91%|█████████ | 711/780 [01:45<00:12,  5.51it/s]"
          ]
        },
        {
          "name": "stdout",
          "output_type": "stream",
          "text": [
            "1/1 [==============================] - 0s 87ms/step\n"
          ]
        },
        {
          "name": "stderr",
          "output_type": "stream",
          "text": [
            "\rPneumonia:  91%|█████████▏| 712/780 [01:45<00:12,  5.39it/s]"
          ]
        },
        {
          "name": "stdout",
          "output_type": "stream",
          "text": [
            "1/1 [==============================] - 0s 103ms/step\n"
          ]
        },
        {
          "name": "stderr",
          "output_type": "stream",
          "text": [
            "\rPneumonia:  91%|█████████▏| 713/780 [01:45<00:12,  5.28it/s]"
          ]
        },
        {
          "name": "stdout",
          "output_type": "stream",
          "text": [
            "1/1 [==============================] - 0s 85ms/step\n"
          ]
        },
        {
          "name": "stderr",
          "output_type": "stream",
          "text": [
            "\rPneumonia:  92%|█████████▏| 714/780 [01:45<00:12,  5.50it/s]"
          ]
        },
        {
          "name": "stdout",
          "output_type": "stream",
          "text": [
            "1/1 [==============================] - 0s 85ms/step\n"
          ]
        },
        {
          "name": "stderr",
          "output_type": "stream",
          "text": [
            "\rPneumonia:  92%|█████████▏| 715/780 [01:45<00:11,  5.67it/s]"
          ]
        },
        {
          "name": "stdout",
          "output_type": "stream",
          "text": [
            "1/1 [==============================] - 0s 113ms/step\n"
          ]
        },
        {
          "name": "stderr",
          "output_type": "stream",
          "text": [
            "\rPneumonia:  92%|█████████▏| 716/780 [01:45<00:11,  5.39it/s]"
          ]
        },
        {
          "name": "stdout",
          "output_type": "stream",
          "text": [
            "1/1 [==============================] - 0s 114ms/step\n"
          ]
        },
        {
          "name": "stderr",
          "output_type": "stream",
          "text": [
            "\rPneumonia:  92%|█████████▏| 717/780 [01:46<00:12,  5.11it/s]"
          ]
        },
        {
          "name": "stdout",
          "output_type": "stream",
          "text": [
            "1/1 [==============================] - 0s 91ms/step\n"
          ]
        },
        {
          "name": "stderr",
          "output_type": "stream",
          "text": [
            "\rPneumonia:  92%|█████████▏| 718/780 [01:46<00:11,  5.24it/s]"
          ]
        },
        {
          "name": "stdout",
          "output_type": "stream",
          "text": [
            "1/1 [==============================] - 0s 89ms/step\n"
          ]
        },
        {
          "name": "stderr",
          "output_type": "stream",
          "text": [
            "\rPneumonia:  92%|█████████▏| 719/780 [01:46<00:11,  5.20it/s]"
          ]
        },
        {
          "name": "stdout",
          "output_type": "stream",
          "text": [
            "1/1 [==============================] - 0s 96ms/step\n"
          ]
        },
        {
          "name": "stderr",
          "output_type": "stream",
          "text": [
            "\rPneumonia:  92%|█████████▏| 720/780 [01:46<00:11,  5.18it/s]"
          ]
        },
        {
          "name": "stdout",
          "output_type": "stream",
          "text": [
            "1/1 [==============================] - 0s 86ms/step\n"
          ]
        },
        {
          "name": "stderr",
          "output_type": "stream",
          "text": [
            "\rPneumonia:  92%|█████████▏| 721/780 [01:46<00:10,  5.40it/s]"
          ]
        },
        {
          "name": "stdout",
          "output_type": "stream",
          "text": [
            "1/1 [==============================] - 0s 89ms/step\n"
          ]
        },
        {
          "name": "stderr",
          "output_type": "stream",
          "text": [
            "\rPneumonia:  93%|█████████▎| 722/780 [01:47<00:10,  5.66it/s]"
          ]
        },
        {
          "name": "stdout",
          "output_type": "stream",
          "text": [
            "1/1 [==============================] - 0s 86ms/step\n"
          ]
        },
        {
          "name": "stderr",
          "output_type": "stream",
          "text": [
            "\rPneumonia:  93%|█████████▎| 723/780 [01:47<00:09,  5.78it/s]"
          ]
        },
        {
          "name": "stdout",
          "output_type": "stream",
          "text": [
            "1/1 [==============================] - 0s 86ms/step\n"
          ]
        },
        {
          "name": "stderr",
          "output_type": "stream",
          "text": [
            "\rPneumonia:  93%|█████████▎| 724/780 [01:47<00:09,  5.98it/s]"
          ]
        },
        {
          "name": "stdout",
          "output_type": "stream",
          "text": [
            "1/1 [==============================] - 0s 115ms/step\n"
          ]
        },
        {
          "name": "stderr",
          "output_type": "stream",
          "text": [
            "\rPneumonia:  93%|█████████▎| 725/780 [01:47<00:09,  5.80it/s]"
          ]
        },
        {
          "name": "stdout",
          "output_type": "stream",
          "text": [
            "1/1 [==============================] - 0s 118ms/step\n"
          ]
        },
        {
          "name": "stderr",
          "output_type": "stream",
          "text": [
            "\rPneumonia:  93%|█████████▎| 726/780 [01:47<00:10,  5.31it/s]"
          ]
        },
        {
          "name": "stdout",
          "output_type": "stream",
          "text": [
            "1/1 [==============================] - 0s 90ms/step\n"
          ]
        },
        {
          "name": "stderr",
          "output_type": "stream",
          "text": [
            "\rPneumonia:  93%|█████████▎| 727/780 [01:47<00:09,  5.40it/s]"
          ]
        },
        {
          "name": "stdout",
          "output_type": "stream",
          "text": [
            "1/1 [==============================] - 0s 107ms/step\n"
          ]
        },
        {
          "name": "stderr",
          "output_type": "stream",
          "text": [
            "\rPneumonia:  93%|█████████▎| 728/780 [01:48<00:10,  4.74it/s]"
          ]
        },
        {
          "name": "stdout",
          "output_type": "stream",
          "text": [
            "1/1 [==============================] - 0s 83ms/step\n"
          ]
        },
        {
          "name": "stderr",
          "output_type": "stream",
          "text": [
            "\rPneumonia:  93%|█████████▎| 729/780 [01:48<00:10,  5.06it/s]"
          ]
        },
        {
          "name": "stdout",
          "output_type": "stream",
          "text": [
            "1/1 [==============================] - 0s 64ms/step\n"
          ]
        },
        {
          "name": "stderr",
          "output_type": "stream",
          "text": [
            "\rPneumonia:  94%|█████████▎| 730/780 [01:48<00:09,  5.19it/s]"
          ]
        },
        {
          "name": "stdout",
          "output_type": "stream",
          "text": [
            "1/1 [==============================] - 0s 54ms/step\n"
          ]
        },
        {
          "name": "stderr",
          "output_type": "stream",
          "text": [
            "\rPneumonia:  94%|█████████▎| 731/780 [01:48<00:08,  5.77it/s]"
          ]
        },
        {
          "name": "stdout",
          "output_type": "stream",
          "text": [
            "1/1 [==============================] - 0s 55ms/step\n"
          ]
        },
        {
          "name": "stderr",
          "output_type": "stream",
          "text": [
            "\rPneumonia:  94%|█████████▍| 732/780 [01:48<00:08,  5.98it/s]"
          ]
        },
        {
          "name": "stdout",
          "output_type": "stream",
          "text": [
            "1/1 [==============================] - 0s 51ms/step\n"
          ]
        },
        {
          "name": "stderr",
          "output_type": "stream",
          "text": [
            "\rPneumonia:  94%|█████████▍| 733/780 [01:49<00:07,  6.46it/s]"
          ]
        },
        {
          "name": "stdout",
          "output_type": "stream",
          "text": [
            "1/1 [==============================] - 0s 57ms/step\n"
          ]
        },
        {
          "name": "stderr",
          "output_type": "stream",
          "text": [
            "\rPneumonia:  94%|█████████▍| 734/780 [01:49<00:06,  6.75it/s]"
          ]
        },
        {
          "name": "stdout",
          "output_type": "stream",
          "text": [
            "1/1 [==============================] - 0s 55ms/step\n"
          ]
        },
        {
          "name": "stderr",
          "output_type": "stream",
          "text": [
            "\rPneumonia:  94%|█████████▍| 735/780 [01:49<00:06,  6.98it/s]"
          ]
        },
        {
          "name": "stdout",
          "output_type": "stream",
          "text": [
            "1/1 [==============================] - 0s 53ms/step\n"
          ]
        },
        {
          "name": "stderr",
          "output_type": "stream",
          "text": [
            "\rPneumonia:  94%|█████████▍| 736/780 [01:49<00:06,  7.26it/s]"
          ]
        },
        {
          "name": "stdout",
          "output_type": "stream",
          "text": [
            "1/1 [==============================] - 0s 55ms/step\n"
          ]
        },
        {
          "name": "stderr",
          "output_type": "stream",
          "text": [
            "\rPneumonia:  94%|█████████▍| 737/780 [01:49<00:05,  7.43it/s]"
          ]
        },
        {
          "name": "stdout",
          "output_type": "stream",
          "text": [
            "1/1 [==============================] - 0s 56ms/step\n"
          ]
        },
        {
          "name": "stderr",
          "output_type": "stream",
          "text": [
            "\rPneumonia:  95%|█████████▍| 738/780 [01:49<00:05,  7.16it/s]"
          ]
        },
        {
          "name": "stdout",
          "output_type": "stream",
          "text": [
            "1/1 [==============================] - 0s 57ms/step\n"
          ]
        },
        {
          "name": "stderr",
          "output_type": "stream",
          "text": [
            "\rPneumonia:  95%|█████████▍| 739/780 [01:49<00:05,  7.24it/s]"
          ]
        },
        {
          "name": "stdout",
          "output_type": "stream",
          "text": [
            "1/1 [==============================] - 0s 53ms/step\n"
          ]
        },
        {
          "name": "stderr",
          "output_type": "stream",
          "text": [
            "\rPneumonia:  95%|█████████▍| 740/780 [01:49<00:05,  7.36it/s]"
          ]
        },
        {
          "name": "stdout",
          "output_type": "stream",
          "text": [
            "1/1 [==============================] - 0s 56ms/step\n"
          ]
        },
        {
          "name": "stderr",
          "output_type": "stream",
          "text": [
            "\rPneumonia:  95%|█████████▌| 741/780 [01:50<00:05,  7.39it/s]"
          ]
        },
        {
          "name": "stdout",
          "output_type": "stream",
          "text": [
            "1/1 [==============================] - 0s 51ms/step\n"
          ]
        },
        {
          "name": "stderr",
          "output_type": "stream",
          "text": [
            "\rPneumonia:  95%|█████████▌| 742/780 [01:50<00:05,  7.56it/s]"
          ]
        },
        {
          "name": "stdout",
          "output_type": "stream",
          "text": [
            "1/1 [==============================] - 0s 57ms/step\n"
          ]
        },
        {
          "name": "stderr",
          "output_type": "stream",
          "text": [
            "\rPneumonia:  95%|█████████▌| 743/780 [01:50<00:04,  7.75it/s]"
          ]
        },
        {
          "name": "stdout",
          "output_type": "stream",
          "text": [
            "1/1 [==============================] - 0s 61ms/step\n"
          ]
        },
        {
          "name": "stderr",
          "output_type": "stream",
          "text": [
            "\rPneumonia:  95%|█████████▌| 744/780 [01:50<00:04,  7.38it/s]"
          ]
        },
        {
          "name": "stdout",
          "output_type": "stream",
          "text": [
            "1/1 [==============================] - 0s 61ms/step\n"
          ]
        },
        {
          "name": "stderr",
          "output_type": "stream",
          "text": [
            "\rPneumonia:  96%|█████████▌| 745/780 [01:50<00:04,  7.38it/s]"
          ]
        },
        {
          "name": "stdout",
          "output_type": "stream",
          "text": [
            "1/1 [==============================] - 0s 53ms/step\n"
          ]
        },
        {
          "name": "stderr",
          "output_type": "stream",
          "text": [
            "\rPneumonia:  96%|█████████▌| 746/780 [01:50<00:04,  7.19it/s]"
          ]
        },
        {
          "name": "stdout",
          "output_type": "stream",
          "text": [
            "1/1 [==============================] - 0s 59ms/step\n"
          ]
        },
        {
          "name": "stderr",
          "output_type": "stream",
          "text": [
            "\rPneumonia:  96%|█████████▌| 747/780 [01:50<00:04,  7.12it/s]"
          ]
        },
        {
          "name": "stdout",
          "output_type": "stream",
          "text": [
            "1/1 [==============================] - 0s 55ms/step\n"
          ]
        },
        {
          "name": "stderr",
          "output_type": "stream",
          "text": [
            "\rPneumonia:  96%|█████████▌| 748/780 [01:51<00:04,  7.28it/s]"
          ]
        },
        {
          "name": "stdout",
          "output_type": "stream",
          "text": [
            "1/1 [==============================] - 0s 63ms/step\n"
          ]
        },
        {
          "name": "stderr",
          "output_type": "stream",
          "text": [
            "\rPneumonia:  96%|█████████▌| 749/780 [01:51<00:04,  7.35it/s]"
          ]
        },
        {
          "name": "stdout",
          "output_type": "stream",
          "text": [
            "1/1 [==============================] - 0s 60ms/step\n"
          ]
        },
        {
          "name": "stderr",
          "output_type": "stream",
          "text": [
            "\rPneumonia:  96%|█████████▌| 750/780 [01:51<00:04,  7.39it/s]"
          ]
        },
        {
          "name": "stdout",
          "output_type": "stream",
          "text": [
            "1/1 [==============================] - 0s 53ms/step\n"
          ]
        },
        {
          "name": "stderr",
          "output_type": "stream",
          "text": [
            "\rPneumonia:  96%|█████████▋| 751/780 [01:51<00:03,  7.51it/s]"
          ]
        },
        {
          "name": "stdout",
          "output_type": "stream",
          "text": [
            "1/1 [==============================] - 0s 55ms/step\n"
          ]
        },
        {
          "name": "stderr",
          "output_type": "stream",
          "text": [
            "\rPneumonia:  96%|█████████▋| 752/780 [01:51<00:03,  7.60it/s]"
          ]
        },
        {
          "name": "stdout",
          "output_type": "stream",
          "text": [
            "1/1 [==============================] - 0s 64ms/step\n"
          ]
        },
        {
          "name": "stderr",
          "output_type": "stream",
          "text": [
            "\rPneumonia:  97%|█████████▋| 753/780 [01:51<00:03,  7.31it/s]"
          ]
        },
        {
          "name": "stdout",
          "output_type": "stream",
          "text": [
            "1/1 [==============================] - 0s 55ms/step\n"
          ]
        },
        {
          "name": "stderr",
          "output_type": "stream",
          "text": [
            "\rPneumonia:  97%|█████████▋| 754/780 [01:51<00:03,  7.44it/s]"
          ]
        },
        {
          "name": "stdout",
          "output_type": "stream",
          "text": [
            "1/1 [==============================] - 0s 63ms/step\n"
          ]
        },
        {
          "name": "stderr",
          "output_type": "stream",
          "text": [
            "\rPneumonia:  97%|█████████▋| 755/780 [01:51<00:03,  7.42it/s]"
          ]
        },
        {
          "name": "stdout",
          "output_type": "stream",
          "text": [
            "1/1 [==============================] - 0s 54ms/step\n"
          ]
        },
        {
          "name": "stderr",
          "output_type": "stream",
          "text": [
            "\rPneumonia:  97%|█████████▋| 756/780 [01:52<00:03,  7.38it/s]"
          ]
        },
        {
          "name": "stdout",
          "output_type": "stream",
          "text": [
            "1/1 [==============================] - 0s 57ms/step\n"
          ]
        },
        {
          "name": "stderr",
          "output_type": "stream",
          "text": [
            "\rPneumonia:  97%|█████████▋| 757/780 [01:52<00:03,  7.47it/s]"
          ]
        },
        {
          "name": "stdout",
          "output_type": "stream",
          "text": [
            "1/1 [==============================] - 0s 64ms/step\n"
          ]
        },
        {
          "name": "stderr",
          "output_type": "stream",
          "text": [
            "\rPneumonia:  97%|█████████▋| 758/780 [01:52<00:03,  7.32it/s]"
          ]
        },
        {
          "name": "stdout",
          "output_type": "stream",
          "text": [
            "1/1 [==============================] - 0s 54ms/step\n"
          ]
        },
        {
          "name": "stderr",
          "output_type": "stream",
          "text": [
            "\rPneumonia:  97%|█████████▋| 759/780 [01:52<00:02,  7.51it/s]"
          ]
        },
        {
          "name": "stdout",
          "output_type": "stream",
          "text": [
            "1/1 [==============================] - 0s 53ms/step\n"
          ]
        },
        {
          "name": "stderr",
          "output_type": "stream",
          "text": [
            "\rPneumonia:  97%|█████████▋| 760/780 [01:52<00:02,  7.60it/s]"
          ]
        },
        {
          "name": "stdout",
          "output_type": "stream",
          "text": [
            "1/1 [==============================] - 0s 65ms/step\n"
          ]
        },
        {
          "name": "stderr",
          "output_type": "stream",
          "text": [
            "\rPneumonia:  98%|█████████▊| 761/780 [01:52<00:02,  7.44it/s]"
          ]
        },
        {
          "name": "stdout",
          "output_type": "stream",
          "text": [
            "1/1 [==============================] - 0s 53ms/step\n"
          ]
        },
        {
          "name": "stderr",
          "output_type": "stream",
          "text": [
            "\rPneumonia:  98%|█████████▊| 762/780 [01:52<00:02,  7.47it/s]"
          ]
        },
        {
          "name": "stdout",
          "output_type": "stream",
          "text": [
            "1/1 [==============================] - 0s 59ms/step\n"
          ]
        },
        {
          "name": "stderr",
          "output_type": "stream",
          "text": [
            "\rPneumonia:  98%|█████████▊| 763/780 [01:53<00:02,  7.54it/s]"
          ]
        },
        {
          "name": "stdout",
          "output_type": "stream",
          "text": [
            "1/1 [==============================] - 0s 52ms/step\n"
          ]
        },
        {
          "name": "stderr",
          "output_type": "stream",
          "text": [
            "\rPneumonia:  98%|█████████▊| 764/780 [01:53<00:02,  7.79it/s]"
          ]
        },
        {
          "name": "stdout",
          "output_type": "stream",
          "text": [
            "1/1 [==============================] - 0s 58ms/step\n"
          ]
        },
        {
          "name": "stderr",
          "output_type": "stream",
          "text": [
            "\rPneumonia:  98%|█████████▊| 765/780 [01:53<00:02,  7.39it/s]"
          ]
        },
        {
          "name": "stdout",
          "output_type": "stream",
          "text": [
            "1/1 [==============================] - 0s 53ms/step\n"
          ]
        },
        {
          "name": "stderr",
          "output_type": "stream",
          "text": [
            "\rPneumonia:  98%|█████████▊| 766/780 [01:53<00:01,  7.62it/s]"
          ]
        },
        {
          "name": "stdout",
          "output_type": "stream",
          "text": [
            "1/1 [==============================] - 0s 54ms/step\n"
          ]
        },
        {
          "name": "stderr",
          "output_type": "stream",
          "text": [
            "\rPneumonia:  98%|█████████▊| 767/780 [01:53<00:01,  7.65it/s]"
          ]
        },
        {
          "name": "stdout",
          "output_type": "stream",
          "text": [
            "1/1 [==============================] - 0s 58ms/step\n"
          ]
        },
        {
          "name": "stderr",
          "output_type": "stream",
          "text": [
            "\rPneumonia:  98%|█████████▊| 768/780 [01:53<00:01,  7.51it/s]"
          ]
        },
        {
          "name": "stdout",
          "output_type": "stream",
          "text": [
            "1/1 [==============================] - 0s 56ms/step\n"
          ]
        },
        {
          "name": "stderr",
          "output_type": "stream",
          "text": [
            "\rPneumonia:  99%|█████████▊| 769/780 [01:53<00:01,  7.46it/s]"
          ]
        },
        {
          "name": "stdout",
          "output_type": "stream",
          "text": [
            "1/1 [==============================] - 0s 54ms/step\n"
          ]
        },
        {
          "name": "stderr",
          "output_type": "stream",
          "text": [
            "\rPneumonia:  99%|█████████▊| 770/780 [01:53<00:01,  7.63it/s]"
          ]
        },
        {
          "name": "stdout",
          "output_type": "stream",
          "text": [
            "1/1 [==============================] - 0s 59ms/step\n"
          ]
        },
        {
          "name": "stderr",
          "output_type": "stream",
          "text": [
            "\rPneumonia:  99%|█████████▉| 771/780 [01:54<00:01,  7.47it/s]"
          ]
        },
        {
          "name": "stdout",
          "output_type": "stream",
          "text": [
            "1/1 [==============================] - 0s 55ms/step\n"
          ]
        },
        {
          "name": "stderr",
          "output_type": "stream",
          "text": [
            "\rPneumonia:  99%|█████████▉| 772/780 [01:54<00:01,  7.63it/s]"
          ]
        },
        {
          "name": "stdout",
          "output_type": "stream",
          "text": [
            "1/1 [==============================] - 0s 56ms/step\n"
          ]
        },
        {
          "name": "stderr",
          "output_type": "stream",
          "text": [
            "\rPneumonia:  99%|█████████▉| 773/780 [01:54<00:00,  7.50it/s]"
          ]
        },
        {
          "name": "stdout",
          "output_type": "stream",
          "text": [
            "1/1 [==============================] - 0s 56ms/step\n"
          ]
        },
        {
          "name": "stderr",
          "output_type": "stream",
          "text": [
            "\rPneumonia:  99%|█████████▉| 774/780 [01:54<00:00,  7.58it/s]"
          ]
        },
        {
          "name": "stdout",
          "output_type": "stream",
          "text": [
            "1/1 [==============================] - 0s 55ms/step\n"
          ]
        },
        {
          "name": "stderr",
          "output_type": "stream",
          "text": [
            "\rPneumonia:  99%|█████████▉| 775/780 [01:54<00:00,  7.22it/s]"
          ]
        },
        {
          "name": "stdout",
          "output_type": "stream",
          "text": [
            "1/1 [==============================] - 0s 54ms/step\n"
          ]
        },
        {
          "name": "stderr",
          "output_type": "stream",
          "text": [
            "\rPneumonia:  99%|█████████▉| 776/780 [01:54<00:00,  7.37it/s]"
          ]
        },
        {
          "name": "stdout",
          "output_type": "stream",
          "text": [
            "1/1 [==============================] - 0s 61ms/step\n"
          ]
        },
        {
          "name": "stderr",
          "output_type": "stream",
          "text": [
            "\rPneumonia: 100%|█████████▉| 777/780 [01:54<00:00,  7.37it/s]"
          ]
        },
        {
          "name": "stdout",
          "output_type": "stream",
          "text": [
            "1/1 [==============================] - 0s 59ms/step\n"
          ]
        },
        {
          "name": "stderr",
          "output_type": "stream",
          "text": [
            "\rPneumonia: 100%|█████████▉| 778/780 [01:55<00:00,  7.49it/s]"
          ]
        },
        {
          "name": "stdout",
          "output_type": "stream",
          "text": [
            "1/1 [==============================] - 0s 56ms/step\n"
          ]
        },
        {
          "name": "stderr",
          "output_type": "stream",
          "text": [
            "\rPneumonia: 100%|█████████▉| 779/780 [01:55<00:00,  7.63it/s]"
          ]
        },
        {
          "name": "stdout",
          "output_type": "stream",
          "text": [
            "1/1 [==============================] - 0s 60ms/step\n"
          ]
        },
        {
          "name": "stderr",
          "output_type": "stream",
          "text": [
            "Pneumonia: 100%|██████████| 780/780 [01:55<00:00,  6.76it/s]"
          ]
        },
        {
          "name": "stdout",
          "output_type": "stream",
          "text": [
            "Testing Accuracy: 0.8894230769230769\n"
          ]
        },
        {
          "name": "stderr",
          "output_type": "stream",
          "text": [
            "\n"
          ]
        }
      ],
      "source": [
        "import os\n",
        "import tensorflow as tf\n",
        "from tensorflow.keras.preprocessing.image import load_img, img_to_array\n",
        "from tensorflow.keras.models import load_model\n",
        "from tqdm import tqdm\n",
        "\n",
        "# Load the pre-trained model from the .h5 file\n",
        "model = load_model('/content/drive/MyDrive/trained_model_02.h5')\n",
        "\n",
        "# Define the path to your test images folder\n",
        "test_images_folder = '/content/drive/MyDrive/test'\n",
        "\n",
        "# Define the categories\n",
        "categories = ['NORMAL', 'PNEUMONIA']\n",
        "\n",
        "# Define the desired width and height for your input images\n",
        "desired_width = 224\n",
        "desired_height = 224\n",
        "\n",
        "# Initialize counters for correct predictions and total samples\n",
        "correct_predictions = 0\n",
        "total_samples = 0\n",
        "\n",
        "# Iterate over the categories\n",
        "for category in categories:\n",
        "    category_folder = os.path.join(test_images_folder, category)\n",
        "\n",
        "    # Iterate over the images in the category folder with progress bar\n",
        "    for image_file in tqdm(os.listdir(category_folder), desc=category.capitalize()):\n",
        "        # Construct the full path to the image file\n",
        "        image_path = os.path.join(category_folder, image_file)\n",
        "\n",
        "        # Load and preprocess the image\n",
        "        image = load_img(image_path, target_size=(desired_width, desired_height))\n",
        "        image_array = img_to_array(image)\n",
        "        image_array = image_array / 255.0  # Normalize the pixel values if necessary\n",
        "        image_array = tf.expand_dims(image_array, 0)  # Add batch dimension\n",
        "\n",
        "        # Make predictions with the model\n",
        "        predictions = model.predict(image_array)\n",
        "        predicted_category = categories[int(predictions[0][0] > 0.5)]  # Assuming binary classification\n",
        "\n",
        "        # Count correct predictions and total samples\n",
        "        if category == predicted_category:\n",
        "            correct_predictions += 1\n",
        "        total_samples += 1\n",
        "\n",
        "# Calculate overall accuracy\n",
        "accuracy = correct_predictions / total_samples\n",
        "\n",
        "# Print the testing accuracy\n",
        "print(\"Testing Accuracy:\", accuracy)\n"
      ]
    },
    {
      "cell_type": "code",
      "execution_count": null,
      "metadata": {
        "colab": {
          "background_save": true
        },
        "id": "Z-072f35ZkF1",
        "outputId": "dea0bd18-3d1e-49a2-f668-4cd6c3c09268"
      },
      "outputs": [
        {
          "name": "stdout",
          "output_type": "stream",
          "text": [
            "Testing Accuracy: 0.8894230769230769\n"
          ]
        }
      ],
      "source": [
        "import os\n",
        "import tensorflow as tf\n",
        "from tensorflow.keras.preprocessing.image import load_img, img_to_array\n",
        "from tensorflow.keras.models import load_model\n",
        "import sys\n",
        "\n",
        "# Load the pre-trained model from the .h5 file\n",
        "model = load_model('/content/drive/MyDrive/trained_model_02.h5')\n",
        "\n",
        "# Define the path to your test images folder\n",
        "test_images_folder = '/content/drive/MyDrive/test'\n",
        "\n",
        "# Define the categories\n",
        "categories = ['NORMAL', 'PNEUMONIA']\n",
        "\n",
        "# Define the desired width and height for your input images\n",
        "desired_width = 224\n",
        "desired_height = 224\n",
        "\n",
        "# Initialize counters for correct predictions and total samples\n",
        "correct_predictions = 0\n",
        "total_samples = 0\n",
        "\n",
        "# Disable all output during prediction\n",
        "original_stdout = sys.stdout\n",
        "sys.stdout = open(os.devnull, 'w')\n",
        "\n",
        "# Iterate over the categories\n",
        "for category in categories:\n",
        "    category_folder = os.path.join(test_images_folder, category)\n",
        "\n",
        "    # Iterate over the images in the category folder\n",
        "    for image_file in os.listdir(category_folder):\n",
        "        # Construct the full path to the image file\n",
        "        image_path = os.path.join(category_folder, image_file)\n",
        "\n",
        "        # Load and preprocess the image\n",
        "        image = load_img(image_path, target_size=(desired_width, desired_height))\n",
        "        image_array = img_to_array(image)\n",
        "        image_array = image_array / 255.0  # Normalize the pixel values if necessary\n",
        "        image_array = tf.expand_dims(image_array, 0)  # Add batch dimension\n",
        "\n",
        "        # Make predictions with the model\n",
        "        predictions = model.predict(image_array)\n",
        "        predicted_category = categories[int(predictions[0][0] > 0.5)]  # Assuming binary classification\n",
        "\n",
        "        # Count correct predictions and total samples\n",
        "        if category == predicted_category:\n",
        "            correct_predictions += 1\n",
        "        total_samples += 1\n",
        "\n",
        "# Calculate overall accuracy\n",
        "accuracy = correct_predictions / total_samples\n",
        "\n",
        "# Restore the original stdout and close the devnull file\n",
        "sys.stdout.close()\n",
        "sys.stdout = original_stdout\n",
        "\n",
        "# Print the testing accuracy\n",
        "print(\"Testing Accuracy:\", accuracy)\n"
      ]
    },
    {
      "cell_type": "code",
      "execution_count": null,
      "metadata": {
        "id": "JAz8tTmtV376"
      },
      "outputs": [],
      "source": [
        "from google.colab import drive\n",
        "drive.mount('/content/drive')"
      ]
    }
  ],
  "metadata": {
    "colab": {
      "provenance": []
    },
    "kernelspec": {
      "display_name": "Python 3",
      "name": "python3"
    },
    "language_info": {
      "name": "python"
    }
  },
  "nbformat": 4,
  "nbformat_minor": 0
}
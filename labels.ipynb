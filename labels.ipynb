{
  "nbformat": 4,
  "nbformat_minor": 0,
  "metadata": {
    "colab": {
      "provenance": []
    },
    "kernelspec": {
      "name": "python3",
      "display_name": "Python 3"
    },
    "language_info": {
      "name": "python"
    }
  },
  "cells": [
    {
      "cell_type": "code",
      "execution_count": null,
      "metadata": {
        "colab": {
          "base_uri": "https://localhost:8080/"
        },
        "id": "dMbLl86wQGK0",
        "outputId": "650110ea-f79b-4886-e640-3d5696586270"
      },
      "outputs": [
        {
          "output_type": "stream",
          "name": "stdout",
          "text": [
            "Found 10442 images belonging to 2 classes.\n",
            "Label file created: /content/drive/MyDrive/labels.txt\n"
          ]
        }
      ],
      "source": [
        "import tensorflow as tf\n",
        "from tensorflow.keras.models import load_model\n",
        "from tensorflow.keras.preprocessing import image\n",
        "import numpy as np\n",
        "import os\n",
        "\n",
        "# Load the trained model\n",
        "model = load_model(\"/content/drive/MyDrive/trained_model.h5\")\n",
        "\n",
        "# Define the data directories\n",
        "train_dir = \"/content/drive/MyDrive/train\"\n",
        "test_dir = \"/content/drive/MyDrive/test\"\n",
        "\n",
        "# Define the image data generators without augmentation (only rescaling)\n",
        "datagen = tf.keras.preprocessing.image.ImageDataGenerator(rescale=1./255)\n",
        "\n",
        "# Define the batch size and target image size\n",
        "batch_size = 32\n",
        "img_height, img_width = 224, 224\n",
        "\n",
        "# Load the training data and retrieve the class labels\n",
        "train_data = datagen.flow_from_directory(train_dir,\n",
        "                                         target_size=(img_height, img_width),\n",
        "                                         batch_size=batch_size,\n",
        "                                         class_mode='binary',\n",
        "                                         shuffle=False)\n",
        "\n",
        "train_labels = train_data.classes\n",
        "class_labels = list(train_data.class_indices.keys())\n",
        "\n",
        "# Create a label file\n",
        "label_file_path = \"/content/drive/MyDrive/labels.txt\"\n",
        "\n",
        "with open(label_file_path, \"w\") as f:\n",
        "    for label in class_labels:\n",
        "        f.write(label + \"\\n\")\n",
        "\n",
        "print(\"Label file created:\", label_file_path)\n"
      ]
    }
  ]
}
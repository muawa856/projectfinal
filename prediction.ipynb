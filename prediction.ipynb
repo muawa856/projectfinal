{
  "nbformat": 4,
  "nbformat_minor": 0,
  "metadata": {
    "colab": {
      "provenance": []
    },
    "kernelspec": {
      "name": "python3",
      "display_name": "Python 3"
    },
    "language_info": {
      "name": "python"
    }
  },
  "cells": [
    {
      "cell_type": "code",
      "execution_count": null,
      "metadata": {
        "colab": {
          "base_uri": "https://localhost:8080/"
        },
        "id": "_vkChF5WNDVd",
        "outputId": "bcc93a07-9266-465f-a1c1-51fac7cd7ef4"
      },
      "outputs": [
        {
          "output_type": "stream",
          "name": "stdout",
          "text": [
            "1/1 [==============================] - 0s 415ms/step\n",
            "The image is classified as: non-pneumonia\n",
            "[[0.07630346]]\n"
          ]
        }
      ],
      "source": [
        "import tensorflow as tf\n",
        "from tensorflow.keras.models import load_model\n",
        "from tensorflow.keras.preprocessing import image\n",
        "import numpy as np\n",
        "\n",
        "# Load the trained model\n",
        "model = load_model(\"/content/drive/MyDrive/trained_model.h5\")\n",
        "\n",
        "# Define the path to the image you want to make predictions on\n",
        "image_path = \"/content/drive/MyDrive/Capture27noooooooo.jpg\"\n",
        "\n",
        "# Define the target image size\n",
        "img_height, img_width = 224, 224\n",
        "\n",
        "# Load and preprocess the image\n",
        "img = image.load_img(image_path, target_size=(img_height, img_width))\n",
        "img_array = image.img_to_array(img)\n",
        "img_array = np.expand_dims(img_array, axis=0)\n",
        "img_array /= 255.0\n",
        "\n",
        "# Make prediction\n",
        "prediction = model.predict(img_array)\n",
        "\n",
        "# Convert the prediction to a human-readable label\n",
        "if prediction[0][0] >= 0.7:\n",
        "    label = \"pneumonia\"\n",
        "else:\n",
        "    label = \"non-pneumonia\"\n",
        "\n",
        "print(\"The image is classified as:\", label)\n",
        "print(prediction)\n"
      ]
    },
    {
      "cell_type": "code",
      "source": [
        "import tensorflow as tf\n",
        "from tensorflow.keras.preprocessing import image\n",
        "import numpy as np\n",
        "\n",
        "# Load the TFLite model\n",
        "interpreter = tf.lite.Interpreter(model_path=\"/content/drive/MyDrive/lite_model.tflite\")\n",
        "interpreter.allocate_tensors()\n",
        "\n",
        "# Define the input and output tensor details\n",
        "input_details = interpreter.get_input_details()\n",
        "output_details = interpreter.get_output_details()\n",
        "\n",
        "# Define the path to the image you want to make predictions on\n",
        "image_path = \"/content/drive/MyDrive/Capture27noooooooo.jpg\"\n",
        "\n",
        "# Define the target image size\n",
        "img_height, img_width = 224, 224\n",
        "\n",
        "# Load and preprocess the image\n",
        "img = image.load_img(image_path, target_size=(img_height, img_width))\n",
        "img_array = image.img_to_array(img)\n",
        "img_array = np.expand_dims(img_array, axis=0)\n",
        "img_array /= 255.0\n",
        "\n",
        "# Set the input tensor\n",
        "input_data = img_array.astype(np.float32)\n",
        "interpreter.set_tensor(input_details[0]['index'], input_data)\n",
        "\n",
        "# Run the inference\n",
        "interpreter.invoke()\n",
        "\n",
        "# Get the output tensor\n",
        "output_data = interpreter.get_tensor(output_details[0]['index'])\n",
        "\n",
        "# Convert the prediction to a human-readable label\n",
        "if output_data[0][0] >= 0.7:\n",
        "    label = \"pneumonia\"\n",
        "else:\n",
        "    label = \"non-pneumonia\"\n",
        "\n",
        "print(\"The image is classified as:\", label)\n",
        "print(output_data)\n"
      ],
      "metadata": {
        "colab": {
          "base_uri": "https://localhost:8080/"
        },
        "id": "zcBA2cFXB2rn",
        "outputId": "4764e34a-5e0d-4604-838a-28c5b090f5e9"
      },
      "execution_count": null,
      "outputs": [
        {
          "output_type": "stream",
          "name": "stdout",
          "text": [
            "The image is classified as: non-pneumonia\n",
            "[[0.07630343]]\n"
          ]
        }
      ]
    },
    {
      "cell_type": "code",
      "source": [
        "from google.colab import drive\n",
        "drive.mount('/content/drive')"
      ],
      "metadata": {
        "id": "7zs-zXzRsn97"
      },
      "execution_count": null,
      "outputs": []
    }
  ]
}